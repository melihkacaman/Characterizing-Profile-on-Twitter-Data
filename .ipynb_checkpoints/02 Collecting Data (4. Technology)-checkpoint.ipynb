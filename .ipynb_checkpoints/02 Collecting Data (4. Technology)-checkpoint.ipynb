{
 "cells": [
  {
   "cell_type": "code",
   "execution_count": 3,
   "id": "5cb5e479",
   "metadata": {},
   "outputs": [],
   "source": [
    "import pandas as pd \n",
    "import numpy as np \n",
    "import tweepy as tw "
   ]
  },
  {
   "cell_type": "code",
   "execution_count": 4,
   "id": "57ed79ef",
   "metadata": {},
   "outputs": [],
   "source": [
    "API_KEY = 'B7Y17gCCAfTe515xuZwGhuVlH' \n",
    "API_KEY_SECRET = '1lGo5GPcilwKzNy4SVGbgleI285oTK0zF2TAAKbb69vj6PFu3n' \n",
    "BEARER_TOKEN = 'AAAAAAAAAAAAAAAAAAAAAKALawEAAAAAEv7yYYtpXWXx6fv24Q9I4DnzqMg%3DEtLytFqguYLOAE8aSrFVmkK28FWlTGlKJ9PutxDf0QgGsGg8sX'\n",
    "BEARER_TOKEN2 = 'AAAAAAAAAAAAAAAAAAAAAKALawEAAAAAswdCYqqlZc1l%2BY1nOh7zYn2GaW4%3DA6vVrRYXf8JtlKVkbdok2Ej5m174CQskMQi2MOL8fUaTdby5uL'\n",
    "ACCESS_TOKEN = '1440392138697547777-ZbNqj8Vz27k9mk4s009V76REekQpoY' \n",
    "ACCESS_TOKEN_SECRET = 'ik2qalQeHpdw5cbU6QNtqZl2HYnmDVRQ1cRPbv9WPpywu'"
   ]
  },
  {
   "cell_type": "code",
   "execution_count": 5,
   "id": "2d693566",
   "metadata": {},
   "outputs": [],
   "source": [
    "client = tw.Client(bearer_token=BEARER_TOKEN2) "
   ]
  },
  {
   "cell_type": "markdown",
   "id": "bb080c80",
   "metadata": {},
   "source": [
    "# Specified Accounts For Sport "
   ]
  },
  {
   "cell_type": "code",
   "execution_count": 6,
   "id": "a9e5ed6f",
   "metadata": {},
   "outputs": [
    {
     "data": {
      "text/plain": [
       "['TechCrunch', 'verge', 'engadget', 'VentureBeat']"
      ]
     },
     "execution_count": 6,
     "metadata": {},
     "output_type": "execute_result"
    }
   ],
   "source": [
    "user_names = ['TechCrunch', 'verge', 'engadget', 'VentureBeat'] \n",
    "user_names"
   ]
  },
  {
   "cell_type": "code",
   "execution_count": 7,
   "id": "aef54707",
   "metadata": {},
   "outputs": [
    {
     "data": {
      "text/plain": [
       "Response(data=[<User id=816653 name=TechCrunch username=TechCrunch>, <User id=275686563 name=The Verge username=verge>, <User id=14372486 name=Engadget username=engadget>, <User id=60642052 name=VentureBeat username=VentureBeat>], includes={}, errors=[], meta={})"
      ]
     },
     "execution_count": 7,
     "metadata": {},
     "output_type": "execute_result"
    }
   ],
   "source": [
    "users = client.get_users(usernames=user_names)\n",
    "users"
   ]
  },
  {
   "cell_type": "code",
   "execution_count": 8,
   "id": "4b270790",
   "metadata": {},
   "outputs": [],
   "source": [
    "tweet_group_list = []\n",
    "limit = 2000 \n",
    "for user in users.data: \n",
    "    tweet_list = [] \n",
    "    for tweet in tw.Paginator(client.get_users_tweets, id=user.id, max_results=100, tweet_fields=['lang']).flatten(limit=limit): \n",
    "        if tweet.lang == 'en' or tweet.lang == 'EN': \n",
    "            tweet_list.append(tweet)\n",
    "    \n",
    "        limit = 1000\n",
    "    tweet_group_list.append(tweet_list)  "
   ]
  },
  {
   "cell_type": "code",
   "execution_count": 9,
   "id": "5e4a0bab",
   "metadata": {},
   "outputs": [
    {
     "data": {
      "text/plain": [
       "4"
      ]
     },
     "execution_count": 9,
     "metadata": {},
     "output_type": "execute_result"
    }
   ],
   "source": [
    "len(tweet_group_list)"
   ]
  },
  {
   "cell_type": "code",
   "execution_count": 10,
   "id": "5e942744",
   "metadata": {},
   "outputs": [
    {
     "data": {
      "text/plain": [
       "[1988, 1000, 992, 996]"
      ]
     },
     "execution_count": 10,
     "metadata": {},
     "output_type": "execute_result"
    }
   ],
   "source": [
    "[len(item) for item in tweet_group_list]"
   ]
  },
  {
   "cell_type": "code",
   "execution_count": 11,
   "id": "5a0e1af7",
   "metadata": {},
   "outputs": [
    {
     "data": {
      "text/plain": [
       "4976"
      ]
     },
     "execution_count": 11,
     "metadata": {},
     "output_type": "execute_result"
    }
   ],
   "source": [
    "sum([len(item) for item in tweet_group_list])"
   ]
  },
  {
   "cell_type": "code",
   "execution_count": 12,
   "id": "117e7ec5",
   "metadata": {},
   "outputs": [
    {
     "data": {
      "text/plain": [
       "<Tweet id=1516262064062410752 text=\"Tesla says it's also being investigated by federal equal employment agency https://t.co/Bc74fG0qIR by @rebeccabellan\">"
      ]
     },
     "execution_count": 12,
     "metadata": {},
     "output_type": "execute_result"
    }
   ],
   "source": [
    "tweet_group_list[0][1]"
   ]
  },
  {
   "cell_type": "markdown",
   "id": "4543dade",
   "metadata": {},
   "source": [
    "# Save it as a CSV File "
   ]
  },
  {
   "cell_type": "code",
   "execution_count": 13,
   "id": "87b34339",
   "metadata": {},
   "outputs": [
    {
     "data": {
      "text/plain": [
       "4976"
      ]
     },
     "execution_count": 13,
     "metadata": {},
     "output_type": "execute_result"
    }
   ],
   "source": [
    "# id, tweet_text, source\n",
    "data_list = [] \n",
    "i = 0 \n",
    "for tweet_group in tweet_group_list: \n",
    "    for tweet in tweet_group: \n",
    "        item = {} \n",
    "        item['tweet_id'] = tweet.id\n",
    "        item['text'] = tweet.text\n",
    "        item['source'] = user_names[i] \n",
    "        \n",
    "        data_list.append(item)\n",
    "    i = i + 1     \n",
    "    \n",
    "len(data_list)   "
   ]
  },
  {
   "cell_type": "code",
   "execution_count": 14,
   "id": "d1d34995",
   "metadata": {},
   "outputs": [
    {
     "data": {
      "text/html": [
       "<div>\n",
       "<style scoped>\n",
       "    .dataframe tbody tr th:only-of-type {\n",
       "        vertical-align: middle;\n",
       "    }\n",
       "\n",
       "    .dataframe tbody tr th {\n",
       "        vertical-align: top;\n",
       "    }\n",
       "\n",
       "    .dataframe thead th {\n",
       "        text-align: right;\n",
       "    }\n",
       "</style>\n",
       "<table border=\"1\" class=\"dataframe\">\n",
       "  <thead>\n",
       "    <tr style=\"text-align: right;\">\n",
       "      <th></th>\n",
       "      <th>tweet_id</th>\n",
       "      <th>text</th>\n",
       "      <th>source</th>\n",
       "    </tr>\n",
       "  </thead>\n",
       "  <tbody>\n",
       "    <tr>\n",
       "      <th>0</th>\n",
       "      <td>1516281911353749504</td>\n",
       "      <td>The Food Lab, an Egyptian cloud kitchen provid...</td>\n",
       "      <td>TechCrunch</td>\n",
       "    </tr>\n",
       "    <tr>\n",
       "      <th>1</th>\n",
       "      <td>1516262064062410752</td>\n",
       "      <td>Tesla says it's also being investigated by fed...</td>\n",
       "      <td>TechCrunch</td>\n",
       "    </tr>\n",
       "    <tr>\n",
       "      <th>2</th>\n",
       "      <td>1516228831161503744</td>\n",
       "      <td>Top SoftBank LatAm partners leave firm to star...</td>\n",
       "      <td>TechCrunch</td>\n",
       "    </tr>\n",
       "    <tr>\n",
       "      <th>3</th>\n",
       "      <td>1516228259003912197</td>\n",
       "      <td>Ant Group buys Singapore's 2C2P to further glo...</td>\n",
       "      <td>TechCrunch</td>\n",
       "    </tr>\n",
       "    <tr>\n",
       "      <th>4</th>\n",
       "      <td>1516221204260179970</td>\n",
       "      <td>Indian crypto exchange CoinDCX tops $2.1 billi...</td>\n",
       "      <td>TechCrunch</td>\n",
       "    </tr>\n",
       "  </tbody>\n",
       "</table>\n",
       "</div>"
      ],
      "text/plain": [
       "              tweet_id                                               text  \\\n",
       "0  1516281911353749504  The Food Lab, an Egyptian cloud kitchen provid...   \n",
       "1  1516262064062410752  Tesla says it's also being investigated by fed...   \n",
       "2  1516228831161503744  Top SoftBank LatAm partners leave firm to star...   \n",
       "3  1516228259003912197  Ant Group buys Singapore's 2C2P to further glo...   \n",
       "4  1516221204260179970  Indian crypto exchange CoinDCX tops $2.1 billi...   \n",
       "\n",
       "       source  \n",
       "0  TechCrunch  \n",
       "1  TechCrunch  \n",
       "2  TechCrunch  \n",
       "3  TechCrunch  \n",
       "4  TechCrunch  "
      ]
     },
     "execution_count": 14,
     "metadata": {},
     "output_type": "execute_result"
    }
   ],
   "source": [
    "data = pd.DataFrame(data=data_list)\n",
    "data.head()"
   ]
  },
  {
   "cell_type": "code",
   "execution_count": 15,
   "id": "b82dde6e",
   "metadata": {},
   "outputs": [],
   "source": [
    "data.to_csv('technology_usa.csv')"
   ]
  },
  {
   "cell_type": "code",
   "execution_count": null,
   "id": "5318f612",
   "metadata": {},
   "outputs": [],
   "source": []
  }
 ],
 "metadata": {
  "kernelspec": {
   "display_name": "Python 3 (ipykernel)",
   "language": "python",
   "name": "python3"
  },
  "language_info": {
   "codemirror_mode": {
    "name": "ipython",
    "version": 3
   },
   "file_extension": ".py",
   "mimetype": "text/x-python",
   "name": "python",
   "nbconvert_exporter": "python",
   "pygments_lexer": "ipython3",
   "version": "3.9.7"
  }
 },
 "nbformat": 4,
 "nbformat_minor": 5
}
