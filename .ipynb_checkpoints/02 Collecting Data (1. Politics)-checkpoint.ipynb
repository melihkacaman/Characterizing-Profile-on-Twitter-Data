{
 "cells": [
  {
   "cell_type": "code",
   "execution_count": 1,
   "id": "938ee210",
   "metadata": {},
   "outputs": [],
   "source": [
    "import pandas as pd \n",
    "import numpy as np \n",
    "import tweepy as tw "
   ]
  },
  {
   "cell_type": "code",
   "execution_count": 2,
   "id": "5e58d6d6",
   "metadata": {},
   "outputs": [],
   "source": [
    "API_KEY = 'B7Y17gCCAfTe515xuZwGhuVlH' \n",
    "API_KEY_SECRET = '1lGo5GPcilwKzNy4SVGbgleI285oTK0zF2TAAKbb69vj6PFu3n' \n",
    "BEARER_TOKEN = 'AAAAAAAAAAAAAAAAAAAAAKALawEAAAAAEv7yYYtpXWXx6fv24Q9I4DnzqMg%3DEtLytFqguYLOAE8aSrFVmkK28FWlTGlKJ9PutxDf0QgGsGg8sX'\n",
    "BEARER_TOKEN2 = 'AAAAAAAAAAAAAAAAAAAAAKALawEAAAAAswdCYqqlZc1l%2BY1nOh7zYn2GaW4%3DA6vVrRYXf8JtlKVkbdok2Ej5m174CQskMQi2MOL8fUaTdby5uL'\n",
    "ACCESS_TOKEN = '1440392138697547777-ZbNqj8Vz27k9mk4s009V76REekQpoY' \n",
    "ACCESS_TOKEN_SECRET = 'ik2qalQeHpdw5cbU6QNtqZl2HYnmDVRQ1cRPbv9WPpywu'"
   ]
  },
  {
   "cell_type": "code",
   "execution_count": 3,
   "id": "d372c267",
   "metadata": {},
   "outputs": [],
   "source": [
    "client = tw.Client(bearer_token=BEARER_TOKEN2) "
   ]
  },
  {
   "cell_type": "markdown",
   "id": "9e0ef37b",
   "metadata": {},
   "source": [
    "# Specified Accounts for Politcs \n",
    "USA \n",
    "* @politico: 4.6M, politico.com\n",
    "* @thehill: 4.3M, thehill.com\n",
    "* @foxnewspolitics: 1.8M \n",
    "* @ReutersPolitics: 283K, uk köklü \n",
    "* @CNNPolitics: 4.3M "
   ]
  },
  {
   "cell_type": "code",
   "execution_count": 4,
   "id": "f82572c7",
   "metadata": {},
   "outputs": [
    {
     "data": {
      "text/plain": [
       "['politico', 'thehill', 'foxnewspolitics', 'ReutersPolitics', 'CNNPolitics']"
      ]
     },
     "execution_count": 4,
     "metadata": {},
     "output_type": "execute_result"
    }
   ],
   "source": [
    "user_names = ['politico', 'thehill', 'foxnewspolitics', 'ReutersPolitics', 'CNNPolitics'] \n",
    "user_names"
   ]
  },
  {
   "cell_type": "code",
   "execution_count": 5,
   "id": "30f55158",
   "metadata": {},
   "outputs": [
    {
     "data": {
      "text/plain": [
       "Response(data=[<User id=9300262 name=POLITICO username=politico>, <User id=1917731 name=The Hill username=thehill>, <User id=16032925 name=Fox News Politics username=foxnewspolitics>, <User id=25562002 name=Reuters Politics username=ReutersPolitics>, <User id=13850422 name=CNN Politics username=CNNPolitics>], includes={}, errors=[], meta={})"
      ]
     },
     "execution_count": 5,
     "metadata": {},
     "output_type": "execute_result"
    }
   ],
   "source": [
    "users = client.get_users(usernames=user_names)\n",
    "users"
   ]
  },
  {
   "cell_type": "code",
   "execution_count": 6,
   "id": "952b08d2",
   "metadata": {},
   "outputs": [
    {
     "data": {
      "text/plain": [
       "9300262"
      ]
     },
     "execution_count": 6,
     "metadata": {},
     "output_type": "execute_result"
    }
   ],
   "source": [
    "users.data[0].id"
   ]
  },
  {
   "cell_type": "code",
   "execution_count": 7,
   "id": "ee1fc7f9",
   "metadata": {},
   "outputs": [],
   "source": [
    "tweet_group_list = []\n",
    "for user in users.data: \n",
    "    tweet_list = [] \n",
    "    for tweet in tw.Paginator(client.get_users_tweets, id=user.id, max_results=100, tweet_fields=['lang']).flatten(limit=1000): \n",
    "        if tweet.lang == 'en' or tweet.lang == 'EN': \n",
    "            tweet_list.append(tweet)\n",
    "    \n",
    "    tweet_group_list.append(tweet_list)        "
   ]
  },
  {
   "cell_type": "code",
   "execution_count": 8,
   "id": "350c04a4",
   "metadata": {},
   "outputs": [
    {
     "data": {
      "text/plain": [
       "5"
      ]
     },
     "execution_count": 8,
     "metadata": {},
     "output_type": "execute_result"
    }
   ],
   "source": [
    "len(tweet_group_list)"
   ]
  },
  {
   "cell_type": "code",
   "execution_count": 9,
   "id": "75ba08e4",
   "metadata": {},
   "outputs": [
    {
     "data": {
      "text/plain": [
       "[994, 997, 995, 985, 997]"
      ]
     },
     "execution_count": 9,
     "metadata": {},
     "output_type": "execute_result"
    }
   ],
   "source": [
    "[len(item) for item in tweet_group_list]"
   ]
  },
  {
   "cell_type": "code",
   "execution_count": 10,
   "id": "4a50049a",
   "metadata": {},
   "outputs": [
    {
     "data": {
      "text/plain": [
       "4968"
      ]
     },
     "execution_count": 10,
     "metadata": {},
     "output_type": "execute_result"
    }
   ],
   "source": [
    "sum([len(item) for item in tweet_group_list])"
   ]
  },
  {
   "cell_type": "code",
   "execution_count": 11,
   "id": "a0b0ec17",
   "metadata": {},
   "outputs": [
    {
     "data": {
      "text/plain": [
       "<Tweet id=1515040871418261506 text=\"RT @politicongress: A joint fundraising committee run by Marjorie Taylor Greene and Matt Gaetz paid John Eastman's law firm at least $25,00…\">"
      ]
     },
     "execution_count": 11,
     "metadata": {},
     "output_type": "execute_result"
    }
   ],
   "source": [
    "tweet_group_list[0][1]"
   ]
  },
  {
   "cell_type": "markdown",
   "id": "51edab12",
   "metadata": {},
   "source": [
    "# Save it as a CSV File "
   ]
  },
  {
   "cell_type": "code",
   "execution_count": 12,
   "id": "dd316c2e",
   "metadata": {},
   "outputs": [
    {
     "data": {
      "text/plain": [
       "4968"
      ]
     },
     "execution_count": 12,
     "metadata": {},
     "output_type": "execute_result"
    }
   ],
   "source": [
    "# id, tweet_text, source\n",
    "data_list = [] \n",
    "i = 0 \n",
    "for tweet_group in tweet_group_list: \n",
    "    for tweet in tweet_group: \n",
    "        item = {} \n",
    "        item['tweet_id'] = tweet.id\n",
    "        item['text'] = tweet.text\n",
    "        item['source'] = user_names[i] \n",
    "        \n",
    "        data_list.append(item)\n",
    "    i = i + 1     \n",
    "    \n",
    "len(data_list)   "
   ]
  },
  {
   "cell_type": "code",
   "execution_count": 13,
   "id": "15cff5e1",
   "metadata": {},
   "outputs": [
    {
     "data": {
      "text/html": [
       "<div>\n",
       "<style scoped>\n",
       "    .dataframe tbody tr th:only-of-type {\n",
       "        vertical-align: middle;\n",
       "    }\n",
       "\n",
       "    .dataframe tbody tr th {\n",
       "        vertical-align: top;\n",
       "    }\n",
       "\n",
       "    .dataframe thead th {\n",
       "        text-align: right;\n",
       "    }\n",
       "</style>\n",
       "<table border=\"1\" class=\"dataframe\">\n",
       "  <thead>\n",
       "    <tr style=\"text-align: right;\">\n",
       "      <th></th>\n",
       "      <th>tweet_id</th>\n",
       "      <th>text</th>\n",
       "      <th>source</th>\n",
       "    </tr>\n",
       "  </thead>\n",
       "  <tbody>\n",
       "    <tr>\n",
       "      <th>0</th>\n",
       "      <td>1515056253793447944</td>\n",
       "      <td>Scott Pruitt, Trump's former EPA chief,  is ru...</td>\n",
       "      <td>politico</td>\n",
       "    </tr>\n",
       "    <tr>\n",
       "      <th>1</th>\n",
       "      <td>1515040871418261506</td>\n",
       "      <td>RT @politicongress: A joint fundraising commit...</td>\n",
       "      <td>politico</td>\n",
       "    </tr>\n",
       "    <tr>\n",
       "      <th>2</th>\n",
       "      <td>1515017655182409731</td>\n",
       "      <td>From their earliest days, Black churches have ...</td>\n",
       "      <td>politico</td>\n",
       "    </tr>\n",
       "    <tr>\n",
       "      <th>3</th>\n",
       "      <td>1515011952237588485</td>\n",
       "      <td>RT @playbookdc: In early November, Rep. Chip R...</td>\n",
       "      <td>politico</td>\n",
       "    </tr>\n",
       "    <tr>\n",
       "      <th>4</th>\n",
       "      <td>1515002027079872528</td>\n",
       "      <td>Add West Wing Playbook to your daily reads for...</td>\n",
       "      <td>politico</td>\n",
       "    </tr>\n",
       "  </tbody>\n",
       "</table>\n",
       "</div>"
      ],
      "text/plain": [
       "              tweet_id                                               text  \\\n",
       "0  1515056253793447944  Scott Pruitt, Trump's former EPA chief,  is ru...   \n",
       "1  1515040871418261506  RT @politicongress: A joint fundraising commit...   \n",
       "2  1515017655182409731  From their earliest days, Black churches have ...   \n",
       "3  1515011952237588485  RT @playbookdc: In early November, Rep. Chip R...   \n",
       "4  1515002027079872528  Add West Wing Playbook to your daily reads for...   \n",
       "\n",
       "     source  \n",
       "0  politico  \n",
       "1  politico  \n",
       "2  politico  \n",
       "3  politico  \n",
       "4  politico  "
      ]
     },
     "execution_count": 13,
     "metadata": {},
     "output_type": "execute_result"
    }
   ],
   "source": [
    "data = pd.DataFrame(data=data_list)\n",
    "data.head()"
   ]
  },
  {
   "cell_type": "code",
   "execution_count": 14,
   "id": "6d59bc15",
   "metadata": {},
   "outputs": [],
   "source": [
    "data.to_csv('politics_usa.csv')"
   ]
  }
 ],
 "metadata": {
  "kernelspec": {
   "display_name": "Python 3 (ipykernel)",
   "language": "python",
   "name": "python3"
  },
  "language_info": {
   "codemirror_mode": {
    "name": "ipython",
    "version": 3
   },
   "file_extension": ".py",
   "mimetype": "text/x-python",
   "name": "python",
   "nbconvert_exporter": "python",
   "pygments_lexer": "ipython3",
   "version": "3.9.7"
  }
 },
 "nbformat": 4,
 "nbformat_minor": 5
}
