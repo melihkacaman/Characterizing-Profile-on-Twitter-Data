{
 "cells": [
  {
   "cell_type": "markdown",
   "id": "6b788be8",
   "metadata": {},
   "source": [
    "# Imports"
   ]
  },
  {
   "cell_type": "code",
   "execution_count": 312,
   "id": "9789faf2",
   "metadata": {},
   "outputs": [],
   "source": [
    "import pandas as pd \n",
    "import numpy as np \n",
    "import matplotlib.pyplot as plt \n",
    "\n",
    "from sklearn.model_selection import train_test_split\n",
    "from sklearn.utils import shuffle\n",
    "from scipy.sparse import coo_matrix\n",
    "\n",
    "from sklearn.linear_model import LogisticRegression\n",
    "from sklearn.model_selection import cross_val_score\n",
    "\n",
    "import ast"
   ]
  },
  {
   "cell_type": "markdown",
   "id": "db0a37ed",
   "metadata": {},
   "source": [
    "# Path and Load Data "
   ]
  },
  {
   "cell_type": "code",
   "execution_count": 313,
   "id": "e56c9d53",
   "metadata": {},
   "outputs": [
    {
     "data": {
      "text/html": [
       "<div>\n",
       "<style scoped>\n",
       "    .dataframe tbody tr th:only-of-type {\n",
       "        vertical-align: middle;\n",
       "    }\n",
       "\n",
       "    .dataframe tbody tr th {\n",
       "        vertical-align: top;\n",
       "    }\n",
       "\n",
       "    .dataframe thead th {\n",
       "        text-align: right;\n",
       "    }\n",
       "</style>\n",
       "<table border=\"1\" class=\"dataframe\">\n",
       "  <thead>\n",
       "    <tr style=\"text-align: right;\">\n",
       "      <th></th>\n",
       "      <th>politics</th>\n",
       "    </tr>\n",
       "  </thead>\n",
       "  <tbody>\n",
       "    <tr>\n",
       "      <th>0</th>\n",
       "      <td>['scott', 'pruitt', \"trump'\", 'former', 'epa',...</td>\n",
       "    </tr>\n",
       "    <tr>\n",
       "      <th>1</th>\n",
       "      <td>['joint', 'fundrais', 'committe', 'run', 'marj...</td>\n",
       "    </tr>\n",
       "    <tr>\n",
       "      <th>2</th>\n",
       "      <td>['earliest', 'day', 'black', 'church', 'polit'...</td>\n",
       "    </tr>\n",
       "    <tr>\n",
       "      <th>3</th>\n",
       "      <td>['earli', 'novemb', 'rep', 'chip', 'roy', 'tex...</td>\n",
       "    </tr>\n",
       "    <tr>\n",
       "      <th>4</th>\n",
       "      <td>['add', 'west', 'wing', 'playbook', 'daili', '...</td>\n",
       "    </tr>\n",
       "  </tbody>\n",
       "</table>\n",
       "</div>"
      ],
      "text/plain": [
       "                                            politics\n",
       "0  ['scott', 'pruitt', \"trump'\", 'former', 'epa',...\n",
       "1  ['joint', 'fundrais', 'committe', 'run', 'marj...\n",
       "2  ['earliest', 'day', 'black', 'church', 'polit'...\n",
       "3  ['earli', 'novemb', 'rep', 'chip', 'roy', 'tex...\n",
       "4  ['add', 'west', 'wing', 'playbook', 'daili', '..."
      ]
     },
     "execution_count": 313,
     "metadata": {},
     "output_type": "execute_result"
    }
   ],
   "source": [
    "data = pd.read_csv('politics_[actual_size=4968]_processed_merge.csv').politics\n",
    "data = pd.DataFrame(data=data)\n",
    "data.head() "
   ]
  },
  {
   "cell_type": "code",
   "execution_count": 314,
   "id": "394451fe",
   "metadata": {},
   "outputs": [
    {
     "name": "stdout",
     "output_type": "stream",
     "text": [
      "politics tweets size : 4968\n",
      "non-politics tweets size : 5000\n"
     ]
    }
   ],
   "source": [
    "politics_positive_tweets = data[:4968] \n",
    "print('politics tweets size :', len(politics_positive_tweets))\n",
    "politics_negative_tweets = data[4968:] \n",
    "print('non-politics tweets size :', len(politics_negative_tweets))"
   ]
  },
  {
   "cell_type": "markdown",
   "id": "a1bff5d3",
   "metadata": {},
   "source": [
    "* Train test split: 20% will be in the test set, and 80% in the training set.\n"
   ]
  },
  {
   "cell_type": "code",
   "execution_count": 315,
   "id": "2671bb59",
   "metadata": {},
   "outputs": [],
   "source": [
    "# split the data into two pieces, one for training and one for testing (validation set) \n",
    "test_pos = politics_positive_tweets[4000:]\n",
    "train_pos = politics_positive_tweets[:4000]\n",
    "\n",
    "test_neg = politics_negative_tweets[4000:]\n",
    "train_neg = politics_negative_tweets[:4000]"
   ]
  },
  {
   "cell_type": "code",
   "execution_count": 316,
   "id": "d2d041e2",
   "metadata": {},
   "outputs": [],
   "source": [
    "train_x = pd.concat([train_pos, train_neg], axis=0) \n",
    "test_x = pd.concat([test_pos, test_neg], axis=0)"
   ]
  },
  {
   "cell_type": "markdown",
   "id": "d3ce6fdd",
   "metadata": {},
   "source": [
    "- Create the numpy array of positive labels and negative labels."
   ]
  },
  {
   "cell_type": "code",
   "execution_count": 317,
   "id": "e23e89a2",
   "metadata": {},
   "outputs": [],
   "source": [
    "# combine positive and negative labels\n",
    "train_y = np.append(np.ones((len(train_pos), 1)), np.zeros((len(train_neg), 1)), axis=0)\n",
    "test_y = np.append(np.ones((len(test_pos), 1)), np.zeros((len(test_neg), 1)), axis=0)"
   ]
  },
  {
   "cell_type": "code",
   "execution_count": 318,
   "id": "21974dc3",
   "metadata": {},
   "outputs": [
    {
     "name": "stdout",
     "output_type": "stream",
     "text": [
      "train shaoe: (8000, 1)\n",
      "test shape: (1968, 1)\n"
     ]
    }
   ],
   "source": [
    "print('train shaoe:', train_y.shape)\n",
    "print('test shape:', test_y.shape)"
   ]
  },
  {
   "cell_type": "markdown",
   "id": "9ed0269f",
   "metadata": {},
   "source": [
    "# Vocabulary for Politics Dataset "
   ]
  },
  {
   "cell_type": "code",
   "execution_count": 319,
   "id": "ae827cf7",
   "metadata": {},
   "outputs": [],
   "source": [
    "def generate_tweets_list(dataframe_single):\n",
    "    train_x_arr = [] \n",
    "    for index, row in dataframe_single.iterrows(): \n",
    "        for a in row.values: \n",
    "            train_x_arr.append(ast.literal_eval(a))\n",
    "            \n",
    "    return train_x_arr"
   ]
  },
  {
   "cell_type": "code",
   "execution_count": 320,
   "id": "d0042d2b",
   "metadata": {},
   "outputs": [],
   "source": [
    "def build_freqs(train_x, train_y):\n",
    "    \n",
    "    yslist = np.squeeze(train_y).tolist()\n",
    "    train_x_arr = generate_tweets_list(train_x)\n",
    "    \n",
    "    freqs = {}\n",
    "    for y, tweet in zip(yslist, train_x_arr):\n",
    "        for word in tweet:\n",
    "            pair = (word, y)\n",
    "            if pair in freqs:\n",
    "                freqs[pair] += 1\n",
    "            else:\n",
    "                freqs[pair] = 1\n",
    "\n",
    "    return freqs"
   ]
  },
  {
   "cell_type": "code",
   "execution_count": 321,
   "id": "8f1ab7b0",
   "metadata": {},
   "outputs": [],
   "source": [
    "freqs = build_freqs(train_x, train_y) \n",
    "train_x_arr = generate_tweets_list(train_x)"
   ]
  },
  {
   "cell_type": "code",
   "execution_count": 322,
   "id": "c0c43341",
   "metadata": {},
   "outputs": [
    {
     "data": {
      "text/plain": [
       "13201"
      ]
     },
     "execution_count": 322,
     "metadata": {},
     "output_type": "execute_result"
    }
   ],
   "source": [
    "len(freqs)"
   ]
  },
  {
   "cell_type": "markdown",
   "id": "bd0902da",
   "metadata": {},
   "source": [
    "## Extract Features \n",
    "* Given a list of tweets, extract the features and store them in a matrix. Extract two features.\n",
    "    * The first feature is the number of positive words in a tweet.\n",
    "    * The second feature is the number of negative words in a tweet. \n",
    "* Then train the logistic regression classifier on these features.\n",
    "* Test the classifier on a validation set. "
   ]
  },
  {
   "cell_type": "code",
   "execution_count": 323,
   "id": "5c98c085",
   "metadata": {},
   "outputs": [],
   "source": [
    "def extract_features(tweet, freqs):\n",
    "    '''\n",
    "    Input: \n",
    "        tweet: a list of words for one tweet \n",
    "        freqs: a dictionary corresponding to the frequencies of each tuple \n",
    "    Output:\n",
    "        x: a feature vector of dimension (1, 3)\n",
    "    '''\n",
    "    x = np.zeros((1, 3)) \n",
    "    x[0,0] = 1 # bias term  \n",
    "    \n",
    "    for word in tweet: \n",
    "        \n",
    "        x[0,1] += freqs.get((word, 1.0), 0) \n",
    "        \n",
    "        x[0,2] += freqs.get((word, 0.0), 0) \n",
    "        \n",
    "    assert(x.shape == (1, 3))\n",
    "    return x "
   ]
  },
  {
   "cell_type": "code",
   "execution_count": 324,
   "id": "1065dba0",
   "metadata": {},
   "outputs": [
    {
     "data": {
      "text/plain": [
       "['scott',\n",
       " 'pruitt',\n",
       " \"trump'\",\n",
       " 'former',\n",
       " 'epa',\n",
       " 'chief',\n",
       " 'run',\n",
       " 'u',\n",
       " 'senat',\n",
       " 'oklahoma',\n",
       " 'year']"
      ]
     },
     "execution_count": 324,
     "metadata": {},
     "output_type": "execute_result"
    }
   ],
   "source": [
    "# Ex \n",
    "train_x_arr[0]"
   ]
  },
  {
   "cell_type": "code",
   "execution_count": 325,
   "id": "91d117bb",
   "metadata": {},
   "outputs": [
    {
     "data": {
      "text/plain": [
       "array([[1.000e+00, 1.169e+03, 2.280e+02]])"
      ]
     },
     "execution_count": 325,
     "metadata": {},
     "output_type": "execute_result"
    }
   ],
   "source": [
    "extract_features(train_x_arr[0], freqs)"
   ]
  },
  {
   "cell_type": "code",
   "execution_count": 326,
   "id": "01029b9a",
   "metadata": {},
   "outputs": [
    {
     "data": {
      "text/plain": [
       "array([[1., 0., 0.]])"
      ]
     },
     "execution_count": 326,
     "metadata": {},
     "output_type": "execute_result"
    }
   ],
   "source": [
    "extract_features(['asd', 'asd', 'asd'], freqs)"
   ]
  },
  {
   "cell_type": "code",
   "execution_count": 327,
   "id": "ea6ed327",
   "metadata": {},
   "outputs": [
    {
     "data": {
      "text/plain": [
       "array([[1.000e+00, 1.169e+03, 2.280e+02],\n",
       "       [1.000e+00, 5.070e+02, 1.930e+02],\n",
       "       [1.000e+00, 1.379e+03, 7.950e+02],\n",
       "       [1.000e+00, 1.360e+03, 4.560e+02],\n",
       "       [1.000e+00, 1.024e+03, 2.760e+02]])"
      ]
     },
     "execution_count": 327,
     "metadata": {},
     "output_type": "execute_result"
    }
   ],
   "source": [
    "X = np.zeros((len(train_x_arr), 3))\n",
    "for i in range(len(train_x_arr)):\n",
    "    X[i, :]= extract_features(train_x_arr[i], freqs) \n",
    "    \n",
    "X[:5]"
   ]
  },
  {
   "cell_type": "code",
   "execution_count": 328,
   "id": "4d531add",
   "metadata": {},
   "outputs": [],
   "source": [
    "y = train_y"
   ]
  },
  {
   "cell_type": "code",
   "execution_count": 329,
   "id": "43f6b85f",
   "metadata": {},
   "outputs": [
    {
     "data": {
      "text/plain": [
       "array([[1.],\n",
       "       [1.],\n",
       "       [0.],\n",
       "       ...,\n",
       "       [1.],\n",
       "       [1.],\n",
       "       [1.]])"
      ]
     },
     "execution_count": 329,
     "metadata": {},
     "output_type": "execute_result"
    }
   ],
   "source": [
    "X_sparse = coo_matrix(X)\n",
    "X, X_sparse, y = shuffle(X, X_sparse, y, random_state=0)\n",
    "\n",
    "y"
   ]
  },
  {
   "cell_type": "code",
   "execution_count": 330,
   "id": "bab8e47a",
   "metadata": {},
   "outputs": [
    {
     "data": {
      "text/plain": [
       "array([[1.000e+00, 5.390e+02, 4.100e+01],\n",
       "       [1.000e+00, 6.740e+02, 1.710e+02],\n",
       "       [1.000e+00, 1.790e+02, 5.320e+02],\n",
       "       ...,\n",
       "       [1.000e+00, 3.110e+02, 1.800e+01],\n",
       "       [1.000e+00, 7.030e+02, 7.500e+01],\n",
       "       [1.000e+00, 1.143e+03, 1.530e+02]])"
      ]
     },
     "execution_count": 330,
     "metadata": {},
     "output_type": "execute_result"
    }
   ],
   "source": [
    "X"
   ]
  },
  {
   "cell_type": "markdown",
   "id": "773106a3",
   "metadata": {},
   "source": [
    "# Classifier  1 : Logistic Regression \n",
    "\n",
    "* The sigmoid function is defined as: \n",
    "\n",
    "$$ h(z) = \\frac{1}{1+\\exp^{-z}} $$\n",
    "\n",
    "It maps the input 'z' to a value that ranges between 0 and 1, and so it can be treated as a probability. \n"
   ]
  },
  {
   "cell_type": "markdown",
   "id": "684a2f5d",
   "metadata": {},
   "source": [
    "# 1.1 Apply Logistic Regression and Cross - Validation "
   ]
  },
  {
   "cell_type": "markdown",
   "id": "c3a91709",
   "metadata": {},
   "source": [
    "* As a reminder, We have a balanced dataset. "
   ]
  },
  {
   "cell_type": "code",
   "execution_count": 308,
   "id": "3d619f98",
   "metadata": {},
   "outputs": [
    {
     "data": {
      "text/plain": [
       "array([0.505625, 0.4875  , 0.509375, 0.5     , 0.504375])"
      ]
     },
     "execution_count": 308,
     "metadata": {},
     "output_type": "execute_result"
    }
   ],
   "source": [
    "cross_val_score(LogisticRegression(), X, y.ravel())"
   ]
  },
  {
   "cell_type": "code",
   "execution_count": null,
   "id": "68f2d96f",
   "metadata": {},
   "outputs": [],
   "source": []
  },
  {
   "cell_type": "code",
   "execution_count": null,
   "id": "1727c0fd",
   "metadata": {},
   "outputs": [],
   "source": []
  },
  {
   "cell_type": "code",
   "execution_count": null,
   "id": "6f14046d",
   "metadata": {},
   "outputs": [],
   "source": []
  },
  {
   "cell_type": "code",
   "execution_count": null,
   "id": "e3e840f6",
   "metadata": {},
   "outputs": [],
   "source": []
  },
  {
   "cell_type": "markdown",
   "id": "0ce06a5b",
   "metadata": {},
   "source": [
    "# Test Logistic Regression Model"
   ]
  },
  {
   "cell_type": "code",
   "execution_count": 309,
   "id": "d091b052",
   "metadata": {},
   "outputs": [],
   "source": [
    "test_x_arr = generate_tweets_list(test_x)"
   ]
  },
  {
   "cell_type": "code",
   "execution_count": 310,
   "id": "c41a52ae",
   "metadata": {},
   "outputs": [
    {
     "data": {
      "text/plain": [
       "array([[1.000e+00, 1.019e+03, 3.750e+02],\n",
       "       [1.000e+00, 5.290e+02, 1.790e+02],\n",
       "       [1.000e+00, 6.160e+02, 3.250e+02],\n",
       "       [1.000e+00, 1.840e+02, 7.800e+01],\n",
       "       [1.000e+00, 6.470e+02, 2.400e+02]])"
      ]
     },
     "execution_count": 310,
     "metadata": {},
     "output_type": "execute_result"
    }
   ],
   "source": [
    "X_test = np.zeros((len(test_x_arr), 3))\n",
    "for i in range(len(test_x_arr)):\n",
    "    X_test[i, :]= extract_features(test_x_arr[i], freqs) \n",
    "    \n",
    "X_test[:5]"
   ]
  },
  {
   "cell_type": "code",
   "execution_count": 311,
   "id": "31ba77a6",
   "metadata": {},
   "outputs": [
    {
     "data": {
      "text/plain": [
       "0.6808943089430894"
      ]
     },
     "execution_count": 311,
     "metadata": {},
     "output_type": "execute_result"
    }
   ],
   "source": [
    "clf.score(X_test, test_y)"
   ]
  },
  {
   "cell_type": "code",
   "execution_count": null,
   "id": "1c31d430",
   "metadata": {},
   "outputs": [],
   "source": []
  },
  {
   "cell_type": "code",
   "execution_count": null,
   "id": "2fc80820",
   "metadata": {},
   "outputs": [],
   "source": []
  },
  {
   "cell_type": "code",
   "execution_count": null,
   "id": "e356eb85",
   "metadata": {},
   "outputs": [],
   "source": []
  },
  {
   "cell_type": "code",
   "execution_count": null,
   "id": "49209e39",
   "metadata": {},
   "outputs": [],
   "source": []
  },
  {
   "cell_type": "code",
   "execution_count": null,
   "id": "0e030ad3",
   "metadata": {},
   "outputs": [],
   "source": []
  },
  {
   "cell_type": "code",
   "execution_count": null,
   "id": "8dbfeeeb",
   "metadata": {},
   "outputs": [],
   "source": []
  },
  {
   "cell_type": "code",
   "execution_count": null,
   "id": "411c09d4",
   "metadata": {},
   "outputs": [],
   "source": []
  },
  {
   "cell_type": "code",
   "execution_count": null,
   "id": "b4b313b1",
   "metadata": {},
   "outputs": [],
   "source": []
  },
  {
   "cell_type": "code",
   "execution_count": null,
   "id": "37ed9849",
   "metadata": {},
   "outputs": [],
   "source": []
  },
  {
   "cell_type": "markdown",
   "id": "7cc65ed2",
   "metadata": {},
   "source": [
    "# Hyper-parameter Tuning and Selecting Best Models With Grid Search  "
   ]
  }
 ],
 "metadata": {
  "kernelspec": {
   "display_name": "Python 3 (ipykernel)",
   "language": "python",
   "name": "python3"
  },
  "language_info": {
   "codemirror_mode": {
    "name": "ipython",
    "version": 3
   },
   "file_extension": ".py",
   "mimetype": "text/x-python",
   "name": "python",
   "nbconvert_exporter": "python",
   "pygments_lexer": "ipython3",
   "version": "3.9.7"
  }
 },
 "nbformat": 4,
 "nbformat_minor": 5
}
