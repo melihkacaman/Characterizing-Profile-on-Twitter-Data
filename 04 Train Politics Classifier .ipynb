{
 "cells": [
  {
   "cell_type": "markdown",
   "id": "6b788be8",
   "metadata": {},
   "source": [
    "# Imports"
   ]
  },
  {
   "cell_type": "code",
   "execution_count": 169,
   "id": "9789faf2",
   "metadata": {},
   "outputs": [],
   "source": [
    "import pandas as pd \n",
    "import numpy as np \n",
    "import matplotlib.pyplot as plt \n",
    "\n",
    "import ast"
   ]
  },
  {
   "cell_type": "markdown",
   "id": "db0a37ed",
   "metadata": {},
   "source": [
    "# Path and Load Data "
   ]
  },
  {
   "cell_type": "code",
   "execution_count": 59,
   "id": "e56c9d53",
   "metadata": {},
   "outputs": [
    {
     "data": {
      "text/html": [
       "<div>\n",
       "<style scoped>\n",
       "    .dataframe tbody tr th:only-of-type {\n",
       "        vertical-align: middle;\n",
       "    }\n",
       "\n",
       "    .dataframe tbody tr th {\n",
       "        vertical-align: top;\n",
       "    }\n",
       "\n",
       "    .dataframe thead th {\n",
       "        text-align: right;\n",
       "    }\n",
       "</style>\n",
       "<table border=\"1\" class=\"dataframe\">\n",
       "  <thead>\n",
       "    <tr style=\"text-align: right;\">\n",
       "      <th></th>\n",
       "      <th>politics</th>\n",
       "    </tr>\n",
       "  </thead>\n",
       "  <tbody>\n",
       "    <tr>\n",
       "      <th>0</th>\n",
       "      <td>['scott', 'pruitt', \"trump'\", 'former', 'epa',...</td>\n",
       "    </tr>\n",
       "    <tr>\n",
       "      <th>1</th>\n",
       "      <td>['joint', 'fundrais', 'committe', 'run', 'marj...</td>\n",
       "    </tr>\n",
       "    <tr>\n",
       "      <th>2</th>\n",
       "      <td>['earliest', 'day', 'black', 'church', 'polit'...</td>\n",
       "    </tr>\n",
       "    <tr>\n",
       "      <th>3</th>\n",
       "      <td>['earli', 'novemb', 'rep', 'chip', 'roy', 'tex...</td>\n",
       "    </tr>\n",
       "    <tr>\n",
       "      <th>4</th>\n",
       "      <td>['add', 'west', 'wing', 'playbook', 'daili', '...</td>\n",
       "    </tr>\n",
       "  </tbody>\n",
       "</table>\n",
       "</div>"
      ],
      "text/plain": [
       "                                            politics\n",
       "0  ['scott', 'pruitt', \"trump'\", 'former', 'epa',...\n",
       "1  ['joint', 'fundrais', 'committe', 'run', 'marj...\n",
       "2  ['earliest', 'day', 'black', 'church', 'polit'...\n",
       "3  ['earli', 'novemb', 'rep', 'chip', 'roy', 'tex...\n",
       "4  ['add', 'west', 'wing', 'playbook', 'daili', '..."
      ]
     },
     "execution_count": 59,
     "metadata": {},
     "output_type": "execute_result"
    }
   ],
   "source": [
    "data = pd.read_csv('politics_[actual_size=4968]_processed_merge.csv').politics\n",
    "data = pd.DataFrame(data=data)\n",
    "data.head() "
   ]
  },
  {
   "cell_type": "code",
   "execution_count": 60,
   "id": "394451fe",
   "metadata": {},
   "outputs": [
    {
     "name": "stdout",
     "output_type": "stream",
     "text": [
      "politics tweets size : 4968\n",
      "non-politics tweets size : 5000\n"
     ]
    }
   ],
   "source": [
    "politics_positive_tweets = data[:4968] \n",
    "print('politics tweets size :', len(politics_positive_tweets))\n",
    "politics_negative_tweets = data[4968:] \n",
    "print('non-politics tweets size :', len(politics_negative_tweets))"
   ]
  },
  {
   "cell_type": "markdown",
   "id": "a1bff5d3",
   "metadata": {},
   "source": [
    "* Train test split: 20% will be in the test set, and 80% in the training set.\n"
   ]
  },
  {
   "cell_type": "code",
   "execution_count": 61,
   "id": "2671bb59",
   "metadata": {},
   "outputs": [],
   "source": [
    "# split the data into two pieces, one for training and one for testing (validation set) \n",
    "test_pos = politics_positive_tweets[4000:]\n",
    "train_pos = politics_positive_tweets[:4000]\n",
    "\n",
    "test_neg = politics_negative_tweets[4000:]\n",
    "train_neg = politics_negative_tweets[:4000]"
   ]
  },
  {
   "cell_type": "code",
   "execution_count": 77,
   "id": "6276a99e",
   "metadata": {},
   "outputs": [],
   "source": [
    "train_x = pd.concat([train_pos, train_neg], axis=0) \n",
    "test_x = pd.concat([test_pos, test_neg], axis=0)"
   ]
  },
  {
   "cell_type": "markdown",
   "id": "2efe4151",
   "metadata": {},
   "source": [
    "- Create the numpy array of positive labels and negative labels."
   ]
  },
  {
   "cell_type": "code",
   "execution_count": 78,
   "id": "aff50494",
   "metadata": {},
   "outputs": [],
   "source": [
    "# combine positive and negative labels\n",
    "train_y = np.append(np.ones((len(train_pos), 1)), np.zeros((len(train_neg), 1)), axis=0)\n",
    "test_y = np.append(np.ones((len(test_pos), 1)), np.zeros((len(test_neg), 1)), axis=0)"
   ]
  },
  {
   "cell_type": "code",
   "execution_count": 79,
   "id": "d56a85d7",
   "metadata": {},
   "outputs": [
    {
     "name": "stdout",
     "output_type": "stream",
     "text": [
      "train shaoe: (8000, 1)\n",
      "test shape: (1968, 1)\n"
     ]
    }
   ],
   "source": [
    "print('train shaoe:', train_y.shape)\n",
    "print('test shape:', test_y.shape)"
   ]
  },
  {
   "cell_type": "markdown",
   "id": "7e5f1fa9",
   "metadata": {},
   "source": [
    "# Extract Vocabulary for Politics Dataset "
   ]
  },
  {
   "cell_type": "code",
   "execution_count": 198,
   "id": "3f9ac885",
   "metadata": {},
   "outputs": [],
   "source": [
    "def build_freqs(train_x, train_y):\n",
    "    \n",
    "    yslist = np.squeeze(train_y).tolist()\n",
    "    \n",
    "    train_x_arr = [] \n",
    "    for index, row in train_x.iterrows(): \n",
    "        for a in row.values: \n",
    "            train_x_arr.append(ast.literal_eval(a))\n",
    "    \n",
    "    freqs = {}\n",
    "    for y, tweet in zip(yslist, train_x_arr):\n",
    "        for word in tweet:\n",
    "            pair = (word, y)\n",
    "            if pair in freqs:\n",
    "                freqs[pair] += 1\n",
    "            else:\n",
    "                freqs[pair] = 1\n",
    "\n",
    "    return freqs"
   ]
  },
  {
   "cell_type": "code",
   "execution_count": 199,
   "id": "98d87b8d",
   "metadata": {},
   "outputs": [],
   "source": [
    "freqs = build_freqs(train_x, train_y) "
   ]
  },
  {
   "cell_type": "code",
   "execution_count": 201,
   "id": "8a67d6d1",
   "metadata": {},
   "outputs": [
    {
     "data": {
      "text/plain": [
       "13201"
      ]
     },
     "execution_count": 201,
     "metadata": {},
     "output_type": "execute_result"
    }
   ],
   "source": [
    "len(freqs)"
   ]
  },
  {
   "cell_type": "code",
   "execution_count": null,
   "id": "f674fe6a",
   "metadata": {},
   "outputs": [],
   "source": []
  }
 ],
 "metadata": {
  "kernelspec": {
   "display_name": "Python 3 (ipykernel)",
   "language": "python",
   "name": "python3"
  },
  "language_info": {
   "codemirror_mode": {
    "name": "ipython",
    "version": 3
   },
   "file_extension": ".py",
   "mimetype": "text/x-python",
   "name": "python",
   "nbconvert_exporter": "python",
   "pygments_lexer": "ipython3",
   "version": "3.9.7"
  }
 },
 "nbformat": 4,
 "nbformat_minor": 5
}
