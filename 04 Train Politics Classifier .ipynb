{
 "cells": [
  {
   "cell_type": "markdown",
   "id": "6b788be8",
   "metadata": {},
   "source": [
    "# Imports"
   ]
  },
  {
   "cell_type": "code",
   "execution_count": 99,
   "id": "9789faf2",
   "metadata": {},
   "outputs": [],
   "source": [
    "import pandas as pd \n",
    "import numpy as np \n",
    "import matplotlib.pyplot as plt \n",
    "import seaborn as sns\n",
    "\n",
    "from sklearn.model_selection import train_test_split\n",
    "from sklearn.utils import shuffle\n",
    "from scipy.sparse import coo_matrix\n",
    "\n",
    "from sklearn.linear_model import LogisticRegression\n",
    "from sklearn.model_selection import cross_val_score\n",
    "from sklearn.model_selection import GridSearchCV\n",
    "\n",
    "from sklearn.svm import SVC\n",
    "\n",
    "from sklearn.metrics import f1_score\n",
    "\n",
    "\n",
    "import ast"
   ]
  },
  {
   "cell_type": "markdown",
   "id": "db0a37ed",
   "metadata": {},
   "source": [
    "# Path and Load Data "
   ]
  },
  {
   "cell_type": "code",
   "execution_count": 2,
   "id": "e56c9d53",
   "metadata": {},
   "outputs": [
    {
     "data": {
      "text/html": [
       "<div>\n",
       "<style scoped>\n",
       "    .dataframe tbody tr th:only-of-type {\n",
       "        vertical-align: middle;\n",
       "    }\n",
       "\n",
       "    .dataframe tbody tr th {\n",
       "        vertical-align: top;\n",
       "    }\n",
       "\n",
       "    .dataframe thead th {\n",
       "        text-align: right;\n",
       "    }\n",
       "</style>\n",
       "<table border=\"1\" class=\"dataframe\">\n",
       "  <thead>\n",
       "    <tr style=\"text-align: right;\">\n",
       "      <th></th>\n",
       "      <th>politics</th>\n",
       "    </tr>\n",
       "  </thead>\n",
       "  <tbody>\n",
       "    <tr>\n",
       "      <th>0</th>\n",
       "      <td>['scott', 'pruitt', \"trump'\", 'former', 'epa',...</td>\n",
       "    </tr>\n",
       "    <tr>\n",
       "      <th>1</th>\n",
       "      <td>['joint', 'fundrais', 'committe', 'run', 'marj...</td>\n",
       "    </tr>\n",
       "    <tr>\n",
       "      <th>2</th>\n",
       "      <td>['earliest', 'day', 'black', 'church', 'polit'...</td>\n",
       "    </tr>\n",
       "    <tr>\n",
       "      <th>3</th>\n",
       "      <td>['earli', 'novemb', 'rep', 'chip', 'roy', 'tex...</td>\n",
       "    </tr>\n",
       "    <tr>\n",
       "      <th>4</th>\n",
       "      <td>['add', 'west', 'wing', 'playbook', 'daili', '...</td>\n",
       "    </tr>\n",
       "  </tbody>\n",
       "</table>\n",
       "</div>"
      ],
      "text/plain": [
       "                                            politics\n",
       "0  ['scott', 'pruitt', \"trump'\", 'former', 'epa',...\n",
       "1  ['joint', 'fundrais', 'committe', 'run', 'marj...\n",
       "2  ['earliest', 'day', 'black', 'church', 'polit'...\n",
       "3  ['earli', 'novemb', 'rep', 'chip', 'roy', 'tex...\n",
       "4  ['add', 'west', 'wing', 'playbook', 'daili', '..."
      ]
     },
     "execution_count": 2,
     "metadata": {},
     "output_type": "execute_result"
    }
   ],
   "source": [
    "data = pd.read_csv('politics_[actual_size=4968]_processed_merge.csv').politics\n",
    "data = pd.DataFrame(data=data)\n",
    "data.head() "
   ]
  },
  {
   "cell_type": "code",
   "execution_count": 3,
   "id": "394451fe",
   "metadata": {},
   "outputs": [
    {
     "name": "stdout",
     "output_type": "stream",
     "text": [
      "politics tweets size : 4968\n",
      "non-politics tweets size : 5000\n"
     ]
    }
   ],
   "source": [
    "politics_positive_tweets = data[:4968] \n",
    "print('politics tweets size :', len(politics_positive_tweets))\n",
    "politics_negative_tweets = data[4968:] \n",
    "print('non-politics tweets size :', len(politics_negative_tweets))"
   ]
  },
  {
   "cell_type": "markdown",
   "id": "a1bff5d3",
   "metadata": {},
   "source": [
    "* Train test split: 20% will be in the test set, and 80% in the training set.\n"
   ]
  },
  {
   "cell_type": "code",
   "execution_count": 4,
   "id": "2671bb59",
   "metadata": {},
   "outputs": [],
   "source": [
    "# split the data into two pieces, one for training and one for testing (validation set) \n",
    "test_pos = politics_positive_tweets[4000:]\n",
    "train_pos = politics_positive_tweets[:4000]\n",
    "\n",
    "test_neg = politics_negative_tweets[4000:]\n",
    "train_neg = politics_negative_tweets[:4000]"
   ]
  },
  {
   "cell_type": "code",
   "execution_count": 5,
   "id": "d2d041e2",
   "metadata": {},
   "outputs": [],
   "source": [
    "train_x = pd.concat([train_pos, train_neg], axis=0) \n",
    "test_x = pd.concat([test_pos, test_neg], axis=0)"
   ]
  },
  {
   "cell_type": "markdown",
   "id": "d3ce6fdd",
   "metadata": {},
   "source": [
    "- Create the numpy array of positive labels and negative labels."
   ]
  },
  {
   "cell_type": "code",
   "execution_count": 6,
   "id": "e23e89a2",
   "metadata": {},
   "outputs": [],
   "source": [
    "# combine positive and negative labels\n",
    "train_y = np.append(np.ones((len(train_pos), 1)), np.zeros((len(train_neg), 1)), axis=0)\n",
    "test_y = np.append(np.ones((len(test_pos), 1)), np.zeros((len(test_neg), 1)), axis=0)"
   ]
  },
  {
   "cell_type": "code",
   "execution_count": 7,
   "id": "21974dc3",
   "metadata": {},
   "outputs": [
    {
     "name": "stdout",
     "output_type": "stream",
     "text": [
      "train shaoe: (8000, 1)\n",
      "test shape: (1968, 1)\n"
     ]
    }
   ],
   "source": [
    "print('train shaoe:', train_y.shape)\n",
    "print('test shape:', test_y.shape)"
   ]
  },
  {
   "cell_type": "markdown",
   "id": "9ed0269f",
   "metadata": {},
   "source": [
    "# Vocabulary for Politics Dataset "
   ]
  },
  {
   "cell_type": "code",
   "execution_count": 8,
   "id": "ae827cf7",
   "metadata": {},
   "outputs": [],
   "source": [
    "def generate_tweets_list(dataframe_single):\n",
    "    train_x_arr = [] \n",
    "    for index, row in dataframe_single.iterrows(): \n",
    "        for a in row.values: \n",
    "            train_x_arr.append(ast.literal_eval(a))\n",
    "            \n",
    "    return train_x_arr"
   ]
  },
  {
   "cell_type": "code",
   "execution_count": 9,
   "id": "d0042d2b",
   "metadata": {},
   "outputs": [],
   "source": [
    "def build_freqs(train_x, train_y):\n",
    "    \n",
    "    yslist = np.squeeze(train_y).tolist()\n",
    "    train_x_arr = generate_tweets_list(train_x)\n",
    "    \n",
    "    freqs = {}\n",
    "    for y, tweet in zip(yslist, train_x_arr):\n",
    "        for word in tweet:\n",
    "            pair = (word, y)\n",
    "            if pair in freqs:\n",
    "                freqs[pair] += 1\n",
    "            else:\n",
    "                freqs[pair] = 1\n",
    "\n",
    "    return freqs"
   ]
  },
  {
   "cell_type": "code",
   "execution_count": 10,
   "id": "8f1ab7b0",
   "metadata": {},
   "outputs": [],
   "source": [
    "freqs = build_freqs(train_x, train_y) \n",
    "train_x_arr = generate_tweets_list(train_x)"
   ]
  },
  {
   "cell_type": "code",
   "execution_count": 11,
   "id": "c0c43341",
   "metadata": {},
   "outputs": [
    {
     "data": {
      "text/plain": [
       "13201"
      ]
     },
     "execution_count": 11,
     "metadata": {},
     "output_type": "execute_result"
    }
   ],
   "source": [
    "len(freqs)"
   ]
  },
  {
   "cell_type": "markdown",
   "id": "bd0902da",
   "metadata": {},
   "source": [
    "## Extract Features \n",
    "* Given a list of tweets, extract the features and store them in a matrix. Extract two features.\n",
    "    * The first feature is the number of positive words in a tweet.\n",
    "    * The second feature is the number of negative words in a tweet. \n",
    "* Then train the logistic regression classifier on these features.\n",
    "* Test the classifier on a validation set. "
   ]
  },
  {
   "cell_type": "code",
   "execution_count": 12,
   "id": "5c98c085",
   "metadata": {},
   "outputs": [],
   "source": [
    "def extract_features(tweet, freqs):\n",
    "    '''\n",
    "    Input: \n",
    "        tweet: a list of words for one tweet \n",
    "        freqs: a dictionary corresponding to the frequencies of each tuple \n",
    "    Output:\n",
    "        x: a feature vector of dimension (1, 3)\n",
    "    '''\n",
    "    x = np.zeros((1, 3)) \n",
    "    x[0,0] = 1 # bias term  \n",
    "    \n",
    "    for word in tweet: \n",
    "        \n",
    "        x[0,1] += freqs.get((word, 1.0), 0) \n",
    "        \n",
    "        x[0,2] += freqs.get((word, 0.0), 0) \n",
    "        \n",
    "    assert(x.shape == (1, 3))\n",
    "    return x "
   ]
  },
  {
   "cell_type": "code",
   "execution_count": 13,
   "id": "1065dba0",
   "metadata": {},
   "outputs": [
    {
     "data": {
      "text/plain": [
       "['scott',\n",
       " 'pruitt',\n",
       " \"trump'\",\n",
       " 'former',\n",
       " 'epa',\n",
       " 'chief',\n",
       " 'run',\n",
       " 'u',\n",
       " 'senat',\n",
       " 'oklahoma',\n",
       " 'year']"
      ]
     },
     "execution_count": 13,
     "metadata": {},
     "output_type": "execute_result"
    }
   ],
   "source": [
    "# Ex \n",
    "train_x_arr[0]"
   ]
  },
  {
   "cell_type": "code",
   "execution_count": 14,
   "id": "91d117bb",
   "metadata": {},
   "outputs": [
    {
     "data": {
      "text/plain": [
       "array([[1.000e+00, 1.169e+03, 2.280e+02]])"
      ]
     },
     "execution_count": 14,
     "metadata": {},
     "output_type": "execute_result"
    }
   ],
   "source": [
    "extract_features(train_x_arr[0], freqs)"
   ]
  },
  {
   "cell_type": "code",
   "execution_count": 15,
   "id": "01029b9a",
   "metadata": {},
   "outputs": [
    {
     "data": {
      "text/plain": [
       "array([[1., 0., 0.]])"
      ]
     },
     "execution_count": 15,
     "metadata": {},
     "output_type": "execute_result"
    }
   ],
   "source": [
    "extract_features(['asd', 'asd', 'asd'], freqs)"
   ]
  },
  {
   "cell_type": "code",
   "execution_count": 16,
   "id": "ea6ed327",
   "metadata": {},
   "outputs": [
    {
     "data": {
      "text/plain": [
       "array([[1.000e+00, 1.169e+03, 2.280e+02],\n",
       "       [1.000e+00, 5.070e+02, 1.930e+02],\n",
       "       [1.000e+00, 1.379e+03, 7.950e+02],\n",
       "       [1.000e+00, 1.360e+03, 4.560e+02],\n",
       "       [1.000e+00, 1.024e+03, 2.760e+02]])"
      ]
     },
     "execution_count": 16,
     "metadata": {},
     "output_type": "execute_result"
    }
   ],
   "source": [
    "X = np.zeros((len(train_x_arr), 3))\n",
    "for i in range(len(train_x_arr)):\n",
    "    X[i, :]= extract_features(train_x_arr[i], freqs) \n",
    "    \n",
    "X[:5]"
   ]
  },
  {
   "cell_type": "code",
   "execution_count": 17,
   "id": "4d531add",
   "metadata": {},
   "outputs": [],
   "source": [
    "y = train_y"
   ]
  },
  {
   "cell_type": "code",
   "execution_count": 18,
   "id": "43f6b85f",
   "metadata": {},
   "outputs": [
    {
     "data": {
      "text/plain": [
       "array([[1.],\n",
       "       [1.],\n",
       "       [0.],\n",
       "       ...,\n",
       "       [1.],\n",
       "       [1.],\n",
       "       [1.]])"
      ]
     },
     "execution_count": 18,
     "metadata": {},
     "output_type": "execute_result"
    }
   ],
   "source": [
    "X_sparse = coo_matrix(X)\n",
    "X, X_sparse, y = shuffle(X, X_sparse, y, random_state=0)\n",
    "\n",
    "y"
   ]
  },
  {
   "cell_type": "code",
   "execution_count": 19,
   "id": "bab8e47a",
   "metadata": {},
   "outputs": [
    {
     "data": {
      "text/plain": [
       "array([[1.000e+00, 5.390e+02, 4.100e+01],\n",
       "       [1.000e+00, 6.740e+02, 1.710e+02],\n",
       "       [1.000e+00, 1.790e+02, 5.320e+02],\n",
       "       ...,\n",
       "       [1.000e+00, 3.110e+02, 1.800e+01],\n",
       "       [1.000e+00, 7.030e+02, 7.500e+01],\n",
       "       [1.000e+00, 1.143e+03, 1.530e+02]])"
      ]
     },
     "execution_count": 19,
     "metadata": {},
     "output_type": "execute_result"
    }
   ],
   "source": [
    "X"
   ]
  },
  {
   "cell_type": "code",
   "execution_count": 69,
   "id": "9447d9f7",
   "metadata": {},
   "outputs": [
    {
     "data": {
      "text/html": [
       "<div>\n",
       "<style scoped>\n",
       "    .dataframe tbody tr th:only-of-type {\n",
       "        vertical-align: middle;\n",
       "    }\n",
       "\n",
       "    .dataframe tbody tr th {\n",
       "        vertical-align: top;\n",
       "    }\n",
       "\n",
       "    .dataframe thead th {\n",
       "        text-align: right;\n",
       "    }\n",
       "</style>\n",
       "<table border=\"1\" class=\"dataframe\">\n",
       "  <thead>\n",
       "    <tr style=\"text-align: right;\">\n",
       "      <th></th>\n",
       "      <th>bias</th>\n",
       "      <th>positive</th>\n",
       "      <th>negative</th>\n",
       "      <th>target</th>\n",
       "    </tr>\n",
       "  </thead>\n",
       "  <tbody>\n",
       "    <tr>\n",
       "      <th>0</th>\n",
       "      <td>1.0</td>\n",
       "      <td>539.0</td>\n",
       "      <td>41.0</td>\n",
       "      <td>1.0</td>\n",
       "    </tr>\n",
       "    <tr>\n",
       "      <th>1</th>\n",
       "      <td>1.0</td>\n",
       "      <td>674.0</td>\n",
       "      <td>171.0</td>\n",
       "      <td>1.0</td>\n",
       "    </tr>\n",
       "    <tr>\n",
       "      <th>2</th>\n",
       "      <td>1.0</td>\n",
       "      <td>179.0</td>\n",
       "      <td>532.0</td>\n",
       "      <td>0.0</td>\n",
       "    </tr>\n",
       "    <tr>\n",
       "      <th>3</th>\n",
       "      <td>1.0</td>\n",
       "      <td>2524.0</td>\n",
       "      <td>1134.0</td>\n",
       "      <td>1.0</td>\n",
       "    </tr>\n",
       "    <tr>\n",
       "      <th>4</th>\n",
       "      <td>1.0</td>\n",
       "      <td>360.0</td>\n",
       "      <td>53.0</td>\n",
       "      <td>1.0</td>\n",
       "    </tr>\n",
       "  </tbody>\n",
       "</table>\n",
       "</div>"
      ],
      "text/plain": [
       "   bias  positive  negative  target\n",
       "0   1.0     539.0      41.0     1.0\n",
       "1   1.0     674.0     171.0     1.0\n",
       "2   1.0     179.0     532.0     0.0\n",
       "3   1.0    2524.0    1134.0     1.0\n",
       "4   1.0     360.0      53.0     1.0"
      ]
     },
     "execution_count": 69,
     "metadata": {},
     "output_type": "execute_result"
    }
   ],
   "source": [
    "vis_X = pd.DataFrame(data=X, columns=['bias', 'positive', 'negative'])\n",
    "vis_y = pd.DataFrame(data=y, columns=['target']) \n",
    "\n",
    "vis_data = pd.concat([vis_X, vis_y], axis=1) \n",
    "\n",
    "vis_data.head() "
   ]
  },
  {
   "cell_type": "code",
   "execution_count": 98,
   "id": "0b094fcc",
   "metadata": {},
   "outputs": [
    {
     "data": {
      "text/plain": [
       "<Figure size 720x720 with 0 Axes>"
      ]
     },
     "metadata": {},
     "output_type": "display_data"
    },
    {
     "data": {
      "image/png": "[encoded data removed]",
      "text/plain": [
       "<Figure size 628x576 with 1 Axes>"
      ]
     },
     "metadata": {
      "needs_background": "light"
     },
     "output_type": "display_data"
    }
   ],
   "source": [
    "plt.figure(figsize=(10,10))\n",
    "#plt.scatter(x='positive', y='negative', data=vis_data, c=vis_data.target, alpha=0.8, cmap='viridis', s=15)\n",
    "sns.lmplot(x='positive', y='negative', data=vis_data, hue='target', fit_reg=False, height=8, markers=['x','o'])\n",
    "plt.title('Politics Set')\n",
    "plt.xlabel('positive', fontsize=18)\n",
    "plt.ylabel('negative', fontsize=18) \n",
    "plt.show() "
   ]
  },
  {
   "cell_type": "markdown",
   "id": "773106a3",
   "metadata": {},
   "source": [
    "# Classifier  1 : Logistic Regression \n",
    "\n",
    "* The sigmoid function is defined as: \n",
    "\n",
    "$$ h(z) = \\frac{1}{1+\\exp^{-z}} $$\n",
    "\n",
    "It maps the input 'z' to a value that ranges between 0 and 1, and so it can be treated as a probability. \n"
   ]
  },
  {
   "cell_type": "markdown",
   "id": "684a2f5d",
   "metadata": {},
   "source": [
    "# 1.1 Apply Logistic Regression and Cross - Validation "
   ]
  },
  {
   "cell_type": "markdown",
   "id": "c3a91709",
   "metadata": {},
   "source": [
    "* As a reminder, We have a balanced dataset. "
   ]
  },
  {
   "cell_type": "code",
   "execution_count": 20,
   "id": "3d619f98",
   "metadata": {},
   "outputs": [
    {
     "data": {
      "text/plain": [
       "array([0.9275  , 0.913125, 0.929375, 0.930625, 0.930625])"
      ]
     },
     "execution_count": 20,
     "metadata": {},
     "output_type": "execute_result"
    }
   ],
   "source": [
    "cross_val_score(LogisticRegression(), X, y.ravel())"
   ]
  },
  {
   "cell_type": "markdown",
   "id": "705754e2",
   "metadata": {},
   "source": [
    "- We have very satisfying results. Let's do some hyper-parameter tuning."
   ]
  },
  {
   "cell_type": "markdown",
   "id": "6946f2b7",
   "metadata": {},
   "source": [
    "# 1.2 Grid Search on Logistic Regression"
   ]
  },
  {
   "cell_type": "code",
   "execution_count": 48,
   "id": "6f14046d",
   "metadata": {},
   "outputs": [
    {
     "name": "stdout",
     "output_type": "stream",
     "text": [
      "Wall time: 279 ms\n"
     ]
    },
    {
     "data": {
      "text/plain": [
       "GridSearchCV(cv=5, estimator=LogisticRegression(solver='liblinear'),\n",
       "             param_grid={'C': [1e-10, 1e-05, 0.0001, 0.001, 0.01, 0.1, 1, 10,\n",
       "                               100]},\n",
       "             scoring='accuracy')"
      ]
     },
     "execution_count": 48,
     "metadata": {},
     "output_type": "execute_result"
    }
   ],
   "source": [
    "%%time\n",
    "gs_model = LogisticRegression(solver='liblinear') \n",
    "space = {\n",
    "    'C': [1e-10,1e-5, 1e-4, 1e-3, 1e-2, 1e-1, 1, 10, 100]\n",
    "}\n",
    "\n",
    "search = GridSearchCV(gs_model, space, scoring='accuracy', cv = 5) \n",
    "search.fit(X, y.ravel())  "
   ]
  },
  {
   "cell_type": "code",
   "execution_count": 49,
   "id": "e3e840f6",
   "metadata": {},
   "outputs": [
    {
     "name": "stdout",
     "output_type": "stream",
     "text": [
      "Best Score: 0.9275\n",
      "Best Hyperparameters: {'C': 1e-05}\n"
     ]
    }
   ],
   "source": [
    "print('Best Score: %s' % result.best_score_)\n",
    "print('Best Hyperparameters: %s' % result.best_params_)"
   ]
  },
  {
   "cell_type": "code",
   "execution_count": 50,
   "id": "f2cd7e63",
   "metadata": {},
   "outputs": [
    {
     "data": {
      "text/html": [
       "<div>\n",
       "<style scoped>\n",
       "    .dataframe tbody tr th:only-of-type {\n",
       "        vertical-align: middle;\n",
       "    }\n",
       "\n",
       "    .dataframe tbody tr th {\n",
       "        vertical-align: top;\n",
       "    }\n",
       "\n",
       "    .dataframe thead th {\n",
       "        text-align: right;\n",
       "    }\n",
       "</style>\n",
       "<table border=\"1\" class=\"dataframe\">\n",
       "  <thead>\n",
       "    <tr style=\"text-align: right;\">\n",
       "      <th></th>\n",
       "      <th>mean_fit_time</th>\n",
       "      <th>std_fit_time</th>\n",
       "      <th>mean_score_time</th>\n",
       "      <th>std_score_time</th>\n",
       "      <th>param_C</th>\n",
       "      <th>params</th>\n",
       "      <th>split0_test_score</th>\n",
       "      <th>split1_test_score</th>\n",
       "      <th>split2_test_score</th>\n",
       "      <th>split3_test_score</th>\n",
       "      <th>split4_test_score</th>\n",
       "      <th>mean_test_score</th>\n",
       "      <th>std_test_score</th>\n",
       "      <th>rank_test_score</th>\n",
       "    </tr>\n",
       "  </thead>\n",
       "  <tbody>\n",
       "    <tr>\n",
       "      <th>0</th>\n",
       "      <td>0.003987</td>\n",
       "      <td>0.000003</td>\n",
       "      <td>0.000600</td>\n",
       "      <td>0.000490</td>\n",
       "      <td>0.0</td>\n",
       "      <td>{'C': 1e-10}</td>\n",
       "      <td>0.930000</td>\n",
       "      <td>0.915625</td>\n",
       "      <td>0.923750</td>\n",
       "      <td>0.928125</td>\n",
       "      <td>0.930000</td>\n",
       "      <td>0.925500</td>\n",
       "      <td>0.005440</td>\n",
       "      <td>9</td>\n",
       "    </tr>\n",
       "    <tr>\n",
       "      <th>1</th>\n",
       "      <td>0.005385</td>\n",
       "      <td>0.000487</td>\n",
       "      <td>0.000599</td>\n",
       "      <td>0.000489</td>\n",
       "      <td>0.00001</td>\n",
       "      <td>{'C': 1e-05}</td>\n",
       "      <td>0.930000</td>\n",
       "      <td>0.916875</td>\n",
       "      <td>0.928125</td>\n",
       "      <td>0.930000</td>\n",
       "      <td>0.932500</td>\n",
       "      <td>0.927500</td>\n",
       "      <td>0.005491</td>\n",
       "      <td>1</td>\n",
       "    </tr>\n",
       "    <tr>\n",
       "      <th>2</th>\n",
       "      <td>0.004388</td>\n",
       "      <td>0.000489</td>\n",
       "      <td>0.000599</td>\n",
       "      <td>0.000489</td>\n",
       "      <td>0.0001</td>\n",
       "      <td>{'C': 0.0001}</td>\n",
       "      <td>0.930625</td>\n",
       "      <td>0.916250</td>\n",
       "      <td>0.928125</td>\n",
       "      <td>0.929375</td>\n",
       "      <td>0.932500</td>\n",
       "      <td>0.927375</td>\n",
       "      <td>0.005747</td>\n",
       "      <td>3</td>\n",
       "    </tr>\n",
       "    <tr>\n",
       "      <th>3</th>\n",
       "      <td>0.004335</td>\n",
       "      <td>0.006112</td>\n",
       "      <td>0.000000</td>\n",
       "      <td>0.000000</td>\n",
       "      <td>0.001</td>\n",
       "      <td>{'C': 0.001}</td>\n",
       "      <td>0.930000</td>\n",
       "      <td>0.917500</td>\n",
       "      <td>0.927500</td>\n",
       "      <td>0.930000</td>\n",
       "      <td>0.931875</td>\n",
       "      <td>0.927375</td>\n",
       "      <td>0.005130</td>\n",
       "      <td>2</td>\n",
       "    </tr>\n",
       "    <tr>\n",
       "      <th>4</th>\n",
       "      <td>0.003426</td>\n",
       "      <td>0.006853</td>\n",
       "      <td>0.000000</td>\n",
       "      <td>0.000000</td>\n",
       "      <td>0.01</td>\n",
       "      <td>{'C': 0.01}</td>\n",
       "      <td>0.929375</td>\n",
       "      <td>0.913750</td>\n",
       "      <td>0.926875</td>\n",
       "      <td>0.930625</td>\n",
       "      <td>0.930000</td>\n",
       "      <td>0.926125</td>\n",
       "      <td>0.006317</td>\n",
       "      <td>4</td>\n",
       "    </tr>\n",
       "    <tr>\n",
       "      <th>5</th>\n",
       "      <td>0.006027</td>\n",
       "      <td>0.007390</td>\n",
       "      <td>0.000000</td>\n",
       "      <td>0.000000</td>\n",
       "      <td>0.1</td>\n",
       "      <td>{'C': 0.1}</td>\n",
       "      <td>0.927500</td>\n",
       "      <td>0.913125</td>\n",
       "      <td>0.926875</td>\n",
       "      <td>0.930625</td>\n",
       "      <td>0.930625</td>\n",
       "      <td>0.925750</td>\n",
       "      <td>0.006500</td>\n",
       "      <td>5</td>\n",
       "    </tr>\n",
       "    <tr>\n",
       "      <th>6</th>\n",
       "      <td>0.006248</td>\n",
       "      <td>0.007653</td>\n",
       "      <td>0.000000</td>\n",
       "      <td>0.000000</td>\n",
       "      <td>1</td>\n",
       "      <td>{'C': 1}</td>\n",
       "      <td>0.927500</td>\n",
       "      <td>0.913125</td>\n",
       "      <td>0.926875</td>\n",
       "      <td>0.930625</td>\n",
       "      <td>0.930625</td>\n",
       "      <td>0.925750</td>\n",
       "      <td>0.006500</td>\n",
       "      <td>5</td>\n",
       "    </tr>\n",
       "    <tr>\n",
       "      <th>7</th>\n",
       "      <td>0.009453</td>\n",
       "      <td>0.005833</td>\n",
       "      <td>0.000000</td>\n",
       "      <td>0.000000</td>\n",
       "      <td>10</td>\n",
       "      <td>{'C': 10}</td>\n",
       "      <td>0.927500</td>\n",
       "      <td>0.913125</td>\n",
       "      <td>0.926875</td>\n",
       "      <td>0.930625</td>\n",
       "      <td>0.930625</td>\n",
       "      <td>0.925750</td>\n",
       "      <td>0.006500</td>\n",
       "      <td>5</td>\n",
       "    </tr>\n",
       "    <tr>\n",
       "      <th>8</th>\n",
       "      <td>0.003124</td>\n",
       "      <td>0.006248</td>\n",
       "      <td>0.000000</td>\n",
       "      <td>0.000000</td>\n",
       "      <td>100</td>\n",
       "      <td>{'C': 100}</td>\n",
       "      <td>0.927500</td>\n",
       "      <td>0.913125</td>\n",
       "      <td>0.926875</td>\n",
       "      <td>0.930625</td>\n",
       "      <td>0.930625</td>\n",
       "      <td>0.925750</td>\n",
       "      <td>0.006500</td>\n",
       "      <td>5</td>\n",
       "    </tr>\n",
       "  </tbody>\n",
       "</table>\n",
       "</div>"
      ],
      "text/plain": [
       "   mean_fit_time  std_fit_time  mean_score_time  std_score_time  param_C  \\\n",
       "0       0.003987      0.000003         0.000600        0.000490      0.0   \n",
       "1       0.005385      0.000487         0.000599        0.000489  0.00001   \n",
       "2       0.004388      0.000489         0.000599        0.000489   0.0001   \n",
       "3       0.004335      0.006112         0.000000        0.000000    0.001   \n",
       "4       0.003426      0.006853         0.000000        0.000000     0.01   \n",
       "5       0.006027      0.007390         0.000000        0.000000      0.1   \n",
       "6       0.006248      0.007653         0.000000        0.000000        1   \n",
       "7       0.009453      0.005833         0.000000        0.000000       10   \n",
       "8       0.003124      0.006248         0.000000        0.000000      100   \n",
       "\n",
       "          params  split0_test_score  split1_test_score  split2_test_score  \\\n",
       "0   {'C': 1e-10}           0.930000           0.915625           0.923750   \n",
       "1   {'C': 1e-05}           0.930000           0.916875           0.928125   \n",
       "2  {'C': 0.0001}           0.930625           0.916250           0.928125   \n",
       "3   {'C': 0.001}           0.930000           0.917500           0.927500   \n",
       "4    {'C': 0.01}           0.929375           0.913750           0.926875   \n",
       "5     {'C': 0.1}           0.927500           0.913125           0.926875   \n",
       "6       {'C': 1}           0.927500           0.913125           0.926875   \n",
       "7      {'C': 10}           0.927500           0.913125           0.926875   \n",
       "8     {'C': 100}           0.927500           0.913125           0.926875   \n",
       "\n",
       "   split3_test_score  split4_test_score  mean_test_score  std_test_score  \\\n",
       "0           0.928125           0.930000         0.925500        0.005440   \n",
       "1           0.930000           0.932500         0.927500        0.005491   \n",
       "2           0.929375           0.932500         0.927375        0.005747   \n",
       "3           0.930000           0.931875         0.927375        0.005130   \n",
       "4           0.930625           0.930000         0.926125        0.006317   \n",
       "5           0.930625           0.930625         0.925750        0.006500   \n",
       "6           0.930625           0.930625         0.925750        0.006500   \n",
       "7           0.930625           0.930625         0.925750        0.006500   \n",
       "8           0.930625           0.930625         0.925750        0.006500   \n",
       "\n",
       "   rank_test_score  \n",
       "0                9  \n",
       "1                1  \n",
       "2                3  \n",
       "3                2  \n",
       "4                4  \n",
       "5                5  \n",
       "6                5  \n",
       "7                5  \n",
       "8                5  "
      ]
     },
     "execution_count": 50,
     "metadata": {},
     "output_type": "execute_result"
    }
   ],
   "source": [
    "pd.DataFrame(search.cv_results_)"
   ]
  },
  {
   "cell_type": "markdown",
   "id": "0ce06a5b",
   "metadata": {},
   "source": [
    "# Test Logistic Regression Model"
   ]
  },
  {
   "cell_type": "code",
   "execution_count": 39,
   "id": "d091b052",
   "metadata": {},
   "outputs": [],
   "source": [
    "test_x_arr = generate_tweets_list(test_x)"
   ]
  },
  {
   "cell_type": "code",
   "execution_count": 40,
   "id": "c41a52ae",
   "metadata": {},
   "outputs": [
    {
     "data": {
      "text/plain": [
       "array([[1.000e+00, 1.019e+03, 3.750e+02],\n",
       "       [1.000e+00, 5.290e+02, 1.790e+02],\n",
       "       [1.000e+00, 6.160e+02, 3.250e+02],\n",
       "       [1.000e+00, 1.840e+02, 7.800e+01],\n",
       "       [1.000e+00, 6.470e+02, 2.400e+02]])"
      ]
     },
     "execution_count": 40,
     "metadata": {},
     "output_type": "execute_result"
    }
   ],
   "source": [
    "X_test = np.zeros((len(test_x_arr), 3))\n",
    "for i in range(len(test_x_arr)):\n",
    "    X_test[i, :]= extract_features(test_x_arr[i], freqs) \n",
    "    \n",
    "X_test[:5]"
   ]
  },
  {
   "cell_type": "code",
   "execution_count": 47,
   "id": "31ba77a6",
   "metadata": {},
   "outputs": [
    {
     "data": {
      "text/plain": [
       "0.7205284552845529"
      ]
     },
     "execution_count": 47,
     "metadata": {},
     "output_type": "execute_result"
    }
   ],
   "source": [
    "search.best_estimator_.score(X_test, test_y.ravel())"
   ]
  },
  {
   "cell_type": "code",
   "execution_count": 57,
   "id": "8b2e9fca",
   "metadata": {},
   "outputs": [
    {
     "name": "stdout",
     "output_type": "stream",
     "text": [
      "F1-Score is 0.7637457044673539\n"
     ]
    }
   ],
   "source": [
    "y_hat = search.best_estimator_.predict(X_test)\n",
    "print(\"F1-Score is\", f1_score(test_y.ravel(), y_hat))"
   ]
  },
  {
   "cell_type": "markdown",
   "id": "d4e41dd6",
   "metadata": {},
   "source": [
    "# Classifier 2 : SVM "
   ]
  },
  {
   "cell_type": "code",
   "execution_count": 100,
   "id": "49209e39",
   "metadata": {},
   "outputs": [
    {
     "data": {
      "text/plain": [
       "SVC(kernel='linear')"
      ]
     },
     "execution_count": 100,
     "metadata": {},
     "output_type": "execute_result"
    }
   ],
   "source": [
    "clf_svm = SVC(kernel='linear') \n",
    "clf_svm.fit(X, y.ravel())"
   ]
  },
  {
   "cell_type": "code",
   "execution_count": 101,
   "id": "0e030ad3",
   "metadata": {},
   "outputs": [
    {
     "data": {
      "text/plain": [
       "0.7815040650406504"
      ]
     },
     "execution_count": 101,
     "metadata": {},
     "output_type": "execute_result"
    }
   ],
   "source": [
    "clf_svm.score(X_test, test_y.ravel())"
   ]
  },
  {
   "cell_type": "code",
   "execution_count": 102,
   "id": "8dbfeeeb",
   "metadata": {},
   "outputs": [
    {
     "data": {
      "text/plain": [
       "0.922875"
      ]
     },
     "execution_count": 102,
     "metadata": {},
     "output_type": "execute_result"
    }
   ],
   "source": [
    "clf_svm.score(X, y.ravel())"
   ]
  },
  {
   "cell_type": "code",
   "execution_count": 103,
   "id": "b4b313b1",
   "metadata": {},
   "outputs": [
    {
     "data": {
      "text/plain": [
       "0.0"
      ]
     },
     "execution_count": 103,
     "metadata": {},
     "output_type": "execute_result"
    }
   ],
   "source": [
    "clf_svm.coef0"
   ]
  },
  {
   "cell_type": "code",
   "execution_count": 104,
   "id": "37ed9849",
   "metadata": {},
   "outputs": [
    {
     "data": {
      "text/plain": [
       "array([[-1.16529009e-11,  6.97641753e-03, -7.84432370e-03]])"
      ]
     },
     "execution_count": 104,
     "metadata": {},
     "output_type": "execute_result"
    }
   ],
   "source": [
    "clf_svm.coef_"
   ]
  },
  {
   "cell_type": "markdown",
   "id": "c98d9594",
   "metadata": {},
   "source": [
    "# 2.1 Cross-Validation on Simple SVM Model "
   ]
  },
  {
   "cell_type": "code",
   "execution_count": 105,
   "id": "c3451d19",
   "metadata": {},
   "outputs": [
    {
     "data": {
      "text/plain": [
       "array([0.925   , 0.911875, 0.924375, 0.929375, 0.924375])"
      ]
     },
     "execution_count": 105,
     "metadata": {},
     "output_type": "execute_result"
    }
   ],
   "source": [
    "cross_val_score(SVC(kernel='linear'), X, y.ravel(), cv=5)"
   ]
  },
  {
   "cell_type": "markdown",
   "id": "13add56c",
   "metadata": {},
   "source": [
    "# 2.2 SVM Grid Search on Linear Kernel "
   ]
  },
  {
   "cell_type": "code",
   "execution_count": 108,
   "id": "ac9b7810",
   "metadata": {},
   "outputs": [
    {
     "name": "stdout",
     "output_type": "stream",
     "text": [
      "Fitting 5 folds for each of 6 candidates, totalling 30 fits\n",
      "[CV 1/5] END ............C=1e-05, kernel=linear;, score=0.925 total time=   0.4s\n",
      "[CV 2/5] END ............C=1e-05, kernel=linear;, score=0.912 total time=   0.4s\n",
      "[CV 3/5] END ............C=1e-05, kernel=linear;, score=0.925 total time=   0.4s\n",
      "[CV 4/5] END ............C=1e-05, kernel=linear;, score=0.929 total time=   0.4s\n",
      "[CV 5/5] END ............C=1e-05, kernel=linear;, score=0.924 total time=   0.4s\n",
      "[CV 1/5] END ...........C=0.0001, kernel=linear;, score=0.926 total time=   0.6s\n",
      "[CV 2/5] END ...........C=0.0001, kernel=linear;, score=0.912 total time=   0.5s\n",
      "[CV 3/5] END ...........C=0.0001, kernel=linear;, score=0.924 total time=   0.6s\n",
      "[CV 4/5] END ...........C=0.0001, kernel=linear;, score=0.929 total time=   0.6s\n",
      "[CV 5/5] END ...........C=0.0001, kernel=linear;, score=0.924 total time=   0.6s\n",
      "[CV 1/5] END ............C=0.001, kernel=linear;, score=0.926 total time=   1.3s\n",
      "[CV 2/5] END ............C=0.001, kernel=linear;, score=0.912 total time=   1.3s\n",
      "[CV 3/5] END ............C=0.001, kernel=linear;, score=0.924 total time=   1.4s\n",
      "[CV 4/5] END ............C=0.001, kernel=linear;, score=0.929 total time=   1.2s\n",
      "[CV 5/5] END ............C=0.001, kernel=linear;, score=0.924 total time=   1.3s\n",
      "[CV 1/5] END .............C=0.01, kernel=linear;, score=0.926 total time=   5.2s\n",
      "[CV 2/5] END .............C=0.01, kernel=linear;, score=0.912 total time=   5.5s\n",
      "[CV 3/5] END .............C=0.01, kernel=linear;, score=0.924 total time=   6.4s\n",
      "[CV 4/5] END .............C=0.01, kernel=linear;, score=0.929 total time=   7.6s\n",
      "[CV 5/5] END .............C=0.01, kernel=linear;, score=0.924 total time=   6.5s\n",
      "[CV 1/5] END ..............C=0.1, kernel=linear;, score=0.926 total time=  37.2s\n",
      "[CV 2/5] END ..............C=0.1, kernel=linear;, score=0.912 total time=  38.5s\n",
      "[CV 3/5] END ..............C=0.1, kernel=linear;, score=0.924 total time=  54.5s\n",
      "[CV 4/5] END ..............C=0.1, kernel=linear;, score=0.929 total time=  41.9s\n",
      "[CV 5/5] END ..............C=0.1, kernel=linear;, score=0.924 total time=  42.1s\n",
      "[CV 1/5] END ..............C=1.0, kernel=linear;, score=0.925 total time= 6.0min\n",
      "[CV 2/5] END ..............C=1.0, kernel=linear;, score=0.912 total time= 5.2min\n",
      "[CV 3/5] END ..............C=1.0, kernel=linear;, score=0.924 total time= 6.8min\n",
      "[CV 4/5] END ..............C=1.0, kernel=linear;, score=0.929 total time= 7.3min\n",
      "[CV 5/5] END ..............C=1.0, kernel=linear;, score=0.924 total time= 7.2min\n"
     ]
    },
    {
     "data": {
      "text/plain": [
       "GridSearchCV(cv=5, estimator=SVC(),\n",
       "             param_grid={'C': [1e-05, 0.0001, 0.001, 0.01, 0.1, 1.0],\n",
       "                         'kernel': ['linear']},\n",
       "             refit=3, verbose=3)"
      ]
     },
     "execution_count": 108,
     "metadata": {},
     "output_type": "execute_result"
    }
   ],
   "source": [
    "param_grid = {\n",
    "    'C' : [0.00001, 0.0001, 0.001, 0.01, 0.1, 1.0], \n",
    "    'kernel' : ['linear']\n",
    "}\n",
    "\n",
    "grid_svm_linear = GridSearchCV(SVC(), param_grid, refit=3, verbose=3, cv=5)\n",
    "grid_svm_linear.fit(X, y.ravel())"
   ]
  },
  {
   "cell_type": "code",
   "execution_count": 109,
   "id": "6845852c",
   "metadata": {},
   "outputs": [
    {
     "data": {
      "text/plain": [
       "0.92325"
      ]
     },
     "execution_count": 109,
     "metadata": {},
     "output_type": "execute_result"
    }
   ],
   "source": [
    "grid_svm_linear.best_score_"
   ]
  },
  {
   "cell_type": "code",
   "execution_count": 110,
   "id": "e7e0f111",
   "metadata": {},
   "outputs": [
    {
     "data": {
      "text/plain": [
       "SVC(C=1e-05, kernel='linear')"
      ]
     },
     "execution_count": 110,
     "metadata": {},
     "output_type": "execute_result"
    }
   ],
   "source": [
    "grid_svm_linear.best_estimator_"
   ]
  },
  {
   "cell_type": "code",
   "execution_count": 111,
   "id": "e74ff01a",
   "metadata": {},
   "outputs": [
    {
     "data": {
      "text/plain": [
       "0.7835365853658537"
      ]
     },
     "execution_count": 111,
     "metadata": {},
     "output_type": "execute_result"
    }
   ],
   "source": [
    "grid_svm_linear.best_estimator_.score(X_test, test_y.ravel())"
   ]
  },
  {
   "cell_type": "code",
   "execution_count": 112,
   "id": "04652012",
   "metadata": {},
   "outputs": [
    {
     "data": {
      "text/plain": [
       "0.8042279411764707"
      ]
     },
     "execution_count": 112,
     "metadata": {},
     "output_type": "execute_result"
    }
   ],
   "source": [
    "f1_score(grid_svm_linear.best_estimator_.predict(X_test), test_y.ravel())"
   ]
  },
  {
   "cell_type": "code",
   "execution_count": 117,
   "id": "54251a94",
   "metadata": {},
   "outputs": [
    {
     "data": {
      "text/html": [
       "<div>\n",
       "<style scoped>\n",
       "    .dataframe tbody tr th:only-of-type {\n",
       "        vertical-align: middle;\n",
       "    }\n",
       "\n",
       "    .dataframe tbody tr th {\n",
       "        vertical-align: top;\n",
       "    }\n",
       "\n",
       "    .dataframe thead th {\n",
       "        text-align: right;\n",
       "    }\n",
       "</style>\n",
       "<table border=\"1\" class=\"dataframe\">\n",
       "  <thead>\n",
       "    <tr style=\"text-align: right;\">\n",
       "      <th></th>\n",
       "      <th>Logistic Regression</th>\n",
       "      <th>Linear SVM</th>\n",
       "    </tr>\n",
       "  </thead>\n",
       "  <tbody>\n",
       "    <tr>\n",
       "      <th>f1 score</th>\n",
       "      <td>0.763746</td>\n",
       "      <td>0.804228</td>\n",
       "    </tr>\n",
       "    <tr>\n",
       "      <th>test accuracy</th>\n",
       "      <td>0.720528</td>\n",
       "      <td>0.783537</td>\n",
       "    </tr>\n",
       "  </tbody>\n",
       "</table>\n",
       "</div>"
      ],
      "text/plain": [
       "               Logistic Regression  Linear SVM\n",
       "f1 score                  0.763746    0.804228\n",
       "test accuracy             0.720528    0.783537"
      ]
     },
     "execution_count": 117,
     "metadata": {},
     "output_type": "execute_result"
    }
   ],
   "source": [
    "result = {\n",
    "    'Logistic Regression': {\n",
    "        'f1 score' : 0.7637457044673539,\n",
    "        'test accuracy' : 0.7205284552845529\n",
    "    },\n",
    "    \n",
    "    'Linear SVM': {\n",
    "        'f1 score': 0.8042279411764707, \n",
    "        'test accuracy': 0.7835365853658537\n",
    "    }\n",
    "}\n",
    "\n",
    "pd.DataFrame(result)"
   ]
  },
  {
   "cell_type": "markdown",
   "id": "8297c3f0",
   "metadata": {},
   "source": []
  }
 ],
 "metadata": {
  "kernelspec": {
   "display_name": "Python 3 (ipykernel)",
   "language": "python",
   "name": "python3"
  },
  "language_info": {
   "codemirror_mode": {
    "name": "ipython",
    "version": 3
   },
   "file_extension": ".py",
   "mimetype": "text/x-python",
   "name": "python",
   "nbconvert_exporter": "python",
   "pygments_lexer": "ipython3",
   "version": "3.9.7"
  }
 },
 "nbformat": 4,
 "nbformat_minor": 5
}
