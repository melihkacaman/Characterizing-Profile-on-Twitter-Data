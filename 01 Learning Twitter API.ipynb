{
 "cells": [
  {
   "cell_type": "markdown",
   "id": "0f02306d",
   "metadata": {},
   "source": [
    "# Imports "
   ]
  },
  {
   "cell_type": "code",
   "execution_count": 53,
   "id": "4c86ac20",
   "metadata": {},
   "outputs": [],
   "source": [
    "import tweepy \n",
    "import pandas as pd \n",
    "import numpy as np "
   ]
  },
  {
   "cell_type": "markdown",
   "id": "4089192e",
   "metadata": {},
   "source": [
    "# Api Key and Constants "
   ]
  },
  {
   "cell_type": "code",
   "execution_count": 2,
   "id": "8c94d1e0",
   "metadata": {},
   "outputs": [],
   "source": [
    "API_KEY = 'B7Y17gCCAfTe515xuZwGhuVlH' \n",
    "API_KEY_SECRET = '1lGo5GPcilwKzNy4SVGbgleI285oTK0zF2TAAKbb69vj6PFu3n' \n",
    "BEARER_TOKEN = 'AAAAAAAAAAAAAAAAAAAAAKALawEAAAAAEv7yYYtpXWXx6fv24Q9I4DnzqMg%3DEtLytFqguYLOAE8aSrFVmkK28FWlTGlKJ9PutxDf0QgGsGg8sX'\n",
    "BEARER_TOKEN2 = 'AAAAAAAAAAAAAAAAAAAAAKALawEAAAAAswdCYqqlZc1l%2BY1nOh7zYn2GaW4%3DA6vVrRYXf8JtlKVkbdok2Ej5m174CQskMQi2MOL8fUaTdby5uL'\n",
    "ACCESS_TOKEN = '1440392138697547777-ZbNqj8Vz27k9mk4s009V76REekQpoY' \n",
    "ACCESS_TOKEN_SECRET = 'ik2qalQeHpdw5cbU6QNtqZl2HYnmDVRQ1cRPbv9WPpywu'"
   ]
  },
  {
   "cell_type": "markdown",
   "id": "71e9af62",
   "metadata": {},
   "source": [
    "# Initialize a client "
   ]
  },
  {
   "cell_type": "markdown",
   "id": "aee50373",
   "metadata": {},
   "source": [
    "## get Recent Topic based on a query "
   ]
  },
  {
   "cell_type": "code",
   "execution_count": 3,
   "id": "f0548b4c",
   "metadata": {},
   "outputs": [],
   "source": [
    "client = tweepy.Client(bearer_token=BEARER_TOKEN2) "
   ]
  },
  {
   "cell_type": "code",
   "execution_count": 4,
   "id": "9de66fe8",
   "metadata": {},
   "outputs": [
    {
     "data": {
      "text/plain": [
       "tweepy.client.Response"
      ]
     },
     "execution_count": 4,
     "metadata": {},
     "output_type": "execute_result"
    }
   ],
   "source": [
    "# place query is not available for us for now. because we haven't got an Accademic access to the API. \n",
    "query = 'politics -is:retweet'\n",
    "response = client.search_recent_tweets(query=query)\n",
    "type(response)"
   ]
  },
  {
   "cell_type": "code",
   "execution_count": 5,
   "id": "303c8080",
   "metadata": {},
   "outputs": [
    {
     "data": {
      "text/plain": [
       "Response(data=[<Tweet id=1508420349133787142 text='@Alyaalsultani Is there a particular example(s) where you think it’s politicised (do you perhaps mean in US politics?) and perhaps I can point you in the right direction. As far as my own experience it’s always been a central teaching right from the start of xianity esp amongst MENA Xians.'>, <Tweet id=1508420348026490880 text='@exavierpope @geoffpilkington This is why Will Smith hit Chris Rock.  Prove me wrong.\\n\\nhttps://t.co/pWjJ0OK4cp'>, <Tweet id=1508420345165856774 text=\"@GOPChairwoman He's got actual business to attend to.\\nPerformance politics is more of a #GQP thing.\">, <Tweet id=1508420343085637635 text='Read The Canadian Union, Canadian Politics Daily #UFCW ▸ https://t.co/VlyCBE6oZp'>, <Tweet id=1508420341244493831 text='ตู้คอนเทนเนอร์ขวาง รับม็อบทะลุฟ้าจัดกิจกรรมครบ1ปีสลายชุมนุม สกัดบุกทำเนียบ https://t.co/R3fgxbJToi'>, <Tweet id=1508420336865452034 text='@bonniemusambi @WilliamsRuto hautapata coz you are in a wrong party . politics are local'>, <Tweet id=1508420335871291400 text='@NinaHaase @dw_politics @EmilyCSherwin C.C.P. TELERIZOS\" , ONCE NOTICIAS\" Y DEMAS\" PSEUDO\" MEDIOS\" QUEZQUE\" INFORMATIVOS\" 🤪🙄\"MEXICANOS\"'>, <Tweet id=1508420334189527042 text='https://t.co/c1QQrBFUj6'>, <Tweet id=1508420333174497280 text='Dear, leave the dirty politics and enjoy some porn...plzz @hinaparvezbutt https://t.co/Gmk6NKhxCM'>, <Tweet id=1508420320918585345 text='@RealCandaceO https://t.co/6NDQrWkw9A\\nGive it a read you may just like it and see it also.'>], includes={}, errors=[], meta={'newest_id': '1508420349133787142', 'oldest_id': '1508420320918585345', 'result_count': 10, 'next_token': 'b26v89c19zqg8o3fpyqom3nmljgikw42a13trf6uc398d'})"
      ]
     },
     "execution_count": 5,
     "metadata": {},
     "output_type": "execute_result"
    }
   ],
   "source": [
    "response"
   ]
  },
  {
   "cell_type": "markdown",
   "id": "3acf5ad4",
   "metadata": {},
   "source": [
    "## Get user's timeline "
   ]
  },
  {
   "cell_type": "code",
   "execution_count": 6,
   "id": "d345500a",
   "metadata": {},
   "outputs": [
    {
     "data": {
      "text/plain": [
       "Response(data=[<User id=2244994945 name=Twitter Dev username=TwitterDev>], includes={}, errors=[], meta={})"
      ]
     },
     "execution_count": 6,
     "metadata": {},
     "output_type": "execute_result"
    }
   ],
   "source": [
    "users = client.get_users(usernames=['twitterdev'])\n",
    "users"
   ]
  },
  {
   "cell_type": "code",
   "execution_count": 7,
   "id": "12a94de1",
   "metadata": {},
   "outputs": [
    {
     "data": {
      "text/plain": [
       "2244994945"
      ]
     },
     "execution_count": 7,
     "metadata": {},
     "output_type": "execute_result"
    }
   ],
   "source": [
    "user_id = users[0][0].id\n",
    "user_id"
   ]
  },
  {
   "cell_type": "code",
   "execution_count": 8,
   "id": "9095e52d",
   "metadata": {},
   "outputs": [],
   "source": [
    "response = client.get_users_tweets(id=user_id, tweet_fields=['lang'])"
   ]
  },
  {
   "cell_type": "code",
   "execution_count": 9,
   "id": "630f4e90",
   "metadata": {},
   "outputs": [
    {
     "name": "stdout",
     "output_type": "stream",
     "text": [
      "1507070437557096461\n",
      "en\n",
      "1506727406609920003\n",
      "en\n",
      "1506692831708004353\n",
      "en\n",
      "1504583305114447884\n",
      "en\n",
      "1504185738304311302\n",
      "en\n",
      "1503863303709286407\n",
      "en\n",
      "1503863301276827651\n",
      "en\n",
      "1502419093768617996\n",
      "en\n",
      "1502343607574880260\n",
      "en\n",
      "1501686770810900485\n",
      "en\n"
     ]
    }
   ],
   "source": [
    "for tweet in response.data: \n",
    "    print(tweet.id)\n",
    "    print(tweet.lang)"
   ]
  },
  {
   "cell_type": "markdown",
   "id": "59766872",
   "metadata": {},
   "source": [
    "# Task 1: Get a user's timeline tweets"
   ]
  },
  {
   "cell_type": "code",
   "execution_count": 18,
   "id": "40dd769e",
   "metadata": {},
   "outputs": [
    {
     "data": {
      "text/plain": [
       "Response(data=[<User id=7998482 name=USA TODAY Politics username=usatodayDC>], includes={}, errors=[], meta={})"
      ]
     },
     "execution_count": 18,
     "metadata": {},
     "output_type": "execute_result"
    }
   ],
   "source": [
    "users = client.get_users(usernames=['usatodayDC']) # @usatodayDC is an account that releases tweets about politics.   \n",
    "users "
   ]
  },
  {
   "cell_type": "code",
   "execution_count": 21,
   "id": "f36c8ca1",
   "metadata": {},
   "outputs": [
    {
     "data": {
      "text/plain": [
       "7998482"
      ]
     },
     "execution_count": 21,
     "metadata": {},
     "output_type": "execute_result"
    }
   ],
   "source": [
    "user_id = users[0][0].id\n",
    "user_id"
   ]
  },
  {
   "cell_type": "code",
   "execution_count": 23,
   "id": "f024f35e",
   "metadata": {},
   "outputs": [],
   "source": [
    "response = client.get_users_tweets(id=user_id, max_results=100, tweet_fields=['lang'])"
   ]
  },
  {
   "cell_type": "code",
   "execution_count": 24,
   "id": "3702fa27",
   "metadata": {},
   "outputs": [
    {
     "data": {
      "text/plain": [
       "tweepy.client.Response"
      ]
     },
     "execution_count": 24,
     "metadata": {},
     "output_type": "execute_result"
    }
   ],
   "source": [
    "type(response)"
   ]
  },
  {
   "cell_type": "code",
   "execution_count": 26,
   "id": "b6c499a4",
   "metadata": {},
   "outputs": [
    {
     "data": {
      "text/plain": [
       "['__add__',\n",
       " '__class__',\n",
       " '__class_getitem__',\n",
       " '__contains__',\n",
       " '__delattr__',\n",
       " '__dir__',\n",
       " '__doc__',\n",
       " '__eq__',\n",
       " '__format__',\n",
       " '__ge__',\n",
       " '__getattribute__',\n",
       " '__getitem__',\n",
       " '__getnewargs__',\n",
       " '__gt__',\n",
       " '__hash__',\n",
       " '__init__',\n",
       " '__init_subclass__',\n",
       " '__iter__',\n",
       " '__le__',\n",
       " '__len__',\n",
       " '__lt__',\n",
       " '__module__',\n",
       " '__mul__',\n",
       " '__ne__',\n",
       " '__new__',\n",
       " '__reduce__',\n",
       " '__reduce_ex__',\n",
       " '__repr__',\n",
       " '__rmul__',\n",
       " '__setattr__',\n",
       " '__sizeof__',\n",
       " '__slots__',\n",
       " '__str__',\n",
       " '__subclasshook__',\n",
       " '_asdict',\n",
       " '_field_defaults',\n",
       " '_fields',\n",
       " '_make',\n",
       " '_replace',\n",
       " 'count',\n",
       " 'data',\n",
       " 'errors',\n",
       " 'includes',\n",
       " 'index',\n",
       " 'meta']"
      ]
     },
     "execution_count": 26,
     "metadata": {},
     "output_type": "execute_result"
    }
   ],
   "source": [
    "dir(response)"
   ]
  },
  {
   "cell_type": "code",
   "execution_count": 28,
   "id": "1423b03d",
   "metadata": {},
   "outputs": [
    {
     "data": {
      "text/plain": [
       "[]"
      ]
     },
     "execution_count": 28,
     "metadata": {},
     "output_type": "execute_result"
    }
   ],
   "source": [
    "response.errors"
   ]
  },
  {
   "cell_type": "code",
   "execution_count": 30,
   "id": "b13fc640",
   "metadata": {},
   "outputs": [
    {
     "data": {
      "text/plain": [
       "list"
      ]
     },
     "execution_count": 30,
     "metadata": {},
     "output_type": "execute_result"
    }
   ],
   "source": [
    "type(response.data)"
   ]
  },
  {
   "cell_type": "code",
   "execution_count": 32,
   "id": "a63df3fc",
   "metadata": {},
   "outputs": [
    {
     "data": {
      "text/plain": [
       "100"
      ]
     },
     "execution_count": 32,
     "metadata": {},
     "output_type": "execute_result"
    }
   ],
   "source": [
    "len(response.data) # as max_results "
   ]
  },
  {
   "cell_type": "code",
   "execution_count": 39,
   "id": "6dcc34bf",
   "metadata": {},
   "outputs": [
    {
     "data": {
      "text/plain": [
       "tweepy.tweet.Tweet"
      ]
     },
     "execution_count": 39,
     "metadata": {},
     "output_type": "execute_result"
    }
   ],
   "source": [
    "type(response.data[1])"
   ]
  },
  {
   "cell_type": "code",
   "execution_count": 36,
   "id": "838363a6",
   "metadata": {},
   "outputs": [
    {
     "data": {
      "text/plain": [
       "<Tweet id=1508341637306593288 text='Ukrainian President Volodymyr Zelenskyy said Ukraine would consider declaring neutrality and offering security guarantees to Russia. Live updates.\\n\\n\\xa0\\xa0\\xa0\\xa0\\xa0\\xa0 https://t.co/zrP9vcjjH7'>"
      ]
     },
     "execution_count": 36,
     "metadata": {},
     "output_type": "execute_result"
    }
   ],
   "source": [
    "response.data[1]"
   ]
  },
  {
   "cell_type": "code",
   "execution_count": 37,
   "id": "fb6eb1fc",
   "metadata": {},
   "outputs": [
    {
     "data": {
      "text/plain": [
       "1508341637306593288"
      ]
     },
     "execution_count": 37,
     "metadata": {},
     "output_type": "execute_result"
    }
   ],
   "source": [
    "response.data[1].id"
   ]
  },
  {
   "cell_type": "markdown",
   "id": "f5b3a0f8",
   "metadata": {},
   "source": [
    "# Task 2: Get more than 100 tweets "
   ]
  },
  {
   "cell_type": "code",
   "execution_count": 60,
   "id": "d9967381",
   "metadata": {},
   "outputs": [],
   "source": [
    "tweet_list = [] \n",
    "for tweet in tweepy.Paginator(client.get_users_tweets, id=user_id, max_results=100, tweet_fields=['lang']).flatten(limit=1000): \n",
    "    tweet_list.append(tweet)"
   ]
  },
  {
   "cell_type": "code",
   "execution_count": 69,
   "id": "fa58e5a7",
   "metadata": {},
   "outputs": [
    {
     "data": {
      "text/plain": [
       "'en'"
      ]
     },
     "execution_count": 69,
     "metadata": {},
     "output_type": "execute_result"
    }
   ],
   "source": [
    "tweet_list[1].lang"
   ]
  },
  {
   "cell_type": "markdown",
   "id": "67f202ac",
   "metadata": {},
   "source": [
    "# Tast 3: Fill the data into a Dataframe "
   ]
  },
  {
   "cell_type": "code",
   "execution_count": 75,
   "id": "ecb6b6b2",
   "metadata": {},
   "outputs": [
    {
     "data": {
      "text/plain": [
       "1000"
      ]
     },
     "execution_count": 75,
     "metadata": {},
     "output_type": "execute_result"
    }
   ],
   "source": [
    "data_list = [] \n",
    "for tweet in tweet_list: \n",
    "    item = {} \n",
    "    item['id'] = tweet.id\n",
    "    item['lang'] = tweet.lang \n",
    "    item['text'] = tweet.text \n",
    "    \n",
    "    data_list.append(item)\n",
    "len(data_list)   "
   ]
  },
  {
   "cell_type": "code",
   "execution_count": 76,
   "id": "0f54a02a",
   "metadata": {},
   "outputs": [
    {
     "data": {
      "text/plain": [
       "{'id': 1508441546634547204,\n",
       " 'lang': 'en',\n",
       " 'text': 'Lynn Goldsmith, a renowned photographer, notes the Andy Warhol images of Prince were based on a photograph she took of the musician in 1981.\\n\\n\\xa0\\xa0\\xa0\\xa0\\xa0\\xa0 https://t.co/pD6zLugPtm'}"
      ]
     },
     "execution_count": 76,
     "metadata": {},
     "output_type": "execute_result"
    }
   ],
   "source": [
    "data_list[0]"
   ]
  },
  {
   "cell_type": "code",
   "execution_count": 77,
   "id": "75211323",
   "metadata": {},
   "outputs": [],
   "source": [
    "tweets_df = pd.DataFrame(data_list)"
   ]
  },
  {
   "cell_type": "code",
   "execution_count": 78,
   "id": "f010b8ab",
   "metadata": {},
   "outputs": [
    {
     "data": {
      "text/html": [
       "<div>\n",
       "<style scoped>\n",
       "    .dataframe tbody tr th:only-of-type {\n",
       "        vertical-align: middle;\n",
       "    }\n",
       "\n",
       "    .dataframe tbody tr th {\n",
       "        vertical-align: top;\n",
       "    }\n",
       "\n",
       "    .dataframe thead th {\n",
       "        text-align: right;\n",
       "    }\n",
       "</style>\n",
       "<table border=\"1\" class=\"dataframe\">\n",
       "  <thead>\n",
       "    <tr style=\"text-align: right;\">\n",
       "      <th></th>\n",
       "      <th>id</th>\n",
       "      <th>lang</th>\n",
       "      <th>text</th>\n",
       "    </tr>\n",
       "  </thead>\n",
       "  <tbody>\n",
       "    <tr>\n",
       "      <th>0</th>\n",
       "      <td>1508441546634547204</td>\n",
       "      <td>en</td>\n",
       "      <td>Lynn Goldsmith, a renowned photographer, notes...</td>\n",
       "    </tr>\n",
       "    <tr>\n",
       "      <th>1</th>\n",
       "      <td>1508437770066399238</td>\n",
       "      <td>en</td>\n",
       "      <td>If Jan. 6 panel OKs the contempt resolution, t...</td>\n",
       "    </tr>\n",
       "    <tr>\n",
       "      <th>2</th>\n",
       "      <td>1508426447052058633</td>\n",
       "      <td>en</td>\n",
       "      <td>The Kremlin tamped down expectations Monday th...</td>\n",
       "    </tr>\n",
       "    <tr>\n",
       "      <th>3</th>\n",
       "      <td>1508341637306593288</td>\n",
       "      <td>en</td>\n",
       "      <td>Ukrainian President Volodymyr Zelenskyy said U...</td>\n",
       "    </tr>\n",
       "    <tr>\n",
       "      <th>4</th>\n",
       "      <td>1508263124004134914</td>\n",
       "      <td>en</td>\n",
       "      <td>Kyrylo Budanov, the head of Ukrainian military...</td>\n",
       "    </tr>\n",
       "  </tbody>\n",
       "</table>\n",
       "</div>"
      ],
      "text/plain": [
       "                    id lang                                               text\n",
       "0  1508441546634547204   en  Lynn Goldsmith, a renowned photographer, notes...\n",
       "1  1508437770066399238   en  If Jan. 6 panel OKs the contempt resolution, t...\n",
       "2  1508426447052058633   en  The Kremlin tamped down expectations Monday th...\n",
       "3  1508341637306593288   en  Ukrainian President Volodymyr Zelenskyy said U...\n",
       "4  1508263124004134914   en  Kyrylo Budanov, the head of Ukrainian military..."
      ]
     },
     "execution_count": 78,
     "metadata": {},
     "output_type": "execute_result"
    }
   ],
   "source": [
    "tweets_df.head() "
   ]
  },
  {
   "cell_type": "code",
   "execution_count": 79,
   "id": "c88a61ca",
   "metadata": {},
   "outputs": [
    {
     "data": {
      "text/html": [
       "<div>\n",
       "<style scoped>\n",
       "    .dataframe tbody tr th:only-of-type {\n",
       "        vertical-align: middle;\n",
       "    }\n",
       "\n",
       "    .dataframe tbody tr th {\n",
       "        vertical-align: top;\n",
       "    }\n",
       "\n",
       "    .dataframe thead th {\n",
       "        text-align: right;\n",
       "    }\n",
       "</style>\n",
       "<table border=\"1\" class=\"dataframe\">\n",
       "  <thead>\n",
       "    <tr style=\"text-align: right;\">\n",
       "      <th></th>\n",
       "      <th>id</th>\n",
       "      <th>lang</th>\n",
       "      <th>text</th>\n",
       "    </tr>\n",
       "  </thead>\n",
       "  <tbody>\n",
       "    <tr>\n",
       "      <th>995</th>\n",
       "      <td>1496181006822514693</td>\n",
       "      <td>en</td>\n",
       "      <td>Iowa Gov. Kim Reynolds will deliver the GOP re...</td>\n",
       "    </tr>\n",
       "    <tr>\n",
       "      <th>996</th>\n",
       "      <td>1496168427861549057</td>\n",
       "      <td>en</td>\n",
       "      <td>Russians were glued to their TVs when Putin re...</td>\n",
       "    </tr>\n",
       "    <tr>\n",
       "      <th>997</th>\n",
       "      <td>1496162638249738243</td>\n",
       "      <td>en</td>\n",
       "      <td>A federal appeals court sided last year with N...</td>\n",
       "    </tr>\n",
       "    <tr>\n",
       "      <th>998</th>\n",
       "      <td>1496158861480312832</td>\n",
       "      <td>en</td>\n",
       "      <td>President Vladimir Putin asked parliament to a...</td>\n",
       "    </tr>\n",
       "    <tr>\n",
       "      <th>999</th>\n",
       "      <td>1496155030726000645</td>\n",
       "      <td>en</td>\n",
       "      <td>RT @MabintyQ: Thread: Over the past year I’ve ...</td>\n",
       "    </tr>\n",
       "  </tbody>\n",
       "</table>\n",
       "</div>"
      ],
      "text/plain": [
       "                      id lang  \\\n",
       "995  1496181006822514693   en   \n",
       "996  1496168427861549057   en   \n",
       "997  1496162638249738243   en   \n",
       "998  1496158861480312832   en   \n",
       "999  1496155030726000645   en   \n",
       "\n",
       "                                                  text  \n",
       "995  Iowa Gov. Kim Reynolds will deliver the GOP re...  \n",
       "996  Russians were glued to their TVs when Putin re...  \n",
       "997  A federal appeals court sided last year with N...  \n",
       "998  President Vladimir Putin asked parliament to a...  \n",
       "999  RT @MabintyQ: Thread: Over the past year I’ve ...  "
      ]
     },
     "execution_count": 79,
     "metadata": {},
     "output_type": "execute_result"
    }
   ],
   "source": [
    "tweets_df.tail() "
   ]
  },
  {
   "cell_type": "code",
   "execution_count": 82,
   "id": "8cd020f8",
   "metadata": {},
   "outputs": [
    {
     "data": {
      "text/plain": [
       "True"
      ]
     },
     "execution_count": 82,
     "metadata": {},
     "output_type": "execute_result"
    }
   ],
   "source": [
    "len(tweets_df[tweets_df == 'en']) == 1000"
   ]
  },
  {
   "cell_type": "code",
   "execution_count": 84,
   "id": "b5ffc68d",
   "metadata": {},
   "outputs": [
    {
     "data": {
      "text/html": [
       "<div>\n",
       "<style scoped>\n",
       "    .dataframe tbody tr th:only-of-type {\n",
       "        vertical-align: middle;\n",
       "    }\n",
       "\n",
       "    .dataframe tbody tr th {\n",
       "        vertical-align: top;\n",
       "    }\n",
       "\n",
       "    .dataframe thead th {\n",
       "        text-align: right;\n",
       "    }\n",
       "</style>\n",
       "<table border=\"1\" class=\"dataframe\">\n",
       "  <thead>\n",
       "    <tr style=\"text-align: right;\">\n",
       "      <th></th>\n",
       "      <th>id</th>\n",
       "      <th>lang</th>\n",
       "      <th>text</th>\n",
       "    </tr>\n",
       "  </thead>\n",
       "  <tbody>\n",
       "    <tr>\n",
       "      <th>0</th>\n",
       "      <td>1508441546634547204</td>\n",
       "      <td>NaN</td>\n",
       "      <td>Lynn Goldsmith, a renowned photographer, notes...</td>\n",
       "    </tr>\n",
       "    <tr>\n",
       "      <th>1</th>\n",
       "      <td>1508437770066399238</td>\n",
       "      <td>NaN</td>\n",
       "      <td>If Jan. 6 panel OKs the contempt resolution, t...</td>\n",
       "    </tr>\n",
       "    <tr>\n",
       "      <th>2</th>\n",
       "      <td>1508426447052058633</td>\n",
       "      <td>NaN</td>\n",
       "      <td>The Kremlin tamped down expectations Monday th...</td>\n",
       "    </tr>\n",
       "    <tr>\n",
       "      <th>3</th>\n",
       "      <td>1508341637306593288</td>\n",
       "      <td>NaN</td>\n",
       "      <td>Ukrainian President Volodymyr Zelenskyy said U...</td>\n",
       "    </tr>\n",
       "    <tr>\n",
       "      <th>4</th>\n",
       "      <td>1508263124004134914</td>\n",
       "      <td>NaN</td>\n",
       "      <td>Kyrylo Budanov, the head of Ukrainian military...</td>\n",
       "    </tr>\n",
       "    <tr>\n",
       "      <th>...</th>\n",
       "      <td>...</td>\n",
       "      <td>...</td>\n",
       "      <td>...</td>\n",
       "    </tr>\n",
       "    <tr>\n",
       "      <th>995</th>\n",
       "      <td>1496181006822514693</td>\n",
       "      <td>NaN</td>\n",
       "      <td>Iowa Gov. Kim Reynolds will deliver the GOP re...</td>\n",
       "    </tr>\n",
       "    <tr>\n",
       "      <th>996</th>\n",
       "      <td>1496168427861549057</td>\n",
       "      <td>NaN</td>\n",
       "      <td>Russians were glued to their TVs when Putin re...</td>\n",
       "    </tr>\n",
       "    <tr>\n",
       "      <th>997</th>\n",
       "      <td>1496162638249738243</td>\n",
       "      <td>NaN</td>\n",
       "      <td>A federal appeals court sided last year with N...</td>\n",
       "    </tr>\n",
       "    <tr>\n",
       "      <th>998</th>\n",
       "      <td>1496158861480312832</td>\n",
       "      <td>NaN</td>\n",
       "      <td>President Vladimir Putin asked parliament to a...</td>\n",
       "    </tr>\n",
       "    <tr>\n",
       "      <th>999</th>\n",
       "      <td>1496155030726000645</td>\n",
       "      <td>NaN</td>\n",
       "      <td>RT @MabintyQ: Thread: Over the past year I’ve ...</td>\n",
       "    </tr>\n",
       "  </tbody>\n",
       "</table>\n",
       "<p>1000 rows × 3 columns</p>\n",
       "</div>"
      ],
      "text/plain": [
       "                      id lang  \\\n",
       "0    1508441546634547204  NaN   \n",
       "1    1508437770066399238  NaN   \n",
       "2    1508426447052058633  NaN   \n",
       "3    1508341637306593288  NaN   \n",
       "4    1508263124004134914  NaN   \n",
       "..                   ...  ...   \n",
       "995  1496181006822514693  NaN   \n",
       "996  1496168427861549057  NaN   \n",
       "997  1496162638249738243  NaN   \n",
       "998  1496158861480312832  NaN   \n",
       "999  1496155030726000645  NaN   \n",
       "\n",
       "                                                  text  \n",
       "0    Lynn Goldsmith, a renowned photographer, notes...  \n",
       "1    If Jan. 6 panel OKs the contempt resolution, t...  \n",
       "2    The Kremlin tamped down expectations Monday th...  \n",
       "3    Ukrainian President Volodymyr Zelenskyy said U...  \n",
       "4    Kyrylo Budanov, the head of Ukrainian military...  \n",
       "..                                                 ...  \n",
       "995  Iowa Gov. Kim Reynolds will deliver the GOP re...  \n",
       "996  Russians were glued to their TVs when Putin re...  \n",
       "997  A federal appeals court sided last year with N...  \n",
       "998  President Vladimir Putin asked parliament to a...  \n",
       "999  RT @MabintyQ: Thread: Over the past year I’ve ...  \n",
       "\n",
       "[1000 rows x 3 columns]"
      ]
     },
     "execution_count": 84,
     "metadata": {},
     "output_type": "execute_result"
    }
   ],
   "source": [
    "tweets_df[tweets_df != 'en']"
   ]
  }
 ],
 "metadata": {
  "kernelspec": {
   "display_name": "Python 3 (ipykernel)",
   "language": "python",
   "name": "python3"
  },
  "language_info": {
   "codemirror_mode": {
    "name": "ipython",
    "version": 3
   },
   "file_extension": ".py",
   "mimetype": "text/x-python",
   "name": "python",
   "nbconvert_exporter": "python",
   "pygments_lexer": "ipython3",
   "version": "3.9.7"
  }
 },
 "nbformat": 4,
 "nbformat_minor": 5
}
