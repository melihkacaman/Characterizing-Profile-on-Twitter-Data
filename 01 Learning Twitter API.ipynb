{
 "cells": [
  {
   "cell_type": "markdown",
   "id": "0f02306d",
   "metadata": {},
   "source": [
    "# Imports "
   ]
  },
  {
   "cell_type": "code",
   "execution_count": 13,
   "id": "4c86ac20",
   "metadata": {},
   "outputs": [],
   "source": [
    "import tweepy "
   ]
  },
  {
   "cell_type": "markdown",
   "id": "4089192e",
   "metadata": {},
   "source": [
    "# Api Key and Constants "
   ]
  },
  {
   "cell_type": "code",
   "execution_count": 27,
   "id": "8c94d1e0",
   "metadata": {},
   "outputs": [],
   "source": [
    "API_KEY = 'B7Y17gCCAfTe515xuZwGhuVlH' \n",
    "API_KEY_SECRET = '1lGo5GPcilwKzNy4SVGbgleI285oTK0zF2TAAKbb69vj6PFu3n' \n",
    "BEARER_TOKEN = 'AAAAAAAAAAAAAAAAAAAAAKALawEAAAAAEv7yYYtpXWXx6fv24Q9I4DnzqMg%3DEtLytFqguYLOAE8aSrFVmkK28FWlTGlKJ9PutxDf0QgGsGg8sX'\n",
    "BEARER_TOKEN2 = 'AAAAAAAAAAAAAAAAAAAAAKALawEAAAAAswdCYqqlZc1l%2BY1nOh7zYn2GaW4%3DA6vVrRYXf8JtlKVkbdok2Ej5m174CQskMQi2MOL8fUaTdby5uL'\n",
    "ACCESS_TOKEN = '1440392138697547777-ZbNqj8Vz27k9mk4s009V76REekQpoY' \n",
    "ACCESS_TOKEN_SECRET = 'ik2qalQeHpdw5cbU6QNtqZl2HYnmDVRQ1cRPbv9WPpywu'"
   ]
  },
  {
   "cell_type": "markdown",
   "id": "71e9af62",
   "metadata": {},
   "source": [
    "# Initialize a client "
   ]
  },
  {
   "cell_type": "markdown",
   "id": "aee50373",
   "metadata": {},
   "source": [
    "## get Recent Topic based on a query "
   ]
  },
  {
   "cell_type": "code",
   "execution_count": 28,
   "id": "f0548b4c",
   "metadata": {},
   "outputs": [],
   "source": [
    "client = tweepy.Client(bearer_token=BEARER_TOKEN2) "
   ]
  },
  {
   "cell_type": "code",
   "execution_count": 30,
   "id": "9de66fe8",
   "metadata": {},
   "outputs": [
    {
     "data": {
      "text/plain": [
       "tweepy.client.Response"
      ]
     },
     "execution_count": 30,
     "metadata": {},
     "output_type": "execute_result"
    }
   ],
   "source": [
    "# place query is not available for us for now. because we haven't got an Accademic access to the API. \n",
    "query = 'politics -is:retweet'\n",
    "response = client.search_recent_tweets(query=query)\n",
    "type(response)"
   ]
  },
  {
   "cell_type": "code",
   "execution_count": 31,
   "id": "303c8080",
   "metadata": {},
   "outputs": [
    {
     "data": {
      "text/plain": [
       "Response(data=[<Tweet id=1507733910624833537 text='@RatanSharda55 @annamalai_k Best Wishes to Annamalai to storm the citadel of Anti Hindu Anti Women Anti Dalit Dravidian bastion of Tamil Nadu &amp; demolish the evil cult of #Periyar https://t.co/Fdb1sef3NO'>, <Tweet id=1507733905956294662 text='@AshleyRParker Ashley, as the old saying goes:\\n\\n(Geo)Politics makes for strange bedfellows.'>, <Tweet id=1507733886670807040 text='@FoxNews just fox working overtime to erode american politics for fun and profit'>, <Tweet id=1507733886436245515 text='My interest in politics is only limited to all the beautiful handloom sarees they wear 😄'>, <Tweet id=1507733878999375876 text='Can we just keep  RETWEETing  this, please? \\n\\nHawley attacked Ketanji Brown Jackson’s ‘alarming’ record on sex offenders. He agreed to an abuser getting only probation | The Independent https://t.co/nt2yIK2I8O'>, <Tweet id=1507733877879619584 text=\"Biden says 'we understand' Poland taking in Ukrainian refugees as thousands cross US southern border\\n\\nhttps://t.co/BGlCIFZ1rq\">, <Tweet id=1507733876008960005 text='around the world but especially in the @GOP party. This shows that all political workings/forms in 2022 need an overhaul especially countries rooted in #democracy because #politics of world leaders should be to benefit #humanity but they don’t benefit humanity at all.'>, <Tweet id=1507733875363000328 text='@leashless @KarlHeinzHasliP @rob_knight @crispy_smooth @Xeans @AaronFown This is simply not true.\\n\\nThe liberal school of SJ understood racism in terms of individual virtue.\\n\\nThe identity politics school explicitly rejects that. It is one of their MAIN THINGS. https://t.co/naXavNkSpk'>, <Tweet id=1507733875342340102 text='عامر لیاقت نے لکھا کہ عمران خان کی محبت میں ٹی وی کیرئیر چھوڑ دیا۔ میر شکیل الرحمن سے دور ہوا، گھر بیچ کر گھر چلایا؟ کیا کوئی خرید سکتا ہے مجھے؟ مگر آپ نے مجھے ضائع کردیا! انمول ہوں خان صاحب۔\\nhttps://t.co/cEXFV0mjLG\\n#AamirLiaquat #ImranKhan #PTIGovernment'>, <Tweet id=1507733871382740998 text='@kurteichenwald \"It would rob the west of the best surveillance \" Thats not true. All politics aside, the intel from Open Skies isn\\'t that great. And it would likely not be useful in this conflict. Plus Russia would not approve any route around Ukraine &amp; probably not approve any flights at all.'>], includes={}, errors=[], meta={'newest_id': '1507733910624833537', 'oldest_id': '1507733871382740998', 'result_count': 10, 'next_token': 'b26v89c19zqg8o3fpyqo74g61hnlvsfit1x2mbd43qzct'})"
      ]
     },
     "execution_count": 31,
     "metadata": {},
     "output_type": "execute_result"
    }
   ],
   "source": [
    "response"
   ]
  },
  {
   "cell_type": "markdown",
   "id": "3acf5ad4",
   "metadata": {},
   "source": [
    "## Get user's timeline "
   ]
  },
  {
   "cell_type": "code",
   "execution_count": 33,
   "id": "d345500a",
   "metadata": {},
   "outputs": [
    {
     "data": {
      "text/plain": [
       "Response(data=[<User id=2244994945 name=Twitter Dev username=TwitterDev>], includes={}, errors=[], meta={})"
      ]
     },
     "execution_count": 33,
     "metadata": {},
     "output_type": "execute_result"
    }
   ],
   "source": [
    "users = client.get_users(usernames=['twitterdev'])\n",
    "users"
   ]
  },
  {
   "cell_type": "code",
   "execution_count": 45,
   "id": "12a94de1",
   "metadata": {},
   "outputs": [
    {
     "data": {
      "text/plain": [
       "2244994945"
      ]
     },
     "execution_count": 45,
     "metadata": {},
     "output_type": "execute_result"
    }
   ],
   "source": [
    "user_id = users[0][0].id\n",
    "user_id"
   ]
  },
  {
   "cell_type": "code",
   "execution_count": 48,
   "id": "9095e52d",
   "metadata": {},
   "outputs": [],
   "source": [
    "response = client.get_users_tweets(id=user_id, tweet_fields=['lang'])"
   ]
  },
  {
   "cell_type": "code",
   "execution_count": 49,
   "id": "630f4e90",
   "metadata": {},
   "outputs": [
    {
     "name": "stdout",
     "output_type": "stream",
     "text": [
      "1507070437557096461\n",
      "en\n",
      "1506727406609920003\n",
      "en\n",
      "1506692831708004353\n",
      "en\n",
      "1504583305114447884\n",
      "en\n",
      "1504185738304311302\n",
      "en\n",
      "1503863303709286407\n",
      "en\n",
      "1503863301276827651\n",
      "en\n",
      "1502419093768617996\n",
      "en\n",
      "1502343607574880260\n",
      "en\n",
      "1501686770810900485\n",
      "en\n"
     ]
    }
   ],
   "source": [
    "for tweet in response.data: \n",
    "    print(tweet.id)\n",
    "    print(tweet.lang)"
   ]
  },
  {
   "cell_type": "code",
   "execution_count": null,
   "id": "61d15da4",
   "metadata": {},
   "outputs": [],
   "source": []
  },
  {
   "cell_type": "code",
   "execution_count": null,
   "id": "147f4765",
   "metadata": {},
   "outputs": [],
   "source": []
  }
 ],
 "metadata": {
  "kernelspec": {
   "display_name": "Python 3 (ipykernel)",
   "language": "python",
   "name": "python3"
  },
  "language_info": {
   "codemirror_mode": {
    "name": "ipython",
    "version": 3
   },
   "file_extension": ".py",
   "mimetype": "text/x-python",
   "name": "python",
   "nbconvert_exporter": "python",
   "pygments_lexer": "ipython3",
   "version": "3.9.7"
  }
 },
 "nbformat": 4,
 "nbformat_minor": 5
}
