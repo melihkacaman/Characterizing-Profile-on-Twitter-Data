{
 "cells": [
  {
   "cell_type": "markdown",
   "id": "0f02306d",
   "metadata": {},
   "source": [
    "# Imports "
   ]
  },
  {
   "cell_type": "code",
   "execution_count": 1,
   "id": "4c86ac20",
   "metadata": {},
   "outputs": [],
   "source": [
    "import tweepy "
   ]
  },
  {
   "cell_type": "markdown",
   "id": "4089192e",
   "metadata": {},
   "source": [
    "# Api Key and Constants "
   ]
  },
  {
   "cell_type": "code",
   "execution_count": 2,
   "id": "8c94d1e0",
   "metadata": {},
   "outputs": [],
   "source": [
    "API_KEY = 'B7Y17gCCAfTe515xuZwGhuVlH' \n",
    "API_KEY_SECRET = '1lGo5GPcilwKzNy4SVGbgleI285oTK0zF2TAAKbb69vj6PFu3n' \n",
    "BEARER_TOKEN = 'AAAAAAAAAAAAAAAAAAAAAKALawEAAAAAEv7yYYtpXWXx6fv24Q9I4DnzqMg%3DEtLytFqguYLOAE8aSrFVmkK28FWlTGlKJ9PutxDf0QgGsGg8sX'\n",
    "BEARER_TOKEN2 = 'AAAAAAAAAAAAAAAAAAAAAKALawEAAAAAswdCYqqlZc1l%2BY1nOh7zYn2GaW4%3DA6vVrRYXf8JtlKVkbdok2Ej5m174CQskMQi2MOL8fUaTdby5uL'\n",
    "ACCESS_TOKEN = '1440392138697547777-ZbNqj8Vz27k9mk4s009V76REekQpoY' \n",
    "ACCESS_TOKEN_SECRET = 'ik2qalQeHpdw5cbU6QNtqZl2HYnmDVRQ1cRPbv9WPpywu'"
   ]
  },
  {
   "cell_type": "markdown",
   "id": "71e9af62",
   "metadata": {},
   "source": [
    "# Initialize a client "
   ]
  },
  {
   "cell_type": "markdown",
   "id": "aee50373",
   "metadata": {},
   "source": [
    "## get Recent Topic based on a query "
   ]
  },
  {
   "cell_type": "code",
   "execution_count": 3,
   "id": "f0548b4c",
   "metadata": {},
   "outputs": [],
   "source": [
    "client = tweepy.Client(bearer_token=BEARER_TOKEN2) "
   ]
  },
  {
   "cell_type": "code",
   "execution_count": 4,
   "id": "9de66fe8",
   "metadata": {},
   "outputs": [
    {
     "data": {
      "text/plain": [
       "tweepy.client.Response"
      ]
     },
     "execution_count": 4,
     "metadata": {},
     "output_type": "execute_result"
    }
   ],
   "source": [
    "# place query is not available for us for now. because we haven't got an Accademic access to the API. \n",
    "query = 'politics -is:retweet'\n",
    "response = client.search_recent_tweets(query=query)\n",
    "type(response)"
   ]
  },
  {
   "cell_type": "code",
   "execution_count": 5,
   "id": "303c8080",
   "metadata": {},
   "outputs": [
    {
     "data": {
      "text/plain": [
       "Response(data=[<Tweet id=1508420349133787142 text='@Alyaalsultani Is there a particular example(s) where you think it’s politicised (do you perhaps mean in US politics?) and perhaps I can point you in the right direction. As far as my own experience it’s always been a central teaching right from the start of xianity esp amongst MENA Xians.'>, <Tweet id=1508420348026490880 text='@exavierpope @geoffpilkington This is why Will Smith hit Chris Rock.  Prove me wrong.\\n\\nhttps://t.co/pWjJ0OK4cp'>, <Tweet id=1508420345165856774 text=\"@GOPChairwoman He's got actual business to attend to.\\nPerformance politics is more of a #GQP thing.\">, <Tweet id=1508420343085637635 text='Read The Canadian Union, Canadian Politics Daily #UFCW ▸ https://t.co/VlyCBE6oZp'>, <Tweet id=1508420341244493831 text='ตู้คอนเทนเนอร์ขวาง รับม็อบทะลุฟ้าจัดกิจกรรมครบ1ปีสลายชุมนุม สกัดบุกทำเนียบ https://t.co/R3fgxbJToi'>, <Tweet id=1508420336865452034 text='@bonniemusambi @WilliamsRuto hautapata coz you are in a wrong party . politics are local'>, <Tweet id=1508420335871291400 text='@NinaHaase @dw_politics @EmilyCSherwin C.C.P. TELERIZOS\" , ONCE NOTICIAS\" Y DEMAS\" PSEUDO\" MEDIOS\" QUEZQUE\" INFORMATIVOS\" 🤪🙄\"MEXICANOS\"'>, <Tweet id=1508420334189527042 text='https://t.co/c1QQrBFUj6'>, <Tweet id=1508420333174497280 text='Dear, leave the dirty politics and enjoy some porn...plzz @hinaparvezbutt https://t.co/Gmk6NKhxCM'>, <Tweet id=1508420320918585345 text='@RealCandaceO https://t.co/6NDQrWkw9A\\nGive it a read you may just like it and see it also.'>], includes={}, errors=[], meta={'newest_id': '1508420349133787142', 'oldest_id': '1508420320918585345', 'result_count': 10, 'next_token': 'b26v89c19zqg8o3fpyqom3nmljgikw42a13trf6uc398d'})"
      ]
     },
     "execution_count": 5,
     "metadata": {},
     "output_type": "execute_result"
    }
   ],
   "source": [
    "response"
   ]
  },
  {
   "cell_type": "markdown",
   "id": "3acf5ad4",
   "metadata": {},
   "source": [
    "## Get user's timeline "
   ]
  },
  {
   "cell_type": "code",
   "execution_count": 6,
   "id": "d345500a",
   "metadata": {},
   "outputs": [
    {
     "data": {
      "text/plain": [
       "Response(data=[<User id=2244994945 name=Twitter Dev username=TwitterDev>], includes={}, errors=[], meta={})"
      ]
     },
     "execution_count": 6,
     "metadata": {},
     "output_type": "execute_result"
    }
   ],
   "source": [
    "users = client.get_users(usernames=['twitterdev'])\n",
    "users"
   ]
  },
  {
   "cell_type": "code",
   "execution_count": 7,
   "id": "12a94de1",
   "metadata": {},
   "outputs": [
    {
     "data": {
      "text/plain": [
       "2244994945"
      ]
     },
     "execution_count": 7,
     "metadata": {},
     "output_type": "execute_result"
    }
   ],
   "source": [
    "user_id = users[0][0].id\n",
    "user_id"
   ]
  },
  {
   "cell_type": "code",
   "execution_count": 8,
   "id": "9095e52d",
   "metadata": {},
   "outputs": [],
   "source": [
    "response = client.get_users_tweets(id=user_id, tweet_fields=['lang'])"
   ]
  },
  {
   "cell_type": "code",
   "execution_count": 9,
   "id": "630f4e90",
   "metadata": {},
   "outputs": [
    {
     "name": "stdout",
     "output_type": "stream",
     "text": [
      "1507070437557096461\n",
      "en\n",
      "1506727406609920003\n",
      "en\n",
      "1506692831708004353\n",
      "en\n",
      "1504583305114447884\n",
      "en\n",
      "1504185738304311302\n",
      "en\n",
      "1503863303709286407\n",
      "en\n",
      "1503863301276827651\n",
      "en\n",
      "1502419093768617996\n",
      "en\n",
      "1502343607574880260\n",
      "en\n",
      "1501686770810900485\n",
      "en\n"
     ]
    }
   ],
   "source": [
    "for tweet in response.data: \n",
    "    print(tweet.id)\n",
    "    print(tweet.lang)"
   ]
  },
  {
   "cell_type": "markdown",
   "id": "86ccf334",
   "metadata": {},
   "source": [
    "# Task 1: Get a user's timeline tweets"
   ]
  },
  {
   "cell_type": "code",
   "execution_count": 18,
   "id": "04303c48",
   "metadata": {},
   "outputs": [
    {
     "data": {
      "text/plain": [
       "Response(data=[<User id=7998482 name=USA TODAY Politics username=usatodayDC>], includes={}, errors=[], meta={})"
      ]
     },
     "execution_count": 18,
     "metadata": {},
     "output_type": "execute_result"
    }
   ],
   "source": [
    "users = client.get_users(usernames=['usatodayDC']) # @usatodayDC is an account that releases tweets about politics.   \n",
    "users "
   ]
  },
  {
   "cell_type": "code",
   "execution_count": 21,
   "id": "659916b6",
   "metadata": {},
   "outputs": [
    {
     "data": {
      "text/plain": [
       "7998482"
      ]
     },
     "execution_count": 21,
     "metadata": {},
     "output_type": "execute_result"
    }
   ],
   "source": [
    "user_id = users[0][0].id\n",
    "user_id"
   ]
  },
  {
   "cell_type": "code",
   "execution_count": 23,
   "id": "a4ed5b71",
   "metadata": {},
   "outputs": [],
   "source": [
    "response = client.get_users_tweets(id=user_id, max_results=100, tweet_fields=['lang'])"
   ]
  },
  {
   "cell_type": "code",
   "execution_count": 24,
   "id": "c07456f9",
   "metadata": {},
   "outputs": [
    {
     "data": {
      "text/plain": [
       "tweepy.client.Response"
      ]
     },
     "execution_count": 24,
     "metadata": {},
     "output_type": "execute_result"
    }
   ],
   "source": [
    "type(response)"
   ]
  },
  {
   "cell_type": "code",
   "execution_count": 26,
   "id": "de8e1a95",
   "metadata": {},
   "outputs": [
    {
     "data": {
      "text/plain": [
       "['__add__',\n",
       " '__class__',\n",
       " '__class_getitem__',\n",
       " '__contains__',\n",
       " '__delattr__',\n",
       " '__dir__',\n",
       " '__doc__',\n",
       " '__eq__',\n",
       " '__format__',\n",
       " '__ge__',\n",
       " '__getattribute__',\n",
       " '__getitem__',\n",
       " '__getnewargs__',\n",
       " '__gt__',\n",
       " '__hash__',\n",
       " '__init__',\n",
       " '__init_subclass__',\n",
       " '__iter__',\n",
       " '__le__',\n",
       " '__len__',\n",
       " '__lt__',\n",
       " '__module__',\n",
       " '__mul__',\n",
       " '__ne__',\n",
       " '__new__',\n",
       " '__reduce__',\n",
       " '__reduce_ex__',\n",
       " '__repr__',\n",
       " '__rmul__',\n",
       " '__setattr__',\n",
       " '__sizeof__',\n",
       " '__slots__',\n",
       " '__str__',\n",
       " '__subclasshook__',\n",
       " '_asdict',\n",
       " '_field_defaults',\n",
       " '_fields',\n",
       " '_make',\n",
       " '_replace',\n",
       " 'count',\n",
       " 'data',\n",
       " 'errors',\n",
       " 'includes',\n",
       " 'index',\n",
       " 'meta']"
      ]
     },
     "execution_count": 26,
     "metadata": {},
     "output_type": "execute_result"
    }
   ],
   "source": [
    "dir(response)"
   ]
  },
  {
   "cell_type": "code",
   "execution_count": 28,
   "id": "8f91aecb",
   "metadata": {},
   "outputs": [
    {
     "data": {
      "text/plain": [
       "[]"
      ]
     },
     "execution_count": 28,
     "metadata": {},
     "output_type": "execute_result"
    }
   ],
   "source": [
    "response.errors"
   ]
  },
  {
   "cell_type": "code",
   "execution_count": 30,
   "id": "483e9de5",
   "metadata": {},
   "outputs": [
    {
     "data": {
      "text/plain": [
       "list"
      ]
     },
     "execution_count": 30,
     "metadata": {},
     "output_type": "execute_result"
    }
   ],
   "source": [
    "type(response.data)"
   ]
  },
  {
   "cell_type": "code",
   "execution_count": 32,
   "id": "f5af9b15",
   "metadata": {},
   "outputs": [
    {
     "data": {
      "text/plain": [
       "100"
      ]
     },
     "execution_count": 32,
     "metadata": {},
     "output_type": "execute_result"
    }
   ],
   "source": [
    "len(response.data) # as max_results "
   ]
  },
  {
   "cell_type": "code",
   "execution_count": 39,
   "id": "27096934",
   "metadata": {},
   "outputs": [
    {
     "data": {
      "text/plain": [
       "tweepy.tweet.Tweet"
      ]
     },
     "execution_count": 39,
     "metadata": {},
     "output_type": "execute_result"
    }
   ],
   "source": [
    "type(response.data[1])"
   ]
  },
  {
   "cell_type": "code",
   "execution_count": 36,
   "id": "6359de15",
   "metadata": {},
   "outputs": [
    {
     "data": {
      "text/plain": [
       "<Tweet id=1508341637306593288 text='Ukrainian President Volodymyr Zelenskyy said Ukraine would consider declaring neutrality and offering security guarantees to Russia. Live updates.\\n\\n\\xa0\\xa0\\xa0\\xa0\\xa0\\xa0 https://t.co/zrP9vcjjH7'>"
      ]
     },
     "execution_count": 36,
     "metadata": {},
     "output_type": "execute_result"
    }
   ],
   "source": [
    "response.data[1]"
   ]
  },
  {
   "cell_type": "code",
   "execution_count": 37,
   "id": "aca8c8cf",
   "metadata": {},
   "outputs": [
    {
     "data": {
      "text/plain": [
       "1508341637306593288"
      ]
     },
     "execution_count": 37,
     "metadata": {},
     "output_type": "execute_result"
    }
   ],
   "source": [
    "response.data[1].id"
   ]
  },
  {
   "cell_type": "markdown",
   "id": "563b8461",
   "metadata": {},
   "source": [
    "# Task 2: Get more than 100 tweets "
   ]
  },
  {
   "cell_type": "code",
   "execution_count": 48,
   "id": "74435ad2",
   "metadata": {},
   "outputs": [],
   "source": [
    "tweet_list = [] \n",
    "for tweet in tweepy.Paginator(client.get_users_tweets, id=user_id, max_results=100, tweet_fields=['lang']).flatten(limit=1000): \n",
    "    tweet_list.append(tweet)"
   ]
  },
  {
   "cell_type": "code",
   "execution_count": 49,
   "id": "142ac8c7",
   "metadata": {},
   "outputs": [
    {
     "data": {
      "text/plain": [
       "<Tweet id=1508437770066399238 text='If Jan. 6 panel OKs the contempt resolution, the full House would have to vote before DOJ would consider criminal charges against Scavino, Navarro.\\n\\n\\xa0\\xa0\\xa0\\xa0\\xa0\\xa0 https://t.co/iOBZEhMxuu'>"
      ]
     },
     "execution_count": 49,
     "metadata": {},
     "output_type": "execute_result"
    }
   ],
   "source": [
    "tweet_list[1]"
   ]
  },
  {
   "cell_type": "markdown",
   "id": "65b5fede",
   "metadata": {},
   "source": []
  },
  {
   "cell_type": "code",
   "execution_count": null,
   "id": "e427cdcb",
   "metadata": {},
   "outputs": [],
   "source": []
  }
 ],
 "metadata": {
  "kernelspec": {
   "display_name": "Python 3 (ipykernel)",
   "language": "python",
   "name": "python3"
  },
  "language_info": {
   "codemirror_mode": {
    "name": "ipython",
    "version": 3
   },
   "file_extension": ".py",
   "mimetype": "text/x-python",
   "name": "python",
   "nbconvert_exporter": "python",
   "pygments_lexer": "ipython3",
   "version": "3.9.7"
  }
 },
 "nbformat": 4,
 "nbformat_minor": 5
}
