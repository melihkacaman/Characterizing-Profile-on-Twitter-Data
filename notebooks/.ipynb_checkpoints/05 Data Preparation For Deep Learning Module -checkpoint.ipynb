{
 "cells": [
  {
   "cell_type": "markdown",
   "id": "3b306040",
   "metadata": {},
   "source": [
    "# Imports "
   ]
  },
  {
   "cell_type": "code",
   "execution_count": 1,
   "id": "ec494901",
   "metadata": {},
   "outputs": [],
   "source": [
    "import pandas as pd \n",
    "import numpy as np \n",
    "import matplotlib.pyplot as plt "
   ]
  },
  {
   "cell_type": "markdown",
   "id": "f9ff4b4f",
   "metadata": {},
   "source": [
    "# Constants "
   ]
  },
  {
   "cell_type": "code",
   "execution_count": 7,
   "id": "b74ddb75",
   "metadata": {},
   "outputs": [],
   "source": [
    "CLASS_VARIABLES = {\n",
    "    \"FITNESS\" : 0, \n",
    "    \"SPORT\": 1,\n",
    "    \"POLITICS\" : 2, \n",
    "    \"TECHNOLOGY\": 3, \n",
    "    \"FOOD\": 4, \n",
    "    \"MAGAZINE\": 5, \n",
    "}"
   ]
  },
  {
   "cell_type": "markdown",
   "id": "e9c16f3f",
   "metadata": {},
   "source": [
    "# Get the Data"
   ]
  },
  {
   "cell_type": "code",
   "execution_count": 3,
   "id": "56b502d0",
   "metadata": {},
   "outputs": [],
   "source": [
    "fitness_data = pd.read_csv(\"../datasets/fitnes-health_usa.csv\")\n",
    "sport_data = pd.read_csv(\"../datasets/sport_usa.csv\") \n",
    "politicy_data = pd.read_csv(\"../datasets/politics_usa.csv\") \n",
    "technology_data = pd.read_csv(\"../datasets/technology_usa.csv\") \n",
    "food_data = pd.read_csv(\"../datasets/food_usa.csv\") \n",
    "magazine_data = pd.read_csv(\"../datasets/magazine_usa.csv\") "
   ]
  },
  {
   "cell_type": "code",
   "execution_count": 4,
   "id": "04af47ac",
   "metadata": {},
   "outputs": [
    {
     "data": {
      "text/plain": [
       "(4665, 4)"
      ]
     },
     "execution_count": 4,
     "metadata": {},
     "output_type": "execute_result"
    }
   ],
   "source": [
    "fitness_data.shape"
   ]
  },
  {
   "cell_type": "code",
   "execution_count": 5,
   "id": "8c90f29b",
   "metadata": {},
   "outputs": [
    {
     "data": {
      "text/html": [
       "<div>\n",
       "<style scoped>\n",
       "    .dataframe tbody tr th:only-of-type {\n",
       "        vertical-align: middle;\n",
       "    }\n",
       "\n",
       "    .dataframe tbody tr th {\n",
       "        vertical-align: top;\n",
       "    }\n",
       "\n",
       "    .dataframe thead th {\n",
       "        text-align: right;\n",
       "    }\n",
       "</style>\n",
       "<table border=\"1\" class=\"dataframe\">\n",
       "  <thead>\n",
       "    <tr style=\"text-align: right;\">\n",
       "      <th></th>\n",
       "      <th>Unnamed: 0</th>\n",
       "      <th>tweet_id</th>\n",
       "      <th>text</th>\n",
       "      <th>source</th>\n",
       "    </tr>\n",
       "  </thead>\n",
       "  <tbody>\n",
       "    <tr>\n",
       "      <th>0</th>\n",
       "      <td>0</td>\n",
       "      <td>1517156201401884672</td>\n",
       "      <td>We know that effectively exercising your legs ...</td>\n",
       "      <td>AnytimeFitness</td>\n",
       "    </tr>\n",
       "    <tr>\n",
       "      <th>1</th>\n",
       "      <td>1</td>\n",
       "      <td>1516795896624816138</td>\n",
       "      <td>Stressed out? 😩\\r\\nTired? 😴\\r\\nWorn down? 😰\\r\\...</td>\n",
       "      <td>AnytimeFitness</td>\n",
       "    </tr>\n",
       "    <tr>\n",
       "      <th>2</th>\n",
       "      <td>2</td>\n",
       "      <td>1516430290935296002</td>\n",
       "      <td>Time to get rockin' and *foam* rollin' ! Last ...</td>\n",
       "      <td>AnytimeFitness</td>\n",
       "    </tr>\n",
       "    <tr>\n",
       "      <th>3</th>\n",
       "      <td>3</td>\n",
       "      <td>1516031104242831362</td>\n",
       "      <td>@that_zach_berg Hi Zach, can you please DM us?...</td>\n",
       "      <td>AnytimeFitness</td>\n",
       "    </tr>\n",
       "    <tr>\n",
       "      <th>4</th>\n",
       "      <td>4</td>\n",
       "      <td>1516030789586231301</td>\n",
       "      <td>@iam_rahulsingh @vikasjain1977 Hi, thank you f...</td>\n",
       "      <td>AnytimeFitness</td>\n",
       "    </tr>\n",
       "  </tbody>\n",
       "</table>\n",
       "</div>"
      ],
      "text/plain": [
       "   Unnamed: 0             tweet_id  \\\n",
       "0           0  1517156201401884672   \n",
       "1           1  1516795896624816138   \n",
       "2           2  1516430290935296002   \n",
       "3           3  1516031104242831362   \n",
       "4           4  1516030789586231301   \n",
       "\n",
       "                                                text          source  \n",
       "0  We know that effectively exercising your legs ...  AnytimeFitness  \n",
       "1  Stressed out? 😩\\r\\nTired? 😴\\r\\nWorn down? 😰\\r\\...  AnytimeFitness  \n",
       "2  Time to get rockin' and *foam* rollin' ! Last ...  AnytimeFitness  \n",
       "3  @that_zach_berg Hi Zach, can you please DM us?...  AnytimeFitness  \n",
       "4  @iam_rahulsingh @vikasjain1977 Hi, thank you f...  AnytimeFitness  "
      ]
     },
     "execution_count": 5,
     "metadata": {},
     "output_type": "execute_result"
    }
   ],
   "source": [
    "fitness_data.head() "
   ]
  },
  {
   "cell_type": "code",
   "execution_count": 15,
   "id": "720cd9fb",
   "metadata": {},
   "outputs": [],
   "source": [
    "fitness_data[\"target\"] = CLASS_VARIABLES[\"FITNESS\"]\n",
    "sport_data[\"target\"] = CLASS_VARIABLES[\"SPORT\"] \n",
    "politicy_data[\"target\"] = CLASS_VARIABLES[\"POLITICS\"] \n",
    "technology_data[\"target\"] = CLASS_VARIABLES[\"TECHNOLOGY\"] \n",
    "food_data[\"target\"] = CLASS_VARIABLES[\"FOOD\"] \n",
    "magazine_data[\"target\"] = CLASS_VARIABLES[\"MAGAZINE\"]  "
   ]
  },
  {
   "cell_type": "code",
   "execution_count": 16,
   "id": "c43925bd",
   "metadata": {},
   "outputs": [
    {
     "data": {
      "text/html": [
       "<div>\n",
       "<style scoped>\n",
       "    .dataframe tbody tr th:only-of-type {\n",
       "        vertical-align: middle;\n",
       "    }\n",
       "\n",
       "    .dataframe tbody tr th {\n",
       "        vertical-align: top;\n",
       "    }\n",
       "\n",
       "    .dataframe thead th {\n",
       "        text-align: right;\n",
       "    }\n",
       "</style>\n",
       "<table border=\"1\" class=\"dataframe\">\n",
       "  <thead>\n",
       "    <tr style=\"text-align: right;\">\n",
       "      <th></th>\n",
       "      <th>Unnamed: 0</th>\n",
       "      <th>tweet_id</th>\n",
       "      <th>text</th>\n",
       "      <th>source</th>\n",
       "      <th>target</th>\n",
       "    </tr>\n",
       "  </thead>\n",
       "  <tbody>\n",
       "    <tr>\n",
       "      <th>0</th>\n",
       "      <td>0</td>\n",
       "      <td>1516250242647306256</td>\n",
       "      <td>Word on the street is #TheFlightAttendant pref...</td>\n",
       "      <td>OKMagazine</td>\n",
       "      <td>5</td>\n",
       "    </tr>\n",
       "    <tr>\n",
       "      <th>1</th>\n",
       "      <td>1</td>\n",
       "      <td>1516235143538692102</td>\n",
       "      <td>Who is #KathieLeeGifford's daughter Cassidy? T...</td>\n",
       "      <td>OKMagazine</td>\n",
       "      <td>5</td>\n",
       "    </tr>\n",
       "    <tr>\n",
       "      <th>2</th>\n",
       "      <td>2</td>\n",
       "      <td>1516220047399821319</td>\n",
       "      <td>Internet trolls are having a field day at #Jad...</td>\n",
       "      <td>OKMagazine</td>\n",
       "      <td>5</td>\n",
       "    </tr>\n",
       "    <tr>\n",
       "      <th>3</th>\n",
       "      <td>3</td>\n",
       "      <td>1516212488852889605</td>\n",
       "      <td>These stars know how to stay in the spotlight!...</td>\n",
       "      <td>OKMagazine</td>\n",
       "      <td>5</td>\n",
       "    </tr>\n",
       "    <tr>\n",
       "      <th>4</th>\n",
       "      <td>4</td>\n",
       "      <td>1516204958198153220</td>\n",
       "      <td>Relationship on the rocks! #CaseyAffleck &amp;amp;...</td>\n",
       "      <td>OKMagazine</td>\n",
       "      <td>5</td>\n",
       "    </tr>\n",
       "  </tbody>\n",
       "</table>\n",
       "</div>"
      ],
      "text/plain": [
       "   Unnamed: 0             tweet_id  \\\n",
       "0           0  1516250242647306256   \n",
       "1           1  1516235143538692102   \n",
       "2           2  1516220047399821319   \n",
       "3           3  1516212488852889605   \n",
       "4           4  1516204958198153220   \n",
       "\n",
       "                                                text      source  target  \n",
       "0  Word on the street is #TheFlightAttendant pref...  OKMagazine       5  \n",
       "1  Who is #KathieLeeGifford's daughter Cassidy? T...  OKMagazine       5  \n",
       "2  Internet trolls are having a field day at #Jad...  OKMagazine       5  \n",
       "3  These stars know how to stay in the spotlight!...  OKMagazine       5  \n",
       "4  Relationship on the rocks! #CaseyAffleck &amp;...  OKMagazine       5  "
      ]
     },
     "execution_count": 16,
     "metadata": {},
     "output_type": "execute_result"
    }
   ],
   "source": [
    "magazine_data.head() "
   ]
  },
  {
   "cell_type": "code",
   "execution_count": 17,
   "id": "378ed068",
   "metadata": {},
   "outputs": [
    {
     "data": {
      "text/html": [
       "<div>\n",
       "<style scoped>\n",
       "    .dataframe tbody tr th:only-of-type {\n",
       "        vertical-align: middle;\n",
       "    }\n",
       "\n",
       "    .dataframe tbody tr th {\n",
       "        vertical-align: top;\n",
       "    }\n",
       "\n",
       "    .dataframe thead th {\n",
       "        text-align: right;\n",
       "    }\n",
       "</style>\n",
       "<table border=\"1\" class=\"dataframe\">\n",
       "  <thead>\n",
       "    <tr style=\"text-align: right;\">\n",
       "      <th></th>\n",
       "      <th>Unnamed: 0</th>\n",
       "      <th>tweet_id</th>\n",
       "      <th>text</th>\n",
       "      <th>source</th>\n",
       "      <th>target</th>\n",
       "    </tr>\n",
       "  </thead>\n",
       "  <tbody>\n",
       "    <tr>\n",
       "      <th>0</th>\n",
       "      <td>0</td>\n",
       "      <td>1515019416299315201</td>\n",
       "      <td>Mike Bossy, one of hockey's most prolific goal...</td>\n",
       "      <td>espn</td>\n",
       "      <td>1</td>\n",
       "    </tr>\n",
       "    <tr>\n",
       "      <th>1</th>\n",
       "      <td>1</td>\n",
       "      <td>1515008964932603907</td>\n",
       "      <td>Jackie Robinson Way 🙌 #jackie42\\r\\n\\r\\n(via @M...</td>\n",
       "      <td>espn</td>\n",
       "      <td>1</td>\n",
       "    </tr>\n",
       "    <tr>\n",
       "      <th>2</th>\n",
       "      <td>2</td>\n",
       "      <td>1515005714560860163</td>\n",
       "      <td>Will James Harden show up this postseason?\\r\\n...</td>\n",
       "      <td>espn</td>\n",
       "      <td>1</td>\n",
       "    </tr>\n",
       "    <tr>\n",
       "      <th>3</th>\n",
       "      <td>3</td>\n",
       "      <td>1515003597133598722</td>\n",
       "      <td>Clippers star Paul George has entered the leag...</td>\n",
       "      <td>espn</td>\n",
       "      <td>1</td>\n",
       "    </tr>\n",
       "    <tr>\n",
       "      <th>4</th>\n",
       "      <td>4</td>\n",
       "      <td>1514988865202925572</td>\n",
       "      <td>RT @DickieV: It was RING THE BELL TIME ! Yes i...</td>\n",
       "      <td>espn</td>\n",
       "      <td>1</td>\n",
       "    </tr>\n",
       "  </tbody>\n",
       "</table>\n",
       "</div>"
      ],
      "text/plain": [
       "   Unnamed: 0             tweet_id  \\\n",
       "0           0  1515019416299315201   \n",
       "1           1  1515008964932603907   \n",
       "2           2  1515005714560860163   \n",
       "3           3  1515003597133598722   \n",
       "4           4  1514988865202925572   \n",
       "\n",
       "                                                text source  target  \n",
       "0  Mike Bossy, one of hockey's most prolific goal...   espn       1  \n",
       "1  Jackie Robinson Way 🙌 #jackie42\\r\\n\\r\\n(via @M...   espn       1  \n",
       "2  Will James Harden show up this postseason?\\r\\n...   espn       1  \n",
       "3  Clippers star Paul George has entered the leag...   espn       1  \n",
       "4  RT @DickieV: It was RING THE BELL TIME ! Yes i...   espn       1  "
      ]
     },
     "execution_count": 17,
     "metadata": {},
     "output_type": "execute_result"
    }
   ],
   "source": [
    "sport_data.head() "
   ]
  },
  {
   "cell_type": "code",
   "execution_count": 21,
   "id": "cb3dbd7f",
   "metadata": {},
   "outputs": [
    {
     "data": {
      "text/html": [
       "<div>\n",
       "<style scoped>\n",
       "    .dataframe tbody tr th:only-of-type {\n",
       "        vertical-align: middle;\n",
       "    }\n",
       "\n",
       "    .dataframe tbody tr th {\n",
       "        vertical-align: top;\n",
       "    }\n",
       "\n",
       "    .dataframe thead th {\n",
       "        text-align: right;\n",
       "    }\n",
       "</style>\n",
       "<table border=\"1\" class=\"dataframe\">\n",
       "  <thead>\n",
       "    <tr style=\"text-align: right;\">\n",
       "      <th></th>\n",
       "      <th>Unnamed: 0</th>\n",
       "      <th>tweet_id</th>\n",
       "      <th>text</th>\n",
       "      <th>source</th>\n",
       "      <th>target</th>\n",
       "    </tr>\n",
       "  </thead>\n",
       "  <tbody>\n",
       "    <tr>\n",
       "      <th>0</th>\n",
       "      <td>0</td>\n",
       "      <td>1517156201401884672</td>\n",
       "      <td>We know that effectively exercising your legs ...</td>\n",
       "      <td>AnytimeFitness</td>\n",
       "      <td>0</td>\n",
       "    </tr>\n",
       "    <tr>\n",
       "      <th>1</th>\n",
       "      <td>1</td>\n",
       "      <td>1516795896624816138</td>\n",
       "      <td>Stressed out? 😩\\r\\nTired? 😴\\r\\nWorn down? 😰\\r\\...</td>\n",
       "      <td>AnytimeFitness</td>\n",
       "      <td>0</td>\n",
       "    </tr>\n",
       "    <tr>\n",
       "      <th>2</th>\n",
       "      <td>2</td>\n",
       "      <td>1516430290935296002</td>\n",
       "      <td>Time to get rockin' and *foam* rollin' ! Last ...</td>\n",
       "      <td>AnytimeFitness</td>\n",
       "      <td>0</td>\n",
       "    </tr>\n",
       "    <tr>\n",
       "      <th>3</th>\n",
       "      <td>3</td>\n",
       "      <td>1516031104242831362</td>\n",
       "      <td>@that_zach_berg Hi Zach, can you please DM us?...</td>\n",
       "      <td>AnytimeFitness</td>\n",
       "      <td>0</td>\n",
       "    </tr>\n",
       "    <tr>\n",
       "      <th>4</th>\n",
       "      <td>4</td>\n",
       "      <td>1516030789586231301</td>\n",
       "      <td>@iam_rahulsingh @vikasjain1977 Hi, thank you f...</td>\n",
       "      <td>AnytimeFitness</td>\n",
       "      <td>0</td>\n",
       "    </tr>\n",
       "  </tbody>\n",
       "</table>\n",
       "</div>"
      ],
      "text/plain": [
       "   Unnamed: 0             tweet_id  \\\n",
       "0           0  1517156201401884672   \n",
       "1           1  1516795896624816138   \n",
       "2           2  1516430290935296002   \n",
       "3           3  1516031104242831362   \n",
       "4           4  1516030789586231301   \n",
       "\n",
       "                                                text          source  target  \n",
       "0  We know that effectively exercising your legs ...  AnytimeFitness       0  \n",
       "1  Stressed out? 😩\\r\\nTired? 😴\\r\\nWorn down? 😰\\r\\...  AnytimeFitness       0  \n",
       "2  Time to get rockin' and *foam* rollin' ! Last ...  AnytimeFitness       0  \n",
       "3  @that_zach_berg Hi Zach, can you please DM us?...  AnytimeFitness       0  \n",
       "4  @iam_rahulsingh @vikasjain1977 Hi, thank you f...  AnytimeFitness       0  "
      ]
     },
     "execution_count": 21,
     "metadata": {},
     "output_type": "execute_result"
    }
   ],
   "source": [
    "data = pd.concat([fitness_data, sport_data, politicy_data, food_data, magazine_data, technology_data], axis=0)\n",
    "data.head()  "
   ]
  },
  {
   "cell_type": "code",
   "execution_count": 23,
   "id": "e6eff594",
   "metadata": {},
   "outputs": [
    {
     "data": {
      "text/plain": [
       "3    4976\n",
       "2    4968\n",
       "5    4954\n",
       "4    4881\n",
       "1    4829\n",
       "0    4665\n",
       "Name: target, dtype: int64"
      ]
     },
     "execution_count": 23,
     "metadata": {},
     "output_type": "execute_result"
    }
   ],
   "source": [
    "data.target.value_counts() "
   ]
  },
  {
   "cell_type": "code",
   "execution_count": 25,
   "id": "db03888d",
   "metadata": {},
   "outputs": [],
   "source": [
    "data[[\"text\", \"target\"]].to_csv(\"../datasets/deep_data_merged_all_class.csv\", index=True)"
   ]
  },
  {
   "cell_type": "code",
   "execution_count": null,
   "id": "9fec2559",
   "metadata": {},
   "outputs": [],
   "source": []
  }
 ],
 "metadata": {
  "kernelspec": {
   "display_name": "Python 3 (ipykernel)",
   "language": "python",
   "name": "python3"
  },
  "language_info": {
   "codemirror_mode": {
    "name": "ipython",
    "version": 3
   },
   "file_extension": ".py",
   "mimetype": "text/x-python",
   "name": "python",
   "nbconvert_exporter": "python",
   "pygments_lexer": "ipython3",
   "version": "3.9.7"
  },
  "vscode": {
   "interpreter": {
    "hash": "9059e48bf3b0ccbf418267d63bd69884bf8e25702a60f044a5610720066f9972"
   }
  }
 },
 "nbformat": 4,
 "nbformat_minor": 5
}
