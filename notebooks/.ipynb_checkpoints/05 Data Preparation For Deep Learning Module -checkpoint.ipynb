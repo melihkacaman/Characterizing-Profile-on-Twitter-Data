{
 "cells": [
  {
   "cell_type": "code",
   "execution_count": 1,
   "id": "ec494901",
   "metadata": {},
   "outputs": [],
   "source": [
    "import pandas as pd \n",
    "import numpy as np \n",
    "import matplotlib.pyplot as plt "
   ]
  },
  {
   "cell_type": "markdown",
   "id": "ab65cbab",
   "metadata": {},
   "source": [
    "# Get the Data"
   ]
  },
  {
   "cell_type": "code",
   "execution_count": 5,
   "id": "05d02cff",
   "metadata": {},
   "outputs": [],
   "source": [
    "collected_food = pd.read_csv(\"../datasets/food_usa.csv\") \n",
    "collected_health = pd.read_csv(\"../datasets/fitnes-health_usa.csv\") \n",
    "collected_magazine = pd.read_csv(\"../datasets/magazine_usa.csv\") \n",
    "collected_sport = pd.read_csv(\"../datasets/sport_usa.csv\") \n",
    "collected_technology = pd.read_csv(\"../datasets/technology_usa.csv\")\n",
    "collected_politicy = pd.read_csv(\"../datasets/politics_usa.csv\")"
   ]
  },
  {
   "cell_type": "code",
   "execution_count": 6,
   "id": "0d6249c5",
   "metadata": {},
   "outputs": [
    {
     "data": {
      "text/plain": [
       "(4881, 4)"
      ]
     },
     "execution_count": 6,
     "metadata": {},
     "output_type": "execute_result"
    }
   ],
   "source": [
    "collected_food.shape"
   ]
  },
  {
   "cell_type": "code",
   "execution_count": 7,
   "id": "5f0e2b63",
   "metadata": {},
   "outputs": [
    {
     "data": {
      "text/plain": [
       "(4968, 4)"
      ]
     },
     "execution_count": 7,
     "metadata": {},
     "output_type": "execute_result"
    }
   ],
   "source": [
    "collected_politicy.shape"
   ]
  },
  {
   "cell_type": "code",
   "execution_count": 8,
   "id": "cde151a7",
   "metadata": {},
   "outputs": [
    {
     "data": {
      "text/html": [
       "<div>\n",
       "<style scoped>\n",
       "    .dataframe tbody tr th:only-of-type {\n",
       "        vertical-align: middle;\n",
       "    }\n",
       "\n",
       "    .dataframe tbody tr th {\n",
       "        vertical-align: top;\n",
       "    }\n",
       "\n",
       "    .dataframe thead th {\n",
       "        text-align: right;\n",
       "    }\n",
       "</style>\n",
       "<table border=\"1\" class=\"dataframe\">\n",
       "  <thead>\n",
       "    <tr style=\"text-align: right;\">\n",
       "      <th></th>\n",
       "      <th>Unnamed: 0</th>\n",
       "      <th>tweet_id</th>\n",
       "      <th>text</th>\n",
       "      <th>source</th>\n",
       "    </tr>\n",
       "  </thead>\n",
       "  <tbody>\n",
       "    <tr>\n",
       "      <th>0</th>\n",
       "      <td>0</td>\n",
       "      <td>1516326752834002944</td>\n",
       "      <td>A reminder that delivery app restaurants aren'...</td>\n",
       "      <td>foodandwine</td>\n",
       "    </tr>\n",
       "    <tr>\n",
       "      <th>1</th>\n",
       "      <td>1</td>\n",
       "      <td>1516318179894640641</td>\n",
       "      <td>Braised chicken legs, soy sauce, vinegar, blac...</td>\n",
       "      <td>foodandwine</td>\n",
       "    </tr>\n",
       "    <tr>\n",
       "      <th>2</th>\n",
       "      <td>2</td>\n",
       "      <td>1516311648889417728</td>\n",
       "      <td>Muffin tins are great for meal prepping indivi...</td>\n",
       "      <td>foodandwine</td>\n",
       "    </tr>\n",
       "    <tr>\n",
       "      <th>3</th>\n",
       "      <td>3</td>\n",
       "      <td>1516296543791456260</td>\n",
       "      <td>We tested everything from spicy dill pickle fl...</td>\n",
       "      <td>foodandwine</td>\n",
       "    </tr>\n",
       "    <tr>\n",
       "      <th>4</th>\n",
       "      <td>4</td>\n",
       "      <td>1516290031522127876</td>\n",
       "      <td>Is eating a regular Big Mac the secret to a lo...</td>\n",
       "      <td>foodandwine</td>\n",
       "    </tr>\n",
       "  </tbody>\n",
       "</table>\n",
       "</div>"
      ],
      "text/plain": [
       "   Unnamed: 0             tweet_id  \\\n",
       "0           0  1516326752834002944   \n",
       "1           1  1516318179894640641   \n",
       "2           2  1516311648889417728   \n",
       "3           3  1516296543791456260   \n",
       "4           4  1516290031522127876   \n",
       "\n",
       "                                                text       source  \n",
       "0  A reminder that delivery app restaurants aren'...  foodandwine  \n",
       "1  Braised chicken legs, soy sauce, vinegar, blac...  foodandwine  \n",
       "2  Muffin tins are great for meal prepping indivi...  foodandwine  \n",
       "3  We tested everything from spicy dill pickle fl...  foodandwine  \n",
       "4  Is eating a regular Big Mac the secret to a lo...  foodandwine  "
      ]
     },
     "execution_count": 8,
     "metadata": {},
     "output_type": "execute_result"
    }
   ],
   "source": [
    "collected_food.head() "
   ]
  },
  {
   "cell_type": "code",
   "execution_count": null,
   "id": "77b66290",
   "metadata": {},
   "outputs": [],
   "source": [
    "# concat \n"
   ]
  }
 ],
 "metadata": {
  "kernelspec": {
   "display_name": "Python 3 (ipykernel)",
   "language": "python",
   "name": "python3"
  },
  "language_info": {
   "codemirror_mode": {
    "name": "ipython",
    "version": 3
   },
   "file_extension": ".py",
   "mimetype": "text/x-python",
   "name": "python",
   "nbconvert_exporter": "python",
   "pygments_lexer": "ipython3",
   "version": "3.9.7"
  },
  "vscode": {
   "interpreter": {
    "hash": "0a54084e6b208ee8d1ce3989ffc20924477a5f55f5a43e22e699a6741623861e"
   }
  }
 },
 "nbformat": 4,
 "nbformat_minor": 5
}
