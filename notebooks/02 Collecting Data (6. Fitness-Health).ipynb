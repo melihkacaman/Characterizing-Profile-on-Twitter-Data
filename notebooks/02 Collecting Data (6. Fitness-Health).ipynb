{
 "cells": [
  {
   "cell_type": "code",
   "execution_count": 1,
   "id": "938ee210",
   "metadata": {},
   "outputs": [],
   "source": [
    "import pandas as pd \n",
    "import numpy as np \n",
    "import tweepy as tw "
   ]
  },
  {
   "cell_type": "code",
   "execution_count": 2,
   "id": "5e58d6d6",
   "metadata": {},
   "outputs": [],
   "source": [
    "API_KEY = 'B7Y17gCCAfTe515xuZwGhuVlH' \n",
    "API_KEY_SECRET = '1lGo5GPcilwKzNy4SVGbgleI285oTK0zF2TAAKbb69vj6PFu3n' \n",
    "BEARER_TOKEN = 'AAAAAAAAAAAAAAAAAAAAAKALawEAAAAAEv7yYYtpXWXx6fv24Q9I4DnzqMg%3DEtLytFqguYLOAE8aSrFVmkK28FWlTGlKJ9PutxDf0QgGsGg8sX'\n",
    "BEARER_TOKEN2 = 'AAAAAAAAAAAAAAAAAAAAAKALawEAAAAAswdCYqqlZc1l%2BY1nOh7zYn2GaW4%3DA6vVrRYXf8JtlKVkbdok2Ej5m174CQskMQi2MOL8fUaTdby5uL'\n",
    "ACCESS_TOKEN = '1440392138697547777-ZbNqj8Vz27k9mk4s009V76REekQpoY' \n",
    "ACCESS_TOKEN_SECRET = 'ik2qalQeHpdw5cbU6QNtqZl2HYnmDVRQ1cRPbv9WPpywu'"
   ]
  },
  {
   "cell_type": "code",
   "execution_count": 3,
   "id": "d372c267",
   "metadata": {},
   "outputs": [],
   "source": [
    "client = tw.Client(bearer_token=BEARER_TOKEN2) "
   ]
  },
  {
   "cell_type": "code",
   "execution_count": 4,
   "id": "f82572c7",
   "metadata": {},
   "outputs": [
    {
     "data": {
      "text/plain": [
       "['AnytimeFitness',\n",
       " 'MensHealthMag',\n",
       " 'Bodybuildingcom',\n",
       " 'WomensHealthMag',\n",
       " 'clubindustry']"
      ]
     },
     "execution_count": 4,
     "metadata": {},
     "output_type": "execute_result"
    }
   ],
   "source": [
    "user_names = ['AnytimeFitness', 'MensHealthMag', 'Bodybuildingcom', 'WomensHealthMag', 'clubindustry'] \n",
    "user_names"
   ]
  },
  {
   "cell_type": "code",
   "execution_count": 5,
   "id": "30f55158",
   "metadata": {},
   "outputs": [
    {
     "data": {
      "text/plain": [
       "Response(data=[<User id=18488763 name=Anytime Fitness username=AnytimeFitness>, <User id=25093616 name=Men's Health Mag username=MensHealthMag>, <User id=25234311 name=Bodybuilding.com username=Bodybuildingcom>, <User id=25087685 name=Women's Health username=WomensHealthMag>, <User id=76359660 name=Club Industry username=clubindustry>], includes={}, errors=[], meta={})"
      ]
     },
     "execution_count": 5,
     "metadata": {},
     "output_type": "execute_result"
    }
   ],
   "source": [
    "users = client.get_users(usernames=user_names)\n",
    "users"
   ]
  },
  {
   "cell_type": "code",
   "execution_count": 6,
   "id": "952b08d2",
   "metadata": {},
   "outputs": [
    {
     "data": {
      "text/plain": [
       "18488763"
      ]
     },
     "execution_count": 6,
     "metadata": {},
     "output_type": "execute_result"
    }
   ],
   "source": [
    "users.data[0].id"
   ]
  },
  {
   "cell_type": "code",
   "execution_count": 7,
   "id": "ee1fc7f9",
   "metadata": {},
   "outputs": [],
   "source": [
    "tweet_group_list = []\n",
    "for user in users.data: \n",
    "    tweet_list = [] \n",
    "    for tweet in tw.Paginator(client.get_users_tweets, id=user.id, max_results=100, tweet_fields=['lang']).flatten(limit=1000): \n",
    "        if tweet.lang == 'en' or tweet.lang == 'EN': \n",
    "            tweet_list.append(tweet)\n",
    "    \n",
    "    tweet_group_list.append(tweet_list)        "
   ]
  },
  {
   "cell_type": "code",
   "execution_count": 8,
   "id": "350c04a4",
   "metadata": {},
   "outputs": [
    {
     "data": {
      "text/plain": [
       "5"
      ]
     },
     "execution_count": 8,
     "metadata": {},
     "output_type": "execute_result"
    }
   ],
   "source": [
    "len(tweet_group_list)"
   ]
  },
  {
   "cell_type": "code",
   "execution_count": 9,
   "id": "75ba08e4",
   "metadata": {},
   "outputs": [
    {
     "data": {
      "text/plain": [
       "[999, 995, 690, 984, 997]"
      ]
     },
     "execution_count": 9,
     "metadata": {},
     "output_type": "execute_result"
    }
   ],
   "source": [
    "[len(item) for item in tweet_group_list]"
   ]
  },
  {
   "cell_type": "code",
   "execution_count": 10,
   "id": "4a50049a",
   "metadata": {},
   "outputs": [
    {
     "data": {
      "text/plain": [
       "4665"
      ]
     },
     "execution_count": 10,
     "metadata": {},
     "output_type": "execute_result"
    }
   ],
   "source": [
    "sum([len(item) for item in tweet_group_list])"
   ]
  },
  {
   "cell_type": "code",
   "execution_count": 11,
   "id": "a0b0ec17",
   "metadata": {},
   "outputs": [
    {
     "data": {
      "text/plain": [
       "<Tweet id=1516795896624816138 text=\"Stressed out? 😩\\nTired? 😴\\nWorn down? 😰\\nWhat do those have in common? They're all perfect reasons to come into the gym and work out with us. We promise you'll leave feeling a little more relaxed, energized and ready to tackle what's ahead. That's #realAF. https://t.co/XBaQu387Ki\">"
      ]
     },
     "execution_count": 11,
     "metadata": {},
     "output_type": "execute_result"
    }
   ],
   "source": [
    "tweet_group_list[0][1]"
   ]
  },
  {
   "cell_type": "markdown",
   "id": "51edab12",
   "metadata": {},
   "source": [
    "# Save it as a CSV File "
   ]
  },
  {
   "cell_type": "code",
   "execution_count": 12,
   "id": "dd316c2e",
   "metadata": {},
   "outputs": [
    {
     "data": {
      "text/plain": [
       "4665"
      ]
     },
     "execution_count": 12,
     "metadata": {},
     "output_type": "execute_result"
    }
   ],
   "source": [
    "# id, tweet_text, source\n",
    "data_list = [] \n",
    "i = 0 \n",
    "for tweet_group in tweet_group_list: \n",
    "    for tweet in tweet_group: \n",
    "        item = {} \n",
    "        item['tweet_id'] = tweet.id\n",
    "        item['text'] = tweet.text\n",
    "        item['source'] = user_names[i] \n",
    "        \n",
    "        data_list.append(item)\n",
    "    i = i + 1     \n",
    "    \n",
    "len(data_list)   "
   ]
  },
  {
   "cell_type": "code",
   "execution_count": 13,
   "id": "15cff5e1",
   "metadata": {},
   "outputs": [
    {
     "data": {
      "text/html": [
       "<div>\n",
       "<style scoped>\n",
       "    .dataframe tbody tr th:only-of-type {\n",
       "        vertical-align: middle;\n",
       "    }\n",
       "\n",
       "    .dataframe tbody tr th {\n",
       "        vertical-align: top;\n",
       "    }\n",
       "\n",
       "    .dataframe thead th {\n",
       "        text-align: right;\n",
       "    }\n",
       "</style>\n",
       "<table border=\"1\" class=\"dataframe\">\n",
       "  <thead>\n",
       "    <tr style=\"text-align: right;\">\n",
       "      <th></th>\n",
       "      <th>tweet_id</th>\n",
       "      <th>text</th>\n",
       "      <th>source</th>\n",
       "    </tr>\n",
       "  </thead>\n",
       "  <tbody>\n",
       "    <tr>\n",
       "      <th>0</th>\n",
       "      <td>1517156201401884672</td>\n",
       "      <td>We know that effectively exercising your legs ...</td>\n",
       "      <td>AnytimeFitness</td>\n",
       "    </tr>\n",
       "    <tr>\n",
       "      <th>1</th>\n",
       "      <td>1516795896624816138</td>\n",
       "      <td>Stressed out? 😩\\nTired? 😴\\nWorn down? 😰\\nWhat ...</td>\n",
       "      <td>AnytimeFitness</td>\n",
       "    </tr>\n",
       "    <tr>\n",
       "      <th>2</th>\n",
       "      <td>1516430290935296002</td>\n",
       "      <td>Time to get rockin' and *foam* rollin' ! Last ...</td>\n",
       "      <td>AnytimeFitness</td>\n",
       "    </tr>\n",
       "    <tr>\n",
       "      <th>3</th>\n",
       "      <td>1516031104242831362</td>\n",
       "      <td>@that_zach_berg Hi Zach, can you please DM us?...</td>\n",
       "      <td>AnytimeFitness</td>\n",
       "    </tr>\n",
       "    <tr>\n",
       "      <th>4</th>\n",
       "      <td>1516030789586231301</td>\n",
       "      <td>@iam_rahulsingh @vikasjain1977 Hi, thank you f...</td>\n",
       "      <td>AnytimeFitness</td>\n",
       "    </tr>\n",
       "  </tbody>\n",
       "</table>\n",
       "</div>"
      ],
      "text/plain": [
       "              tweet_id                                               text  \\\n",
       "0  1517156201401884672  We know that effectively exercising your legs ...   \n",
       "1  1516795896624816138  Stressed out? 😩\\nTired? 😴\\nWorn down? 😰\\nWhat ...   \n",
       "2  1516430290935296002  Time to get rockin' and *foam* rollin' ! Last ...   \n",
       "3  1516031104242831362  @that_zach_berg Hi Zach, can you please DM us?...   \n",
       "4  1516030789586231301  @iam_rahulsingh @vikasjain1977 Hi, thank you f...   \n",
       "\n",
       "           source  \n",
       "0  AnytimeFitness  \n",
       "1  AnytimeFitness  \n",
       "2  AnytimeFitness  \n",
       "3  AnytimeFitness  \n",
       "4  AnytimeFitness  "
      ]
     },
     "execution_count": 13,
     "metadata": {},
     "output_type": "execute_result"
    }
   ],
   "source": [
    "data = pd.DataFrame(data=data_list)\n",
    "data.head()"
   ]
  },
  {
   "cell_type": "code",
   "execution_count": 14,
   "id": "6d59bc15",
   "metadata": {},
   "outputs": [],
   "source": [
    "data.to_csv('fitnes-health_usa.csv')"
   ]
  }
 ],
 "metadata": {
  "kernelspec": {
   "display_name": "Python 3 (ipykernel)",
   "language": "python",
   "name": "python3"
  },
  "language_info": {
   "codemirror_mode": {
    "name": "ipython",
    "version": 3
   },
   "file_extension": ".py",
   "mimetype": "text/x-python",
   "name": "python",
   "nbconvert_exporter": "python",
   "pygments_lexer": "ipython3",
   "version": "3.9.7"
  }
 },
 "nbformat": 4,
 "nbformat_minor": 5
}
