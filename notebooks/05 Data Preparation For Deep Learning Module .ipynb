{
 "cells": [
  {
   "cell_type": "markdown",
   "id": "3b306040",
   "metadata": {},
   "source": [
    "# Imports "
   ]
  },
  {
   "cell_type": "code",
   "execution_count": 1,
   "id": "ec494901",
   "metadata": {},
   "outputs": [],
   "source": [
    "import pandas as pd \n",
    "import numpy as np \n",
    "import matplotlib.pyplot as plt "
   ]
  },
  {
   "cell_type": "markdown",
   "id": "e9c16f3f",
   "metadata": {},
   "source": [
    "# Get the Data"
   ]
  },
  {
   "cell_type": "code",
   "execution_count": 3,
   "id": "56b502d0",
   "metadata": {},
   "outputs": [],
   "source": [
    "fitness_data = pd.read_csv(\"../datasets/fitnes-health_usa.csv\")\n",
    "sport_data = pd.read_csv(\"../datasets/sport_usa.csv\") \n",
    "politicy_data = pd.read_csv(\"../datasets/politics_usa.csv\") \n",
    "technology_data = pd.read_csv(\"../datasets/technology_usa.csv\") \n",
    "food_data = pd.read_csv(\"../datasets/food_usa.csv\") \n",
    "magazine_data = pd.read_csv(\"../datasets/magazine_usa.csv\") "
   ]
  },
  {
   "cell_type": "code",
   "execution_count": 4,
   "id": "04af47ac",
   "metadata": {},
   "outputs": [
    {
     "data": {
      "text/plain": [
       "(4665, 4)"
      ]
     },
     "execution_count": 4,
     "metadata": {},
     "output_type": "execute_result"
    }
   ],
   "source": [
    "fitness_data.shape"
   ]
  },
  {
   "cell_type": "code",
   "execution_count": 5,
   "id": "8c90f29b",
   "metadata": {},
   "outputs": [
    {
     "data": {
      "text/html": [
       "<div>\n",
       "<style scoped>\n",
       "    .dataframe tbody tr th:only-of-type {\n",
       "        vertical-align: middle;\n",
       "    }\n",
       "\n",
       "    .dataframe tbody tr th {\n",
       "        vertical-align: top;\n",
       "    }\n",
       "\n",
       "    .dataframe thead th {\n",
       "        text-align: right;\n",
       "    }\n",
       "</style>\n",
       "<table border=\"1\" class=\"dataframe\">\n",
       "  <thead>\n",
       "    <tr style=\"text-align: right;\">\n",
       "      <th></th>\n",
       "      <th>Unnamed: 0</th>\n",
       "      <th>tweet_id</th>\n",
       "      <th>text</th>\n",
       "      <th>source</th>\n",
       "    </tr>\n",
       "  </thead>\n",
       "  <tbody>\n",
       "    <tr>\n",
       "      <th>0</th>\n",
       "      <td>0</td>\n",
       "      <td>1517156201401884672</td>\n",
       "      <td>We know that effectively exercising your legs ...</td>\n",
       "      <td>AnytimeFitness</td>\n",
       "    </tr>\n",
       "    <tr>\n",
       "      <th>1</th>\n",
       "      <td>1</td>\n",
       "      <td>1516795896624816138</td>\n",
       "      <td>Stressed out? 😩\\r\\nTired? 😴\\r\\nWorn down? 😰\\r\\...</td>\n",
       "      <td>AnytimeFitness</td>\n",
       "    </tr>\n",
       "    <tr>\n",
       "      <th>2</th>\n",
       "      <td>2</td>\n",
       "      <td>1516430290935296002</td>\n",
       "      <td>Time to get rockin' and *foam* rollin' ! Last ...</td>\n",
       "      <td>AnytimeFitness</td>\n",
       "    </tr>\n",
       "    <tr>\n",
       "      <th>3</th>\n",
       "      <td>3</td>\n",
       "      <td>1516031104242831362</td>\n",
       "      <td>@that_zach_berg Hi Zach, can you please DM us?...</td>\n",
       "      <td>AnytimeFitness</td>\n",
       "    </tr>\n",
       "    <tr>\n",
       "      <th>4</th>\n",
       "      <td>4</td>\n",
       "      <td>1516030789586231301</td>\n",
       "      <td>@iam_rahulsingh @vikasjain1977 Hi, thank you f...</td>\n",
       "      <td>AnytimeFitness</td>\n",
       "    </tr>\n",
       "  </tbody>\n",
       "</table>\n",
       "</div>"
      ],
      "text/plain": [
       "   Unnamed: 0             tweet_id  \\\n",
       "0           0  1517156201401884672   \n",
       "1           1  1516795896624816138   \n",
       "2           2  1516430290935296002   \n",
       "3           3  1516031104242831362   \n",
       "4           4  1516030789586231301   \n",
       "\n",
       "                                                text          source  \n",
       "0  We know that effectively exercising your legs ...  AnytimeFitness  \n",
       "1  Stressed out? 😩\\r\\nTired? 😴\\r\\nWorn down? 😰\\r\\...  AnytimeFitness  \n",
       "2  Time to get rockin' and *foam* rollin' ! Last ...  AnytimeFitness  \n",
       "3  @that_zach_berg Hi Zach, can you please DM us?...  AnytimeFitness  \n",
       "4  @iam_rahulsingh @vikasjain1977 Hi, thank you f...  AnytimeFitness  "
      ]
     },
     "execution_count": 5,
     "metadata": {},
     "output_type": "execute_result"
    }
   ],
   "source": [
    "fitness_data.head() "
   ]
  },
  {
   "cell_type": "code",
   "execution_count": null,
   "id": "720cd9fb",
   "metadata": {},
   "outputs": [],
   "source": []
  }
 ],
 "metadata": {
  "kernelspec": {
   "display_name": "Python 3.9.12 ('base')",
   "language": "python",
   "name": "python3"
  },
  "language_info": {
   "codemirror_mode": {
    "name": "ipython",
    "version": 3
   },
   "file_extension": ".py",
   "mimetype": "text/x-python",
   "name": "python",
   "nbconvert_exporter": "python",
   "pygments_lexer": "ipython3",
   "version": "3.9.12"
  },
  "vscode": {
   "interpreter": {
    "hash": "9059e48bf3b0ccbf418267d63bd69884bf8e25702a60f044a5610720066f9972"
   }
  }
 },
 "nbformat": 4,
 "nbformat_minor": 5
}
