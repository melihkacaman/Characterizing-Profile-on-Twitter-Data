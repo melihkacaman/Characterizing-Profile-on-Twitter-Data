{
 "cells": [
  {
   "cell_type": "code",
   "execution_count": 1,
   "id": "ec494901",
   "metadata": {},
   "outputs": [],
   "source": [
    "import pandas as pd \n",
    "import numpy as np \n",
    "import matplotlib.pyplot as plt "
   ]
  },
  {
   "cell_type": "code",
   "execution_count": 3,
   "id": "56b502d0",
   "metadata": {},
   "outputs": [
    {
     "data": {
      "text/html": [
       "<div>\n",
       "<style scoped>\n",
       "    .dataframe tbody tr th:only-of-type {\n",
       "        vertical-align: middle;\n",
       "    }\n",
       "\n",
       "    .dataframe tbody tr th {\n",
       "        vertical-align: top;\n",
       "    }\n",
       "\n",
       "    .dataframe thead th {\n",
       "        text-align: right;\n",
       "    }\n",
       "</style>\n",
       "<table border=\"1\" class=\"dataframe\">\n",
       "  <thead>\n",
       "    <tr style=\"text-align: right;\">\n",
       "      <th></th>\n",
       "      <th>Unnamed: 0</th>\n",
       "      <th>magazine</th>\n",
       "    </tr>\n",
       "  </thead>\n",
       "  <tbody>\n",
       "    <tr>\n",
       "      <th>0</th>\n",
       "      <td>0</td>\n",
       "      <td>['word', 'street', 'theflightattend', 'preflig...</td>\n",
       "    </tr>\n",
       "    <tr>\n",
       "      <th>1</th>\n",
       "      <td>1</td>\n",
       "      <td>[\"kathieleegifford'\", 'daughter', 'cassidi', '...</td>\n",
       "    </tr>\n",
       "    <tr>\n",
       "      <th>2</th>\n",
       "      <td>2</td>\n",
       "      <td>['internet', 'troll', 'field', 'day', \"jadensm...</td>\n",
       "    </tr>\n",
       "    <tr>\n",
       "      <th>3</th>\n",
       "      <td>3</td>\n",
       "      <td>['star', 'know', 'stay', 'spotlight', 'see', '...</td>\n",
       "    </tr>\n",
       "    <tr>\n",
       "      <th>4</th>\n",
       "      <td>4</td>\n",
       "      <td>['relationship', 'rock', 'caseyaffleck', 'gf',...</td>\n",
       "    </tr>\n",
       "    <tr>\n",
       "      <th>...</th>\n",
       "      <td>...</td>\n",
       "      <td>...</td>\n",
       "    </tr>\n",
       "    <tr>\n",
       "      <th>9949</th>\n",
       "      <td>9949</td>\n",
       "      <td>['arizona', 'becom', 'first', 'state', 'offer'...</td>\n",
       "    </tr>\n",
       "    <tr>\n",
       "      <th>9950</th>\n",
       "      <td>9950</td>\n",
       "      <td>['googl', 'move', 'movi', 'tv', 'tab', 'play',...</td>\n",
       "    </tr>\n",
       "    <tr>\n",
       "      <th>9951</th>\n",
       "      <td>9951</td>\n",
       "      <td>['meet', 'grow', 'founder', 'network', 'small'...</td>\n",
       "    </tr>\n",
       "    <tr>\n",
       "      <th>9952</th>\n",
       "      <td>9952</td>\n",
       "      <td>['microsoft', 'want', 'build', 'next', 'game',...</td>\n",
       "    </tr>\n",
       "    <tr>\n",
       "      <th>9953</th>\n",
       "      <td>9953</td>\n",
       "      <td>['onepointon', 'want', 'piec', 'vertic', 'farm...</td>\n",
       "    </tr>\n",
       "  </tbody>\n",
       "</table>\n",
       "<p>9954 rows × 2 columns</p>\n",
       "</div>"
      ],
      "text/plain": [
       "      Unnamed: 0                                           magazine\n",
       "0              0  ['word', 'street', 'theflightattend', 'preflig...\n",
       "1              1  [\"kathieleegifford'\", 'daughter', 'cassidi', '...\n",
       "2              2  ['internet', 'troll', 'field', 'day', \"jadensm...\n",
       "3              3  ['star', 'know', 'stay', 'spotlight', 'see', '...\n",
       "4              4  ['relationship', 'rock', 'caseyaffleck', 'gf',...\n",
       "...          ...                                                ...\n",
       "9949        9949  ['arizona', 'becom', 'first', 'state', 'offer'...\n",
       "9950        9950  ['googl', 'move', 'movi', 'tv', 'tab', 'play',...\n",
       "9951        9951  ['meet', 'grow', 'founder', 'network', 'small'...\n",
       "9952        9952  ['microsoft', 'want', 'build', 'next', 'game',...\n",
       "9953        9953  ['onepointon', 'want', 'piec', 'vertic', 'farm...\n",
       "\n",
       "[9954 rows x 2 columns]"
      ]
     },
     "execution_count": 3,
     "metadata": {},
     "output_type": "execute_result"
    }
   ],
   "source": [
    "pd.read_csv(\"\")"
   ]
  },
  {
   "cell_type": "code",
   "execution_count": null,
   "id": "04af47ac",
   "metadata": {},
   "outputs": [],
   "source": []
  }
 ],
 "metadata": {
  "kernelspec": {
   "display_name": "Python 3 (ipykernel)",
   "language": "python",
   "name": "python3"
  },
  "language_info": {
   "codemirror_mode": {
    "name": "ipython",
    "version": 3
   },
   "file_extension": ".py",
   "mimetype": "text/x-python",
   "name": "python",
   "nbconvert_exporter": "python",
   "pygments_lexer": "ipython3",
   "version": "3.9.7"
  }
 },
 "nbformat": 4,
 "nbformat_minor": 5
}
