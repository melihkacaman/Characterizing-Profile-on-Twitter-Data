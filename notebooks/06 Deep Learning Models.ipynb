{
 "cells": [
  {
   "cell_type": "markdown",
   "metadata": {},
   "source": [
    "# Explanation \n",
    "\n",
    "This notebook is going to include all the models which are build using Neurol Networks approach. \n",
    "I specified some bunch of models that I am going to deploy. \n",
    "\n",
    "- to do: Models will be stayed here ! Dont forget !  "
   ]
  },
  {
   "cell_type": "markdown",
   "metadata": {},
   "source": [
    "# Get the Data "
   ]
  },
  {
   "cell_type": "code",
   "execution_count": 2,
   "metadata": {},
   "outputs": [
    {
     "data": {
      "text/html": [
       "<div>\n",
       "<style scoped>\n",
       "    .dataframe tbody tr th:only-of-type {\n",
       "        vertical-align: middle;\n",
       "    }\n",
       "\n",
       "    .dataframe tbody tr th {\n",
       "        vertical-align: top;\n",
       "    }\n",
       "\n",
       "    .dataframe thead th {\n",
       "        text-align: right;\n",
       "    }\n",
       "</style>\n",
       "<table border=\"1\" class=\"dataframe\">\n",
       "  <thead>\n",
       "    <tr style=\"text-align: right;\">\n",
       "      <th></th>\n",
       "      <th>Unnamed: 0</th>\n",
       "      <th>text</th>\n",
       "      <th>target</th>\n",
       "    </tr>\n",
       "  </thead>\n",
       "  <tbody>\n",
       "    <tr>\n",
       "      <th>0</th>\n",
       "      <td>0</td>\n",
       "      <td>We know that effectively exercising your legs ...</td>\n",
       "      <td>0</td>\n",
       "    </tr>\n",
       "    <tr>\n",
       "      <th>1</th>\n",
       "      <td>1</td>\n",
       "      <td>Stressed out? 😩\\r\\nTired? 😴\\r\\nWorn down? 😰\\r\\...</td>\n",
       "      <td>0</td>\n",
       "    </tr>\n",
       "    <tr>\n",
       "      <th>2</th>\n",
       "      <td>2</td>\n",
       "      <td>Time to get rockin' and *foam* rollin' ! Last ...</td>\n",
       "      <td>0</td>\n",
       "    </tr>\n",
       "    <tr>\n",
       "      <th>3</th>\n",
       "      <td>3</td>\n",
       "      <td>@that_zach_berg Hi Zach, can you please DM us?...</td>\n",
       "      <td>0</td>\n",
       "    </tr>\n",
       "    <tr>\n",
       "      <th>4</th>\n",
       "      <td>4</td>\n",
       "      <td>@iam_rahulsingh @vikasjain1977 Hi, thank you f...</td>\n",
       "      <td>0</td>\n",
       "    </tr>\n",
       "  </tbody>\n",
       "</table>\n",
       "</div>"
      ],
      "text/plain": [
       "   Unnamed: 0                                               text  target\n",
       "0           0  We know that effectively exercising your legs ...       0\n",
       "1           1  Stressed out? 😩\\r\\nTired? 😴\\r\\nWorn down? 😰\\r\\...       0\n",
       "2           2  Time to get rockin' and *foam* rollin' ! Last ...       0\n",
       "3           3  @that_zach_berg Hi Zach, can you please DM us?...       0\n",
       "4           4  @iam_rahulsingh @vikasjain1977 Hi, thank you f...       0"
      ]
     },
     "execution_count": 2,
     "metadata": {},
     "output_type": "execute_result"
    }
   ],
   "source": [
    "import pandas as pd \n",
    "\n",
    "data = pd.read_csv(\"../datasets/deep_data_merged_all_class.csv\")\n",
    "data.head()"
   ]
  },
  {
   "cell_type": "code",
   "execution_count": 3,
   "metadata": {},
   "outputs": [
    {
     "data": {
      "text/html": [
       "<div>\n",
       "<style scoped>\n",
       "    .dataframe tbody tr th:only-of-type {\n",
       "        vertical-align: middle;\n",
       "    }\n",
       "\n",
       "    .dataframe tbody tr th {\n",
       "        vertical-align: top;\n",
       "    }\n",
       "\n",
       "    .dataframe thead th {\n",
       "        text-align: right;\n",
       "    }\n",
       "</style>\n",
       "<table border=\"1\" class=\"dataframe\">\n",
       "  <thead>\n",
       "    <tr style=\"text-align: right;\">\n",
       "      <th></th>\n",
       "      <th>Unnamed: 0</th>\n",
       "      <th>text</th>\n",
       "      <th>target</th>\n",
       "    </tr>\n",
       "  </thead>\n",
       "  <tbody>\n",
       "    <tr>\n",
       "      <th>644</th>\n",
       "      <td>644</td>\n",
       "      <td>@chriskrieger91 Hi, thanks for reaching out! W...</td>\n",
       "      <td>0</td>\n",
       "    </tr>\n",
       "    <tr>\n",
       "      <th>23615</th>\n",
       "      <td>4272</td>\n",
       "      <td>New episode of the @JalenRose: Renaissance Man...</td>\n",
       "      <td>5</td>\n",
       "    </tr>\n",
       "    <tr>\n",
       "      <th>17142</th>\n",
       "      <td>2680</td>\n",
       "      <td>Gordon Ramsay Hell’s Kitchen will open in Chic...</td>\n",
       "      <td>4</td>\n",
       "    </tr>\n",
       "    <tr>\n",
       "      <th>9962</th>\n",
       "      <td>468</td>\n",
       "      <td>N95s, which seal tighter to the face, offer be...</td>\n",
       "      <td>2</td>\n",
       "    </tr>\n",
       "    <tr>\n",
       "      <th>19789</th>\n",
       "      <td>446</td>\n",
       "      <td>From exorcisms to weddings — the #Grammys have...</td>\n",
       "      <td>5</td>\n",
       "    </tr>\n",
       "  </tbody>\n",
       "</table>\n",
       "</div>"
      ],
      "text/plain": [
       "       Unnamed: 0                                               text  target\n",
       "644           644  @chriskrieger91 Hi, thanks for reaching out! W...       0\n",
       "23615        4272  New episode of the @JalenRose: Renaissance Man...       5\n",
       "17142        2680  Gordon Ramsay Hell’s Kitchen will open in Chic...       4\n",
       "9962          468  N95s, which seal tighter to the face, offer be...       2\n",
       "19789         446  From exorcisms to weddings — the #Grammys have...       5"
      ]
     },
     "execution_count": 3,
     "metadata": {},
     "output_type": "execute_result"
    }
   ],
   "source": [
    "train_df_shuffled = data.sample(frac=1, random_state=42) \n",
    "train_df_shuffled.head() "
   ]
  },
  {
   "cell_type": "markdown",
   "metadata": {},
   "source": [
    "##### Balanced Dataset "
   ]
  },
  {
   "cell_type": "code",
   "execution_count": 4,
   "metadata": {},
   "outputs": [
    {
     "data": {
      "text/plain": [
       "3    4976\n",
       "2    4968\n",
       "5    4954\n",
       "4    4881\n",
       "1    4829\n",
       "0    4665\n",
       "Name: target, dtype: int64"
      ]
     },
     "execution_count": 4,
     "metadata": {},
     "output_type": "execute_result"
    }
   ],
   "source": [
    "train_df_shuffled.target.value_counts()"
   ]
  },
  {
   "cell_type": "code",
   "execution_count": 5,
   "metadata": {},
   "outputs": [
    {
     "name": "stdout",
     "output_type": "stream",
     "text": [
      "Target: 3 (real disaster)\n",
      "Text:\n",
      "LG halts all shipments to Russia https://t.co/Wa5aFsJeAM https://t.co/ozRMTqBUJU\n",
      "\n",
      "---\n",
      "\n",
      "Target: 2 (real disaster)\n",
      "Text:\n",
      "Arizona Republican Gov. Doug Ducey says he will not run for a Senate seat, ending speculation whether he would challenge incumbent Democratic Sen. Mark Kelly https://t.co/zmVl66Y8Px\n",
      "\n",
      "---\n",
      "\n",
      "Target: 1 (real disaster)\n",
      "Text:\n",
      "Roy Williams is ALL of Tar Heels fans right now 🙌\n",
      "\n",
      "(via @MarchMadnessMBB) https://t.co/PGQjIg4ETo\n",
      "\n",
      "---\n",
      "\n",
      "Target: 5 (real disaster)\n",
      "Text:\n",
      "Cole Sprouse says child actors never turn out OK: 'Fame is trauma' https://t.co/1vfmFVDUmu https://t.co/gwka9MhX4s\n",
      "\n",
      "---\n",
      "\n",
      "Target: 2 (real disaster)\n",
      "Text:\n",
      "A bipartisan group of senators is trying to extend pandemic school meal waivers that gave districts extra federal funds to provide free food to more kids https://t.co/mndgnjPgio\n",
      "\n",
      "---\n",
      "\n"
     ]
    }
   ],
   "source": [
    "import random \n",
    "random_index = random.randint(0, len(data) - 5) \n",
    "\n",
    "for  _, text, target in train_df_shuffled[['text', 'target']][random_index:random_index+5].itertuples():\n",
    "  print(f\"Target: {target}\", \"(real disaster)\" if target > 0 else \"(not real disaster)\")\n",
    "  print(f\"Text:\\n{text}\\n\")\n",
    "  print(\"---\\n\")"
   ]
  },
  {
   "cell_type": "code",
   "execution_count": null,
   "metadata": {},
   "outputs": [],
   "source": []
  }
 ],
 "metadata": {
  "kernelspec": {
   "display_name": "Python 3.9.7 ('base')",
   "language": "python",
   "name": "python3"
  },
  "language_info": {
   "codemirror_mode": {
    "name": "ipython",
    "version": 3
   },
   "file_extension": ".py",
   "mimetype": "text/x-python",
   "name": "python",
   "nbconvert_exporter": "python",
   "pygments_lexer": "ipython3",
   "version": "3.9.7"
  },
  "orig_nbformat": 4,
  "vscode": {
   "interpreter": {
    "hash": "c6ef42648a44ed27e787b9716d7d4da6420bbd2bc01ccf4feba7d448724f8323"
   }
  }
 },
 "nbformat": 4,
 "nbformat_minor": 2
}
