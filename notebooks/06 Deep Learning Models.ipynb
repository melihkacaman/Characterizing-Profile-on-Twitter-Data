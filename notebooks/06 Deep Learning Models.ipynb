{
  "cells": [
    {
      "cell_type": "markdown",
      "metadata": {
        "id": "Sw6V2udE1F2S"
      },
      "source": [
        "# Explanation \n",
        "\n",
        "This notebook is going to include all the models which are build using Neurol Networks approach. \n",
        "I specified some bunch of models that I am going to deploy. \n",
        "\n",
        "- to do: Models will be stayed here ! Dont forget !  "
      ]
    },
    {
      "cell_type": "markdown",
      "metadata": {
        "id": "Cq_UMgMJ1F2W"
      },
      "source": [
        "# Get the Data "
      ]
    },
    {
      "cell_type": "code",
      "execution_count": 1,
      "metadata": {
        "colab": {
          "base_uri": "https://localhost:8080/"
        },
        "id": "cUQRwAFNuKGS",
        "outputId": "a9d72d6a-b891-4e05-9621-a46004ab1ab2"
      },
      "outputs": [
        {
          "name": "stdout",
          "output_type": "stream",
          "text": [
            "Mounted at /content/drive\n"
          ]
        }
      ],
      "source": [
        "from google.colab import drive\n",
        "drive.mount('/content/drive')"
      ]
    },
    {
      "cell_type": "code",
      "execution_count": 2,
      "metadata": {
        "colab": {
          "base_uri": "https://localhost:8080/",
          "height": 206
        },
        "id": "20n7Rrdo1F2X",
        "outputId": "c2767554-76b2-4dd3-97a0-c919af743143"
      },
      "outputs": [
        {
          "data": {
            "text/html": [
              "\n",
              "  <div id=\"df-284aab26-ed97-4483-993c-d6268dbdd736\">\n",
              "    <div class=\"colab-df-container\">\n",
              "      <div>\n",
              "<style scoped>\n",
              "    .dataframe tbody tr th:only-of-type {\n",
              "        vertical-align: middle;\n",
              "    }\n",
              "\n",
              "    .dataframe tbody tr th {\n",
              "        vertical-align: top;\n",
              "    }\n",
              "\n",
              "    .dataframe thead th {\n",
              "        text-align: right;\n",
              "    }\n",
              "</style>\n",
              "<table border=\"1\" class=\"dataframe\">\n",
              "  <thead>\n",
              "    <tr style=\"text-align: right;\">\n",
              "      <th></th>\n",
              "      <th>Unnamed: 0</th>\n",
              "      <th>text</th>\n",
              "      <th>target</th>\n",
              "    </tr>\n",
              "  </thead>\n",
              "  <tbody>\n",
              "    <tr>\n",
              "      <th>0</th>\n",
              "      <td>0</td>\n",
              "      <td>We know that effectively exercising your legs ...</td>\n",
              "      <td>0</td>\n",
              "    </tr>\n",
              "    <tr>\n",
              "      <th>1</th>\n",
              "      <td>1</td>\n",
              "      <td>Stressed out? 😩\\r\\nTired? 😴\\r\\nWorn down? 😰\\r\\...</td>\n",
              "      <td>0</td>\n",
              "    </tr>\n",
              "    <tr>\n",
              "      <th>2</th>\n",
              "      <td>2</td>\n",
              "      <td>Time to get rockin' and *foam* rollin' ! Last ...</td>\n",
              "      <td>0</td>\n",
              "    </tr>\n",
              "    <tr>\n",
              "      <th>3</th>\n",
              "      <td>3</td>\n",
              "      <td>@that_zach_berg Hi Zach, can you please DM us?...</td>\n",
              "      <td>0</td>\n",
              "    </tr>\n",
              "    <tr>\n",
              "      <th>4</th>\n",
              "      <td>4</td>\n",
              "      <td>@iam_rahulsingh @vikasjain1977 Hi, thank you f...</td>\n",
              "      <td>0</td>\n",
              "    </tr>\n",
              "  </tbody>\n",
              "</table>\n",
              "</div>\n",
              "      <button class=\"colab-df-convert\" onclick=\"convertToInteractive('df-284aab26-ed97-4483-993c-d6268dbdd736')\"\n",
              "              title=\"Convert this dataframe to an interactive table.\"\n",
              "              style=\"display:none;\">\n",
              "        \n",
              "  <svg xmlns=\"http://www.w3.org/2000/svg\" height=\"24px\"viewBox=\"0 0 24 24\"\n",
              "       width=\"24px\">\n",
              "    <path d=\"M0 0h24v24H0V0z\" fill=\"none\"/>\n",
              "    <path d=\"M18.56 5.44l.94 2.06.94-2.06 2.06-.94-2.06-.94-.94-2.06-.94 2.06-2.06.94zm-11 1L8.5 8.5l.94-2.06 2.06-.94-2.06-.94L8.5 2.5l-.94 2.06-2.06.94zm10 10l.94 2.06.94-2.06 2.06-.94-2.06-.94-.94-2.06-.94 2.06-2.06.94z\"/><path d=\"M17.41 7.96l-1.37-1.37c-.4-.4-.92-.59-1.43-.59-.52 0-1.04.2-1.43.59L10.3 9.45l-7.72 7.72c-.78.78-.78 2.05 0 2.83L4 21.41c.39.39.9.59 1.41.59.51 0 1.02-.2 1.41-.59l7.78-7.78 2.81-2.81c.8-.78.8-2.07 0-2.86zM5.41 20L4 18.59l7.72-7.72 1.47 1.35L5.41 20z\"/>\n",
              "  </svg>\n",
              "      </button>\n",
              "      \n",
              "  <style>\n",
              "    .colab-df-container {\n",
              "      display:flex;\n",
              "      flex-wrap:wrap;\n",
              "      gap: 12px;\n",
              "    }\n",
              "\n",
              "    .colab-df-convert {\n",
              "      background-color: #E8F0FE;\n",
              "      border: none;\n",
              "      border-radius: 50%;\n",
              "      cursor: pointer;\n",
              "      display: none;\n",
              "      fill: #1967D2;\n",
              "      height: 32px;\n",
              "      padding: 0 0 0 0;\n",
              "      width: 32px;\n",
              "    }\n",
              "\n",
              "    .colab-df-convert:hover {\n",
              "      background-color: #E2EBFA;\n",
              "      box-shadow: 0px 1px 2px rgba(60, 64, 67, 0.3), 0px 1px 3px 1px rgba(60, 64, 67, 0.15);\n",
              "      fill: #174EA6;\n",
              "    }\n",
              "\n",
              "    [theme=dark] .colab-df-convert {\n",
              "      background-color: #3B4455;\n",
              "      fill: #D2E3FC;\n",
              "    }\n",
              "\n",
              "    [theme=dark] .colab-df-convert:hover {\n",
              "      background-color: #434B5C;\n",
              "      box-shadow: 0px 1px 3px 1px rgba(0, 0, 0, 0.15);\n",
              "      filter: drop-shadow(0px 1px 2px rgba(0, 0, 0, 0.3));\n",
              "      fill: #FFFFFF;\n",
              "    }\n",
              "  </style>\n",
              "\n",
              "      <script>\n",
              "        const buttonEl =\n",
              "          document.querySelector('#df-284aab26-ed97-4483-993c-d6268dbdd736 button.colab-df-convert');\n",
              "        buttonEl.style.display =\n",
              "          google.colab.kernel.accessAllowed ? 'block' : 'none';\n",
              "\n",
              "        async function convertToInteractive(key) {\n",
              "          const element = document.querySelector('#df-284aab26-ed97-4483-993c-d6268dbdd736');\n",
              "          const dataTable =\n",
              "            await google.colab.kernel.invokeFunction('convertToInteractive',\n",
              "                                                     [key], {});\n",
              "          if (!dataTable) return;\n",
              "\n",
              "          const docLinkHtml = 'Like what you see? Visit the ' +\n",
              "            '<a target=\"_blank\" href=https://colab.research.google.com/notebooks/data_table.ipynb>data table notebook</a>'\n",
              "            + ' to learn more about interactive tables.';\n",
              "          element.innerHTML = '';\n",
              "          dataTable['output_type'] = 'display_data';\n",
              "          await google.colab.output.renderOutput(dataTable, element);\n",
              "          const docLink = document.createElement('div');\n",
              "          docLink.innerHTML = docLinkHtml;\n",
              "          element.appendChild(docLink);\n",
              "        }\n",
              "      </script>\n",
              "    </div>\n",
              "  </div>\n",
              "  "
            ],
            "text/plain": [
              "   Unnamed: 0                                               text  target\n",
              "0           0  We know that effectively exercising your legs ...       0\n",
              "1           1  Stressed out? 😩\\r\\nTired? 😴\\r\\nWorn down? 😰\\r\\...       0\n",
              "2           2  Time to get rockin' and *foam* rollin' ! Last ...       0\n",
              "3           3  @that_zach_berg Hi Zach, can you please DM us?...       0\n",
              "4           4  @iam_rahulsingh @vikasjain1977 Hi, thank you f...       0"
            ]
          },
          "execution_count": 2,
          "metadata": {},
          "output_type": "execute_result"
        }
      ],
      "source": [
        "import pandas as pd \n",
        "\n",
        "data = pd.read_csv(\"/content/drive/MyDrive/datasets/deep_data_merged_all_class.csv\")\n",
        "data.head()"
      ]
    },
    {
      "cell_type": "code",
      "execution_count": 3,
      "metadata": {
        "colab": {
          "base_uri": "https://localhost:8080/",
          "height": 206
        },
        "id": "LdFCuiWJ1F2Z",
        "outputId": "72f6459b-d823-49cd-da44-d0d9ec7c2c40"
      },
      "outputs": [
        {
          "data": {
            "text/html": [
              "\n",
              "  <div id=\"df-870d726d-0b56-413d-b292-a3c5265cb571\">\n",
              "    <div class=\"colab-df-container\">\n",
              "      <div>\n",
              "<style scoped>\n",
              "    .dataframe tbody tr th:only-of-type {\n",
              "        vertical-align: middle;\n",
              "    }\n",
              "\n",
              "    .dataframe tbody tr th {\n",
              "        vertical-align: top;\n",
              "    }\n",
              "\n",
              "    .dataframe thead th {\n",
              "        text-align: right;\n",
              "    }\n",
              "</style>\n",
              "<table border=\"1\" class=\"dataframe\">\n",
              "  <thead>\n",
              "    <tr style=\"text-align: right;\">\n",
              "      <th></th>\n",
              "      <th>Unnamed: 0</th>\n",
              "      <th>text</th>\n",
              "      <th>target</th>\n",
              "    </tr>\n",
              "  </thead>\n",
              "  <tbody>\n",
              "    <tr>\n",
              "      <th>644</th>\n",
              "      <td>644</td>\n",
              "      <td>@chriskrieger91 Hi, thanks for reaching out! W...</td>\n",
              "      <td>0</td>\n",
              "    </tr>\n",
              "    <tr>\n",
              "      <th>23615</th>\n",
              "      <td>4272</td>\n",
              "      <td>New episode of the @JalenRose: Renaissance Man...</td>\n",
              "      <td>5</td>\n",
              "    </tr>\n",
              "    <tr>\n",
              "      <th>17142</th>\n",
              "      <td>2680</td>\n",
              "      <td>Gordon Ramsay Hell’s Kitchen will open in Chic...</td>\n",
              "      <td>4</td>\n",
              "    </tr>\n",
              "    <tr>\n",
              "      <th>9962</th>\n",
              "      <td>468</td>\n",
              "      <td>N95s, which seal tighter to the face, offer be...</td>\n",
              "      <td>2</td>\n",
              "    </tr>\n",
              "    <tr>\n",
              "      <th>19789</th>\n",
              "      <td>446</td>\n",
              "      <td>From exorcisms to weddings — the #Grammys have...</td>\n",
              "      <td>5</td>\n",
              "    </tr>\n",
              "  </tbody>\n",
              "</table>\n",
              "</div>\n",
              "      <button class=\"colab-df-convert\" onclick=\"convertToInteractive('df-870d726d-0b56-413d-b292-a3c5265cb571')\"\n",
              "              title=\"Convert this dataframe to an interactive table.\"\n",
              "              style=\"display:none;\">\n",
              "        \n",
              "  <svg xmlns=\"http://www.w3.org/2000/svg\" height=\"24px\"viewBox=\"0 0 24 24\"\n",
              "       width=\"24px\">\n",
              "    <path d=\"M0 0h24v24H0V0z\" fill=\"none\"/>\n",
              "    <path d=\"M18.56 5.44l.94 2.06.94-2.06 2.06-.94-2.06-.94-.94-2.06-.94 2.06-2.06.94zm-11 1L8.5 8.5l.94-2.06 2.06-.94-2.06-.94L8.5 2.5l-.94 2.06-2.06.94zm10 10l.94 2.06.94-2.06 2.06-.94-2.06-.94-.94-2.06-.94 2.06-2.06.94z\"/><path d=\"M17.41 7.96l-1.37-1.37c-.4-.4-.92-.59-1.43-.59-.52 0-1.04.2-1.43.59L10.3 9.45l-7.72 7.72c-.78.78-.78 2.05 0 2.83L4 21.41c.39.39.9.59 1.41.59.51 0 1.02-.2 1.41-.59l7.78-7.78 2.81-2.81c.8-.78.8-2.07 0-2.86zM5.41 20L4 18.59l7.72-7.72 1.47 1.35L5.41 20z\"/>\n",
              "  </svg>\n",
              "      </button>\n",
              "      \n",
              "  <style>\n",
              "    .colab-df-container {\n",
              "      display:flex;\n",
              "      flex-wrap:wrap;\n",
              "      gap: 12px;\n",
              "    }\n",
              "\n",
              "    .colab-df-convert {\n",
              "      background-color: #E8F0FE;\n",
              "      border: none;\n",
              "      border-radius: 50%;\n",
              "      cursor: pointer;\n",
              "      display: none;\n",
              "      fill: #1967D2;\n",
              "      height: 32px;\n",
              "      padding: 0 0 0 0;\n",
              "      width: 32px;\n",
              "    }\n",
              "\n",
              "    .colab-df-convert:hover {\n",
              "      background-color: #E2EBFA;\n",
              "      box-shadow: 0px 1px 2px rgba(60, 64, 67, 0.3), 0px 1px 3px 1px rgba(60, 64, 67, 0.15);\n",
              "      fill: #174EA6;\n",
              "    }\n",
              "\n",
              "    [theme=dark] .colab-df-convert {\n",
              "      background-color: #3B4455;\n",
              "      fill: #D2E3FC;\n",
              "    }\n",
              "\n",
              "    [theme=dark] .colab-df-convert:hover {\n",
              "      background-color: #434B5C;\n",
              "      box-shadow: 0px 1px 3px 1px rgba(0, 0, 0, 0.15);\n",
              "      filter: drop-shadow(0px 1px 2px rgba(0, 0, 0, 0.3));\n",
              "      fill: #FFFFFF;\n",
              "    }\n",
              "  </style>\n",
              "\n",
              "      <script>\n",
              "        const buttonEl =\n",
              "          document.querySelector('#df-870d726d-0b56-413d-b292-a3c5265cb571 button.colab-df-convert');\n",
              "        buttonEl.style.display =\n",
              "          google.colab.kernel.accessAllowed ? 'block' : 'none';\n",
              "\n",
              "        async function convertToInteractive(key) {\n",
              "          const element = document.querySelector('#df-870d726d-0b56-413d-b292-a3c5265cb571');\n",
              "          const dataTable =\n",
              "            await google.colab.kernel.invokeFunction('convertToInteractive',\n",
              "                                                     [key], {});\n",
              "          if (!dataTable) return;\n",
              "\n",
              "          const docLinkHtml = 'Like what you see? Visit the ' +\n",
              "            '<a target=\"_blank\" href=https://colab.research.google.com/notebooks/data_table.ipynb>data table notebook</a>'\n",
              "            + ' to learn more about interactive tables.';\n",
              "          element.innerHTML = '';\n",
              "          dataTable['output_type'] = 'display_data';\n",
              "          await google.colab.output.renderOutput(dataTable, element);\n",
              "          const docLink = document.createElement('div');\n",
              "          docLink.innerHTML = docLinkHtml;\n",
              "          element.appendChild(docLink);\n",
              "        }\n",
              "      </script>\n",
              "    </div>\n",
              "  </div>\n",
              "  "
            ],
            "text/plain": [
              "       Unnamed: 0                                               text  target\n",
              "644           644  @chriskrieger91 Hi, thanks for reaching out! W...       0\n",
              "23615        4272  New episode of the @JalenRose: Renaissance Man...       5\n",
              "17142        2680  Gordon Ramsay Hell’s Kitchen will open in Chic...       4\n",
              "9962          468  N95s, which seal tighter to the face, offer be...       2\n",
              "19789         446  From exorcisms to weddings — the #Grammys have...       5"
            ]
          },
          "execution_count": 3,
          "metadata": {},
          "output_type": "execute_result"
        }
      ],
      "source": [
        "train_df_shuffled = data.sample(frac=1, random_state=42) \n",
        "train_df_shuffled.head() "
      ]
    },
    {
      "cell_type": "markdown",
      "metadata": {
        "id": "TgiEmwmV1F2a"
      },
      "source": [
        "##### Balanced Dataset "
      ]
    },
    {
      "cell_type": "code",
      "execution_count": 4,
      "metadata": {
        "colab": {
          "base_uri": "https://localhost:8080/"
        },
        "id": "EV7Sngqn1F2a",
        "outputId": "b5e8df45-31ba-42f6-e724-5677bb8d1ab4"
      },
      "outputs": [
        {
          "data": {
            "text/plain": [
              "3    4976\n",
              "2    4968\n",
              "5    4954\n",
              "4    4881\n",
              "1    4829\n",
              "0    4665\n",
              "Name: target, dtype: int64"
            ]
          },
          "execution_count": 4,
          "metadata": {},
          "output_type": "execute_result"
        }
      ],
      "source": [
        "train_df_shuffled.target.value_counts()"
      ]
    },
    {
      "cell_type": "code",
      "execution_count": 5,
      "metadata": {
        "colab": {
          "base_uri": "https://localhost:8080/"
        },
        "id": "6RwSoOFc1F2b",
        "outputId": "21fc13e8-f35c-4826-9267-0a7aaee060ae"
      },
      "outputs": [
        {
          "name": "stdout",
          "output_type": "stream",
          "text": [
            "Target: 4 (real disaster)\n",
            "Text:\n",
            "RT @TheBest_Eighty8: @RobertIrvine Hawaii, Tropic  Lightning  land\n",
            "\n",
            "---\n",
            "\n",
            "Target: 3 (real disaster)\n",
            "Text:\n",
            "Teenage Engineering’s tiny, orange, bendable PC case is back on sale https://t.co/q9kHEl3inE https://t.co/UrDB1mnTaB\n",
            "\n",
            "---\n",
            "\n",
            "Target: 2 (real disaster)\n",
            "Text:\n",
            "RT @FoxNews: Fox News Decision Desk can project that independent Vermont Senator @BernieSanders will easily win a third term by defeating R…\n",
            "\n",
            "---\n",
            "\n",
            "Target: 4 (real disaster)\n",
            "Text:\n",
            "“Nutrition clubs” are popping up across the country as technicolor tea shops, and almost every single one of them is affiliated with the same multi-level-marketing company https://t.co/DCjJ76iFeH\n",
            "\n",
            "---\n",
            "\n",
            "Target: 1 (real disaster)\n",
            "Text:\n",
            "RT @si_mlb: What do you think about the Nationals City Connect uniforms? 👀\r\n",
            "\r\n",
            "(via @Nationals)\r\n",
            "https://t.co/s7JastVU89\n",
            "\n",
            "---\n",
            "\n"
          ]
        }
      ],
      "source": [
        "import random \n",
        "random_index = random.randint(0, len(data) - 5) \n",
        "\n",
        "for  _, text, target in train_df_shuffled[['text', 'target']][random_index:random_index+5].itertuples():\n",
        "  print(f\"Target: {target}\", \"(real disaster)\" if target > 0 else \"(not real disaster)\")\n",
        "  print(f\"Text:\\n{text}\\n\")\n",
        "  print(\"---\\n\")"
      ]
    },
    {
      "cell_type": "markdown",
      "metadata": {
        "id": "qvLKmxsA1F2b"
      },
      "source": [
        "# Split data into training and validation sets"
      ]
    },
    {
      "cell_type": "code",
      "execution_count": 6,
      "metadata": {
        "id": "hgfGD84y1F2c"
      },
      "outputs": [],
      "source": [
        "from sklearn.model_selection import train_test_split\n",
        "\n",
        "# Use train_test_split to split training data into training and validation sets\n",
        "train_sentences, val_sentences, train_labels, val_labels = train_test_split(train_df_shuffled[\"text\"].to_numpy(),\n",
        "                                                                            train_df_shuffled[\"target\"].to_numpy(),\n",
        "                                                                            test_size=0.2,\n",
        "                                                                            random_state=42) \n"
      ]
    },
    {
      "cell_type": "code",
      "execution_count": 7,
      "metadata": {
        "colab": {
          "base_uri": "https://localhost:8080/"
        },
        "id": "d3kYF1tx1F2c",
        "outputId": "d8ea76ae-4bb4-4fcf-bb55-3991a5141852"
      },
      "outputs": [
        {
          "data": {
            "text/plain": [
              "array([3, 2, 1, ..., 0, 3, 3])"
            ]
          },
          "execution_count": 7,
          "metadata": {},
          "output_type": "execute_result"
        }
      ],
      "source": [
        "train_labels"
      ]
    },
    {
      "cell_type": "code",
      "execution_count": 8,
      "metadata": {
        "id": "IxkfyNYUAY7D"
      },
      "outputs": [],
      "source": [
        "import pandas as pd \n",
        "\n",
        "train_labels_dummy = pd.get_dummies(train_labels).astype('float32').values \n",
        "val_labels_dummy = pd.get_dummies(val_labels).astype('float32').values "
      ]
    },
    {
      "cell_type": "markdown",
      "metadata": {
        "id": "qOcuWBSq1F2d"
      },
      "source": [
        "# Converting text into numbers\n",
        "\n",
        "## Text vectorization (tokenization)\n"
      ]
    },
    {
      "cell_type": "code",
      "execution_count": 9,
      "metadata": {
        "id": "WsFaZnS71F2d"
      },
      "outputs": [],
      "source": [
        "import tensorflow as tf\n",
        "from tensorflow.keras.layers.experimental.preprocessing import TextVectorization\n",
        "\n",
        "text_vectorizer = TextVectorization(max_tokens=None, # how many words in the vocabulary (all of the different words in your text)\n",
        "                                    standardize=\"lower_and_strip_punctuation\", # how to process text\n",
        "                                    split=\"whitespace\", # how to split tokens\n",
        "                                    ngrams=None, # create groups of n-words?\n",
        "                                    output_mode=\"int\", # how to map tokens to numbers\n",
        "                                    output_sequence_length=None) # how long should the output sequence of tokens be?\n",
        "                                    # pad_to_max_tokens=True)"
      ]
    },
    {
      "cell_type": "code",
      "execution_count": 10,
      "metadata": {
        "colab": {
          "base_uri": "https://localhost:8080/"
        },
        "id": "qYYgZB7b1F2e",
        "outputId": "cd6131c9-9c78-4ec4-cfd6-4a4f3ae58232"
      },
      "outputs": [
        {
          "data": {
            "text/plain": [
              "18"
            ]
          },
          "execution_count": 10,
          "metadata": {},
          "output_type": "execute_result"
        }
      ],
      "source": [
        "# tweet başına kelime sayısı \n",
        "round( \n",
        "    sum(\n",
        "        [len(i.split()) for i in train_sentences]\n",
        "    ) / len(train_sentences)\n",
        ") "
      ]
    },
    {
      "cell_type": "code",
      "execution_count": 11,
      "metadata": {
        "id": "pT1PkAv51F2e"
      },
      "outputs": [],
      "source": [
        "max_vocab_length = 10000 \n",
        "max_length = 18 \n",
        "\n",
        "text_vectorizer = TextVectorization(max_tokens=max_vocab_length, \n",
        "                                    output_sequence_length=max_length)"
      ]
    },
    {
      "cell_type": "code",
      "execution_count": 12,
      "metadata": {
        "id": "BUkRDBw91F2f"
      },
      "outputs": [],
      "source": [
        "text_vectorizer.adapt(train_sentences)"
      ]
    },
    {
      "cell_type": "code",
      "execution_count": 13,
      "metadata": {
        "colab": {
          "base_uri": "https://localhost:8080/"
        },
        "id": "BX-KF4NR1F2f",
        "outputId": "43006876-b894-41d7-c3eb-a607d950c2e1"
      },
      "outputs": [
        {
          "data": {
            "text/plain": [
              "<tf.Tensor: shape=(1, 18), dtype=int64, numpy=\n",
              "array([[109,   9,   5,   1,   6,  81,   1,   0,   0,   0,   0,   0,   0,\n",
              "          0,   0,   0,   0,   0]])>"
            ]
          },
          "execution_count": 13,
          "metadata": {},
          "output_type": "execute_result"
        }
      ],
      "source": [
        "sample_sentence = \"There is a flood in my suburb!\" \n",
        "text_vectorizer([sample_sentence])"
      ]
    },
    {
      "cell_type": "markdown",
      "metadata": {
        "id": "YFiNK0091F2g"
      },
      "source": [
        "## Embedding Layer  "
      ]
    },
    {
      "cell_type": "code",
      "execution_count": 14,
      "metadata": {
        "colab": {
          "base_uri": "https://localhost:8080/"
        },
        "id": "W1svqiOX1F2g",
        "outputId": "3e599f29-0710-458d-f9ca-637d27051fe0"
      },
      "outputs": [
        {
          "data": {
            "text/plain": [
              "<keras.layers.core.embedding.Embedding at 0x7f379024f8b0>"
            ]
          },
          "execution_count": 14,
          "metadata": {},
          "output_type": "execute_result"
        }
      ],
      "source": [
        "from tensorflow.keras import layers \n",
        "\n",
        "embedding = layers.Embedding(input_dim=max_vocab_length, \n",
        "                             output_dim=128,\n",
        "                             input_length=max_length,\n",
        "                             name=\"embedding_1\") \n",
        "\n",
        "embedding"
      ]
    },
    {
      "cell_type": "code",
      "execution_count": 15,
      "metadata": {
        "colab": {
          "base_uri": "https://localhost:8080/"
        },
        "id": "MswAnaKtxuL1",
        "outputId": "e835dade-b2ab-44a3-efc8-1d97fa1e88c7"
      },
      "outputs": [
        {
          "data": {
            "text/plain": [
              "<tf.Tensor: shape=(18, 128), dtype=float32, numpy=\n",
              "array([[ 0.00489832,  0.03359935, -0.03693479, ...,  0.0462946 ,\n",
              "        -0.01629032,  0.02559719],\n",
              "       [ 0.00489832,  0.03359935, -0.03693479, ...,  0.0462946 ,\n",
              "        -0.01629032,  0.02559719],\n",
              "       [-0.03639229,  0.04452708,  0.00293303, ...,  0.01932986,\n",
              "        -0.00161259, -0.0071046 ],\n",
              "       ...,\n",
              "       [-0.03928795, -0.03663001, -0.04555485, ..., -0.019331  ,\n",
              "        -0.04723166, -0.01723748],\n",
              "       [-0.03928795, -0.03663001, -0.04555485, ..., -0.019331  ,\n",
              "        -0.04723166, -0.01723748],\n",
              "       [-0.03928795, -0.03663001, -0.04555485, ..., -0.019331  ,\n",
              "        -0.04723166, -0.01723748]], dtype=float32)>"
            ]
          },
          "execution_count": 15,
          "metadata": {},
          "output_type": "execute_result"
        }
      ],
      "source": [
        "embedding(text_vectorizer(train_sentences[0]))"
      ]
    },
    {
      "cell_type": "code",
      "execution_count": 16,
      "metadata": {
        "id": "r9qPwecLx87C"
      },
      "outputs": [],
      "source": [
        "initial_embedding_weigths = embedding.get_weights() "
      ]
    },
    {
      "cell_type": "code",
      "execution_count": 17,
      "metadata": {
        "id": "Pb875XUeyDye"
      },
      "outputs": [],
      "source": [
        "# embedding.set_weights(initial_embedding_weigths)"
      ]
    },
    {
      "cell_type": "code",
      "execution_count": 18,
      "metadata": {
        "colab": {
          "base_uri": "https://localhost:8080/"
        },
        "id": "yMIK2pZ2yL9R",
        "outputId": "ef09f41b-f6e9-4e26-d6e3-f236bdc4bde9"
      },
      "outputs": [
        {
          "data": {
            "text/plain": [
              "((23418,), (23418,))"
            ]
          },
          "execution_count": 18,
          "metadata": {},
          "output_type": "execute_result"
        }
      ],
      "source": [
        "train_sentences.shape,train_labels.shape"
      ]
    },
    {
      "cell_type": "markdown",
      "metadata": {
        "id": "nxeME7yy2BeK"
      },
      "source": [
        "## Build Models \n",
        "![image.png](data:image/png;base64,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)\n",
        "\n",
        "### Model 0: Baseline (Naive Bayes) "
      ]
    },
    {
      "cell_type": "code",
      "execution_count": 19,
      "metadata": {
        "colab": {
          "base_uri": "https://localhost:8080/"
        },
        "id": "8tkBilVS1F2g",
        "outputId": "b6587ebf-b646-4b43-e44a-665cae86f6d8"
      },
      "outputs": [
        {
          "data": {
            "text/plain": [
              "Pipeline(steps=[('tfidf', TfidfVectorizer()), ('clf', MultinomialNB())])"
            ]
          },
          "execution_count": 19,
          "metadata": {},
          "output_type": "execute_result"
        }
      ],
      "source": [
        "from sklearn.feature_extraction.text import TfidfVectorizer \n",
        "from sklearn.naive_bayes import MultinomialNB\n",
        "from sklearn.pipeline import Pipeline \n",
        "\n",
        "model_0 = Pipeline([\n",
        "    (\"tfidf\", TfidfVectorizer()), # convert words to numbers using tfidf \n",
        "    (\"clf\", MultinomialNB()) # model the text \n",
        "])\n",
        "\n",
        "model_0.fit(train_sentences, train_labels) "
      ]
    },
    {
      "cell_type": "code",
      "execution_count": 20,
      "metadata": {
        "colab": {
          "base_uri": "https://localhost:8080/"
        },
        "id": "jF0rK17e2P43",
        "outputId": "0e080847-f3f7-447a-ca6f-2584fd992aa9"
      },
      "outputs": [
        {
          "name": "stdout",
          "output_type": "stream",
          "text": [
            "Our baseline model achieves an accuracy of: 88.37%\n"
          ]
        }
      ],
      "source": [
        "baseline_score = model_0.score(val_sentences, val_labels)\n",
        "print(f\"Our baseline model achieves an accuracy of: {baseline_score*100:.2f}%\")"
      ]
    },
    {
      "cell_type": "code",
      "execution_count": 21,
      "metadata": {
        "colab": {
          "base_uri": "https://localhost:8080/"
        },
        "id": "JGc6U_Hl2Tkh",
        "outputId": "d7ccfa8b-096c-4fe2-af2a-56e1861dc92b"
      },
      "outputs": [
        {
          "data": {
            "text/plain": [
              "{'model_0': {'validation': 0.8836891545687446, 'training': 0.9500384319754035}}"
            ]
          },
          "execution_count": 21,
          "metadata": {},
          "output_type": "execute_result"
        }
      ],
      "source": [
        "from sklearn.metrics import accuracy_score\n",
        "results = dict() \n",
        "results[\"model_0\"] = {\n",
        "    \"validation\": model_0.score(val_sentences, val_labels), \n",
        "    \"training\": model_0.score(train_sentences, train_labels)\n",
        "}\n",
        "\n",
        "results"
      ]
    },
    {
      "cell_type": "markdown",
      "metadata": {
        "id": "NXd-uN1o64Ox"
      },
      "source": [
        "### Model 1: A simple dense model\n"
      ]
    },
    {
      "cell_type": "code",
      "execution_count": 22,
      "metadata": {
        "id": "IrjTo5Uq3TJj"
      },
      "outputs": [],
      "source": [
        "import numpy as np \n",
        "\n",
        "inputs = layers.Input(shape=(1,), dtype=\"string\") # inputs \n",
        "x = text_vectorizer(inputs) \n",
        "x = embedding(x) # create an embedding of the numerized numbers \n",
        "x = layers.GlobalAveragePooling1D()(x)\n",
        "outputs = layers.Dense(len(np.unique(train_labels)), activation=\"softmax\")(x)\n",
        "model_1 = tf.keras.Model(inputs, outputs, name=\"model_1\")"
      ]
    },
    {
      "cell_type": "code",
      "execution_count": 23,
      "metadata": {
        "colab": {
          "base_uri": "https://localhost:8080/"
        },
        "id": "3dQXUi_Q6cCu",
        "outputId": "6bf3ede4-5e8c-477b-dad2-c1308c012613"
      },
      "outputs": [
        {
          "name": "stdout",
          "output_type": "stream",
          "text": [
            "Model: \"model_1\"\n",
            "_________________________________________________________________\n",
            " Layer (type)                Output Shape              Param #   \n",
            "=================================================================\n",
            " input_1 (InputLayer)        [(None, 1)]               0         \n",
            "                                                                 \n",
            " text_vectorization_1 (TextV  (None, 18)               0         \n",
            " ectorization)                                                   \n",
            "                                                                 \n",
            " embedding_1 (Embedding)     (None, 18, 128)           1280000   \n",
            "                                                                 \n",
            " global_average_pooling1d (G  (None, 128)              0         \n",
            " lobalAveragePooling1D)                                          \n",
            "                                                                 \n",
            " dense (Dense)               (None, 6)                 774       \n",
            "                                                                 \n",
            "=================================================================\n",
            "Total params: 1,280,774\n",
            "Trainable params: 1,280,774\n",
            "Non-trainable params: 0\n",
            "_________________________________________________________________\n"
          ]
        }
      ],
      "source": [
        "model_1.summary() \n"
      ]
    },
    {
      "cell_type": "code",
      "execution_count": 24,
      "metadata": {
        "id": "8Z4RwkzU6cFF"
      },
      "outputs": [],
      "source": [
        "model_1.compile(loss=\"categorical_crossentropy\", \n",
        "                optimizer=tf.keras.optimizers.Adam(), \n",
        "                metrics=[\"accuracy\"]) "
      ]
    },
    {
      "cell_type": "code",
      "execution_count": 25,
      "metadata": {
        "colab": {
          "base_uri": "https://localhost:8080/"
        },
        "id": "YCtAWdMqz0gk",
        "outputId": "90e81554-8c65-426b-d348-4c010182e4bb"
      },
      "outputs": [
        {
          "data": {
            "text/plain": [
              "31.991803278688526"
            ]
          },
          "execution_count": 25,
          "metadata": {},
          "output_type": "execute_result"
        }
      ],
      "source": [
        "batch_size = train_sentences.shape[0] / 732\n",
        "batch_size"
      ]
    },
    {
      "cell_type": "code",
      "execution_count": 26,
      "metadata": {
        "colab": {
          "base_uri": "https://localhost:8080/"
        },
        "id": "lxy6187N6cG0",
        "outputId": "f35caa81-98af-4d8f-acec-31bc845fdf6f"
      },
      "outputs": [
        {
          "name": "stdout",
          "output_type": "stream",
          "text": [
            "Epoch 1/5\n",
            "732/732 [==============================] - 6s 5ms/step - loss: 1.0972 - accuracy: 0.7210 - val_loss: 0.5782 - val_accuracy: 0.8444\n",
            "Epoch 2/5\n",
            "732/732 [==============================] - 4s 5ms/step - loss: 0.3978 - accuracy: 0.8917 - val_loss: 0.3897 - val_accuracy: 0.8827\n",
            "Epoch 3/5\n",
            "732/732 [==============================] - 4s 5ms/step - loss: 0.2468 - accuracy: 0.9301 - val_loss: 0.3388 - val_accuracy: 0.8909\n",
            "Epoch 4/5\n",
            "732/732 [==============================] - 3s 5ms/step - loss: 0.1739 - accuracy: 0.9517 - val_loss: 0.3170 - val_accuracy: 0.8951\n",
            "Epoch 5/5\n",
            "732/732 [==============================] - 3s 5ms/step - loss: 0.1288 - accuracy: 0.9642 - val_loss: 0.3155 - val_accuracy: 0.8967\n"
          ]
        }
      ],
      "source": [
        "model_1_history = model_1.fit(train_sentences, \n",
        "                              train_labels_dummy, \n",
        "                              validation_data=(val_sentences, val_labels_dummy), \n",
        "                              epochs=5)"
      ]
    },
    {
      "cell_type": "code",
      "execution_count": 27,
      "metadata": {
        "colab": {
          "base_uri": "https://localhost:8080/",
          "height": 320
        },
        "id": "PAfKoboK3TLj",
        "outputId": "2166eae7-a17b-4120-d4ec-32f7c01edc62"
      },
      "outputs": [
        {
          "data": {
            "image/png": "[encoded data removed]",
            "text/plain": [
              "<Figure size 576x360 with 1 Axes>"
            ]
          },
          "metadata": {
            "needs_background": "light"
          },
          "output_type": "display_data"
        }
      ],
      "source": [
        "import matplotlib.pyplot as plt \n",
        "\n",
        "pd.DataFrame(model_1_history.history).plot(figsize=(8, 5))\n",
        "plt.show()"
      ]
    },
    {
      "cell_type": "code",
      "execution_count": 28,
      "metadata": {
        "colab": {
          "base_uri": "https://localhost:8080/"
        },
        "id": "tixpkIPU91ew",
        "outputId": "f5078e07-8611-4c3d-8d38-f97e0ea8c2da"
      },
      "outputs": [
        {
          "name": "stdout",
          "output_type": "stream",
          "text": [
            "183/183 [==============================] - 1s 3ms/step - loss: 0.3155 - accuracy: 0.8967\n",
            "732/732 [==============================] - 2s 3ms/step - loss: 0.0955 - accuracy: 0.9776\n"
          ]
        }
      ],
      "source": [
        "results[\"model_1\"] = {\n",
        "    \"validation\": model_1.evaluate(val_sentences, val_labels_dummy)[1],\n",
        "    \"training\": model_1.evaluate(train_sentences, train_labels_dummy)[1]\n",
        "}"
      ]
    },
    {
      "cell_type": "code",
      "execution_count": 29,
      "metadata": {
        "colab": {
          "base_uri": "https://localhost:8080/"
        },
        "id": "3hsmri6DDl3Z",
        "outputId": "94d94097-55af-45aa-8de7-1f334d9e841d"
      },
      "outputs": [
        {
          "data": {
            "text/plain": [
              "{'model_0': {'validation': 0.8836891545687446, 'training': 0.9500384319754035},\n",
              " 'model_1': {'validation': 0.8966695070266724, 'training': 0.9775813221931458}}"
            ]
          },
          "execution_count": 29,
          "metadata": {},
          "output_type": "execute_result"
        }
      ],
      "source": [
        "results"
      ]
    },
    {
      "cell_type": "markdown",
      "metadata": {
        "id": "SOQ4d7MYKFR_"
      },
      "source": [
        "### Model 2: LSTM "
      ]
    },
    {
      "cell_type": "code",
      "execution_count": 30,
      "metadata": {
        "id": "p-gz_tuE0wJS"
      },
      "outputs": [],
      "source": [
        "embedding.set_weights(initial_embedding_weigths)"
      ]
    },
    {
      "cell_type": "code",
      "execution_count": 31,
      "metadata": {
        "id": "kLwTW43sDuj1"
      },
      "outputs": [],
      "source": [
        "inputs = layers.Input(shape=(1,), dtype=\"string\")\n",
        "x = text_vectorizer(inputs)\n",
        "x = embedding(x)\n",
        "x = layers.LSTM(64, activation=\"tanh\")(x)\n",
        "outputs = layers.Dense(len(np.unique(train_labels)), activation=\"softmax\")(x)\n",
        "model_2 = tf.keras.Model(inputs, outputs, name=\"model_2\")"
      ]
    },
    {
      "cell_type": "code",
      "execution_count": 32,
      "metadata": {
        "colab": {
          "base_uri": "https://localhost:8080/"
        },
        "id": "_scPcSqKK7iw",
        "outputId": "37c4e038-a2a0-40cd-cafb-4ac19530e308"
      },
      "outputs": [
        {
          "name": "stdout",
          "output_type": "stream",
          "text": [
            "Epoch 1/5\n",
            "732/732 [==============================] - 11s 9ms/step - loss: 0.7320 - accuracy: 0.7346 - val_loss: 0.4210 - val_accuracy: 0.8659\n",
            "Epoch 2/5\n",
            "732/732 [==============================] - 5s 7ms/step - loss: 0.2537 - accuracy: 0.9202 - val_loss: 0.3753 - val_accuracy: 0.8784\n",
            "Epoch 3/5\n",
            "732/732 [==============================] - 5s 7ms/step - loss: 0.1500 - accuracy: 0.9540 - val_loss: 0.4312 - val_accuracy: 0.8705\n",
            "Epoch 4/5\n",
            "732/732 [==============================] - 5s 7ms/step - loss: 0.1069 - accuracy: 0.9671 - val_loss: 0.4221 - val_accuracy: 0.8770\n",
            "Epoch 5/5\n",
            "732/732 [==============================] - 5s 7ms/step - loss: 0.0716 - accuracy: 0.9777 - val_loss: 0.4666 - val_accuracy: 0.8751\n"
          ]
        }
      ],
      "source": [
        "model_2.compile(loss=\"categorical_crossentropy\", \n",
        "                optimizer=tf.keras.optimizers.Adam(),\n",
        "                metrics=[\"accuracy\"]) \n",
        "model_2_history = model_2.fit(train_sentences, \n",
        "                              train_labels_dummy, \n",
        "                              validation_data=(val_sentences, val_labels_dummy), \n",
        "                              epochs=5)"
      ]
    },
    {
      "cell_type": "code",
      "execution_count": 33,
      "metadata": {
        "colab": {
          "base_uri": "https://localhost:8080/",
          "height": 320
        },
        "id": "ZiW5nDaBLk6I",
        "outputId": "d75d03aa-8982-40e1-95b1-73068574829a"
      },
      "outputs": [
        {
          "data": {
            "image/png": "[encoded data removed]",
            "text/plain": [
              "<Figure size 576x360 with 1 Axes>"
            ]
          },
          "metadata": {
            "needs_background": "light"
          },
          "output_type": "display_data"
        }
      ],
      "source": [
        "pd.DataFrame(model_2_history.history).plot(figsize=(8, 5))\n",
        "plt.show()"
      ]
    },
    {
      "cell_type": "markdown",
      "metadata": {
        "id": "73yfdcT7MTVO"
      },
      "source": [
        "- Over-fitting problem over here. "
      ]
    },
    {
      "cell_type": "code",
      "execution_count": 34,
      "metadata": {
        "colab": {
          "base_uri": "https://localhost:8080/"
        },
        "id": "-fvcfLARMPPi",
        "outputId": "42828bd9-05d8-496e-9462-fc6cac348806"
      },
      "outputs": [
        {
          "name": "stdout",
          "output_type": "stream",
          "text": [
            "183/183 [==============================] - 1s 4ms/step - loss: 0.4666 - accuracy: 0.8751\n",
            "732/732 [==============================] - 3s 4ms/step - loss: 0.0492 - accuracy: 0.9859\n"
          ]
        },
        {
          "data": {
            "text/plain": [
              "{'model_0': {'validation': 0.8836891545687446, 'training': 0.9500384319754035},\n",
              " 'model_1': {'validation': 0.8966695070266724, 'training': 0.9775813221931458},\n",
              " 'model_2': {'validation': 0.8751494288444519, 'training': 0.985865592956543}}"
            ]
          },
          "execution_count": 34,
          "metadata": {},
          "output_type": "execute_result"
        }
      ],
      "source": [
        "results[\"model_2\"] = {\n",
        "    \"validation\": model_2.evaluate(val_sentences, val_labels_dummy)[1],\n",
        "    \"training\": model_2.evaluate(train_sentences, train_labels_dummy)[1]\n",
        "}\n",
        "\n",
        "results"
      ]
    },
    {
      "cell_type": "markdown",
      "metadata": {
        "id": "6_AJ-2snNgQe"
      },
      "source": [
        "### Model 3: GRU "
      ]
    },
    {
      "cell_type": "code",
      "execution_count": 35,
      "metadata": {
        "id": "1vLm7pAw2UeM"
      },
      "outputs": [],
      "source": [
        "embedding.set_weights(initial_embedding_weigths)"
      ]
    },
    {
      "cell_type": "code",
      "execution_count": 36,
      "metadata": {
        "id": "iQZmmiHHNUQN"
      },
      "outputs": [],
      "source": [
        "inputs = layers.Input(shape=(1,), dtype=\"string\")\n",
        "x = text_vectorizer(inputs)\n",
        "x = embedding(x)\n",
        "x = layers.GRU(64, activation=\"tanh\")(x)\n",
        "outputs = layers.Dense(len(np.unique(train_labels)), activation=\"softmax\")(x)\n",
        "model_3 = tf.keras.Model(inputs, outputs, name=\"model_3\")"
      ]
    },
    {
      "cell_type": "code",
      "execution_count": 37,
      "metadata": {
        "colab": {
          "base_uri": "https://localhost:8080/"
        },
        "id": "iuGRrxMRNrpZ",
        "outputId": "3e3037bb-86ff-4adb-fc24-87857bfb9f66"
      },
      "outputs": [
        {
          "name": "stdout",
          "output_type": "stream",
          "text": [
            "Epoch 1/5\n",
            "732/732 [==============================] - 5s 7ms/step - loss: 0.4699 - accuracy: 0.8386 - val_loss: 0.3571 - val_accuracy: 0.8803\n",
            "Epoch 2/5\n",
            "732/732 [==============================] - 5s 7ms/step - loss: 0.1598 - accuracy: 0.9459 - val_loss: 0.3696 - val_accuracy: 0.8852\n",
            "Epoch 3/5\n",
            "732/732 [==============================] - 5s 7ms/step - loss: 0.0902 - accuracy: 0.9703 - val_loss: 0.4576 - val_accuracy: 0.8787\n",
            "Epoch 4/5\n",
            "732/732 [==============================] - 5s 7ms/step - loss: 0.0674 - accuracy: 0.9777 - val_loss: 0.5049 - val_accuracy: 0.8740\n",
            "Epoch 5/5\n",
            "732/732 [==============================] - 5s 7ms/step - loss: 0.0513 - accuracy: 0.9817 - val_loss: 0.5242 - val_accuracy: 0.8709\n"
          ]
        }
      ],
      "source": [
        "model_3.compile(loss=\"categorical_crossentropy\", \n",
        "                optimizer=tf.keras.optimizers.Adam(),\n",
        "                metrics=[\"accuracy\"]) \n",
        "model_3_history = model_2.fit(train_sentences, \n",
        "                              train_labels_dummy, \n",
        "                              validation_data=(val_sentences, val_labels_dummy), \n",
        "                              epochs=5)"
      ]
    },
    {
      "cell_type": "code",
      "execution_count": 38,
      "metadata": {
        "colab": {
          "base_uri": "https://localhost:8080/",
          "height": 320
        },
        "id": "Xb6UFM4gOg6o",
        "outputId": "714229ca-6f04-4bc5-a381-813c77970bd6"
      },
      "outputs": [
        {
          "data": {
            "image/png": "[encoded data removed]",
            "text/plain": [
              "<Figure size 576x360 with 1 Axes>"
            ]
          },
          "metadata": {
            "needs_background": "light"
          },
          "output_type": "display_data"
        }
      ],
      "source": [
        "pd.DataFrame(model_3_history.history).plot(figsize=(8, 5))\n",
        "plt.show()"
      ]
    },
    {
      "cell_type": "code",
      "execution_count": 39,
      "metadata": {
        "colab": {
          "base_uri": "https://localhost:8080/"
        },
        "id": "_VBxgPw-3fZ-",
        "outputId": "ed3eba7a-2965-4417-f54c-b6491c10b2fb"
      },
      "outputs": [
        {
          "name": "stdout",
          "output_type": "stream",
          "text": [
            "183/183 [==============================] - 1s 4ms/step - loss: 1.7972 - accuracy: 0.1892\n",
            "732/732 [==============================] - 3s 4ms/step - loss: 1.7960 - accuracy: 0.1965\n"
          ]
        },
        {
          "data": {
            "text/plain": [
              "{'model_0': {'validation': 0.8836891545687446, 'training': 0.9500384319754035},\n",
              " 'model_1': {'validation': 0.8966695070266724, 'training': 0.9775813221931458},\n",
              " 'model_2': {'validation': 0.8751494288444519, 'training': 0.985865592956543},\n",
              " 'model_3': {'validation': 0.189239963889122, 'training': 0.19647279381752014}}"
            ]
          },
          "execution_count": 39,
          "metadata": {},
          "output_type": "execute_result"
        }
      ],
      "source": [
        "results[\"model_3\"] = {\n",
        "    \"validation\": model_3.evaluate(val_sentences, val_labels_dummy)[1],\n",
        "    \"training\": model_3.evaluate(train_sentences, train_labels_dummy)[1]\n",
        "}\n",
        "\n",
        "results"
      ]
    },
    {
      "cell_type": "markdown",
      "metadata": {
        "id": "kS3LoZiqEmig"
      },
      "source": [
        "### Model 4: Bidirectional RNN "
      ]
    },
    {
      "cell_type": "code",
      "execution_count": 40,
      "metadata": {
        "id": "dIca3E-v3oWg"
      },
      "outputs": [],
      "source": [
        "embedding.set_weights(initial_embedding_weigths)"
      ]
    },
    {
      "cell_type": "code",
      "execution_count": 41,
      "metadata": {
        "id": "eHVScEwnEl6L"
      },
      "outputs": [],
      "source": [
        "inputs = layers.Input(shape=(1,), dtype=\"string\") \n",
        "x = text_vectorizer(inputs) \n",
        "x = embedding(x) \n",
        "x = layers.Bidirectional(layers.LSTM(64))(x) \n",
        "outputs = layers.Dense(len(np.unique(train_labels)), activation=\"sigmoid\")(x) \n",
        "\n",
        "model_4 = tf.keras.Model(\n",
        "    inputs, \n",
        "    outputs, \n",
        "    name=\"model_4_bidirectional\"\n",
        ")"
      ]
    },
    {
      "cell_type": "code",
      "execution_count": 42,
      "metadata": {
        "colab": {
          "base_uri": "https://localhost:8080/"
        },
        "id": "9Gegyd05Oy7z",
        "outputId": "c42cbdfc-75e2-4483-9dee-b581a57b4af7"
      },
      "outputs": [
        {
          "name": "stdout",
          "output_type": "stream",
          "text": [
            "Model: \"model_4_bidirectional\"\n",
            "_________________________________________________________________\n",
            " Layer (type)                Output Shape              Param #   \n",
            "=================================================================\n",
            " input_4 (InputLayer)        [(None, 1)]               0         \n",
            "                                                                 \n",
            " text_vectorization_1 (TextV  (None, 18)               0         \n",
            " ectorization)                                                   \n",
            "                                                                 \n",
            " embedding_1 (Embedding)     (None, 18, 128)           1280000   \n",
            "                                                                 \n",
            " bidirectional (Bidirectiona  (None, 128)              98816     \n",
            " l)                                                              \n",
            "                                                                 \n",
            " dense_3 (Dense)             (None, 6)                 774       \n",
            "                                                                 \n",
            "=================================================================\n",
            "Total params: 1,379,590\n",
            "Trainable params: 1,379,590\n",
            "Non-trainable params: 0\n",
            "_________________________________________________________________\n"
          ]
        }
      ],
      "source": [
        "model_4.summary() "
      ]
    },
    {
      "cell_type": "code",
      "execution_count": 43,
      "metadata": {
        "colab": {
          "base_uri": "https://localhost:8080/"
        },
        "id": "YCHOMECYF8IJ",
        "outputId": "90e9e719-faf9-46fd-f8e7-4ffbab3021c0"
      },
      "outputs": [
        {
          "name": "stdout",
          "output_type": "stream",
          "text": [
            "Epoch 1/5\n",
            "732/732 [==============================] - 11s 11ms/step - loss: 0.6436 - accuracy: 0.7725 - val_loss: 0.3728 - val_accuracy: 0.8733\n",
            "Epoch 2/5\n",
            "732/732 [==============================] - 7s 9ms/step - loss: 0.2092 - accuracy: 0.9319 - val_loss: 0.3652 - val_accuracy: 0.8775\n",
            "Epoch 3/5\n",
            "732/732 [==============================] - 7s 9ms/step - loss: 0.1158 - accuracy: 0.9613 - val_loss: 0.4094 - val_accuracy: 0.8803\n",
            "Epoch 4/5\n",
            "732/732 [==============================] - 7s 10ms/step - loss: 0.0783 - accuracy: 0.9747 - val_loss: 0.4781 - val_accuracy: 0.8714\n",
            "Epoch 5/5\n",
            "732/732 [==============================] - 7s 9ms/step - loss: 0.0541 - accuracy: 0.9825 - val_loss: 0.4836 - val_accuracy: 0.8786\n"
          ]
        }
      ],
      "source": [
        "model_4.compile(\n",
        "    loss=\"categorical_crossentropy\", \n",
        "    optimizer=tf.keras.optimizers.Adam(), \n",
        "    metrics=[\"accuracy\"] \n",
        ")\n",
        "\n",
        "history_model_4 = model_4.fit(train_sentences,\n",
        "                              train_labels_dummy, \n",
        "                              validation_data=(val_sentences, val_labels_dummy), \n",
        "                              epochs=5) "
      ]
    },
    {
      "cell_type": "code",
      "execution_count": 44,
      "metadata": {
        "colab": {
          "base_uri": "https://localhost:8080/",
          "height": 320
        },
        "id": "MsMj7Ss_GTdI",
        "outputId": "ec284e5b-4602-4878-e9f5-88755dc6cdd3"
      },
      "outputs": [
        {
          "data": {
            "image/png": "[encoded data removed]",
            "text/plain": [
              "<Figure size 576x360 with 1 Axes>"
            ]
          },
          "metadata": {
            "needs_background": "light"
          },
          "output_type": "display_data"
        }
      ],
      "source": [
        "pd.DataFrame(history_model_4.history).plot(figsize=(8, 5))\n",
        "plt.show()"
      ]
    },
    {
      "cell_type": "code",
      "execution_count": 45,
      "metadata": {
        "colab": {
          "base_uri": "https://localhost:8080/"
        },
        "id": "FttBsY8f5GbN",
        "outputId": "27b042d0-8914-42f5-9f82-37489685c0f5"
      },
      "outputs": [
        {
          "name": "stdout",
          "output_type": "stream",
          "text": [
            "183/183 [==============================] - 1s 5ms/step - loss: 0.4836 - accuracy: 0.8786\n",
            "732/732 [==============================] - 4s 5ms/step - loss: 0.0285 - accuracy: 0.9915\n"
          ]
        },
        {
          "data": {
            "text/plain": [
              "{'model_0': {'validation': 0.8836891545687446, 'training': 0.9500384319754035},\n",
              " 'model_1': {'validation': 0.8966695070266724, 'training': 0.9775813221931458},\n",
              " 'model_2': {'validation': 0.8751494288444519, 'training': 0.985865592956543},\n",
              " 'model_3': {'validation': 0.189239963889122, 'training': 0.19647279381752014},\n",
              " 'model_4': {'validation': 0.8785653114318848, 'training': 0.9915449619293213}}"
            ]
          },
          "execution_count": 45,
          "metadata": {},
          "output_type": "execute_result"
        }
      ],
      "source": [
        "results[\"model_4\"] = {\n",
        "    \"validation\": model_4.evaluate(val_sentences, val_labels_dummy)[1],\n",
        "    \"training\": model_4.evaluate(train_sentences, train_labels_dummy)[1]\n",
        "}\n",
        "\n",
        "results"
      ]
    },
    {
      "cell_type": "markdown",
      "metadata": {
        "id": "rpUN8I26IPgN"
      },
      "source": [
        "### Model 5: Conv1D"
      ]
    },
    {
      "cell_type": "code",
      "execution_count": 46,
      "metadata": {
        "id": "EWH0cjqM5DC6"
      },
      "outputs": [],
      "source": [
        "embedding.set_weights(initial_embedding_weigths)"
      ]
    },
    {
      "cell_type": "code",
      "execution_count": 47,
      "metadata": {
        "id": "w4Cm65yaKTX9"
      },
      "outputs": [],
      "source": [
        "from tensorflow.keras import layers \n",
        "\n",
        "inputs = layers.Input(shape=(1,), dtype=\"string\") \n",
        "x = text_vectorizer(inputs)\n",
        "x = embedding(x) \n",
        "x = layers.Conv1D(\n",
        "    filters=32, \n",
        "    kernel_size=5, \n",
        "    strides=1, \n",
        "    padding=\"valid\", \n",
        "    activation=\"relu\"\n",
        ")(x) \n",
        "x = layers.Conv1D(\n",
        "    filters=32, \n",
        "    kernel_size=5, \n",
        "    strides=1, \n",
        "    padding=\"valid\", \n",
        "    activation=\"relu\"\n",
        ")(x) \n",
        "x = layers.GlobalMaxPool1D()(x)\n",
        "\n",
        "outputs = layers.Dense(len(np.unique(train_labels)), activation=\"sigmoid\")(x) \n",
        "model_5 = tf.keras.Model(\n",
        "    inputs,\n",
        "    outputs, \n",
        "    name=\"model_5_conv_1d\"\n",
        ")"
      ]
    },
    {
      "cell_type": "code",
      "execution_count": 48,
      "metadata": {
        "colab": {
          "base_uri": "https://localhost:8080/"
        },
        "id": "KJUFpTYtKTd6",
        "outputId": "1de8f06d-a094-4aa6-89ed-4ae4ed9cef98"
      },
      "outputs": [
        {
          "name": "stdout",
          "output_type": "stream",
          "text": [
            "Epoch 1/5\n",
            "732/732 [==============================] - 9s 6ms/step - loss: 0.8383 - accuracy: 0.6941 - val_loss: 0.4220 - val_accuracy: 0.8536\n",
            "Epoch 2/5\n",
            "732/732 [==============================] - 4s 6ms/step - loss: 0.2422 - accuracy: 0.9219 - val_loss: 0.3966 - val_accuracy: 0.8736\n",
            "Epoch 3/5\n",
            "732/732 [==============================] - 4s 6ms/step - loss: 0.1046 - accuracy: 0.9677 - val_loss: 0.4422 - val_accuracy: 0.8702\n",
            "Epoch 4/5\n",
            "732/732 [==============================] - 4s 6ms/step - loss: 0.0482 - accuracy: 0.9854 - val_loss: 0.5496 - val_accuracy: 0.8693\n",
            "Epoch 5/5\n",
            "732/732 [==============================] - 4s 6ms/step - loss: 0.0230 - accuracy: 0.9932 - val_loss: 0.6303 - val_accuracy: 0.8712\n"
          ]
        }
      ],
      "source": [
        "model_5.compile(loss=\"categorical_crossentropy\",\n",
        "                optimizer=tf.keras.optimizers.Adam(),\n",
        "                metrics=[\"accuracy\"])\n",
        "\n",
        "history_model_5 = model_5.fit(train_sentences,\n",
        "                              train_labels_dummy,\n",
        "                              epochs=5,\n",
        "                              batch_size=32,\n",
        "                              validation_data=(val_sentences, val_labels_dummy)\n",
        "                              )"
      ]
    },
    {
      "cell_type": "code",
      "execution_count": 49,
      "metadata": {
        "colab": {
          "base_uri": "https://localhost:8080/",
          "height": 320
        },
        "id": "qzM7CieHKTgC",
        "outputId": "300b5a40-f199-49fd-f99f-d299655d904a"
      },
      "outputs": [
        {
          "data": {
            "image/png": "[encoded data removed]",
            "text/plain": [
              "<Figure size 576x360 with 1 Axes>"
            ]
          },
          "metadata": {
            "needs_background": "light"
          },
          "output_type": "display_data"
        }
      ],
      "source": [
        "pd.DataFrame(history_model_5.history).plot(figsize=(8, 5))\n",
        "plt.show()"
      ]
    },
    {
      "cell_type": "code",
      "execution_count": 50,
      "metadata": {
        "colab": {
          "base_uri": "https://localhost:8080/"
        },
        "id": "gotUQTuoKTiO",
        "outputId": "8d654ed3-5b93-4e78-acc7-b5b5625d54ab"
      },
      "outputs": [
        {
          "name": "stdout",
          "output_type": "stream",
          "text": [
            "183/183 [==============================] - 1s 3ms/step - loss: 0.6303 - accuracy: 0.8712\n",
            "732/732 [==============================] - 3s 3ms/step - loss: 0.0121 - accuracy: 0.9968\n"
          ]
        },
        {
          "data": {
            "text/plain": [
              "{'model_0': {'validation': 0.8836891545687446, 'training': 0.9500384319754035},\n",
              " 'model_1': {'validation': 0.8966695070266724, 'training': 0.9775813221931458},\n",
              " 'model_2': {'validation': 0.8751494288444519, 'training': 0.985865592956543},\n",
              " 'model_3': {'validation': 0.189239963889122, 'training': 0.19647279381752014},\n",
              " 'model_4': {'validation': 0.8785653114318848, 'training': 0.9915449619293213},\n",
              " 'model_5': {'validation': 0.8712211847305298, 'training': 0.9968400597572327}}"
            ]
          },
          "execution_count": 50,
          "metadata": {},
          "output_type": "execute_result"
        }
      ],
      "source": [
        "results[\"model_5\"] = {\n",
        "    \"validation\": model_5.evaluate(val_sentences, val_labels_dummy)[1],\n",
        "    \"training\": model_5.evaluate(train_sentences, train_labels_dummy)[1]\n",
        "}\n",
        "\n",
        "results"
      ]
    },
    {
      "cell_type": "code",
      "execution_count": 51,
      "metadata": {
        "colab": {
          "base_uri": "https://localhost:8080/",
          "height": 112
        },
        "id": "jTyeF4JJ6F8Q",
        "outputId": "78595752-e9c2-473a-a3a3-21a688401a6e"
      },
      "outputs": [
        {
          "data": {
            "text/html": [
              "\n",
              "  <div id=\"df-8bba0f82-d7f2-44a2-9ba1-e4d3356d80d8\">\n",
              "    <div class=\"colab-df-container\">\n",
              "      <div>\n",
              "<style scoped>\n",
              "    .dataframe tbody tr th:only-of-type {\n",
              "        vertical-align: middle;\n",
              "    }\n",
              "\n",
              "    .dataframe tbody tr th {\n",
              "        vertical-align: top;\n",
              "    }\n",
              "\n",
              "    .dataframe thead th {\n",
              "        text-align: right;\n",
              "    }\n",
              "</style>\n",
              "<table border=\"1\" class=\"dataframe\">\n",
              "  <thead>\n",
              "    <tr style=\"text-align: right;\">\n",
              "      <th></th>\n",
              "      <th>model_0</th>\n",
              "      <th>model_1</th>\n",
              "      <th>model_2</th>\n",
              "      <th>model_3</th>\n",
              "      <th>model_4</th>\n",
              "      <th>model_5</th>\n",
              "    </tr>\n",
              "  </thead>\n",
              "  <tbody>\n",
              "    <tr>\n",
              "      <th>validation</th>\n",
              "      <td>0.883689</td>\n",
              "      <td>0.896670</td>\n",
              "      <td>0.875149</td>\n",
              "      <td>0.189240</td>\n",
              "      <td>0.878565</td>\n",
              "      <td>0.871221</td>\n",
              "    </tr>\n",
              "    <tr>\n",
              "      <th>training</th>\n",
              "      <td>0.950038</td>\n",
              "      <td>0.977581</td>\n",
              "      <td>0.985866</td>\n",
              "      <td>0.196473</td>\n",
              "      <td>0.991545</td>\n",
              "      <td>0.996840</td>\n",
              "    </tr>\n",
              "  </tbody>\n",
              "</table>\n",
              "</div>\n",
              "      <button class=\"colab-df-convert\" onclick=\"convertToInteractive('df-8bba0f82-d7f2-44a2-9ba1-e4d3356d80d8')\"\n",
              "              title=\"Convert this dataframe to an interactive table.\"\n",
              "              style=\"display:none;\">\n",
              "        \n",
              "  <svg xmlns=\"http://www.w3.org/2000/svg\" height=\"24px\"viewBox=\"0 0 24 24\"\n",
              "       width=\"24px\">\n",
              "    <path d=\"M0 0h24v24H0V0z\" fill=\"none\"/>\n",
              "    <path d=\"M18.56 5.44l.94 2.06.94-2.06 2.06-.94-2.06-.94-.94-2.06-.94 2.06-2.06.94zm-11 1L8.5 8.5l.94-2.06 2.06-.94-2.06-.94L8.5 2.5l-.94 2.06-2.06.94zm10 10l.94 2.06.94-2.06 2.06-.94-2.06-.94-.94-2.06-.94 2.06-2.06.94z\"/><path d=\"M17.41 7.96l-1.37-1.37c-.4-.4-.92-.59-1.43-.59-.52 0-1.04.2-1.43.59L10.3 9.45l-7.72 7.72c-.78.78-.78 2.05 0 2.83L4 21.41c.39.39.9.59 1.41.59.51 0 1.02-.2 1.41-.59l7.78-7.78 2.81-2.81c.8-.78.8-2.07 0-2.86zM5.41 20L4 18.59l7.72-7.72 1.47 1.35L5.41 20z\"/>\n",
              "  </svg>\n",
              "      </button>\n",
              "      \n",
              "  <style>\n",
              "    .colab-df-container {\n",
              "      display:flex;\n",
              "      flex-wrap:wrap;\n",
              "      gap: 12px;\n",
              "    }\n",
              "\n",
              "    .colab-df-convert {\n",
              "      background-color: #E8F0FE;\n",
              "      border: none;\n",
              "      border-radius: 50%;\n",
              "      cursor: pointer;\n",
              "      display: none;\n",
              "      fill: #1967D2;\n",
              "      height: 32px;\n",
              "      padding: 0 0 0 0;\n",
              "      width: 32px;\n",
              "    }\n",
              "\n",
              "    .colab-df-convert:hover {\n",
              "      background-color: #E2EBFA;\n",
              "      box-shadow: 0px 1px 2px rgba(60, 64, 67, 0.3), 0px 1px 3px 1px rgba(60, 64, 67, 0.15);\n",
              "      fill: #174EA6;\n",
              "    }\n",
              "\n",
              "    [theme=dark] .colab-df-convert {\n",
              "      background-color: #3B4455;\n",
              "      fill: #D2E3FC;\n",
              "    }\n",
              "\n",
              "    [theme=dark] .colab-df-convert:hover {\n",
              "      background-color: #434B5C;\n",
              "      box-shadow: 0px 1px 3px 1px rgba(0, 0, 0, 0.15);\n",
              "      filter: drop-shadow(0px 1px 2px rgba(0, 0, 0, 0.3));\n",
              "      fill: #FFFFFF;\n",
              "    }\n",
              "  </style>\n",
              "\n",
              "      <script>\n",
              "        const buttonEl =\n",
              "          document.querySelector('#df-8bba0f82-d7f2-44a2-9ba1-e4d3356d80d8 button.colab-df-convert');\n",
              "        buttonEl.style.display =\n",
              "          google.colab.kernel.accessAllowed ? 'block' : 'none';\n",
              "\n",
              "        async function convertToInteractive(key) {\n",
              "          const element = document.querySelector('#df-8bba0f82-d7f2-44a2-9ba1-e4d3356d80d8');\n",
              "          const dataTable =\n",
              "            await google.colab.kernel.invokeFunction('convertToInteractive',\n",
              "                                                     [key], {});\n",
              "          if (!dataTable) return;\n",
              "\n",
              "          const docLinkHtml = 'Like what you see? Visit the ' +\n",
              "            '<a target=\"_blank\" href=https://colab.research.google.com/notebooks/data_table.ipynb>data table notebook</a>'\n",
              "            + ' to learn more about interactive tables.';\n",
              "          element.innerHTML = '';\n",
              "          dataTable['output_type'] = 'display_data';\n",
              "          await google.colab.output.renderOutput(dataTable, element);\n",
              "          const docLink = document.createElement('div');\n",
              "          docLink.innerHTML = docLinkHtml;\n",
              "          element.appendChild(docLink);\n",
              "        }\n",
              "      </script>\n",
              "    </div>\n",
              "  </div>\n",
              "  "
            ],
            "text/plain": [
              "             model_0   model_1   model_2   model_3   model_4   model_5\n",
              "validation  0.883689  0.896670  0.875149  0.189240  0.878565  0.871221\n",
              "training    0.950038  0.977581  0.985866  0.196473  0.991545  0.996840"
            ]
          },
          "execution_count": 51,
          "metadata": {},
          "output_type": "execute_result"
        }
      ],
      "source": [
        "results_step1=pd.DataFrame(results)\n",
        "results_step1"
      ]
    },
    {
      "cell_type": "markdown",
      "metadata": {
        "id": "pM_CpGruDJwK"
      },
      "source": [
        "## Applying Regularization "
      ]
    },
    {
      "cell_type": "code",
      "execution_count": 52,
      "metadata": {
        "colab": {
          "base_uri": "https://localhost:8080/"
        },
        "id": "3aljV9xTWOk_",
        "outputId": "e7e9fa57-a50e-4c01-dc46-b9a7980a1214"
      },
      "outputs": [
        {
          "data": {
            "text/plain": [
              "<keras.layers.core.embedding.Embedding at 0x7f3731166190>"
            ]
          },
          "execution_count": 52,
          "metadata": {},
          "output_type": "execute_result"
        }
      ],
      "source": [
        "from tensorflow.keras import regularizers\n",
        "embedding_reg = layers.Embedding(input_dim=max_vocab_length, \n",
        "                             output_dim=32,\n",
        "                             input_length=max_length,\n",
        "                             name=\"embedding_regularized\",\n",
        "                             embeddings_regularizer=regularizers.L2(1e-5)) \n",
        "\n",
        "embedding_reg"
      ]
    },
    {
      "cell_type": "code",
      "execution_count": 53,
      "metadata": {
        "colab": {
          "base_uri": "https://localhost:8080/"
        },
        "id": "bYGwhdnqX3Me",
        "outputId": "7f4a0e2b-34de-49ac-aa1e-f9ed8fe16430"
      },
      "outputs": [
        {
          "data": {
            "text/plain": [
              "<tf.Tensor: shape=(1, 18, 32), dtype=float32, numpy=\n",
              "array([[[ 0.01971049,  0.04956447, -0.04498898, -0.04285108,\n",
              "         -0.02997171, -0.02650551,  0.00992667, -0.01241642,\n",
              "          0.03625268, -0.00234469,  0.00255215,  0.0297983 ,\n",
              "          0.04890737, -0.03067819,  0.02791781, -0.00020131,\n",
              "         -0.00865296,  0.00535163,  0.02148299, -0.00082378,\n",
              "         -0.03263249, -0.01471297,  0.03745327,  0.00250045,\n",
              "         -0.01108126, -0.00781824,  0.04474504,  0.04529421,\n",
              "          0.03629799,  0.01169245,  0.02681491, -0.03757312],\n",
              "        [-0.04679803, -0.00125933, -0.00809896,  0.00363321,\n",
              "         -0.0115544 , -0.0220687 , -0.01188046,  0.01239752,\n",
              "          0.04536885,  0.04956514,  0.03687773, -0.00751104,\n",
              "          0.02085787,  0.03597367,  0.00982162,  0.02387882,\n",
              "         -0.03527769,  0.01040135, -0.01290347, -0.01188893,\n",
              "         -0.0239948 , -0.04676169,  0.01820729, -0.01263307,\n",
              "          0.03560979,  0.04945308, -0.03964328,  0.04440779,\n",
              "         -0.01435176, -0.04537685, -0.00878943,  0.0033604 ],\n",
              "        [-0.04679803, -0.00125933, -0.00809896,  0.00363321,\n",
              "         -0.0115544 , -0.0220687 , -0.01188046,  0.01239752,\n",
              "          0.04536885,  0.04956514,  0.03687773, -0.00751104,\n",
              "          0.02085787,  0.03597367,  0.00982162,  0.02387882,\n",
              "         -0.03527769,  0.01040135, -0.01290347, -0.01188893,\n",
              "         -0.0239948 , -0.04676169,  0.01820729, -0.01263307,\n",
              "          0.03560979,  0.04945308, -0.03964328,  0.04440779,\n",
              "         -0.01435176, -0.04537685, -0.00878943,  0.0033604 ],\n",
              "        [-0.04679803, -0.00125933, -0.00809896,  0.00363321,\n",
              "         -0.0115544 , -0.0220687 , -0.01188046,  0.01239752,\n",
              "          0.04536885,  0.04956514,  0.03687773, -0.00751104,\n",
              "          0.02085787,  0.03597367,  0.00982162,  0.02387882,\n",
              "         -0.03527769,  0.01040135, -0.01290347, -0.01188893,\n",
              "         -0.0239948 , -0.04676169,  0.01820729, -0.01263307,\n",
              "          0.03560979,  0.04945308, -0.03964328,  0.04440779,\n",
              "         -0.01435176, -0.04537685, -0.00878943,  0.0033604 ],\n",
              "        [-0.04679803, -0.00125933, -0.00809896,  0.00363321,\n",
              "         -0.0115544 , -0.0220687 , -0.01188046,  0.01239752,\n",
              "          0.04536885,  0.04956514,  0.03687773, -0.00751104,\n",
              "          0.02085787,  0.03597367,  0.00982162,  0.02387882,\n",
              "         -0.03527769,  0.01040135, -0.01290347, -0.01188893,\n",
              "         -0.0239948 , -0.04676169,  0.01820729, -0.01263307,\n",
              "          0.03560979,  0.04945308, -0.03964328,  0.04440779,\n",
              "         -0.01435176, -0.04537685, -0.00878943,  0.0033604 ],\n",
              "        [-0.04679803, -0.00125933, -0.00809896,  0.00363321,\n",
              "         -0.0115544 , -0.0220687 , -0.01188046,  0.01239752,\n",
              "          0.04536885,  0.04956514,  0.03687773, -0.00751104,\n",
              "          0.02085787,  0.03597367,  0.00982162,  0.02387882,\n",
              "         -0.03527769,  0.01040135, -0.01290347, -0.01188893,\n",
              "         -0.0239948 , -0.04676169,  0.01820729, -0.01263307,\n",
              "          0.03560979,  0.04945308, -0.03964328,  0.04440779,\n",
              "         -0.01435176, -0.04537685, -0.00878943,  0.0033604 ],\n",
              "        [-0.04679803, -0.00125933, -0.00809896,  0.00363321,\n",
              "         -0.0115544 , -0.0220687 , -0.01188046,  0.01239752,\n",
              "          0.04536885,  0.04956514,  0.03687773, -0.00751104,\n",
              "          0.02085787,  0.03597367,  0.00982162,  0.02387882,\n",
              "         -0.03527769,  0.01040135, -0.01290347, -0.01188893,\n",
              "         -0.0239948 , -0.04676169,  0.01820729, -0.01263307,\n",
              "          0.03560979,  0.04945308, -0.03964328,  0.04440779,\n",
              "         -0.01435176, -0.04537685, -0.00878943,  0.0033604 ],\n",
              "        [-0.04679803, -0.00125933, -0.00809896,  0.00363321,\n",
              "         -0.0115544 , -0.0220687 , -0.01188046,  0.01239752,\n",
              "          0.04536885,  0.04956514,  0.03687773, -0.00751104,\n",
              "          0.02085787,  0.03597367,  0.00982162,  0.02387882,\n",
              "         -0.03527769,  0.01040135, -0.01290347, -0.01188893,\n",
              "         -0.0239948 , -0.04676169,  0.01820729, -0.01263307,\n",
              "          0.03560979,  0.04945308, -0.03964328,  0.04440779,\n",
              "         -0.01435176, -0.04537685, -0.00878943,  0.0033604 ],\n",
              "        [-0.04679803, -0.00125933, -0.00809896,  0.00363321,\n",
              "         -0.0115544 , -0.0220687 , -0.01188046,  0.01239752,\n",
              "          0.04536885,  0.04956514,  0.03687773, -0.00751104,\n",
              "          0.02085787,  0.03597367,  0.00982162,  0.02387882,\n",
              "         -0.03527769,  0.01040135, -0.01290347, -0.01188893,\n",
              "         -0.0239948 , -0.04676169,  0.01820729, -0.01263307,\n",
              "          0.03560979,  0.04945308, -0.03964328,  0.04440779,\n",
              "         -0.01435176, -0.04537685, -0.00878943,  0.0033604 ],\n",
              "        [-0.04679803, -0.00125933, -0.00809896,  0.00363321,\n",
              "         -0.0115544 , -0.0220687 , -0.01188046,  0.01239752,\n",
              "          0.04536885,  0.04956514,  0.03687773, -0.00751104,\n",
              "          0.02085787,  0.03597367,  0.00982162,  0.02387882,\n",
              "         -0.03527769,  0.01040135, -0.01290347, -0.01188893,\n",
              "         -0.0239948 , -0.04676169,  0.01820729, -0.01263307,\n",
              "          0.03560979,  0.04945308, -0.03964328,  0.04440779,\n",
              "         -0.01435176, -0.04537685, -0.00878943,  0.0033604 ],\n",
              "        [-0.04679803, -0.00125933, -0.00809896,  0.00363321,\n",
              "         -0.0115544 , -0.0220687 , -0.01188046,  0.01239752,\n",
              "          0.04536885,  0.04956514,  0.03687773, -0.00751104,\n",
              "          0.02085787,  0.03597367,  0.00982162,  0.02387882,\n",
              "         -0.03527769,  0.01040135, -0.01290347, -0.01188893,\n",
              "         -0.0239948 , -0.04676169,  0.01820729, -0.01263307,\n",
              "          0.03560979,  0.04945308, -0.03964328,  0.04440779,\n",
              "         -0.01435176, -0.04537685, -0.00878943,  0.0033604 ],\n",
              "        [-0.04679803, -0.00125933, -0.00809896,  0.00363321,\n",
              "         -0.0115544 , -0.0220687 , -0.01188046,  0.01239752,\n",
              "          0.04536885,  0.04956514,  0.03687773, -0.00751104,\n",
              "          0.02085787,  0.03597367,  0.00982162,  0.02387882,\n",
              "         -0.03527769,  0.01040135, -0.01290347, -0.01188893,\n",
              "         -0.0239948 , -0.04676169,  0.01820729, -0.01263307,\n",
              "          0.03560979,  0.04945308, -0.03964328,  0.04440779,\n",
              "         -0.01435176, -0.04537685, -0.00878943,  0.0033604 ],\n",
              "        [-0.04679803, -0.00125933, -0.00809896,  0.00363321,\n",
              "         -0.0115544 , -0.0220687 , -0.01188046,  0.01239752,\n",
              "          0.04536885,  0.04956514,  0.03687773, -0.00751104,\n",
              "          0.02085787,  0.03597367,  0.00982162,  0.02387882,\n",
              "         -0.03527769,  0.01040135, -0.01290347, -0.01188893,\n",
              "         -0.0239948 , -0.04676169,  0.01820729, -0.01263307,\n",
              "          0.03560979,  0.04945308, -0.03964328,  0.04440779,\n",
              "         -0.01435176, -0.04537685, -0.00878943,  0.0033604 ],\n",
              "        [-0.04679803, -0.00125933, -0.00809896,  0.00363321,\n",
              "         -0.0115544 , -0.0220687 , -0.01188046,  0.01239752,\n",
              "          0.04536885,  0.04956514,  0.03687773, -0.00751104,\n",
              "          0.02085787,  0.03597367,  0.00982162,  0.02387882,\n",
              "         -0.03527769,  0.01040135, -0.01290347, -0.01188893,\n",
              "         -0.0239948 , -0.04676169,  0.01820729, -0.01263307,\n",
              "          0.03560979,  0.04945308, -0.03964328,  0.04440779,\n",
              "         -0.01435176, -0.04537685, -0.00878943,  0.0033604 ],\n",
              "        [-0.04679803, -0.00125933, -0.00809896,  0.00363321,\n",
              "         -0.0115544 , -0.0220687 , -0.01188046,  0.01239752,\n",
              "          0.04536885,  0.04956514,  0.03687773, -0.00751104,\n",
              "          0.02085787,  0.03597367,  0.00982162,  0.02387882,\n",
              "         -0.03527769,  0.01040135, -0.01290347, -0.01188893,\n",
              "         -0.0239948 , -0.04676169,  0.01820729, -0.01263307,\n",
              "          0.03560979,  0.04945308, -0.03964328,  0.04440779,\n",
              "         -0.01435176, -0.04537685, -0.00878943,  0.0033604 ],\n",
              "        [-0.04679803, -0.00125933, -0.00809896,  0.00363321,\n",
              "         -0.0115544 , -0.0220687 , -0.01188046,  0.01239752,\n",
              "          0.04536885,  0.04956514,  0.03687773, -0.00751104,\n",
              "          0.02085787,  0.03597367,  0.00982162,  0.02387882,\n",
              "         -0.03527769,  0.01040135, -0.01290347, -0.01188893,\n",
              "         -0.0239948 , -0.04676169,  0.01820729, -0.01263307,\n",
              "          0.03560979,  0.04945308, -0.03964328,  0.04440779,\n",
              "         -0.01435176, -0.04537685, -0.00878943,  0.0033604 ],\n",
              "        [-0.04679803, -0.00125933, -0.00809896,  0.00363321,\n",
              "         -0.0115544 , -0.0220687 , -0.01188046,  0.01239752,\n",
              "          0.04536885,  0.04956514,  0.03687773, -0.00751104,\n",
              "          0.02085787,  0.03597367,  0.00982162,  0.02387882,\n",
              "         -0.03527769,  0.01040135, -0.01290347, -0.01188893,\n",
              "         -0.0239948 , -0.04676169,  0.01820729, -0.01263307,\n",
              "          0.03560979,  0.04945308, -0.03964328,  0.04440779,\n",
              "         -0.01435176, -0.04537685, -0.00878943,  0.0033604 ],\n",
              "        [-0.04679803, -0.00125933, -0.00809896,  0.00363321,\n",
              "         -0.0115544 , -0.0220687 , -0.01188046,  0.01239752,\n",
              "          0.04536885,  0.04956514,  0.03687773, -0.00751104,\n",
              "          0.02085787,  0.03597367,  0.00982162,  0.02387882,\n",
              "         -0.03527769,  0.01040135, -0.01290347, -0.01188893,\n",
              "         -0.0239948 , -0.04676169,  0.01820729, -0.01263307,\n",
              "          0.03560979,  0.04945308, -0.03964328,  0.04440779,\n",
              "         -0.01435176, -0.04537685, -0.00878943,  0.0033604 ]]],\n",
              "      dtype=float32)>"
            ]
          },
          "execution_count": 53,
          "metadata": {},
          "output_type": "execute_result"
        }
      ],
      "source": [
        "embedding_reg(text_vectorizer([\"hello\"])) "
      ]
    },
    {
      "cell_type": "code",
      "execution_count": 54,
      "metadata": {
        "id": "JCS5D_TzYP4j"
      },
      "outputs": [],
      "source": [
        "embedding_reg_initial_weights = embedding_reg.get_weights() "
      ]
    },
    {
      "cell_type": "code",
      "execution_count": 55,
      "metadata": {
        "id": "0neWSVse6H8m"
      },
      "outputs": [],
      "source": [
        "\n",
        "inputs = layers.Input(shape=(1,), dtype=\"string\") # inputs \n",
        "x = text_vectorizer(inputs) \n",
        "x = embedding_reg(x) # create an embedding of the numerized numbers \n",
        "x = layers.Dropout(0.4)(x)\n",
        "x = layers.GlobalAveragePooling1D()(x)\n",
        "outputs = layers.Dense(len(np.unique(train_labels)), activation=\"softmax\")(x)\n",
        "model_1 = tf.keras.Model(inputs, outputs, name=\"model_1\")"
      ]
    },
    {
      "cell_type": "code",
      "execution_count": 56,
      "metadata": {
        "colab": {
          "base_uri": "https://localhost:8080/"
        },
        "id": "8FQvk0cgI2LP",
        "outputId": "bab4fc43-65ca-40e5-ee8b-599cc7184b94"
      },
      "outputs": [
        {
          "name": "stdout",
          "output_type": "stream",
          "text": [
            "Epoch 1/10\n",
            "732/732 [==============================] - 4s 5ms/step - loss: 1.4886 - accuracy: 0.6100 - val_loss: 1.0870 - val_accuracy: 0.7513\n",
            "Epoch 2/10\n",
            "732/732 [==============================] - 3s 4ms/step - loss: 0.8340 - accuracy: 0.8047 - val_loss: 0.6975 - val_accuracy: 0.8275\n",
            "Epoch 3/10\n",
            "732/732 [==============================] - 3s 4ms/step - loss: 0.5797 - accuracy: 0.8585 - val_loss: 0.5655 - val_accuracy: 0.8589\n",
            "Epoch 4/10\n",
            "732/732 [==============================] - 3s 4ms/step - loss: 0.4682 - accuracy: 0.8904 - val_loss: 0.5038 - val_accuracy: 0.8705\n",
            "Epoch 5/10\n",
            "732/732 [==============================] - 3s 5ms/step - loss: 0.4049 - accuracy: 0.9062 - val_loss: 0.4693 - val_accuracy: 0.8799\n",
            "Epoch 6/10\n",
            "732/732 [==============================] - 3s 4ms/step - loss: 0.3607 - accuracy: 0.9186 - val_loss: 0.4496 - val_accuracy: 0.8823\n",
            "Epoch 7/10\n",
            "732/732 [==============================] - 3s 4ms/step - loss: 0.3319 - accuracy: 0.9292 - val_loss: 0.4352 - val_accuracy: 0.8881\n",
            "Epoch 8/10\n",
            "732/732 [==============================] - 3s 4ms/step - loss: 0.3060 - accuracy: 0.9377 - val_loss: 0.4285 - val_accuracy: 0.8898\n",
            "Epoch 9/10\n",
            "732/732 [==============================] - 3s 5ms/step - loss: 0.2859 - accuracy: 0.9440 - val_loss: 0.4225 - val_accuracy: 0.8898\n",
            "Epoch 10/10\n",
            "732/732 [==============================] - 3s 5ms/step - loss: 0.2669 - accuracy: 0.9494 - val_loss: 0.4181 - val_accuracy: 0.8878\n"
          ]
        }
      ],
      "source": [
        "model_1.compile(loss=\"categorical_crossentropy\", \n",
        "                optimizer=tf.keras.optimizers.Adam(), \n",
        "                metrics=[\"accuracy\"]) \n",
        "\n",
        "model_1_history = model_1.fit(train_sentences, \n",
        "                              train_labels_dummy, \n",
        "                              validation_data=(val_sentences, val_labels_dummy), \n",
        "                              epochs=10)"
      ]
    },
    {
      "cell_type": "code",
      "execution_count": 57,
      "metadata": {
        "colab": {
          "base_uri": "https://localhost:8080/"
        },
        "id": "stXRnFgeUNL-",
        "outputId": "69c06803-8b6b-4621-a4a0-65ae47c8a069"
      },
      "outputs": [
        {
          "name": "stdout",
          "output_type": "stream",
          "text": [
            "183/183 [==============================] - 1s 3ms/step - loss: 0.4181 - accuracy: 0.8878\n",
            "732/732 [==============================] - 2s 3ms/step - loss: 0.2308 - accuracy: 0.9631\n"
          ]
        },
        {
          "data": {
            "text/plain": [
              "{'model_0': {'validation': 0.8836891545687446, 'training': 0.9500384319754035},\n",
              " 'model_1': {'validation': 0.8966695070266724, 'training': 0.9775813221931458},\n",
              " 'model_2': {'validation': 0.8751494288444519, 'training': 0.985865592956543},\n",
              " 'model_3': {'validation': 0.189239963889122, 'training': 0.19647279381752014},\n",
              " 'model_4': {'validation': 0.8785653114318848, 'training': 0.9915449619293213},\n",
              " 'model_5': {'validation': 0.8712211847305298, 'training': 0.9968400597572327},\n",
              " 'model_1_with_droput': {'validation': 0.8877882361412048,\n",
              "  'training': 0.9631479978561401}}"
            ]
          },
          "execution_count": 57,
          "metadata": {},
          "output_type": "execute_result"
        }
      ],
      "source": [
        "results[\"model_1_with_droput\"] = {\n",
        "    \"validation\": model_1.evaluate(val_sentences, val_labels_dummy)[1],\n",
        "    \"training\": model_1.evaluate(train_sentences, train_labels_dummy)[1]\n",
        "}\n",
        "\n",
        "results"
      ]
    },
    {
      "cell_type": "code",
      "execution_count": 58,
      "metadata": {
        "colab": {
          "base_uri": "https://localhost:8080/"
        },
        "id": "SkWBb8awI2QC",
        "outputId": "403be48e-f614-4901-a42e-e66c83234621"
      },
      "outputs": [
        {
          "name": "stdout",
          "output_type": "stream",
          "text": [
            "Epoch 1/10\n",
            "732/732 [==============================] - 7s 7ms/step - loss: 1.2925 - accuracy: 0.4965 - val_loss: 0.7266 - val_accuracy: 0.7657\n",
            "Epoch 2/10\n",
            "732/732 [==============================] - 5s 6ms/step - loss: 0.6056 - accuracy: 0.8187 - val_loss: 0.4755 - val_accuracy: 0.8613\n",
            "Epoch 3/10\n",
            "732/732 [==============================] - 5s 6ms/step - loss: 0.3833 - accuracy: 0.9002 - val_loss: 0.4076 - val_accuracy: 0.8803\n",
            "Epoch 4/10\n",
            "732/732 [==============================] - 5s 7ms/step - loss: 0.3048 - accuracy: 0.9208 - val_loss: 0.4038 - val_accuracy: 0.8833\n",
            "Epoch 5/10\n",
            "732/732 [==============================] - 5s 7ms/step - loss: 0.2535 - accuracy: 0.9346 - val_loss: 0.4085 - val_accuracy: 0.8803\n",
            "Epoch 6/10\n",
            "732/732 [==============================] - 5s 6ms/step - loss: 0.2258 - accuracy: 0.9414 - val_loss: 0.4282 - val_accuracy: 0.8822\n",
            "Epoch 7/10\n",
            "732/732 [==============================] - 5s 6ms/step - loss: 0.2046 - accuracy: 0.9481 - val_loss: 0.4364 - val_accuracy: 0.8815\n",
            "Epoch 8/10\n",
            "732/732 [==============================] - 5s 6ms/step - loss: 0.1923 - accuracy: 0.9502 - val_loss: 0.4368 - val_accuracy: 0.8823\n",
            "Epoch 9/10\n",
            "732/732 [==============================] - 5s 7ms/step - loss: 0.1816 - accuracy: 0.9523 - val_loss: 0.4846 - val_accuracy: 0.8738\n",
            "Epoch 10/10\n",
            "732/732 [==============================] - 5s 7ms/step - loss: 0.1706 - accuracy: 0.9561 - val_loss: 0.4889 - val_accuracy: 0.8745\n"
          ]
        }
      ],
      "source": [
        "embedding_reg.set_weights(embedding_reg_initial_weights)\n",
        "inputs = layers.Input(shape=(1,), dtype=\"string\")\n",
        "x = text_vectorizer(inputs)\n",
        "x = embedding_reg(x)\n",
        "x = layers.Dropout(0.5)(x)\n",
        "x = layers.LSTM(32, activation=\"tanh\", recurrent_regularizer='l2')(x)\n",
        "x = layers.Dropout(0.5)(x)\n",
        "outputs = layers.Dense(len(np.unique(train_labels)), activation=\"softmax\")(x)\n",
        "model_2 = tf.keras.Model(inputs, outputs, name=\"model_2\")\n",
        "model_2.compile(loss=\"categorical_crossentropy\", \n",
        "                optimizer=tf.keras.optimizers.Adam(),\n",
        "                metrics=[\"accuracy\"]) \n",
        "model_2_history = model_2.fit(train_sentences, \n",
        "                              train_labels_dummy, \n",
        "                              validation_data=(val_sentences, val_labels_dummy), \n",
        "                              epochs=10)"
      ]
    },
    {
      "cell_type": "code",
      "execution_count": 59,
      "metadata": {
        "colab": {
          "base_uri": "https://localhost:8080/"
        },
        "id": "HxWfaf6IUVfa",
        "outputId": "f7056fd5-f2f2-4f8d-d176-771885061845"
      },
      "outputs": [
        {
          "name": "stdout",
          "output_type": "stream",
          "text": [
            "183/183 [==============================] - 1s 4ms/step - loss: 0.4889 - accuracy: 0.8745\n",
            "732/732 [==============================] - 3s 4ms/step - loss: 0.0872 - accuracy: 0.9821\n"
          ]
        },
        {
          "data": {
            "text/plain": [
              "{'model_0': {'validation': 0.8836891545687446, 'training': 0.9500384319754035},\n",
              " 'model_1': {'validation': 0.8966695070266724, 'training': 0.9775813221931458},\n",
              " 'model_2': {'validation': 0.8751494288444519, 'training': 0.985865592956543},\n",
              " 'model_3': {'validation': 0.189239963889122, 'training': 0.19647279381752014},\n",
              " 'model_4': {'validation': 0.8785653114318848, 'training': 0.9915449619293213},\n",
              " 'model_5': {'validation': 0.8712211847305298, 'training': 0.9968400597572327},\n",
              " 'model_1_with_droput': {'validation': 0.8877882361412048,\n",
              "  'training': 0.9631479978561401},\n",
              " 'model_2_with_droput': {'validation': 0.8744662404060364,\n",
              "  'training': 0.9820650815963745}}"
            ]
          },
          "execution_count": 59,
          "metadata": {},
          "output_type": "execute_result"
        }
      ],
      "source": [
        "results[\"model_2_with_droput\"] = {\n",
        "    \"validation\": model_2.evaluate(val_sentences, val_labels_dummy)[1],\n",
        "    \"training\": model_2.evaluate(train_sentences, train_labels_dummy)[1]\n",
        "}\n",
        "\n",
        "results"
      ]
    },
    {
      "cell_type": "code",
      "execution_count": 60,
      "metadata": {
        "colab": {
          "base_uri": "https://localhost:8080/"
        },
        "id": "FUYDQ-6LI2V7",
        "outputId": "7f41a2cc-3691-44d5-ca96-4c3613834f2e"
      },
      "outputs": [
        {
          "name": "stdout",
          "output_type": "stream",
          "text": [
            "Epoch 1/10\n",
            "732/732 [==============================] - 10s 9ms/step - loss: 1.2090 - accuracy: 0.5721 - val_loss: 0.5551 - val_accuracy: 0.8379\n",
            "Epoch 2/10\n",
            "732/732 [==============================] - 6s 8ms/step - loss: 0.4929 - accuracy: 0.8610 - val_loss: 0.4283 - val_accuracy: 0.8668\n",
            "Epoch 3/10\n",
            "732/732 [==============================] - 6s 8ms/step - loss: 0.3544 - accuracy: 0.8998 - val_loss: 0.4018 - val_accuracy: 0.8755\n",
            "Epoch 4/10\n",
            "732/732 [==============================] - 7s 9ms/step - loss: 0.2825 - accuracy: 0.9212 - val_loss: 0.4132 - val_accuracy: 0.8798\n",
            "Epoch 5/10\n",
            "732/732 [==============================] - 6s 8ms/step - loss: 0.2426 - accuracy: 0.9306 - val_loss: 0.4120 - val_accuracy: 0.8845\n",
            "Epoch 6/10\n",
            "732/732 [==============================] - 6s 8ms/step - loss: 0.2195 - accuracy: 0.9392 - val_loss: 0.3990 - val_accuracy: 0.8864\n",
            "Epoch 7/10\n",
            "732/732 [==============================] - 6s 8ms/step - loss: 0.1982 - accuracy: 0.9465 - val_loss: 0.4215 - val_accuracy: 0.8861\n",
            "Epoch 8/10\n",
            "732/732 [==============================] - 7s 9ms/step - loss: 0.1853 - accuracy: 0.9489 - val_loss: 0.4534 - val_accuracy: 0.8772\n",
            "Epoch 9/10\n",
            "732/732 [==============================] - 6s 8ms/step - loss: 0.1810 - accuracy: 0.9500 - val_loss: 0.4781 - val_accuracy: 0.8825\n",
            "Epoch 10/10\n",
            "732/732 [==============================] - 6s 8ms/step - loss: 0.1682 - accuracy: 0.9548 - val_loss: 0.5011 - val_accuracy: 0.8758\n"
          ]
        }
      ],
      "source": [
        "embedding_reg.set_weights(embedding_reg_initial_weights)\n",
        "inputs = layers.Input(shape=(1,), dtype=\"string\") \n",
        "x = text_vectorizer(inputs) \n",
        "x = embedding_reg(x) \n",
        "x = layers.Dropout(0.5)(x)\n",
        "x = layers.Bidirectional(layers.LSTM(16, recurrent_regularizer='l2'))(x) \n",
        "x = layers.Dropout(0.5)(x)\n",
        "outputs = layers.Dense(len(np.unique(train_labels)), activation=\"sigmoid\")(x) \n",
        "\n",
        "model_4 = tf.keras.Model(\n",
        "    inputs, \n",
        "    outputs, \n",
        "    name=\"model_4_bidirectional\"\n",
        ")\n",
        "model_4.compile(\n",
        "    loss=\"categorical_crossentropy\", \n",
        "    optimizer=tf.keras.optimizers.Adam(), \n",
        "    metrics=[\"accuracy\"] \n",
        ")\n",
        "\n",
        "history_model_4 = model_4.fit(train_sentences,\n",
        "                              train_labels_dummy, \n",
        "                              validation_data=(val_sentences, val_labels_dummy), \n",
        "                              epochs=10) "
      ]
    },
    {
      "cell_type": "code",
      "execution_count": 61,
      "metadata": {
        "colab": {
          "base_uri": "https://localhost:8080/"
        },
        "id": "h6Yfhid9vSoI",
        "outputId": "3d757412-e700-4329-c4fa-44bf262c5f54"
      },
      "outputs": [
        {
          "data": {
            "text/plain": [
              "(23418,)"
            ]
          },
          "execution_count": 61,
          "metadata": {},
          "output_type": "execute_result"
        }
      ],
      "source": [
        "train_sentences.shape"
      ]
    },
    {
      "cell_type": "code",
      "execution_count": 62,
      "metadata": {
        "colab": {
          "base_uri": "https://localhost:8080/"
        },
        "id": "EZxqLVg_I2ay",
        "outputId": "f11b1b94-96be-4d29-e0d7-7c7ac3121cff"
      },
      "outputs": [
        {
          "name": "stdout",
          "output_type": "stream",
          "text": [
            "183/183 [==============================] - 1s 5ms/step - loss: 0.5011 - accuracy: 0.8758\n",
            "732/732 [==============================] - 3s 5ms/step - loss: 0.0866 - accuracy: 0.9807\n"
          ]
        },
        {
          "data": {
            "text/plain": [
              "{'model_0': {'validation': 0.8836891545687446, 'training': 0.9500384319754035},\n",
              " 'model_1': {'validation': 0.8966695070266724, 'training': 0.9775813221931458},\n",
              " 'model_2': {'validation': 0.8751494288444519, 'training': 0.985865592956543},\n",
              " 'model_3': {'validation': 0.189239963889122, 'training': 0.19647279381752014},\n",
              " 'model_4': {'validation': 0.8785653114318848, 'training': 0.9915449619293213},\n",
              " 'model_5': {'validation': 0.8712211847305298, 'training': 0.9968400597572327},\n",
              " 'model_1_with_droput': {'validation': 0.8877882361412048,\n",
              "  'training': 0.9631479978561401},\n",
              " 'model_2_with_droput': {'validation': 0.8744662404060364,\n",
              "  'training': 0.9820650815963745},\n",
              " 'model_4_with_droput': {'validation': 0.8758326172828674,\n",
              "  'training': 0.9807413220405579}}"
            ]
          },
          "execution_count": 62,
          "metadata": {},
          "output_type": "execute_result"
        }
      ],
      "source": [
        "results[\"model_4_with_droput\"] = {\n",
        "    \"validation\": model_4.evaluate(val_sentences, val_labels_dummy)[1],\n",
        "    \"training\": model_4.evaluate(train_sentences, train_labels_dummy)[1]\n",
        "}\n",
        "\n",
        "results"
      ]
    },
    {
      "cell_type": "code",
      "execution_count": 62,
      "metadata": {
        "id": "3DTxJh6TUdX7"
      },
      "outputs": [],
      "source": []
    },
    {
      "cell_type": "markdown",
      "metadata": {
        "id": "hZdN1HRCyR6V"
      },
      "source": [
        "# Embedding Visualization "
      ]
    },
    {
      "cell_type": "code",
      "execution_count": 63,
      "metadata": {
        "colab": {
          "base_uri": "https://localhost:8080/"
        },
        "id": "xJm-B78vyUvT",
        "outputId": "ddda576f-3d47-49ae-8cb7-13b5a2d3d402"
      },
      "outputs": [
        {
          "data": {
            "text/plain": [
              "(10000, 32)"
            ]
          },
          "execution_count": 63,
          "metadata": {},
          "output_type": "execute_result"
        }
      ],
      "source": [
        "# Get the weight matrix of embedding layer \n",
        "# these are the numerical representations of each token in our training data \n",
        "embed_weights = model_1.get_layer(\"embedding_regularized\").get_weights()[0] \n",
        "embed_weights.shape"
      ]
    },
    {
      "cell_type": "markdown",
      "metadata": {
        "id": "YnOG1XTf0VOB"
      },
      "source": [
        "10000 is the length of the Vocabulary. <br>\n",
        "32 is the lenght of the representation of each token."
      ]
    },
    {
      "cell_type": "code",
      "execution_count": 64,
      "metadata": {
        "id": "-LqvwQwc0HJ4"
      },
      "outputs": [],
      "source": [
        "vocab = text_vectorizer.get_vocabulary()"
      ]
    },
    {
      "cell_type": "code",
      "execution_count": 65,
      "metadata": {
        "id": "DyN23YQKUSPw"
      },
      "outputs": [],
      "source": [
        "import io \n",
        "\n",
        "out_v = io.open('vectors.tsv', 'w', encoding='utf-8')\n",
        "out_m = io.open('metadata.tsv', 'w', encoding='utf-8')\n",
        "\n",
        "for index, word in enumerate(vocab):\n",
        "  if index == 0:\n",
        "    continue  # skip 0, it's padding.\n",
        "  vec = embed_weights[index]\n",
        "  out_v.write('\\t'.join([str(x) for x in vec]) + \"\\n\")\n",
        "  out_m.write(word + \"\\n\")\n",
        "out_v.close()\n",
        "out_m.close()"
      ]
    },
    {
      "cell_type": "code",
      "execution_count": 66,
      "metadata": {
        "colab": {
          "base_uri": "https://localhost:8080/",
          "height": 17
        },
        "id": "6dO62cbUUl_g",
        "outputId": "19ff9a39-c50d-4dd5-8b3d-0738178501b4"
      },
      "outputs": [
        {
          "data": {
            "application/javascript": "\n    async function download(id, filename, size) {\n      if (!google.colab.kernel.accessAllowed) {\n        return;\n      }\n      const div = document.createElement('div');\n      const label = document.createElement('label');\n      label.textContent = `Downloading \"${filename}\": `;\n      div.appendChild(label);\n      const progress = document.createElement('progress');\n      progress.max = size;\n      div.appendChild(progress);\n      document.body.appendChild(div);\n\n      const buffers = [];\n      let downloaded = 0;\n\n      const channel = await google.colab.kernel.comms.open(id);\n      // Send a message to notify the kernel that we're ready.\n      channel.send({})\n\n      for await (const message of channel.messages) {\n        // Send a message to notify the kernel that we're ready.\n        channel.send({})\n        if (message.buffers) {\n          for (const buffer of message.buffers) {\n            buffers.push(buffer);\n            downloaded += buffer.byteLength;\n            progress.value = downloaded;\n          }\n        }\n      }\n      const blob = new Blob(buffers, {type: 'application/binary'});\n      const a = document.createElement('a');\n      a.href = window.URL.createObjectURL(blob);\n      a.download = filename;\n      div.appendChild(a);\n      a.click();\n      div.remove();\n    }\n  ",
            "text/plain": [
              "<IPython.core.display.Javascript object>"
            ]
          },
          "metadata": {},
          "output_type": "display_data"
        },
        {
          "data": {
            "application/javascript": "download(\"download_cb244add-4934-4e45-b755-4069185d287f\", \"vectors.tsv\", 3883996)",
            "text/plain": [
              "<IPython.core.display.Javascript object>"
            ]
          },
          "metadata": {},
          "output_type": "display_data"
        },
        {
          "data": {
            "application/javascript": "\n    async function download(id, filename, size) {\n      if (!google.colab.kernel.accessAllowed) {\n        return;\n      }\n      const div = document.createElement('div');\n      const label = document.createElement('label');\n      label.textContent = `Downloading \"${filename}\": `;\n      div.appendChild(label);\n      const progress = document.createElement('progress');\n      progress.max = size;\n      div.appendChild(progress);\n      document.body.appendChild(div);\n\n      const buffers = [];\n      let downloaded = 0;\n\n      const channel = await google.colab.kernel.comms.open(id);\n      // Send a message to notify the kernel that we're ready.\n      channel.send({})\n\n      for await (const message of channel.messages) {\n        // Send a message to notify the kernel that we're ready.\n        channel.send({})\n        if (message.buffers) {\n          for (const buffer of message.buffers) {\n            buffers.push(buffer);\n            downloaded += buffer.byteLength;\n            progress.value = downloaded;\n          }\n        }\n      }\n      const blob = new Blob(buffers, {type: 'application/binary'});\n      const a = document.createElement('a');\n      a.href = window.URL.createObjectURL(blob);\n      a.download = filename;\n      div.appendChild(a);\n      a.click();\n      div.remove();\n    }\n  ",
            "text/plain": [
              "<IPython.core.display.Javascript object>"
            ]
          },
          "metadata": {},
          "output_type": "display_data"
        },
        {
          "data": {
            "application/javascript": "download(\"download_120e0fc8-69a8-401a-9e0d-baa7e165901b\", \"metadata.tsv\", 78668)",
            "text/plain": [
              "<IPython.core.display.Javascript object>"
            ]
          },
          "metadata": {},
          "output_type": "display_data"
        }
      ],
      "source": [
        "try:\n",
        "  from google.colab import files\n",
        "  files.download('vectors.tsv')\n",
        "  files.download('metadata.tsv')\n",
        "except Exception:\n",
        "  pass\n",
        "\n",
        "# new Notebook "
      ]
    }
  ],
  "metadata": {
    "accelerator": "GPU",
    "colab": {
      "provenance": []
    },
    "gpuClass": "standard",
    "kernelspec": {
      "display_name": "Python 3.9.12 ('base')",
      "language": "python",
      "name": "python3"
    },
    "language_info": {
      "codemirror_mode": {
        "name": "ipython",
        "version": 3
      },
      "file_extension": ".py",
      "mimetype": "text/x-python",
      "name": "python",
      "nbconvert_exporter": "python",
      "pygments_lexer": "ipython3",
      "version": "3.9.13 (main, Aug 25 2022, 23:51:50) [MSC v.1916 64 bit (AMD64)]"
    },
    "orig_nbformat": 4,
    "vscode": {
      "interpreter": {
        "hash": "9059e48bf3b0ccbf418267d63bd69884bf8e25702a60f044a5610720066f9972"
      }
    }
  },
  "nbformat": 4,
  "nbformat_minor": 0
}
