{
 "cells": [
  {
   "cell_type": "markdown",
   "metadata": {},
   "source": [
    "# Explanation \n",
    "\n",
    "This notebook is going to include all the models which are build using Neurol Networks approach. \n",
    "I specified some bunch of models that I am going to deploy. \n",
    "\n",
    "- to do: Models will be stayed here ! Dont forget !  "
   ]
  },
  {
   "cell_type": "markdown",
   "metadata": {},
   "source": []
  }
 ],
 "metadata": {
  "language_info": {
   "name": "python"
  },
  "orig_nbformat": 4
 },
 "nbformat": 4,
 "nbformat_minor": 2
}
