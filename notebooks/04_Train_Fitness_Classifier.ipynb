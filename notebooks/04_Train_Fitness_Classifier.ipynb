{
 "cells": [
  {
   "cell_type": "markdown",
   "id": "6b788be8",
   "metadata": {
    "id": "6b788be8"
   },
   "source": [
    "# Imports"
   ]
  },
  {
   "cell_type": "code",
   "execution_count": 1,
   "id": "9789faf2",
   "metadata": {
    "id": "9789faf2"
   },
   "outputs": [],
   "source": [
    "import pandas as pd \n",
    "import numpy as np \n",
    "import matplotlib.pyplot as plt \n",
    "import seaborn as sns\n",
    "import pickle \n",
    "import seaborn as sns\n",
    "\n",
    "from sklearn.model_selection import train_test_split\n",
    "from sklearn.utils import shuffle\n",
    "from scipy.sparse import coo_matrix\n",
    "\n",
    "from sklearn.linear_model import LogisticRegression\n",
    "from sklearn.model_selection import cross_val_score\n",
    "from sklearn.model_selection import GridSearchCV\n",
    "\n",
    "from sklearn.svm import SVC\n",
    "\n",
    "from sklearn.metrics import f1_score,recall_score, precision_score\n",
    "\n",
    "import ast\n",
    "\n",
    "import warnings\n",
    "warnings.filterwarnings('ignore')\n",
    "warnings.warn('DelftStack')\n",
    "warnings.warn('Do not show this message')\n",
    "\n",
    "%matplotlib inline"
   ]
  },
  {
   "cell_type": "markdown",
   "id": "db0a37ed",
   "metadata": {
    "id": "db0a37ed"
   },
   "source": [
    "# Path and Load Data "
   ]
  },
  {
   "cell_type": "code",
   "execution_count": 2,
   "id": "e56c9d53",
   "metadata": {
    "colab": {
     "base_uri": "https://localhost:8080/",
     "height": 206
    },
    "id": "e56c9d53",
    "outputId": "56c653ac-0a73-4014-bdb9-905b362c8bc2"
   },
   "outputs": [
    {
     "data": {
      "text/html": [
       "<div>\n",
       "<style scoped>\n",
       "    .dataframe tbody tr th:only-of-type {\n",
       "        vertical-align: middle;\n",
       "    }\n",
       "\n",
       "    .dataframe tbody tr th {\n",
       "        vertical-align: top;\n",
       "    }\n",
       "\n",
       "    .dataframe thead th {\n",
       "        text-align: right;\n",
       "    }\n",
       "</style>\n",
       "<table border=\"1\" class=\"dataframe\">\n",
       "  <thead>\n",
       "    <tr style=\"text-align: right;\">\n",
       "      <th></th>\n",
       "      <th>fitness</th>\n",
       "    </tr>\n",
       "  </thead>\n",
       "  <tbody>\n",
       "    <tr>\n",
       "      <th>0</th>\n",
       "      <td>['know', 'effect', 'exercis', 'leg', 'tricki',...</td>\n",
       "    </tr>\n",
       "    <tr>\n",
       "      <th>1</th>\n",
       "      <td>['stress', '😩', 'tire', '😴', 'worn', '😰', 'com...</td>\n",
       "    </tr>\n",
       "    <tr>\n",
       "      <th>2</th>\n",
       "      <td>['time', 'get', 'rockin', 'foam', 'rollin', 'l...</td>\n",
       "    </tr>\n",
       "    <tr>\n",
       "      <th>3</th>\n",
       "      <td>['hi', 'zach', 'pleas', 'dm', 'us', 'thank']</td>\n",
       "    </tr>\n",
       "    <tr>\n",
       "      <th>4</th>\n",
       "      <td>['hi', 'thank', 'reach', 'account', 'manag', '...</td>\n",
       "    </tr>\n",
       "  </tbody>\n",
       "</table>\n",
       "</div>"
      ],
      "text/plain": [
       "                                             fitness\n",
       "0  ['know', 'effect', 'exercis', 'leg', 'tricki',...\n",
       "1  ['stress', '😩', 'tire', '😴', 'worn', '😰', 'com...\n",
       "2  ['time', 'get', 'rockin', 'foam', 'rollin', 'l...\n",
       "3       ['hi', 'zach', 'pleas', 'dm', 'us', 'thank']\n",
       "4  ['hi', 'thank', 'reach', 'account', 'manag', '..."
      ]
     },
     "execution_count": 2,
     "metadata": {},
     "output_type": "execute_result"
    }
   ],
   "source": [
    "data = pd.read_csv('fitness_[actual_size=4665]_processed_merge.csv').fitness\n",
    "data = pd.DataFrame(data=data)\n",
    "data.head() "
   ]
  },
  {
   "cell_type": "code",
   "execution_count": 3,
   "id": "394451fe",
   "metadata": {
    "colab": {
     "base_uri": "https://localhost:8080/"
    },
    "id": "394451fe",
    "outputId": "c07a80aa-b91c-4140-c665-238cf1d17ffe"
   },
   "outputs": [
    {
     "name": "stdout",
     "output_type": "stream",
     "text": [
      "INTEREST tweets size : 4968\n",
      "non-INTEREST tweets size : 4697\n"
     ]
    }
   ],
   "source": [
    "INTEREST_positive_tweets = data[:4968] \n",
    "print('INTEREST tweets size :', len(INTEREST_positive_tweets))\n",
    "INTEREST_negative_tweets = data[4968:] \n",
    "print('non-INTEREST tweets size :', len(INTEREST_negative_tweets))"
   ]
  },
  {
   "cell_type": "markdown",
   "id": "a1bff5d3",
   "metadata": {
    "id": "a1bff5d3"
   },
   "source": [
    "* Train test split: 20% will be in the test set, and 80% in the training set.\n"
   ]
  },
  {
   "cell_type": "code",
   "execution_count": 4,
   "id": "2671bb59",
   "metadata": {
    "id": "2671bb59"
   },
   "outputs": [],
   "source": [
    "# split the data into two pieces, one for training and one for testing (validation set) \n",
    "test_pos = INTEREST_positive_tweets[4000:]\n",
    "train_pos = INTEREST_positive_tweets[:4000]\n",
    "\n",
    "test_neg = INTEREST_negative_tweets[4000:]\n",
    "train_neg = INTEREST_negative_tweets[:4000]"
   ]
  },
  {
   "cell_type": "code",
   "execution_count": 5,
   "id": "d2d041e2",
   "metadata": {
    "id": "d2d041e2"
   },
   "outputs": [],
   "source": [
    "train_x = pd.concat([train_pos, train_neg], axis=0) \n",
    "test_x = pd.concat([test_pos, test_neg], axis=0)"
   ]
  },
  {
   "cell_type": "markdown",
   "id": "d3ce6fdd",
   "metadata": {
    "id": "d3ce6fdd"
   },
   "source": [
    "- Create the numpy array of positive labels and negative labels."
   ]
  },
  {
   "cell_type": "code",
   "execution_count": 6,
   "id": "e23e89a2",
   "metadata": {
    "id": "e23e89a2"
   },
   "outputs": [],
   "source": [
    "# combine positive and negative labels\n",
    "train_y = np.append(np.ones((len(train_pos), 1)), np.zeros((len(train_neg), 1)), axis=0)\n",
    "test_y = np.append(np.ones((len(test_pos), 1)), np.zeros((len(test_neg), 1)), axis=0)"
   ]
  },
  {
   "cell_type": "code",
   "execution_count": 7,
   "id": "21974dc3",
   "metadata": {
    "colab": {
     "base_uri": "https://localhost:8080/"
    },
    "id": "21974dc3",
    "outputId": "5cf4e047-f0d7-4e47-db6f-d19d649eb645"
   },
   "outputs": [
    {
     "name": "stdout",
     "output_type": "stream",
     "text": [
      "train shape: (8000, 1)\n",
      "test shape: (1665, 1)\n"
     ]
    }
   ],
   "source": [
    "print('train shape:', train_y.shape)\n",
    "print('test shape:', test_y.shape)"
   ]
  },
  {
   "cell_type": "markdown",
   "id": "9ed0269f",
   "metadata": {
    "id": "9ed0269f"
   },
   "source": [
    "# Vocabulary for Politics Dataset "
   ]
  },
  {
   "cell_type": "code",
   "execution_count": 8,
   "id": "ae827cf7",
   "metadata": {
    "id": "ae827cf7"
   },
   "outputs": [],
   "source": [
    "def generate_tweets_list(dataframe_single):\n",
    "    train_x_arr = [] \n",
    "    for index, row in dataframe_single.iterrows(): \n",
    "        for a in row.values: \n",
    "            train_x_arr.append(ast.literal_eval(a))\n",
    "            \n",
    "    return train_x_arr"
   ]
  },
  {
   "cell_type": "code",
   "execution_count": 9,
   "id": "52c940a6",
   "metadata": {
    "id": "52c940a6"
   },
   "outputs": [],
   "source": [
    "train_x_arr = generate_tweets_list(train_x)"
   ]
  },
  {
   "cell_type": "code",
   "execution_count": 10,
   "id": "d0042d2b",
   "metadata": {
    "id": "d0042d2b"
   },
   "outputs": [],
   "source": [
    "def build_freqs(train_x, train_y):\n",
    "    \n",
    "    yslist = np.squeeze(train_y).tolist()\n",
    "    \n",
    "    freqs = {}\n",
    "    for y, tweet in zip(yslist, train_x):\n",
    "        for word in tweet:\n",
    "            pair = (word, y)\n",
    "            if pair in freqs:\n",
    "                freqs[pair] += 1\n",
    "            else:\n",
    "                freqs[pair] = 1\n",
    "\n",
    "    return freqs"
   ]
  },
  {
   "cell_type": "code",
   "execution_count": 11,
   "id": "8f1ab7b0",
   "metadata": {
    "id": "8f1ab7b0"
   },
   "outputs": [],
   "source": [
    "freqs = build_freqs(train_x_arr, train_y) \n",
    "train_x_arr = generate_tweets_list(train_x)"
   ]
  },
  {
   "cell_type": "code",
   "execution_count": 12,
   "id": "c0c43341",
   "metadata": {
    "colab": {
     "base_uri": "https://localhost:8080/"
    },
    "id": "c0c43341",
    "outputId": "1cae7e42-16d1-4048-cfdd-de334645d058"
   },
   "outputs": [
    {
     "data": {
      "text/plain": [
       "13456"
      ]
     },
     "execution_count": 12,
     "metadata": {},
     "output_type": "execute_result"
    }
   ],
   "source": [
    "len(freqs)"
   ]
  },
  {
   "cell_type": "code",
   "execution_count": 13,
   "id": "8fee096a",
   "metadata": {
    "colab": {
     "base_uri": "https://localhost:8080/"
    },
    "id": "8fee096a",
    "outputId": "cca21574-d23e-4bf5-dd8e-1fc5395bb465"
   },
   "outputs": [
    {
     "data": {
      "text/plain": [
       "array([['0.0', '0.0'],\n",
       "       ['know', '184'],\n",
       "       ['effect', '36'],\n",
       "       ...,\n",
       "       ['propos', '1'],\n",
       "       ['davi', '1'],\n",
       "       ['fl', '1']], dtype='<U37')"
      ]
     },
     "execution_count": 13,
     "metadata": {},
     "output_type": "execute_result"
    }
   ],
   "source": [
    "freqs_vis = np.ndarray((1,2))\n",
    "\n",
    "for (word, label), value in freqs.items(): \n",
    "    if label == 1.0: \n",
    "        freqs_vis = np.append(freqs_vis, [[word, value]], axis=0)\n",
    "\n",
    "        \n",
    "freqs_vis"
   ]
  },
  {
   "cell_type": "code",
   "execution_count": 14,
   "id": "a11856c4",
   "metadata": {
    "id": "a11856c4"
   },
   "outputs": [],
   "source": [
    "freqs_vis = np.delete(freqs_vis, 0, axis=0)"
   ]
  },
  {
   "cell_type": "code",
   "execution_count": 15,
   "id": "51553d91",
   "metadata": {
    "colab": {
     "base_uri": "https://localhost:8080/",
     "height": 206
    },
    "id": "51553d91",
    "outputId": "39b6ed8e-aa15-425e-fe2c-63a464ad962d"
   },
   "outputs": [
    {
     "data": {
      "text/html": [
       "<div>\n",
       "<style scoped>\n",
       "    .dataframe tbody tr th:only-of-type {\n",
       "        vertical-align: middle;\n",
       "    }\n",
       "\n",
       "    .dataframe tbody tr th {\n",
       "        vertical-align: top;\n",
       "    }\n",
       "\n",
       "    .dataframe thead th {\n",
       "        text-align: right;\n",
       "    }\n",
       "</style>\n",
       "<table border=\"1\" class=\"dataframe\">\n",
       "  <thead>\n",
       "    <tr style=\"text-align: right;\">\n",
       "      <th></th>\n",
       "      <th>word</th>\n",
       "      <th>frequency</th>\n",
       "    </tr>\n",
       "  </thead>\n",
       "  <tbody>\n",
       "    <tr>\n",
       "      <th>0</th>\n",
       "      <td>know</td>\n",
       "      <td>184</td>\n",
       "    </tr>\n",
       "    <tr>\n",
       "      <th>1</th>\n",
       "      <td>effect</td>\n",
       "      <td>36</td>\n",
       "    </tr>\n",
       "    <tr>\n",
       "      <th>2</th>\n",
       "      <td>exercis</td>\n",
       "      <td>73</td>\n",
       "    </tr>\n",
       "    <tr>\n",
       "      <th>3</th>\n",
       "      <td>leg</td>\n",
       "      <td>55</td>\n",
       "    </tr>\n",
       "    <tr>\n",
       "      <th>4</th>\n",
       "      <td>tricki</td>\n",
       "      <td>1</td>\n",
       "    </tr>\n",
       "  </tbody>\n",
       "</table>\n",
       "</div>"
      ],
      "text/plain": [
       "      word frequency\n",
       "0     know       184\n",
       "1   effect        36\n",
       "2  exercis        73\n",
       "3      leg        55\n",
       "4   tricki         1"
      ]
     },
     "execution_count": 15,
     "metadata": {},
     "output_type": "execute_result"
    }
   ],
   "source": [
    "freqs_vis = pd.DataFrame(data=freqs_vis, columns=['word', 'frequency'])\n",
    "freqs_vis.head()"
   ]
  },
  {
   "cell_type": "code",
   "execution_count": 16,
   "id": "dcb3df17",
   "metadata": {
    "colab": {
     "base_uri": "https://localhost:8080/",
     "height": 614
    },
    "id": "dcb3df17",
    "outputId": "c1a31cf2-3884-4bda-a824-35884b2d23ab",
    "scrolled": true
   },
   "outputs": [
    {
     "data": {
      "text/html": [
       "<div>\n",
       "<style scoped>\n",
       "    .dataframe tbody tr th:only-of-type {\n",
       "        vertical-align: middle;\n",
       "    }\n",
       "\n",
       "    .dataframe tbody tr th {\n",
       "        vertical-align: top;\n",
       "    }\n",
       "\n",
       "    .dataframe thead th {\n",
       "        text-align: right;\n",
       "    }\n",
       "</style>\n",
       "<table border=\"1\" class=\"dataframe\">\n",
       "  <thead>\n",
       "    <tr style=\"text-align: right;\">\n",
       "      <th></th>\n",
       "      <th>word</th>\n",
       "      <th>frequency</th>\n",
       "    </tr>\n",
       "  </thead>\n",
       "  <tbody>\n",
       "    <tr>\n",
       "      <th>71</th>\n",
       "      <td>pleas</td>\n",
       "      <td>440</td>\n",
       "    </tr>\n",
       "    <tr>\n",
       "      <th>518</th>\n",
       "      <td>club</td>\n",
       "      <td>404</td>\n",
       "    </tr>\n",
       "    <tr>\n",
       "      <th>19</th>\n",
       "      <td>us</td>\n",
       "      <td>377</td>\n",
       "    </tr>\n",
       "    <tr>\n",
       "      <th>147</th>\n",
       "      <td>fit</td>\n",
       "      <td>376</td>\n",
       "    </tr>\n",
       "    <tr>\n",
       "      <th>32</th>\n",
       "      <td>gym</td>\n",
       "      <td>362</td>\n",
       "    </tr>\n",
       "    <tr>\n",
       "      <th>305</th>\n",
       "      <td>’</td>\n",
       "      <td>331</td>\n",
       "    </tr>\n",
       "    <tr>\n",
       "      <th>106</th>\n",
       "      <td>help</td>\n",
       "      <td>309</td>\n",
       "    </tr>\n",
       "    <tr>\n",
       "      <th>74</th>\n",
       "      <td>reach</td>\n",
       "      <td>306</td>\n",
       "    </tr>\n",
       "    <tr>\n",
       "      <th>47</th>\n",
       "      <td>get</td>\n",
       "      <td>279</td>\n",
       "    </tr>\n",
       "    <tr>\n",
       "      <th>9</th>\n",
       "      <td>workout</td>\n",
       "      <td>254</td>\n",
       "    </tr>\n",
       "    <tr>\n",
       "      <th>102</th>\n",
       "      <td>member</td>\n",
       "      <td>241</td>\n",
       "    </tr>\n",
       "    <tr>\n",
       "      <th>113</th>\n",
       "      <td>coach</td>\n",
       "      <td>222</td>\n",
       "    </tr>\n",
       "    <tr>\n",
       "      <th>68</th>\n",
       "      <td>make</td>\n",
       "      <td>203</td>\n",
       "    </tr>\n",
       "    <tr>\n",
       "      <th>376</th>\n",
       "      <td>health</td>\n",
       "      <td>200</td>\n",
       "    </tr>\n",
       "    <tr>\n",
       "      <th>107</th>\n",
       "      <td>look</td>\n",
       "      <td>194</td>\n",
       "    </tr>\n",
       "    <tr>\n",
       "      <th>98</th>\n",
       "      <td>share</td>\n",
       "      <td>189</td>\n",
       "    </tr>\n",
       "    <tr>\n",
       "      <th>153</th>\n",
       "      <td>take</td>\n",
       "      <td>189</td>\n",
       "    </tr>\n",
       "    <tr>\n",
       "      <th>0</th>\n",
       "      <td>know</td>\n",
       "      <td>184</td>\n",
       "    </tr>\n",
       "  </tbody>\n",
       "</table>\n",
       "</div>"
      ],
      "text/plain": [
       "        word  frequency\n",
       "71     pleas        440\n",
       "518     club        404\n",
       "19        us        377\n",
       "147      fit        376\n",
       "32       gym        362\n",
       "305        ’        331\n",
       "106     help        309\n",
       "74     reach        306\n",
       "47       get        279\n",
       "9    workout        254\n",
       "102   member        241\n",
       "113    coach        222\n",
       "68      make        203\n",
       "376   health        200\n",
       "107     look        194\n",
       "98     share        189\n",
       "153     take        189\n",
       "0       know        184"
      ]
     },
     "execution_count": 16,
     "metadata": {},
     "output_type": "execute_result"
    }
   ],
   "source": [
    "freqs_vis['frequency'] = freqs_vis['frequency'].astype('int')\n",
    "freqs_vis = freqs_vis.nlargest(columns='frequency', n=20).iloc[2:,:]\n",
    "freqs_vis"
   ]
  },
  {
   "cell_type": "code",
   "execution_count": 17,
   "id": "f6b8133a",
   "metadata": {
    "colab": {
     "base_uri": "https://localhost:8080/",
     "height": 334
    },
    "id": "f6b8133a",
    "outputId": "a288202c-5564-4708-99cd-6c225423a0b0"
   },
   "outputs": [
    {
     "data": {
      "image/png": "[encoded data removed]",
      "text/plain": [
       "<Figure size 1152x360 with 1 Axes>"
      ]
     },
     "metadata": {
      "needs_background": "light"
     },
     "output_type": "display_data"
    }
   ],
   "source": [
    "plt.figure(figsize=(16,5)) \n",
    "ax = sns.barplot(data=freqs_vis, x='word', y='frequency')\n",
    "ax.set(ylabel = 'Count') \n",
    "plt.show() "
   ]
  },
  {
   "cell_type": "markdown",
   "id": "bd0902da",
   "metadata": {
    "id": "bd0902da"
   },
   "source": [
    "## Extract Features \n",
    "* Given a list of tweets, extract the features and store them in a matrix. Extract two features.\n",
    "    * The first feature is the number of positive words in a tweet.\n",
    "    * The second feature is the number of negative words in a tweet. \n",
    "* Then train the logistic regression classifier on these features.\n",
    "* Test the classifier on a validation set. "
   ]
  },
  {
   "cell_type": "code",
   "execution_count": 18,
   "id": "5c98c085",
   "metadata": {
    "id": "5c98c085"
   },
   "outputs": [],
   "source": [
    "def extract_features(tweet, freqs):\n",
    "    '''\n",
    "    Input: \n",
    "        tweet: a list of words for one tweet \n",
    "        freqs: a dictionary corresponding to the frequencies of each tuple \n",
    "    Output:\n",
    "        x: a feature vector of dimension (1, 3)\n",
    "    '''\n",
    "    x = np.zeros((1, 3)) \n",
    "    x[0,0] = 1 # bias term  \n",
    "    \n",
    "    for word in tweet: \n",
    "        \n",
    "        x[0,1] += freqs.get((word, 1.0), 0) \n",
    "        \n",
    "        x[0,2] += freqs.get((word, 0.0), 0) \n",
    "        \n",
    "    assert(x.shape == (1, 3))\n",
    "    return x "
   ]
  },
  {
   "cell_type": "code",
   "execution_count": 19,
   "id": "1065dba0",
   "metadata": {
    "colab": {
     "base_uri": "https://localhost:8080/"
    },
    "id": "1065dba0",
    "outputId": "644b2a1e-9ba3-40e2-e39a-903e59e6e440"
   },
   "outputs": [
    {
     "data": {
      "text/plain": [
       "['know',\n",
       " 'effect',\n",
       " 'exercis',\n",
       " 'leg',\n",
       " 'tricki',\n",
       " 'design',\n",
       " 'quick',\n",
       " 'effect',\n",
       " '15',\n",
       " 'min',\n",
       " 'workout',\n",
       " 'knock',\n",
       " 'park',\n",
       " 'next',\n",
       " 'leg',\n",
       " 'day',\n",
       " 'one',\n",
       " 'els',\n",
       " 'back',\n",
       " 'shoulder',\n",
       " 'leg',\n",
       " 'like',\n",
       " 'us',\n",
       " '💯']"
      ]
     },
     "execution_count": 19,
     "metadata": {},
     "output_type": "execute_result"
    }
   ],
   "source": [
    "# Ex \n",
    "train_x_arr[0]"
   ]
  },
  {
   "cell_type": "code",
   "execution_count": 20,
   "id": "91d117bb",
   "metadata": {
    "colab": {
     "base_uri": "https://localhost:8080/"
    },
    "id": "91d117bb",
    "outputId": "3b7a2685-cbff-433c-ee3f-003a436149a6"
   },
   "outputs": [
    {
     "data": {
      "text/plain": [
       "array([[1.000e+00, 1.779e+03, 8.920e+02]])"
      ]
     },
     "execution_count": 20,
     "metadata": {},
     "output_type": "execute_result"
    }
   ],
   "source": [
    "extract_features(train_x_arr[0], freqs)"
   ]
  },
  {
   "cell_type": "code",
   "execution_count": 21,
   "id": "01029b9a",
   "metadata": {
    "colab": {
     "base_uri": "https://localhost:8080/"
    },
    "id": "01029b9a",
    "outputId": "dfb4ea63-7709-4852-819f-12f562d4cfdb"
   },
   "outputs": [
    {
     "data": {
      "text/plain": [
       "array([[1., 0., 0.]])"
      ]
     },
     "execution_count": 21,
     "metadata": {},
     "output_type": "execute_result"
    }
   ],
   "source": [
    "extract_features(['asd', 'asd', 'asd'], freqs)"
   ]
  },
  {
   "cell_type": "code",
   "execution_count": 22,
   "id": "ea6ed327",
   "metadata": {
    "colab": {
     "base_uri": "https://localhost:8080/"
    },
    "id": "ea6ed327",
    "outputId": "b5d11d8d-acb1-4e44-c3a7-cc49086eda73"
   },
   "outputs": [
    {
     "data": {
      "text/plain": [
       "array([[1.000e+00, 1.779e+03, 8.920e+02],\n",
       "       [1.000e+00, 1.317e+03, 5.060e+02],\n",
       "       [1.000e+00, 1.665e+03, 1.394e+03],\n",
       "       [1.000e+00, 2.150e+03, 8.800e+01],\n",
       "       [1.000e+00, 4.034e+03, 1.920e+02]])"
      ]
     },
     "execution_count": 22,
     "metadata": {},
     "output_type": "execute_result"
    }
   ],
   "source": [
    "X = np.zeros((len(train_x_arr), 3))\n",
    "for i in range(len(train_x_arr)):\n",
    "    X[i, :]= extract_features(train_x_arr[i], freqs) \n",
    "    \n",
    "X[:5]"
   ]
  },
  {
   "cell_type": "code",
   "execution_count": 23,
   "id": "4d531add",
   "metadata": {
    "id": "4d531add"
   },
   "outputs": [],
   "source": [
    "y = train_y"
   ]
  },
  {
   "cell_type": "code",
   "execution_count": 24,
   "id": "43f6b85f",
   "metadata": {
    "colab": {
     "base_uri": "https://localhost:8080/"
    },
    "id": "43f6b85f",
    "outputId": "85176fde-a5de-4181-86bc-f2a2a21d9b74"
   },
   "outputs": [
    {
     "data": {
      "text/plain": [
       "array([[1.],\n",
       "       [1.],\n",
       "       [0.],\n",
       "       ...,\n",
       "       [1.],\n",
       "       [1.],\n",
       "       [1.]])"
      ]
     },
     "execution_count": 24,
     "metadata": {},
     "output_type": "execute_result"
    }
   ],
   "source": [
    "X_sparse = coo_matrix(X)\n",
    "X, X_sparse, y = shuffle(X, X_sparse, y, random_state=0)\n",
    "\n",
    "y"
   ]
  },
  {
   "cell_type": "code",
   "execution_count": 25,
   "id": "bab8e47a",
   "metadata": {
    "colab": {
     "base_uri": "https://localhost:8080/"
    },
    "id": "bab8e47a",
    "outputId": "c5409a28-7dcd-4ecf-e151-2855ff8c4242"
   },
   "outputs": [
    {
     "data": {
      "text/plain": [
       "array([[  1., 219., 164.],\n",
       "       [  1., 352., 294.],\n",
       "       [  1., 438., 661.],\n",
       "       ...,\n",
       "       [  1., 811., 492.],\n",
       "       [  1.,  14.,  27.],\n",
       "       [  1., 229., 240.]])"
      ]
     },
     "execution_count": 25,
     "metadata": {},
     "output_type": "execute_result"
    }
   ],
   "source": [
    "X"
   ]
  },
  {
   "cell_type": "code",
   "execution_count": 26,
   "id": "ac63290a",
   "metadata": {
    "colab": {
     "base_uri": "https://localhost:8080/",
     "height": 206
    },
    "id": "ac63290a",
    "outputId": "3821d989-7753-485d-a4ed-8cbd09b0030b"
   },
   "outputs": [
    {
     "data": {
      "text/html": [
       "<div>\n",
       "<style scoped>\n",
       "    .dataframe tbody tr th:only-of-type {\n",
       "        vertical-align: middle;\n",
       "    }\n",
       "\n",
       "    .dataframe tbody tr th {\n",
       "        vertical-align: top;\n",
       "    }\n",
       "\n",
       "    .dataframe thead th {\n",
       "        text-align: right;\n",
       "    }\n",
       "</style>\n",
       "<table border=\"1\" class=\"dataframe\">\n",
       "  <thead>\n",
       "    <tr style=\"text-align: right;\">\n",
       "      <th></th>\n",
       "      <th>bias</th>\n",
       "      <th>positive</th>\n",
       "      <th>negative</th>\n",
       "      <th>target</th>\n",
       "    </tr>\n",
       "  </thead>\n",
       "  <tbody>\n",
       "    <tr>\n",
       "      <th>0</th>\n",
       "      <td>1.0</td>\n",
       "      <td>219.0</td>\n",
       "      <td>164.0</td>\n",
       "      <td>1.0</td>\n",
       "    </tr>\n",
       "    <tr>\n",
       "      <th>1</th>\n",
       "      <td>1.0</td>\n",
       "      <td>352.0</td>\n",
       "      <td>294.0</td>\n",
       "      <td>1.0</td>\n",
       "    </tr>\n",
       "    <tr>\n",
       "      <th>2</th>\n",
       "      <td>1.0</td>\n",
       "      <td>438.0</td>\n",
       "      <td>661.0</td>\n",
       "      <td>0.0</td>\n",
       "    </tr>\n",
       "    <tr>\n",
       "      <th>3</th>\n",
       "      <td>1.0</td>\n",
       "      <td>2672.0</td>\n",
       "      <td>86.0</td>\n",
       "      <td>1.0</td>\n",
       "    </tr>\n",
       "    <tr>\n",
       "      <th>4</th>\n",
       "      <td>1.0</td>\n",
       "      <td>26.0</td>\n",
       "      <td>25.0</td>\n",
       "      <td>1.0</td>\n",
       "    </tr>\n",
       "  </tbody>\n",
       "</table>\n",
       "</div>"
      ],
      "text/plain": [
       "   bias  positive  negative  target\n",
       "0   1.0     219.0     164.0     1.0\n",
       "1   1.0     352.0     294.0     1.0\n",
       "2   1.0     438.0     661.0     0.0\n",
       "3   1.0    2672.0      86.0     1.0\n",
       "4   1.0      26.0      25.0     1.0"
      ]
     },
     "execution_count": 26,
     "metadata": {},
     "output_type": "execute_result"
    }
   ],
   "source": [
    "vis_X = pd.DataFrame(data=X, columns=['bias', 'positive', 'negative'])\n",
    "vis_y = pd.DataFrame(data=y, columns=['target']) \n",
    "\n",
    "vis_data = pd.concat([vis_X, vis_y], axis=1) \n",
    "\n",
    "vis_data.head() "
   ]
  },
  {
   "cell_type": "code",
   "execution_count": 27,
   "id": "388ae033",
   "metadata": {
    "colab": {
     "base_uri": "https://localhost:8080/",
     "height": 626
    },
    "id": "388ae033",
    "outputId": "0b9aef09-0710-4de5-f89d-28f2ad700a93"
   },
   "outputs": [
    {
     "data": {
      "text/plain": [
       "<Figure size 720x720 with 0 Axes>"
      ]
     },
     "metadata": {},
     "output_type": "display_data"
    },
    {
     "data": {
      "image/png": "[encoded data removed]",
      "text/plain": [
       "<Figure size 628x576 with 1 Axes>"
      ]
     },
     "metadata": {
      "needs_background": "light"
     },
     "output_type": "display_data"
    }
   ],
   "source": [
    "plt.figure(figsize=(10,10))\n",
    "#plt.scatter(x='positive', y='negative', data=vis_data, c=vis_data.target, alpha=0.8, cmap='viridis', s=15)\n",
    "sns.lmplot(x='positive', y='negative', data=vis_data, hue='target', fit_reg=False, height=8, markers=['x','o'])\n",
    "plt.title('Politics Set')\n",
    "plt.xlabel('positive', fontsize=18)\n",
    "plt.ylabel('negative', fontsize=18) \n",
    "plt.show() "
   ]
  },
  {
   "cell_type": "markdown",
   "id": "773106a3",
   "metadata": {
    "id": "773106a3"
   },
   "source": [
    "# Classifier  1 : Logistic Regression \n",
    "\n",
    "* The sigmoid function is defined as: \n",
    "\n",
    "$$ h(z) = \\frac{1}{1+\\exp^{-z}} $$\n",
    "\n",
    "It maps the input 'z' to a value that ranges between 0 and 1, and so it can be treated as a probability. \n"
   ]
  },
  {
   "cell_type": "markdown",
   "id": "684a2f5d",
   "metadata": {
    "id": "684a2f5d"
   },
   "source": [
    "# 1.1 Apply Logistic Regression and Cross - Validation "
   ]
  },
  {
   "cell_type": "markdown",
   "id": "c3a91709",
   "metadata": {
    "id": "c3a91709"
   },
   "source": [
    "* As a reminder, We have a balanced dataset. "
   ]
  },
  {
   "cell_type": "code",
   "execution_count": 28,
   "id": "3d619f98",
   "metadata": {
    "colab": {
     "base_uri": "https://localhost:8080/"
    },
    "id": "3d619f98",
    "outputId": "6d442368-21c8-4598-cc66-22929418b8c2"
   },
   "outputs": [
    {
     "data": {
      "text/plain": [
       "array([0.823125, 0.816875, 0.82625 , 0.81625 , 0.840625])"
      ]
     },
     "execution_count": 28,
     "metadata": {},
     "output_type": "execute_result"
    }
   ],
   "source": [
    "cross_val_score(LogisticRegression(), X, y.ravel())"
   ]
  },
  {
   "cell_type": "markdown",
   "id": "13e0d1a2",
   "metadata": {
    "id": "13e0d1a2"
   },
   "source": [
    "- We have very satisfying results. Let's do some hyper-parameter tuning."
   ]
  },
  {
   "cell_type": "markdown",
   "id": "29e6e460",
   "metadata": {
    "id": "29e6e460"
   },
   "source": [
    "# 1.2 Grid Search on Logistic Regression"
   ]
  },
  {
   "cell_type": "code",
   "execution_count": 29,
   "id": "6f14046d",
   "metadata": {
    "colab": {
     "base_uri": "https://localhost:8080/"
    },
    "id": "6f14046d",
    "outputId": "3b2e245e-f00e-4672-8b48-49e2edf0eb31"
   },
   "outputs": [
    {
     "name": "stdout",
     "output_type": "stream",
     "text": [
      "CPU times: total: 969 ms\n",
      "Wall time: 411 ms\n"
     ]
    },
    {
     "data": {
      "text/plain": [
       "GridSearchCV(cv=5, estimator=LogisticRegression(solver='liblinear'),\n",
       "             param_grid={'C': [1e-10, 1e-05, 0.0001, 0.001, 0.01, 0.1, 1, 10,\n",
       "                               100]},\n",
       "             scoring='accuracy')"
      ]
     },
     "execution_count": 29,
     "metadata": {},
     "output_type": "execute_result"
    }
   ],
   "source": [
    "%%time\n",
    "gs_model = LogisticRegression(solver='liblinear') \n",
    "space = {\n",
    "    'C': [1e-10,1e-5, 1e-4, 1e-3, 1e-2, 1e-1, 1, 10, 100]\n",
    "}\n",
    "\n",
    "search = GridSearchCV(gs_model, space, scoring='accuracy', cv = 5) \n",
    "search.fit(X, y.ravel())  "
   ]
  },
  {
   "cell_type": "code",
   "execution_count": 30,
   "id": "e3e840f6",
   "metadata": {
    "colab": {
     "base_uri": "https://localhost:8080/"
    },
    "id": "e3e840f6",
    "outputId": "5dc101c4-9c3c-4a85-dce1-44ef87da5eeb"
   },
   "outputs": [
    {
     "name": "stdout",
     "output_type": "stream",
     "text": [
      "Best Score: 0.8247500000000001\n",
      "Best Hyperparameters: {'C': 0.1}\n"
     ]
    }
   ],
   "source": [
    "print('Best Score: %s' % search.best_score_)\n",
    "print('Best Hyperparameters: %s' % search.best_params_)"
   ]
  },
  {
   "cell_type": "code",
   "execution_count": 31,
   "id": "95a830c3",
   "metadata": {
    "colab": {
     "base_uri": "https://localhost:8080/",
     "height": 534
    },
    "id": "95a830c3",
    "outputId": "9e977d72-e799-4c38-c4b7-6985c2a0fd4c"
   },
   "outputs": [
    {
     "data": {
      "text/html": [
       "<div>\n",
       "<style scoped>\n",
       "    .dataframe tbody tr th:only-of-type {\n",
       "        vertical-align: middle;\n",
       "    }\n",
       "\n",
       "    .dataframe tbody tr th {\n",
       "        vertical-align: top;\n",
       "    }\n",
       "\n",
       "    .dataframe thead th {\n",
       "        text-align: right;\n",
       "    }\n",
       "</style>\n",
       "<table border=\"1\" class=\"dataframe\">\n",
       "  <thead>\n",
       "    <tr style=\"text-align: right;\">\n",
       "      <th></th>\n",
       "      <th>mean_fit_time</th>\n",
       "      <th>std_fit_time</th>\n",
       "      <th>mean_score_time</th>\n",
       "      <th>std_score_time</th>\n",
       "      <th>param_C</th>\n",
       "      <th>params</th>\n",
       "      <th>split0_test_score</th>\n",
       "      <th>split1_test_score</th>\n",
       "      <th>split2_test_score</th>\n",
       "      <th>split3_test_score</th>\n",
       "      <th>split4_test_score</th>\n",
       "      <th>mean_test_score</th>\n",
       "      <th>std_test_score</th>\n",
       "      <th>rank_test_score</th>\n",
       "    </tr>\n",
       "  </thead>\n",
       "  <tbody>\n",
       "    <tr>\n",
       "      <th>0</th>\n",
       "      <td>0.007788</td>\n",
       "      <td>0.002984</td>\n",
       "      <td>0.000789</td>\n",
       "      <td>0.000395</td>\n",
       "      <td>0.0</td>\n",
       "      <td>{'C': 1e-10}</td>\n",
       "      <td>0.748750</td>\n",
       "      <td>0.748750</td>\n",
       "      <td>0.745625</td>\n",
       "      <td>0.746875</td>\n",
       "      <td>0.766875</td>\n",
       "      <td>0.751375</td>\n",
       "      <td>0.007840</td>\n",
       "      <td>9</td>\n",
       "    </tr>\n",
       "    <tr>\n",
       "      <th>1</th>\n",
       "      <td>0.008392</td>\n",
       "      <td>0.001630</td>\n",
       "      <td>0.000798</td>\n",
       "      <td>0.000746</td>\n",
       "      <td>0.00001</td>\n",
       "      <td>{'C': 1e-05}</td>\n",
       "      <td>0.823125</td>\n",
       "      <td>0.811250</td>\n",
       "      <td>0.825625</td>\n",
       "      <td>0.808750</td>\n",
       "      <td>0.830625</td>\n",
       "      <td>0.819875</td>\n",
       "      <td>0.008454</td>\n",
       "      <td>7</td>\n",
       "    </tr>\n",
       "    <tr>\n",
       "      <th>2</th>\n",
       "      <td>0.008770</td>\n",
       "      <td>0.002123</td>\n",
       "      <td>0.000798</td>\n",
       "      <td>0.000399</td>\n",
       "      <td>0.0001</td>\n",
       "      <td>{'C': 0.0001}</td>\n",
       "      <td>0.823125</td>\n",
       "      <td>0.810000</td>\n",
       "      <td>0.825625</td>\n",
       "      <td>0.809375</td>\n",
       "      <td>0.829375</td>\n",
       "      <td>0.819500</td>\n",
       "      <td>0.008258</td>\n",
       "      <td>8</td>\n",
       "    </tr>\n",
       "    <tr>\n",
       "      <th>3</th>\n",
       "      <td>0.008178</td>\n",
       "      <td>0.002555</td>\n",
       "      <td>0.000399</td>\n",
       "      <td>0.000489</td>\n",
       "      <td>0.001</td>\n",
       "      <td>{'C': 0.001}</td>\n",
       "      <td>0.826250</td>\n",
       "      <td>0.813750</td>\n",
       "      <td>0.830000</td>\n",
       "      <td>0.808125</td>\n",
       "      <td>0.833750</td>\n",
       "      <td>0.822375</td>\n",
       "      <td>0.009798</td>\n",
       "      <td>6</td>\n",
       "    </tr>\n",
       "    <tr>\n",
       "      <th>4</th>\n",
       "      <td>0.006984</td>\n",
       "      <td>0.000902</td>\n",
       "      <td>0.001196</td>\n",
       "      <td>0.000403</td>\n",
       "      <td>0.01</td>\n",
       "      <td>{'C': 0.01}</td>\n",
       "      <td>0.821875</td>\n",
       "      <td>0.816250</td>\n",
       "      <td>0.825000</td>\n",
       "      <td>0.816875</td>\n",
       "      <td>0.840625</td>\n",
       "      <td>0.824125</td>\n",
       "      <td>0.008862</td>\n",
       "      <td>5</td>\n",
       "    </tr>\n",
       "    <tr>\n",
       "      <th>5</th>\n",
       "      <td>0.006586</td>\n",
       "      <td>0.000494</td>\n",
       "      <td>0.000601</td>\n",
       "      <td>0.000491</td>\n",
       "      <td>0.1</td>\n",
       "      <td>{'C': 0.1}</td>\n",
       "      <td>0.823125</td>\n",
       "      <td>0.816875</td>\n",
       "      <td>0.826875</td>\n",
       "      <td>0.816250</td>\n",
       "      <td>0.840625</td>\n",
       "      <td>0.824750</td>\n",
       "      <td>0.008871</td>\n",
       "      <td>1</td>\n",
       "    </tr>\n",
       "    <tr>\n",
       "      <th>6</th>\n",
       "      <td>0.006925</td>\n",
       "      <td>0.000728</td>\n",
       "      <td>0.000588</td>\n",
       "      <td>0.000481</td>\n",
       "      <td>1</td>\n",
       "      <td>{'C': 1}</td>\n",
       "      <td>0.823125</td>\n",
       "      <td>0.816875</td>\n",
       "      <td>0.826250</td>\n",
       "      <td>0.816250</td>\n",
       "      <td>0.840625</td>\n",
       "      <td>0.824625</td>\n",
       "      <td>0.008844</td>\n",
       "      <td>2</td>\n",
       "    </tr>\n",
       "    <tr>\n",
       "      <th>7</th>\n",
       "      <td>0.007181</td>\n",
       "      <td>0.000768</td>\n",
       "      <td>0.000799</td>\n",
       "      <td>0.000400</td>\n",
       "      <td>10</td>\n",
       "      <td>{'C': 10}</td>\n",
       "      <td>0.823125</td>\n",
       "      <td>0.816875</td>\n",
       "      <td>0.826250</td>\n",
       "      <td>0.816250</td>\n",
       "      <td>0.840625</td>\n",
       "      <td>0.824625</td>\n",
       "      <td>0.008844</td>\n",
       "      <td>2</td>\n",
       "    </tr>\n",
       "    <tr>\n",
       "      <th>8</th>\n",
       "      <td>0.007361</td>\n",
       "      <td>0.001031</td>\n",
       "      <td>0.000597</td>\n",
       "      <td>0.000488</td>\n",
       "      <td>100</td>\n",
       "      <td>{'C': 100}</td>\n",
       "      <td>0.823125</td>\n",
       "      <td>0.816875</td>\n",
       "      <td>0.826250</td>\n",
       "      <td>0.816250</td>\n",
       "      <td>0.840625</td>\n",
       "      <td>0.824625</td>\n",
       "      <td>0.008844</td>\n",
       "      <td>2</td>\n",
       "    </tr>\n",
       "  </tbody>\n",
       "</table>\n",
       "</div>"
      ],
      "text/plain": [
       "   mean_fit_time  std_fit_time  mean_score_time  std_score_time  param_C  \\\n",
       "0       0.007788      0.002984         0.000789        0.000395      0.0   \n",
       "1       0.008392      0.001630         0.000798        0.000746  0.00001   \n",
       "2       0.008770      0.002123         0.000798        0.000399   0.0001   \n",
       "3       0.008178      0.002555         0.000399        0.000489    0.001   \n",
       "4       0.006984      0.000902         0.001196        0.000403     0.01   \n",
       "5       0.006586      0.000494         0.000601        0.000491      0.1   \n",
       "6       0.006925      0.000728         0.000588        0.000481        1   \n",
       "7       0.007181      0.000768         0.000799        0.000400       10   \n",
       "8       0.007361      0.001031         0.000597        0.000488      100   \n",
       "\n",
       "          params  split0_test_score  split1_test_score  split2_test_score  \\\n",
       "0   {'C': 1e-10}           0.748750           0.748750           0.745625   \n",
       "1   {'C': 1e-05}           0.823125           0.811250           0.825625   \n",
       "2  {'C': 0.0001}           0.823125           0.810000           0.825625   \n",
       "3   {'C': 0.001}           0.826250           0.813750           0.830000   \n",
       "4    {'C': 0.01}           0.821875           0.816250           0.825000   \n",
       "5     {'C': 0.1}           0.823125           0.816875           0.826875   \n",
       "6       {'C': 1}           0.823125           0.816875           0.826250   \n",
       "7      {'C': 10}           0.823125           0.816875           0.826250   \n",
       "8     {'C': 100}           0.823125           0.816875           0.826250   \n",
       "\n",
       "   split3_test_score  split4_test_score  mean_test_score  std_test_score  \\\n",
       "0           0.746875           0.766875         0.751375        0.007840   \n",
       "1           0.808750           0.830625         0.819875        0.008454   \n",
       "2           0.809375           0.829375         0.819500        0.008258   \n",
       "3           0.808125           0.833750         0.822375        0.009798   \n",
       "4           0.816875           0.840625         0.824125        0.008862   \n",
       "5           0.816250           0.840625         0.824750        0.008871   \n",
       "6           0.816250           0.840625         0.824625        0.008844   \n",
       "7           0.816250           0.840625         0.824625        0.008844   \n",
       "8           0.816250           0.840625         0.824625        0.008844   \n",
       "\n",
       "   rank_test_score  \n",
       "0                9  \n",
       "1                7  \n",
       "2                8  \n",
       "3                6  \n",
       "4                5  \n",
       "5                1  \n",
       "6                2  \n",
       "7                2  \n",
       "8                2  "
      ]
     },
     "execution_count": 31,
     "metadata": {},
     "output_type": "execute_result"
    }
   ],
   "source": [
    "pd.DataFrame(search.cv_results_)"
   ]
  },
  {
   "cell_type": "code",
   "execution_count": 32,
   "id": "3c3f0210",
   "metadata": {
    "colab": {
     "base_uri": "https://localhost:8080/"
    },
    "id": "3c3f0210",
    "outputId": "0329290f-98a1-43b1-bd33-5e16665d3b5e"
   },
   "outputs": [
    {
     "data": {
      "text/plain": [
       "0.8247500000000001"
      ]
     },
     "execution_count": 32,
     "metadata": {},
     "output_type": "execute_result"
    }
   ],
   "source": [
    "search.best_score_"
   ]
  },
  {
   "cell_type": "code",
   "execution_count": 102,
   "id": "3b4dd05d",
   "metadata": {},
   "outputs": [
    {
     "data": {
      "text/plain": [
       "LogisticRegression(C=0.1, solver='liblinear')"
      ]
     },
     "execution_count": 102,
     "metadata": {},
     "output_type": "execute_result"
    }
   ],
   "source": [
    "search.best_estimator_"
   ]
  },
  {
   "cell_type": "markdown",
   "id": "0ce06a5b",
   "metadata": {
    "id": "0ce06a5b"
   },
   "source": [
    "# Test Logistic Regression Model"
   ]
  },
  {
   "cell_type": "code",
   "execution_count": 33,
   "id": "d091b052",
   "metadata": {
    "id": "d091b052"
   },
   "outputs": [],
   "source": [
    "test_x_arr = generate_tweets_list(test_x)"
   ]
  },
  {
   "cell_type": "code",
   "execution_count": 34,
   "id": "c41a52ae",
   "metadata": {
    "colab": {
     "base_uri": "https://localhost:8080/"
    },
    "id": "c41a52ae",
    "outputId": "15d625f2-f7dc-433f-f024-76f63e4b446d"
   },
   "outputs": [
    {
     "data": {
      "text/plain": [
       "array([[1.000e+00, 5.150e+02, 5.520e+02],\n",
       "       [1.000e+00, 2.174e+03, 4.300e+02],\n",
       "       [1.000e+00, 3.240e+02, 4.230e+02],\n",
       "       [1.000e+00, 2.240e+02, 2.330e+02],\n",
       "       [1.000e+00, 4.850e+02, 1.890e+02]])"
      ]
     },
     "execution_count": 34,
     "metadata": {},
     "output_type": "execute_result"
    }
   ],
   "source": [
    "X_test = np.zeros((len(test_x_arr), 3))\n",
    "for i in range(len(test_x_arr)):\n",
    "    X_test[i, :]= extract_features(test_x_arr[i], freqs) \n",
    "    \n",
    "X_test[:5]"
   ]
  },
  {
   "cell_type": "code",
   "execution_count": 35,
   "id": "31ba77a6",
   "metadata": {
    "colab": {
     "base_uri": "https://localhost:8080/"
    },
    "id": "31ba77a6",
    "outputId": "6528b413-4a57-454c-88d6-ca691fb17fdd"
   },
   "outputs": [
    {
     "data": {
      "text/plain": [
       "0.7105105105105105"
      ]
     },
     "execution_count": 35,
     "metadata": {},
     "output_type": "execute_result"
    }
   ],
   "source": [
    "search.best_estimator_.score(X_test, test_y.ravel())"
   ]
  },
  {
   "cell_type": "code",
   "execution_count": 36,
   "id": "c09ca7ad",
   "metadata": {
    "colab": {
     "base_uri": "https://localhost:8080/"
    },
    "id": "c09ca7ad",
    "outputId": "23d56ca9-4857-4d3e-8bf4-d029d4340ee8"
   },
   "outputs": [
    {
     "name": "stdout",
     "output_type": "stream",
     "text": [
      "F1-Score is 0.7587587587587589\n"
     ]
    }
   ],
   "source": [
    "y_hat = search.best_estimator_.predict(X_test)\n",
    "print(\"F1-Score is\", f1_score(test_y.ravel(), y_hat))"
   ]
  },
  {
   "cell_type": "code",
   "execution_count": 37,
   "id": "6d5ab65b",
   "metadata": {
    "colab": {
     "base_uri": "https://localhost:8080/"
    },
    "id": "6d5ab65b",
    "outputId": "7de6c62a-48e0-445d-ee5a-56577e68065f"
   },
   "outputs": [
    {
     "name": "stdout",
     "output_type": "stream",
     "text": [
      "Precision is 0.7359223300970874\n"
     ]
    }
   ],
   "source": [
    "y_hat = search.best_estimator_.predict(X_test)\n",
    "print(\"Precision is\", precision_score(test_y.ravel(), y_hat))"
   ]
  },
  {
   "cell_type": "code",
   "execution_count": 38,
   "id": "b6616c31",
   "metadata": {
    "colab": {
     "base_uri": "https://localhost:8080/"
    },
    "id": "b6616c31",
    "outputId": "0c63d56d-7aad-4ebc-cef7-d1d79407dd05"
   },
   "outputs": [
    {
     "name": "stdout",
     "output_type": "stream",
     "text": [
      "Recall is 0.7830578512396694\n"
     ]
    }
   ],
   "source": [
    "y_hat = search.best_estimator_.predict(X_test)\n",
    "print(\"Recall is\", recall_score(test_y.ravel(), y_hat))"
   ]
  },
  {
   "cell_type": "markdown",
   "id": "4f523b81",
   "metadata": {
    "id": "4f523b81"
   },
   "source": [
    "# Classifier 2 : SVM "
   ]
  },
  {
   "cell_type": "code",
   "execution_count": 39,
   "id": "49209e39",
   "metadata": {
    "colab": {
     "base_uri": "https://localhost:8080/"
    },
    "id": "49209e39",
    "outputId": "869420d6-ad2f-48c9-a5b4-453561059d8c"
   },
   "outputs": [
    {
     "data": {
      "text/plain": [
       "SVC(kernel='linear')"
      ]
     },
     "execution_count": 39,
     "metadata": {},
     "output_type": "execute_result"
    }
   ],
   "source": [
    "clf_svm = SVC(kernel='linear') \n",
    "clf_svm.fit(X, y.ravel())"
   ]
  },
  {
   "cell_type": "code",
   "execution_count": 40,
   "id": "0e030ad3",
   "metadata": {
    "colab": {
     "base_uri": "https://localhost:8080/"
    },
    "id": "0e030ad3",
    "outputId": "3b730ec8-1bce-417d-ad61-96c626f279a3"
   },
   "outputs": [
    {
     "data": {
      "text/plain": [
       "0.6912912912912913"
      ]
     },
     "execution_count": 40,
     "metadata": {},
     "output_type": "execute_result"
    }
   ],
   "source": [
    "clf_svm.score(X_test, test_y.ravel())"
   ]
  },
  {
   "cell_type": "code",
   "execution_count": 41,
   "id": "8dbfeeeb",
   "metadata": {
    "colab": {
     "base_uri": "https://localhost:8080/"
    },
    "id": "8dbfeeeb",
    "outputId": "029fb6e5-ca5e-483c-eaea-f7180d793e91"
   },
   "outputs": [
    {
     "data": {
      "text/plain": [
       "0.806875"
      ]
     },
     "execution_count": 41,
     "metadata": {},
     "output_type": "execute_result"
    }
   ],
   "source": [
    "clf_svm.score(X, y.ravel())"
   ]
  },
  {
   "cell_type": "code",
   "execution_count": 42,
   "id": "b4b313b1",
   "metadata": {
    "colab": {
     "base_uri": "https://localhost:8080/"
    },
    "id": "b4b313b1",
    "outputId": "3ab85b98-cb2e-4225-f54c-3f86726c52fc"
   },
   "outputs": [
    {
     "data": {
      "text/plain": [
       "0.0"
      ]
     },
     "execution_count": 42,
     "metadata": {},
     "output_type": "execute_result"
    }
   ],
   "source": [
    "clf_svm.coef0"
   ]
  },
  {
   "cell_type": "code",
   "execution_count": 43,
   "id": "37ed9849",
   "metadata": {
    "colab": {
     "base_uri": "https://localhost:8080/"
    },
    "id": "37ed9849",
    "outputId": "e10f6dbd-48c9-4c59-bb9e-640864af3e76"
   },
   "outputs": [
    {
     "data": {
      "text/plain": [
       "array([[ 2.82170731e-10,  6.24213563e-03, -6.52182399e-03]])"
      ]
     },
     "execution_count": 43,
     "metadata": {},
     "output_type": "execute_result"
    }
   ],
   "source": [
    "clf_svm.coef_"
   ]
  },
  {
   "cell_type": "markdown",
   "id": "6492838a",
   "metadata": {
    "id": "6492838a"
   },
   "source": [
    "# 2.1 Cross-Validation on Simple SVM Model "
   ]
  },
  {
   "cell_type": "code",
   "execution_count": 44,
   "id": "0950d346",
   "metadata": {
    "colab": {
     "base_uri": "https://localhost:8080/"
    },
    "id": "0950d346",
    "outputId": "16570f5a-e4f5-4a71-f4ab-4ea79e3a02ab"
   },
   "outputs": [
    {
     "data": {
      "text/plain": [
       "array([0.80125 , 0.8     , 0.81    , 0.794375, 0.82875 ])"
      ]
     },
     "execution_count": 44,
     "metadata": {},
     "output_type": "execute_result"
    }
   ],
   "source": [
    "cross_val_score(SVC(kernel='linear'), X, y.ravel(), cv=5)"
   ]
  },
  {
   "cell_type": "markdown",
   "id": "585e7a11",
   "metadata": {
    "id": "585e7a11"
   },
   "source": [
    "# 2.2 SVM Grid Search on Linear Kernel "
   ]
  },
  {
   "cell_type": "code",
   "execution_count": 45,
   "id": "4b0fd37a",
   "metadata": {
    "colab": {
     "base_uri": "https://localhost:8080/"
    },
    "id": "4b0fd37a",
    "outputId": "ed197159-9882-48de-befd-d8e40ec27ebc"
   },
   "outputs": [
    {
     "name": "stdout",
     "output_type": "stream",
     "text": [
      "Fitting 5 folds for each of 6 candidates, totalling 30 fits\n",
      "[CV 1/5] END ............C=1e-05, kernel=linear;, score=0.801 total time=   1.3s\n",
      "[CV 2/5] END ............C=1e-05, kernel=linear;, score=0.799 total time=   1.2s\n",
      "[CV 3/5] END ............C=1e-05, kernel=linear;, score=0.807 total time=   1.5s\n",
      "[CV 4/5] END ............C=1e-05, kernel=linear;, score=0.797 total time=   1.1s\n",
      "[CV 5/5] END ............C=1e-05, kernel=linear;, score=0.827 total time=   1.3s\n",
      "[CV 1/5] END ...........C=0.0001, kernel=linear;, score=0.799 total time=   2.0s\n",
      "[CV 2/5] END ...........C=0.0001, kernel=linear;, score=0.799 total time=   2.0s\n",
      "[CV 3/5] END ...........C=0.0001, kernel=linear;, score=0.810 total time=   2.0s\n",
      "[CV 4/5] END ...........C=0.0001, kernel=linear;, score=0.796 total time=   2.0s\n",
      "[CV 5/5] END ...........C=0.0001, kernel=linear;, score=0.826 total time=   2.1s\n",
      "[CV 1/5] END ............C=0.001, kernel=linear;, score=0.799 total time=   5.3s\n",
      "[CV 2/5] END ............C=0.001, kernel=linear;, score=0.799 total time=   5.5s\n",
      "[CV 3/5] END ............C=0.001, kernel=linear;, score=0.810 total time=   5.4s\n",
      "[CV 4/5] END ............C=0.001, kernel=linear;, score=0.796 total time=   5.9s\n",
      "[CV 5/5] END ............C=0.001, kernel=linear;, score=0.826 total time=   5.7s\n",
      "[CV 1/5] END .............C=0.01, kernel=linear;, score=0.799 total time=  24.7s\n",
      "[CV 2/5] END .............C=0.01, kernel=linear;, score=0.799 total time=  26.9s\n",
      "[CV 3/5] END .............C=0.01, kernel=linear;, score=0.810 total time=  26.6s\n",
      "[CV 4/5] END .............C=0.01, kernel=linear;, score=0.796 total time=  27.7s\n",
      "[CV 5/5] END .............C=0.01, kernel=linear;, score=0.826 total time=  25.0s\n",
      "[CV 1/5] END ..............C=0.1, kernel=linear;, score=0.799 total time= 3.3min\n",
      "[CV 2/5] END ..............C=0.1, kernel=linear;, score=0.799 total time= 3.1min\n",
      "[CV 3/5] END ..............C=0.1, kernel=linear;, score=0.810 total time= 3.5min\n",
      "[CV 4/5] END ..............C=0.1, kernel=linear;, score=0.796 total time= 3.4min\n",
      "[CV 5/5] END ..............C=0.1, kernel=linear;, score=0.826 total time= 3.2min\n",
      "[CV 1/5] END ..............C=1.0, kernel=linear;, score=0.801 total time=30.9min\n",
      "[CV 2/5] END ..............C=1.0, kernel=linear;, score=0.800 total time=28.8min\n",
      "[CV 3/5] END ..............C=1.0, kernel=linear;, score=0.810 total time=27.5min\n",
      "[CV 4/5] END ..............C=1.0, kernel=linear;, score=0.794 total time=39.6min\n",
      "[CV 5/5] END ..............C=1.0, kernel=linear;, score=0.829 total time=26.7min\n"
     ]
    },
    {
     "data": {
      "text/plain": [
       "GridSearchCV(cv=5, estimator=SVC(),\n",
       "             param_grid={'C': [1e-05, 0.0001, 0.001, 0.01, 0.1, 1.0],\n",
       "                         'kernel': ['linear']},\n",
       "             refit=3, verbose=3)"
      ]
     },
     "execution_count": 45,
     "metadata": {},
     "output_type": "execute_result"
    }
   ],
   "source": [
    "param_grid = {\n",
    "    'C' : [0.00001, 0.0001, 0.001, 0.01, 0.1, 1.0], \n",
    "    'kernel' : ['linear']\n",
    "}\n",
    "\n",
    "grid_svm_linear = GridSearchCV(SVC(), param_grid, refit=3, verbose=3, cv=5)\n",
    "grid_svm_linear.fit(X, y.ravel())"
   ]
  },
  {
   "cell_type": "code",
   "execution_count": 46,
   "id": "6a512d33",
   "metadata": {
    "id": "6a512d33"
   },
   "outputs": [
    {
     "data": {
      "text/plain": [
       "0.806875"
      ]
     },
     "execution_count": 46,
     "metadata": {},
     "output_type": "execute_result"
    }
   ],
   "source": [
    "grid_svm_linear.best_score_"
   ]
  },
  {
   "cell_type": "code",
   "execution_count": 47,
   "id": "fec27b8d",
   "metadata": {
    "id": "fec27b8d"
   },
   "outputs": [
    {
     "data": {
      "text/plain": [
       "SVC(kernel='linear')"
      ]
     },
     "execution_count": 47,
     "metadata": {},
     "output_type": "execute_result"
    }
   ],
   "source": [
    "grid_svm_linear.best_estimator_"
   ]
  },
  {
   "cell_type": "code",
   "execution_count": 48,
   "id": "944833ef",
   "metadata": {
    "id": "944833ef"
   },
   "outputs": [
    {
     "data": {
      "text/plain": [
       "0.6912912912912913"
      ]
     },
     "execution_count": 48,
     "metadata": {},
     "output_type": "execute_result"
    }
   ],
   "source": [
    "grid_svm_linear.best_estimator_.score(X_test, test_y.ravel())"
   ]
  },
  {
   "cell_type": "code",
   "execution_count": 49,
   "id": "987ed9d1",
   "metadata": {
    "id": "987ed9d1"
   },
   "outputs": [
    {
     "data": {
      "text/plain": [
       "0.7607076350093109"
      ]
     },
     "execution_count": 49,
     "metadata": {},
     "output_type": "execute_result"
    }
   ],
   "source": [
    "f1_score(grid_svm_linear.best_estimator_.predict(X_test), test_y.ravel())"
   ]
  },
  {
   "cell_type": "code",
   "execution_count": 50,
   "id": "4dc80687",
   "metadata": {
    "id": "4dc80687"
   },
   "outputs": [
    {
     "data": {
      "text/plain": [
       "0.6923728813559322"
      ]
     },
     "execution_count": 50,
     "metadata": {},
     "output_type": "execute_result"
    }
   ],
   "source": [
    "recall_score(grid_svm_linear.best_estimator_.predict(X_test), test_y.ravel())"
   ]
  },
  {
   "cell_type": "code",
   "execution_count": 51,
   "id": "bd77a8fe",
   "metadata": {
    "id": "bd77a8fe"
   },
   "outputs": [
    {
     "data": {
      "text/plain": [
       "0.84400826446281"
      ]
     },
     "execution_count": 51,
     "metadata": {},
     "output_type": "execute_result"
    }
   ],
   "source": [
    "precision_score(grid_svm_linear.best_estimator_.predict(X_test), test_y.ravel())"
   ]
  },
  {
   "cell_type": "code",
   "execution_count": 96,
   "id": "f10d71f3",
   "metadata": {
    "id": "f10d71f3"
   },
   "outputs": [
    {
     "data": {
      "text/html": [
       "<div>\n",
       "<style scoped>\n",
       "    .dataframe tbody tr th:only-of-type {\n",
       "        vertical-align: middle;\n",
       "    }\n",
       "\n",
       "    .dataframe tbody tr th {\n",
       "        vertical-align: top;\n",
       "    }\n",
       "\n",
       "    .dataframe thead th {\n",
       "        text-align: right;\n",
       "    }\n",
       "</style>\n",
       "<table border=\"1\" class=\"dataframe\">\n",
       "  <thead>\n",
       "    <tr style=\"text-align: right;\">\n",
       "      <th></th>\n",
       "      <th>Logistic Regression</th>\n",
       "      <th>Linear SVM</th>\n",
       "    </tr>\n",
       "  </thead>\n",
       "  <tbody>\n",
       "    <tr>\n",
       "      <th>f1 score</th>\n",
       "      <td>0.758759</td>\n",
       "      <td>0.760708</td>\n",
       "    </tr>\n",
       "    <tr>\n",
       "      <th>precision</th>\n",
       "      <td>0.735922</td>\n",
       "      <td>0.844008</td>\n",
       "    </tr>\n",
       "    <tr>\n",
       "      <th>recall</th>\n",
       "      <td>0.783058</td>\n",
       "      <td>0.692373</td>\n",
       "    </tr>\n",
       "    <tr>\n",
       "      <th>test accuracy</th>\n",
       "      <td>0.710511</td>\n",
       "      <td>0.691291</td>\n",
       "    </tr>\n",
       "    <tr>\n",
       "      <th>validation accuracy</th>\n",
       "      <td>0.824750</td>\n",
       "      <td>0.806875</td>\n",
       "    </tr>\n",
       "  </tbody>\n",
       "</table>\n",
       "</div>"
      ],
      "text/plain": [
       "                     Logistic Regression  Linear SVM\n",
       "f1 score                        0.758759    0.760708\n",
       "precision                       0.735922    0.844008\n",
       "recall                          0.783058    0.692373\n",
       "test accuracy                   0.710511    0.691291\n",
       "validation accuracy             0.824750    0.806875"
      ]
     },
     "execution_count": 96,
     "metadata": {},
     "output_type": "execute_result"
    }
   ],
   "source": [
    "result = {\n",
    "    'Logistic Regression': {\n",
    "        'f1 score' : 0.7587587587587589 ,\n",
    "        'precision':0.7359223300970874 , \n",
    "        'recall': 0.7830578512396694,\n",
    "        'test accuracy' : 0.7105105105105105,\n",
    "        'validation accuracy': 0.8247500000000001  \n",
    "    },\n",
    "    \n",
    "    'Linear SVM': {\n",
    "        'f1 score': 0.7607076350093109, \n",
    "        'precision':0.84400826446281, \n",
    "        'recall':0.6923728813559322 ,\n",
    "        'test accuracy':  0.6912912912912913 ,\n",
    "        'validation accuracy':  0.806875\n",
    "    }\n",
    "}\n",
    "\n",
    "pd.DataFrame(result)"
   ]
  },
  {
   "cell_type": "markdown",
   "id": "e9a9bdef",
   "metadata": {
    "id": "e9a9bdef"
   },
   "source": [
    "# 2.3 Grid Search on SVM RBF Kernel "
   ]
  },
  {
   "cell_type": "code",
   "execution_count": 53,
   "id": "513cbd05",
   "metadata": {
    "id": "513cbd05"
   },
   "outputs": [
    {
     "name": "stdout",
     "output_type": "stream",
     "text": [
      "Fitting 5 folds for each of 25 candidates, totalling 125 fits\n",
      "[CV 1/5] END ........C=0.1, gamma=1, kernel=rbf;, score=0.554 total time=   5.4s\n",
      "[CV 2/5] END ........C=0.1, gamma=1, kernel=rbf;, score=0.567 total time=   5.6s\n",
      "[CV 3/5] END ........C=0.1, gamma=1, kernel=rbf;, score=0.556 total time=   5.4s\n",
      "[CV 4/5] END ........C=0.1, gamma=1, kernel=rbf;, score=0.559 total time=   5.1s\n",
      "[CV 5/5] END ........C=0.1, gamma=1, kernel=rbf;, score=0.569 total time=   5.1s\n",
      "[CV 1/5] END ......C=0.1, gamma=0.1, kernel=rbf;, score=0.574 total time=   5.1s\n",
      "[CV 2/5] END ......C=0.1, gamma=0.1, kernel=rbf;, score=0.586 total time=   5.3s\n",
      "[CV 3/5] END ......C=0.1, gamma=0.1, kernel=rbf;, score=0.574 total time=   5.3s\n",
      "[CV 4/5] END ......C=0.1, gamma=0.1, kernel=rbf;, score=0.579 total time=   5.1s\n",
      "[CV 5/5] END ......C=0.1, gamma=0.1, kernel=rbf;, score=0.588 total time=   5.1s\n",
      "[CV 1/5] END .....C=0.1, gamma=0.01, kernel=rbf;, score=0.629 total time=   4.9s\n",
      "[CV 2/5] END .....C=0.1, gamma=0.01, kernel=rbf;, score=0.639 total time=   4.9s\n",
      "[CV 3/5] END .....C=0.1, gamma=0.01, kernel=rbf;, score=0.641 total time=   4.9s\n",
      "[CV 4/5] END .....C=0.1, gamma=0.01, kernel=rbf;, score=0.636 total time=   4.9s\n",
      "[CV 5/5] END .....C=0.1, gamma=0.01, kernel=rbf;, score=0.636 total time=   4.9s\n",
      "[CV 1/5] END ....C=0.1, gamma=0.001, kernel=rbf;, score=0.814 total time=   4.3s\n",
      "[CV 2/5] END ....C=0.1, gamma=0.001, kernel=rbf;, score=0.809 total time=   4.0s\n",
      "[CV 3/5] END ....C=0.1, gamma=0.001, kernel=rbf;, score=0.815 total time=   4.1s\n",
      "[CV 4/5] END ....C=0.1, gamma=0.001, kernel=rbf;, score=0.817 total time=   3.9s\n",
      "[CV 5/5] END ....C=0.1, gamma=0.001, kernel=rbf;, score=0.832 total time=   4.0s\n",
      "[CV 1/5] END ...C=0.1, gamma=0.0001, kernel=rbf;, score=0.810 total time=   2.6s\n",
      "[CV 2/5] END ...C=0.1, gamma=0.0001, kernel=rbf;, score=0.812 total time=   3.4s\n",
      "[CV 3/5] END ...C=0.1, gamma=0.0001, kernel=rbf;, score=0.815 total time=   2.5s\n",
      "[CV 4/5] END ...C=0.1, gamma=0.0001, kernel=rbf;, score=0.812 total time=   2.4s\n",
      "[CV 5/5] END ...C=0.1, gamma=0.0001, kernel=rbf;, score=0.829 total time=   2.2s\n",
      "[CV 1/5] END ..........C=1, gamma=1, kernel=rbf;, score=0.655 total time=   5.2s\n",
      "[CV 2/5] END ..........C=1, gamma=1, kernel=rbf;, score=0.676 total time=   5.4s\n",
      "[CV 3/5] END ..........C=1, gamma=1, kernel=rbf;, score=0.667 total time=   5.2s\n",
      "[CV 4/5] END ..........C=1, gamma=1, kernel=rbf;, score=0.664 total time=   5.5s\n",
      "[CV 5/5] END ..........C=1, gamma=1, kernel=rbf;, score=0.678 total time=   5.2s\n",
      "[CV 1/5] END ........C=1, gamma=0.1, kernel=rbf;, score=0.671 total time=   5.1s\n",
      "[CV 2/5] END ........C=1, gamma=0.1, kernel=rbf;, score=0.688 total time=   5.3s\n",
      "[CV 3/5] END ........C=1, gamma=0.1, kernel=rbf;, score=0.693 total time=   5.1s\n",
      "[CV 4/5] END ........C=1, gamma=0.1, kernel=rbf;, score=0.678 total time=   5.1s\n",
      "[CV 5/5] END ........C=1, gamma=0.1, kernel=rbf;, score=0.696 total time=   5.0s\n",
      "[CV 1/5] END .......C=1, gamma=0.01, kernel=rbf;, score=0.735 total time=   4.9s\n",
      "[CV 2/5] END .......C=1, gamma=0.01, kernel=rbf;, score=0.715 total time=   4.6s\n",
      "[CV 3/5] END .......C=1, gamma=0.01, kernel=rbf;, score=0.750 total time=   4.6s\n",
      "[CV 4/5] END .......C=1, gamma=0.01, kernel=rbf;, score=0.715 total time=   5.0s\n",
      "[CV 5/5] END .......C=1, gamma=0.01, kernel=rbf;, score=0.752 total time=   4.9s\n",
      "[CV 1/5] END ......C=1, gamma=0.001, kernel=rbf;, score=0.807 total time=   3.7s\n",
      "[CV 2/5] END ......C=1, gamma=0.001, kernel=rbf;, score=0.800 total time=   3.7s\n",
      "[CV 3/5] END ......C=1, gamma=0.001, kernel=rbf;, score=0.818 total time=   3.7s\n",
      "[CV 4/5] END ......C=1, gamma=0.001, kernel=rbf;, score=0.807 total time=   3.6s\n",
      "[CV 5/5] END ......C=1, gamma=0.001, kernel=rbf;, score=0.832 total time=   3.8s\n",
      "[CV 1/5] END .....C=1, gamma=0.0001, kernel=rbf;, score=0.828 total time=   2.5s\n",
      "[CV 2/5] END .....C=1, gamma=0.0001, kernel=rbf;, score=0.821 total time=   2.6s\n",
      "[CV 3/5] END .....C=1, gamma=0.0001, kernel=rbf;, score=0.828 total time=   2.7s\n",
      "[CV 4/5] END .....C=1, gamma=0.0001, kernel=rbf;, score=0.829 total time=   2.7s\n",
      "[CV 5/5] END .....C=1, gamma=0.0001, kernel=rbf;, score=0.838 total time=   2.6s\n",
      "[CV 1/5] END .........C=10, gamma=1, kernel=rbf;, score=0.657 total time=   4.9s\n",
      "[CV 2/5] END .........C=10, gamma=1, kernel=rbf;, score=0.674 total time=   5.0s\n",
      "[CV 3/5] END .........C=10, gamma=1, kernel=rbf;, score=0.670 total time=   4.9s\n",
      "[CV 4/5] END .........C=10, gamma=1, kernel=rbf;, score=0.666 total time=   4.9s\n",
      "[CV 5/5] END .........C=10, gamma=1, kernel=rbf;, score=0.681 total time=   4.9s\n",
      "[CV 1/5] END .......C=10, gamma=0.1, kernel=rbf;, score=0.671 total time=   5.0s\n",
      "[CV 2/5] END .......C=10, gamma=0.1, kernel=rbf;, score=0.691 total time=   5.0s\n",
      "[CV 3/5] END .......C=10, gamma=0.1, kernel=rbf;, score=0.682 total time=   5.2s\n",
      "[CV 4/5] END .......C=10, gamma=0.1, kernel=rbf;, score=0.675 total time=   4.9s\n",
      "[CV 5/5] END .......C=10, gamma=0.1, kernel=rbf;, score=0.698 total time=   4.8s\n",
      "[CV 1/5] END ......C=10, gamma=0.01, kernel=rbf;, score=0.714 total time=   6.1s\n",
      "[CV 2/5] END ......C=10, gamma=0.01, kernel=rbf;, score=0.699 total time=   5.9s\n",
      "[CV 3/5] END ......C=10, gamma=0.01, kernel=rbf;, score=0.731 total time=   5.8s\n",
      "[CV 4/5] END ......C=10, gamma=0.01, kernel=rbf;, score=0.691 total time=   6.2s\n",
      "[CV 5/5] END ......C=10, gamma=0.01, kernel=rbf;, score=0.738 total time=   6.7s\n",
      "[CV 1/5] END .....C=10, gamma=0.001, kernel=rbf;, score=0.807 total time=   4.5s\n",
      "[CV 2/5] END .....C=10, gamma=0.001, kernel=rbf;, score=0.792 total time=   4.5s\n",
      "[CV 3/5] END .....C=10, gamma=0.001, kernel=rbf;, score=0.811 total time=   4.7s\n",
      "[CV 4/5] END .....C=10, gamma=0.001, kernel=rbf;, score=0.795 total time=   4.6s\n",
      "[CV 5/5] END .....C=10, gamma=0.001, kernel=rbf;, score=0.812 total time=   4.6s\n",
      "[CV 1/5] END ....C=10, gamma=0.0001, kernel=rbf;, score=0.825 total time=   3.5s\n",
      "[CV 2/5] END ....C=10, gamma=0.0001, kernel=rbf;, score=0.818 total time=   3.3s\n",
      "[CV 3/5] END ....C=10, gamma=0.0001, kernel=rbf;, score=0.829 total time=   3.4s\n",
      "[CV 4/5] END ....C=10, gamma=0.0001, kernel=rbf;, score=0.828 total time=   3.7s\n",
      "[CV 5/5] END ....C=10, gamma=0.0001, kernel=rbf;, score=0.836 total time=   3.6s\n",
      "[CV 1/5] END ........C=100, gamma=1, kernel=rbf;, score=0.657 total time=   5.2s\n",
      "[CV 2/5] END ........C=100, gamma=1, kernel=rbf;, score=0.674 total time=   5.2s\n",
      "[CV 3/5] END ........C=100, gamma=1, kernel=rbf;, score=0.670 total time=   5.2s\n",
      "[CV 4/5] END ........C=100, gamma=1, kernel=rbf;, score=0.666 total time=   5.3s\n",
      "[CV 5/5] END ........C=100, gamma=1, kernel=rbf;, score=0.681 total time=   5.3s\n",
      "[CV 1/5] END ......C=100, gamma=0.1, kernel=rbf;, score=0.674 total time=   5.6s\n",
      "[CV 2/5] END ......C=100, gamma=0.1, kernel=rbf;, score=0.691 total time=   5.8s\n",
      "[CV 3/5] END ......C=100, gamma=0.1, kernel=rbf;, score=0.682 total time=   5.6s\n",
      "[CV 4/5] END ......C=100, gamma=0.1, kernel=rbf;, score=0.674 total time=   4.6s\n",
      "[CV 5/5] END ......C=100, gamma=0.1, kernel=rbf;, score=0.696 total time=   5.3s\n",
      "[CV 1/5] END .....C=100, gamma=0.01, kernel=rbf;, score=0.695 total time=   5.9s\n",
      "[CV 2/5] END .....C=100, gamma=0.01, kernel=rbf;, score=0.697 total time=   5.4s\n",
      "[CV 3/5] END .....C=100, gamma=0.01, kernel=rbf;, score=0.719 total time=   6.0s\n",
      "[CV 4/5] END .....C=100, gamma=0.01, kernel=rbf;, score=0.677 total time=   5.9s\n",
      "[CV 5/5] END .....C=100, gamma=0.01, kernel=rbf;, score=0.724 total time=   6.0s\n",
      "[CV 1/5] END ....C=100, gamma=0.001, kernel=rbf;, score=0.799 total time=   8.1s\n",
      "[CV 2/5] END ....C=100, gamma=0.001, kernel=rbf;, score=0.792 total time=  10.2s\n",
      "[CV 3/5] END ....C=100, gamma=0.001, kernel=rbf;, score=0.806 total time=   8.8s\n",
      "[CV 4/5] END ....C=100, gamma=0.001, kernel=rbf;, score=0.781 total time=  10.1s\n",
      "[CV 5/5] END ....C=100, gamma=0.001, kernel=rbf;, score=0.806 total time=  13.1s\n",
      "[CV 1/5] END ...C=100, gamma=0.0001, kernel=rbf;, score=0.828 total time=   9.8s\n",
      "[CV 2/5] END ...C=100, gamma=0.0001, kernel=rbf;, score=0.807 total time=  10.0s\n",
      "[CV 3/5] END ...C=100, gamma=0.0001, kernel=rbf;, score=0.830 total time=  11.1s\n",
      "[CV 4/5] END ...C=100, gamma=0.0001, kernel=rbf;, score=0.822 total time=   7.7s\n",
      "[CV 5/5] END ...C=100, gamma=0.0001, kernel=rbf;, score=0.833 total time=   7.8s\n",
      "[CV 1/5] END .......C=1000, gamma=1, kernel=rbf;, score=0.657 total time=   4.3s\n"
     ]
    },
    {
     "name": "stdout",
     "output_type": "stream",
     "text": [
      "[CV 2/5] END .......C=1000, gamma=1, kernel=rbf;, score=0.674 total time=   4.3s\n",
      "[CV 3/5] END .......C=1000, gamma=1, kernel=rbf;, score=0.670 total time=   4.3s\n",
      "[CV 4/5] END .......C=1000, gamma=1, kernel=rbf;, score=0.666 total time=   4.4s\n",
      "[CV 5/5] END .......C=1000, gamma=1, kernel=rbf;, score=0.681 total time=   4.3s\n",
      "[CV 1/5] END .....C=1000, gamma=0.1, kernel=rbf;, score=0.674 total time=   6.5s\n",
      "[CV 2/5] END .....C=1000, gamma=0.1, kernel=rbf;, score=0.692 total time=   5.2s\n",
      "[CV 3/5] END .....C=1000, gamma=0.1, kernel=rbf;, score=0.682 total time=   5.2s\n",
      "[CV 4/5] END .....C=1000, gamma=0.1, kernel=rbf;, score=0.673 total time=   5.2s\n",
      "[CV 5/5] END .....C=1000, gamma=0.1, kernel=rbf;, score=0.696 total time=   5.7s\n",
      "[CV 1/5] END ....C=1000, gamma=0.01, kernel=rbf;, score=0.693 total time=  13.1s\n",
      "[CV 2/5] END ....C=1000, gamma=0.01, kernel=rbf;, score=0.696 total time=  12.9s\n",
      "[CV 3/5] END ....C=1000, gamma=0.01, kernel=rbf;, score=0.712 total time=  15.4s\n",
      "[CV 4/5] END ....C=1000, gamma=0.01, kernel=rbf;, score=0.677 total time=  13.7s\n",
      "[CV 5/5] END ....C=1000, gamma=0.01, kernel=rbf;, score=0.713 total time=  13.9s\n",
      "[CV 1/5] END ...C=1000, gamma=0.001, kernel=rbf;, score=0.792 total time=  59.6s\n",
      "[CV 2/5] END ...C=1000, gamma=0.001, kernel=rbf;, score=0.793 total time=  59.8s\n",
      "[CV 3/5] END ...C=1000, gamma=0.001, kernel=rbf;, score=0.798 total time=  50.1s\n",
      "[CV 4/5] END ...C=1000, gamma=0.001, kernel=rbf;, score=0.778 total time=  52.4s\n",
      "[CV 5/5] END ...C=1000, gamma=0.001, kernel=rbf;, score=0.793 total time=  44.7s\n",
      "[CV 1/5] END ..C=1000, gamma=0.0001, kernel=rbf;, score=0.821 total time=  50.3s\n",
      "[CV 2/5] END ..C=1000, gamma=0.0001, kernel=rbf;, score=0.804 total time=  51.1s\n",
      "[CV 3/5] END ..C=1000, gamma=0.0001, kernel=rbf;, score=0.832 total time=  55.3s\n",
      "[CV 4/5] END ..C=1000, gamma=0.0001, kernel=rbf;, score=0.816 total time=  46.3s\n",
      "[CV 5/5] END ..C=1000, gamma=0.0001, kernel=rbf;, score=0.832 total time=  44.7s\n",
      "CPU times: total: 19min 21s\n",
      "Wall time: 19min 25s\n"
     ]
    },
    {
     "data": {
      "text/plain": [
       "GridSearchCV(estimator=SVC(),\n",
       "             param_grid={'C': [0.1, 1, 10, 100, 1000],\n",
       "                         'gamma': [1, 0.1, 0.01, 0.001, 0.0001],\n",
       "                         'kernel': ['rbf']},\n",
       "             verbose=3)"
      ]
     },
     "execution_count": 53,
     "metadata": {},
     "output_type": "execute_result"
    }
   ],
   "source": [
    "%%time\n",
    "param_grid = {'C': [0.1, 1, 10, 100, 1000],\n",
    "              'gamma': [1, 0.1, 0.01, 0.001, 0.0001],\n",
    "              'kernel': ['rbf']}\n",
    " \n",
    "grid_svm_rbf = GridSearchCV(SVC(), param_grid, refit = True, verbose = 3)\n",
    " \n",
    "grid_svm_rbf.fit(X, y.ravel())"
   ]
  },
  {
   "cell_type": "code",
   "execution_count": 54,
   "id": "974e02c3",
   "metadata": {
    "id": "974e02c3"
   },
   "outputs": [
    {
     "data": {
      "text/plain": [
       "0.8286250000000001"
      ]
     },
     "execution_count": 54,
     "metadata": {},
     "output_type": "execute_result"
    }
   ],
   "source": [
    "grid_svm_rbf.best_score_"
   ]
  },
  {
   "cell_type": "code",
   "execution_count": 55,
   "id": "cf689500",
   "metadata": {
    "id": "cf689500"
   },
   "outputs": [
    {
     "data": {
      "text/plain": [
       "0.7009009009009008"
      ]
     },
     "execution_count": 55,
     "metadata": {},
     "output_type": "execute_result"
    }
   ],
   "source": [
    "grid_svm_rbf.best_estimator_.score(X_test, test_y.ravel())"
   ]
  },
  {
   "cell_type": "code",
   "execution_count": 56,
   "id": "2501647f",
   "metadata": {
    "id": "2501647f"
   },
   "outputs": [
    {
     "data": {
      "text/plain": [
       "0.7417012448132779"
      ]
     },
     "execution_count": 56,
     "metadata": {},
     "output_type": "execute_result"
    }
   ],
   "source": [
    "f1_score(grid_svm_rbf.best_estimator_.predict(X_test), test_y.ravel())"
   ]
  },
  {
   "cell_type": "code",
   "execution_count": 57,
   "id": "50516d03",
   "metadata": {
    "id": "50516d03"
   },
   "outputs": [
    {
     "data": {
      "text/plain": [
       "0.7386363636363636"
      ]
     },
     "execution_count": 57,
     "metadata": {},
     "output_type": "execute_result"
    }
   ],
   "source": [
    "precision_score(grid_svm_rbf.best_estimator_.predict(X_test), test_y.ravel())"
   ]
  },
  {
   "cell_type": "code",
   "execution_count": 58,
   "id": "b3b61ac0",
   "metadata": {
    "id": "b3b61ac0"
   },
   "outputs": [
    {
     "data": {
      "text/plain": [
       "0.7447916666666666"
      ]
     },
     "execution_count": 58,
     "metadata": {},
     "output_type": "execute_result"
    }
   ],
   "source": [
    "recall_score(grid_svm_rbf.best_estimator_.predict(X_test), test_y.ravel())"
   ]
  },
  {
   "cell_type": "code",
   "execution_count": 98,
   "id": "f40b7633",
   "metadata": {
    "id": "f40b7633"
   },
   "outputs": [
    {
     "data": {
      "text/html": [
       "<div>\n",
       "<style scoped>\n",
       "    .dataframe tbody tr th:only-of-type {\n",
       "        vertical-align: middle;\n",
       "    }\n",
       "\n",
       "    .dataframe tbody tr th {\n",
       "        vertical-align: top;\n",
       "    }\n",
       "\n",
       "    .dataframe thead th {\n",
       "        text-align: right;\n",
       "    }\n",
       "</style>\n",
       "<table border=\"1\" class=\"dataframe\">\n",
       "  <thead>\n",
       "    <tr style=\"text-align: right;\">\n",
       "      <th></th>\n",
       "      <th>Logistic Regression</th>\n",
       "      <th>Linear SVM</th>\n",
       "      <th>RBF SVM</th>\n",
       "    </tr>\n",
       "  </thead>\n",
       "  <tbody>\n",
       "    <tr>\n",
       "      <th>f1 score</th>\n",
       "      <td>0.758759</td>\n",
       "      <td>0.760708</td>\n",
       "      <td>0.741701</td>\n",
       "    </tr>\n",
       "    <tr>\n",
       "      <th>precision</th>\n",
       "      <td>0.735922</td>\n",
       "      <td>0.844008</td>\n",
       "      <td>0.738636</td>\n",
       "    </tr>\n",
       "    <tr>\n",
       "      <th>recall</th>\n",
       "      <td>0.783058</td>\n",
       "      <td>0.692373</td>\n",
       "      <td>0.744792</td>\n",
       "    </tr>\n",
       "    <tr>\n",
       "      <th>test accuracy</th>\n",
       "      <td>0.710511</td>\n",
       "      <td>0.691291</td>\n",
       "      <td>0.700901</td>\n",
       "    </tr>\n",
       "    <tr>\n",
       "      <th>validation accuracy</th>\n",
       "      <td>0.824750</td>\n",
       "      <td>0.806875</td>\n",
       "      <td>0.828625</td>\n",
       "    </tr>\n",
       "  </tbody>\n",
       "</table>\n",
       "</div>"
      ],
      "text/plain": [
       "                     Logistic Regression  Linear SVM   RBF SVM\n",
       "f1 score                        0.758759    0.760708  0.741701\n",
       "precision                       0.735922    0.844008  0.738636\n",
       "recall                          0.783058    0.692373  0.744792\n",
       "test accuracy                   0.710511    0.691291  0.700901\n",
       "validation accuracy             0.824750    0.806875  0.828625"
      ]
     },
     "execution_count": 98,
     "metadata": {},
     "output_type": "execute_result"
    }
   ],
   "source": [
    "result = {\n",
    "    'Logistic Regression': {\n",
    "        'f1 score' : 0.7587587587587589 ,\n",
    "        'precision':0.7359223300970874 , \n",
    "        'recall': 0.7830578512396694,\n",
    "        'test accuracy' : 0.7105105105105105,\n",
    "        'validation accuracy': 0.8247500000000001  \n",
    "    },\n",
    "    \n",
    "    'Linear SVM': {\n",
    "        'f1 score': 0.7607076350093109, \n",
    "        'precision':0.84400826446281, \n",
    "        'recall':0.6923728813559322 ,\n",
    "        'test accuracy':  0.6912912912912913 ,\n",
    "        'validation accuracy':  0.806875\n",
    "    },\n",
    "    \n",
    "    'RBF SVM' : {\n",
    "        'f1 score': 0.7417012448132779, \n",
    "        'precision':0.7386363636363636,\n",
    "        'recall': 0.7447916666666666,\n",
    "        'test accuracy': 0.7009009009009008,\n",
    "        'validation accuracy': 0.8286250000000001\n",
    "    }\n",
    "}\n",
    "\n",
    "pd.DataFrame(result)"
   ]
  },
  {
   "cell_type": "markdown",
   "id": "0ffc9855",
   "metadata": {
    "id": "0ffc9855"
   },
   "source": [
    "# 3. Naive Bayes Classifier "
   ]
  },
  {
   "cell_type": "code",
   "execution_count": 60,
   "id": "5e057300",
   "metadata": {
    "id": "5e057300"
   },
   "outputs": [],
   "source": [
    "def count_tweets(tweets, ys):\n",
    "    '''\n",
    "    Input:\n",
    "        tweets: a list of tweets\n",
    "        ys: a list corresponding to the sentiment of each tweet (either 0 or 1)\n",
    "    Output:\n",
    "        result: a dictionary mapping each pair to its frequency\n",
    "    '''\n",
    "    result = dict() \n",
    "    \n",
    "    for y, tweet in zip(ys, tweets):\n",
    "        for word in tweet:\n",
    "          \n",
    "            pair = (word,y)\n",
    "            # if the key exists in the dictionary, increment the count\n",
    "            if pair in result:\n",
    "                result[pair] += 1\n",
    "            # else, if the key is new, add it to the dictionary and set the count to 1\n",
    "            else:\n",
    "                result[pair] = 1\n",
    "   \n",
    "    return result"
   ]
  },
  {
   "cell_type": "code",
   "execution_count": 61,
   "id": "ce3e650f",
   "metadata": {
    "id": "ce3e650f"
   },
   "outputs": [],
   "source": [
    "freqs = count_tweets(train_x_arr, train_y.squeeze())"
   ]
  },
  {
   "cell_type": "code",
   "execution_count": 62,
   "id": "22a94175",
   "metadata": {
    "id": "22a94175"
   },
   "outputs": [
    {
     "data": {
      "text/plain": [
       "{('know', 1.0): 184,\n",
       " ('effect', 1.0): 36,\n",
       " ('exercis', 1.0): 73,\n",
       " ('leg', 1.0): 55,\n",
       " ('tricki', 1.0): 1,\n",
       " ('design', 1.0): 8,\n",
       " ('quick', 1.0): 19,\n",
       " ('15', 1.0): 14,\n",
       " ('min', 1.0): 1,\n",
       " ('workout', 1.0): 254,\n",
       " ('knock', 1.0): 2,\n",
       " ('park', 1.0): 10,\n",
       " ('next', 1.0): 62,\n",
       " ('day', 1.0): 154,\n",
       " ('one', 1.0): 162,\n",
       " ('els', 1.0): 6,\n",
       " ('back', 1.0): 96,\n",
       " ('shoulder', 1.0): 11,\n",
       " ('like', 1.0): 106,\n",
       " ('us', 1.0): 377,\n",
       " ('💯', 1.0): 2,\n",
       " ('stress', 1.0): 34,\n",
       " ('😩', 1.0): 3,\n",
       " ('tire', 1.0): 5,\n",
       " ('😴', 1.0): 3,\n",
       " ('worn', 1.0): 2,\n",
       " ('😰', 1.0): 3,\n",
       " ('common', 1.0): 20,\n",
       " (\"they'r\", 1.0): 22,\n",
       " ('perfect', 1.0): 56,\n",
       " ('reason', 1.0): 38,\n",
       " ('come', 1.0): 45,\n",
       " ('gym', 1.0): 362,\n",
       " ('work', 1.0): 96,\n",
       " ('promis', 1.0): 13,\n",
       " ('leav', 1.0): 15,\n",
       " ('feel', 1.0): 77,\n",
       " ('littl', 1.0): 32,\n",
       " ('relax', 1.0): 3,\n",
       " ('energ', 1.0): 5,\n",
       " ('readi', 1.0): 27,\n",
       " ('tackl', 1.0): 4,\n",
       " (\"what'\", 1.0): 21,\n",
       " ('ahead', 1.0): 20,\n",
       " (\"that'\", 1.0): 27,\n",
       " ('realaf', 1.0): 7,\n",
       " ('time', 1.0): 159,\n",
       " ('get', 1.0): 279,\n",
       " ('rockin', 1.0): 1,\n",
       " ('foam', 1.0): 12,\n",
       " ('rollin', 1.0): 1,\n",
       " ('last', 1.0): 18,\n",
       " ('show', 1.0): 92,\n",
       " ('way', 1.0): 141,\n",
       " ('use', 1.0): 82,\n",
       " ('roller', 1.0): 1,\n",
       " ('massag', 1.0): 3,\n",
       " ('sore', 1.0): 5,\n",
       " ('muscl', 1.0): 70,\n",
       " ('versatil', 1.0): 5,\n",
       " ('tool', 1.0): 7,\n",
       " ('stretch', 1.0): 9,\n",
       " ('far', 1.0): 12,\n",
       " ('beyond', 1.0): 8,\n",
       " ('whether', 1.0): 14,\n",
       " ('pre', 1.0): 4,\n",
       " ('post-workout', 1.0): 5,\n",
       " ('differ', 1.0): 24,\n",
       " ('make', 1.0): 203,\n",
       " ('hi', 1.0): 561,\n",
       " ('zach', 1.0): 1,\n",
       " ('pleas', 1.0): 440,\n",
       " ('dm', 1.0): 108,\n",
       " ('thank', 1.0): 663,\n",
       " ('reach', 1.0): 306,\n",
       " ('account', 1.0): 76,\n",
       " ('manag', 1.0): 127,\n",
       " ('usa', 1.0): 110,\n",
       " ('canada', 1.0): 107,\n",
       " ('intern', 1.0): 29,\n",
       " ('independ', 1.0): 63,\n",
       " ('own', 1.0): 64,\n",
       " ('oper', 1.0): 69,\n",
       " ('master', 1.0): 37,\n",
       " ('franchise', 1.0): 27,\n",
       " ('recommend', 1.0): 27,\n",
       " ('contact', 1.0): 120,\n",
       " ('via', 1.0): 47,\n",
       " ('email', 1.0): 86,\n",
       " ('complaince@anytimefitness.in', 1.0): 1,\n",
       " ('sean', 1.0): 3,\n",
       " (\"we'r\", 1.0): 173,\n",
       " ('sorri', 1.0): 131,\n",
       " ('hear', 1.0): 77,\n",
       " ('experi', 1.0): 135,\n",
       " (\"we'd\", 1.0): 42,\n",
       " ('grate', 1.0): 8,\n",
       " ('could', 1.0): 38,\n",
       " ('share', 1.0): 189,\n",
       " ('feedback', 1.0): 42,\n",
       " ('resolv', 1.0): 12,\n",
       " ('quickli', 1.0): 14,\n",
       " ('member', 1.0): 241,\n",
       " ('assist', 1.0): 139,\n",
       " (\"they'll\", 1.0): 8,\n",
       " ('abl', 1.0): 19,\n",
       " ('help', 1.0): 309,\n",
       " ('look', 1.0): 194,\n",
       " ('easi', 1.0): 45,\n",
       " ('recip', 1.0): 52,\n",
       " ('pack', 1.0): 19,\n",
       " ('protein', 1.0): 29,\n",
       " ('flavor', 1.0): 12,\n",
       " ('coach', 1.0): 222,\n",
       " ('care', 1.0): 174,\n",
       " ('connect', 1.0): 167,\n",
       " ('cover', 1.0): 23,\n",
       " ('chicken', 1.0): 19,\n",
       " ('bean', 1.0): 6,\n",
       " ('secret', 1.0): 30,\n",
       " ('creami', 1.0): 4,\n",
       " ('ingredi', 1.0): 19,\n",
       " ('...', 1.0): 55,\n",
       " ('guess', 1.0): 6,\n",
       " ('👀', 1.0): 17,\n",
       " ('meet', 1.0): 28,\n",
       " ('new', 1.0): 97,\n",
       " ('best', 1.0): 81,\n",
       " ('friend', 1.0): 8,\n",
       " ('stair', 1.0): 3,\n",
       " ('climber', 1.0): 2,\n",
       " ('step', 1.0): 21,\n",
       " ('watch', 1.0): 22,\n",
       " ('video', 1.0): 30,\n",
       " ('coupl', 1.0): 7,\n",
       " ('key', 1.0): 17,\n",
       " ('tip', 1.0): 60,\n",
       " ('full', 1.0): 80,\n",
       " ('stori', 1.0): 20,\n",
       " ('see', 1.0): 46,\n",
       " ('top', 1.0): 49,\n",
       " ('🧗\\u200d♂', 1.0): 1,\n",
       " ('️', 1.0): 67,\n",
       " ('bring', 1.0): 77,\n",
       " ('attent', 1.0): 55,\n",
       " ('local', 1.0): 62,\n",
       " ('anytim', 1.0): 72,\n",
       " ('fit', 1.0): 376,\n",
       " ('branch', 1.0): 2,\n",
       " ('india', 1.0): 18,\n",
       " ('team', 1.0): 154,\n",
       " ('compliance@anytimefitness.in', 1.0): 41,\n",
       " ('much', 1.0): 61,\n",
       " ('take', 1.0): 189,\n",
       " ('matter', 1.0): 87,\n",
       " ('serious', 1.0): 84,\n",
       " ('member.solutions@sebrands.comor', 1.0): 8,\n",
       " ('800-704-5004', 1.0): 110,\n",
       " ('wed', 1.0): 3,\n",
       " ('season', 1.0): 11,\n",
       " ('alreadi', 1.0): 24,\n",
       " ('guest', 1.0): 2,\n",
       " ('walk', 1.0): 24,\n",
       " ('aisl', 1.0): 1,\n",
       " (\"we'v\", 1.0): 53,\n",
       " ('got', 1.0): 56,\n",
       " ('six', 1.0): 9,\n",
       " ('week', 1.0): 50,\n",
       " ('worth', 1.0): 12,\n",
       " ('nutrit', 1.0): 33,\n",
       " ('plan', 1.0): 39,\n",
       " ('cheer', 1.0): 2,\n",
       " ('🥂', 1.0): 3,\n",
       " ('healthi', 1.0): 98,\n",
       " ('🫁', 1.0): 1,\n",
       " ('happi', 1.0): 55,\n",
       " ('🫀', 1.0): 1,\n",
       " ('stress-beat', 1.0): 1,\n",
       " ('endorphin', 1.0): 1,\n",
       " ('benefit', 1.0): 11,\n",
       " ('aerob', 1.0): 2,\n",
       " ('endless', 1.0): 1,\n",
       " ('compil', 1.0): 4,\n",
       " ('list', 1.0): 28,\n",
       " ('sweat', 1.0): 13,\n",
       " ('sesh', 1.0): 4,\n",
       " ('cardio', 1.0): 32,\n",
       " ('🏃\\u200d♀', 1.0): 1,\n",
       " ('strength', 1.0): 35,\n",
       " ('🏋', 1.0): 5,\n",
       " ('️\\u200d♂', 1.0): 1,\n",
       " ('delici', 1.0): 40,\n",
       " ('twist', 1.0): 12,\n",
       " ('all-tim', 1.0): 3,\n",
       " ('breakfast', 1.0): 9,\n",
       " ('classic', 1.0): 26,\n",
       " ('🥞', 1.0): 5,\n",
       " ('need', 1.0): 138,\n",
       " ('minut', 1.0): 49,\n",
       " ('yummi', 1.0): 5,\n",
       " ('dish', 1.0): 10,\n",
       " ('supercharg', 1.0): 1,\n",
       " ('⚡', 1.0): 4,\n",
       " ('find', 1.0): 106,\n",
       " ('right', 1.0): 124,\n",
       " ('one-pan', 1.0): 1,\n",
       " ('spinach', 1.0): 2,\n",
       " ('artichok', 1.0): 2,\n",
       " ('snap', 1.0): 6,\n",
       " ('clean', 1.0): 15,\n",
       " ('anoth', 1.0): 10,\n",
       " ('bonu', 1.0): 2,\n",
       " ('sneaki', 1.0): 2,\n",
       " ('extra', 1.0): 16,\n",
       " ('veggi', 1.0): 6,\n",
       " ('cauliflow', 1.0): 2,\n",
       " ('rice', 1.0): 3,\n",
       " ('bon', 1.0): 4,\n",
       " ('appetit', 1.0): 4,\n",
       " (\"there'\", 1.0): 18,\n",
       " ('low-impact', 1.0): 5,\n",
       " ('option', 1.0): 35,\n",
       " ('altern', 1.0): 8,\n",
       " ('great', 1.0): 82,\n",
       " ('joint', 1.0): 6,\n",
       " ('tlc', 1.0): 2,\n",
       " ('5', 1.0): 81,\n",
       " ('no-equip', 1.0): 2,\n",
       " ('full-bodi', 1.0): 20,\n",
       " ('tabata-styl', 1.0): 1,\n",
       " ('busi', 1.0): 28,\n",
       " ('schedul', 1.0): 2,\n",
       " ('elev', 1.0): 5,\n",
       " ('heart', 1.0): 18,\n",
       " ('rate', 1.0): 17,\n",
       " ('give', 1.0): 83,\n",
       " ('burst', 1.0): 2,\n",
       " ('energi', 1.0): 16,\n",
       " ('rest', 1.0): 11,\n",
       " ('clear', 1.0): 4,\n",
       " ('mind', 1.0): 20,\n",
       " ('love', 1.0): 119,\n",
       " ('happen', 1.0): 98,\n",
       " ('famili', 1.0): 21,\n",
       " ('age', 1.0): 13,\n",
       " ('polici', 1.0): 59,\n",
       " ('vari', 1.0): 32,\n",
       " ('locat', 1.0): 94,\n",
       " ('answer', 1.0): 16,\n",
       " ('info', 1.0): 16,\n",
       " (\"let'\", 1.0): 25,\n",
       " ('talk', 1.0): 20,\n",
       " ('push-up', 1.0): 5,\n",
       " ('excel', 1.0): 1,\n",
       " ('upper', 1.0): 22,\n",
       " ('bodi', 1.0): 79,\n",
       " ('–', 1.0): 16,\n",
       " ('done', 1.0): 25,\n",
       " ('correctli', 1.0): 4,\n",
       " ('engag', 1.0): 5,\n",
       " ('lower', 1.0): 13,\n",
       " ('core', 1.0): 81,\n",
       " ('learn', 1.0): 67,\n",
       " ('christian', 1.0): 8,\n",
       " ('break', 1.0): 40,\n",
       " ('four', 1.0): 9,\n",
       " ('movement', 1.0): 43,\n",
       " ('build', 1.0): 62,\n",
       " ('toward', 1.0): 3,\n",
       " ('first', 1.0): 44,\n",
       " ('ask', 1.0): 47,\n",
       " ('owner', 1.0): 60,\n",
       " ('adher', 1.0): 22,\n",
       " ('govern', 1.0): 26,\n",
       " ('guidelin', 1.0): 44,\n",
       " ('around', 1.0): 32,\n",
       " ('re-open', 1.0): 31,\n",
       " ('mask', 1.0): 24,\n",
       " ('read', 1.0): 35,\n",
       " ('follow', 1.0): 40,\n",
       " ('let', 1.0): 90,\n",
       " ('mention', 1.0): 1,\n",
       " ('march', 1.0): 9,\n",
       " ('nation', 1.0): 6,\n",
       " ('month', 1.0): 18,\n",
       " ('better', 1.0): 59,\n",
       " ('pay', 1.0): 4,\n",
       " ('tribut', 1.0): 2,\n",
       " (\"everyone'\", 1.0): 3,\n",
       " ('favorit', 1.0): 51,\n",
       " ('bird', 1.0): 1,\n",
       " ('sourc', 1.0): 6,\n",
       " ('also', 1.0): 31,\n",
       " ('high', 1.0): 5,\n",
       " ('level', 1.0): 20,\n",
       " ('amino', 1.0): 2,\n",
       " ('acid', 1.0): 2,\n",
       " ('link', 1.0): 15,\n",
       " ('higher', 1.0): 3,\n",
       " ('serotonin', 1.0): 1,\n",
       " ('page', 1.0): 51,\n",
       " ('heard', 1.0): 12,\n",
       " ('consist', 1.0): 11,\n",
       " ('🔑', 1.0): 3,\n",
       " ('sometim', 1.0): 17,\n",
       " ('’', 1.0): 331,\n",
       " ('hardest', 1.0): 6,\n",
       " ('part', 1.0): 32,\n",
       " ('fret', 1.0): 3,\n",
       " ('simpl', 1.0): 46,\n",
       " ('start', 1.0): 80,\n",
       " ('today', 1.0): 51,\n",
       " ('habit', 1.0): 8,\n",
       " ('stick', 1.0): 8,\n",
       " ('em', 1.0): 8,\n",
       " ('tri', 1.0): 139,\n",
       " ('drag', 1.0): 1,\n",
       " ('ellipt', 1.0): 5,\n",
       " ('fix', 1.0): 6,\n",
       " ('set', 1.0): 51,\n",
       " ('heather', 1.0): 6,\n",
       " ('down-low', 1.0): 1,\n",
       " ('person', 1.0): 15,\n",
       " (\"runner'\", 1.0): 1,\n",
       " ('articl', 1.0): 33,\n",
       " ('appreci', 1.0): 17,\n",
       " ('want', 1.0): 104,\n",
       " ('member.solutions@sebrands.com', 1.0): 57,\n",
       " ('situat', 1.0): 29,\n",
       " ('ever', 1.0): 28,\n",
       " ('surpris', 1.0): 9,\n",
       " ('willpow', 1.0): 1,\n",
       " ('john', 1.0): 7,\n",
       " ('chore', 1.0): 1,\n",
       " ('someth', 1.0): 11,\n",
       " ('check', 1.0): 113,\n",
       " ('to-do', 1.0): 1,\n",
       " ('anymor', 1.0): 6,\n",
       " ('commit', 1.0): 6,\n",
       " ('somebodi', 1.0): 5,\n",
       " ('say', 1.0): 56,\n",
       " ('taco', 1.0): 5,\n",
       " ('meal', 1.0): 30,\n",
       " ('prep', 1.0): 9,\n",
       " ('ditch', 1.0): 3,\n",
       " ('tortilla', 1.0): 2,\n",
       " ('sweet', 1.0): 12,\n",
       " ('potato', 1.0): 3,\n",
       " (\"it'll\", 1.0): 3,\n",
       " ('turn', 1.0): 36,\n",
       " ('tuesday', 1.0): 2,\n",
       " ('fiesta', 1.0): 1,\n",
       " ('🌮', 1.0): 2,\n",
       " ('everi', 1.0): 25,\n",
       " ('parti', 1.0): 3,\n",
       " ('protein-pack', 1.0): 4,\n",
       " ('birthday', 1.0): 9,\n",
       " ('cake', 1.0): 4,\n",
       " ('bite', 1.0): 9,\n",
       " ('🥳', 1.0): 7,\n",
       " ('sprinkl', 1.0): 2,\n",
       " ('joy', 1.0): 1,\n",
       " ('whip', 1.0): 4,\n",
       " ('batch', 1.0): 3,\n",
       " ('mid-day', 1.0): 1,\n",
       " ('tooth', 1.0): 1,\n",
       " ('crave', 1.0): 11,\n",
       " ('essenti', 1.0): 20,\n",
       " ('vitamin', 1.0): 4,\n",
       " ('miner', 1.0): 7,\n",
       " ('radish', 1.0): 3,\n",
       " ('shown', 1.0): 2,\n",
       " ('aid', 1.0): 6,\n",
       " ('digest', 1.0): 2,\n",
       " ('regul', 1.0): 4,\n",
       " ('gut', 1.0): 4,\n",
       " ('health', 1.0): 200,\n",
       " ('even', 1.0): 50,\n",
       " ('strengthen', 1.0): 60,\n",
       " ('immun', 1.0): 4,\n",
       " ('system', 1.0): 11,\n",
       " ('click', 1.0): 5,\n",
       " ('everyth', 1.0): 38,\n",
       " ('root', 1.0): 2,\n",
       " ('joseph', 1.0): 1,\n",
       " ('scrumptiou', 1.0): 1,\n",
       " ('almond-crust', 1.0): 2,\n",
       " ('tilapia', 1.0): 2,\n",
       " ('lemon', 1.0): 1,\n",
       " ('sure', 1.0): 67,\n",
       " ('hit', 1.0): 29,\n",
       " ('seafood-lov', 1.0): 1,\n",
       " ('crowd', 1.0): 4,\n",
       " ('still', 1.0): 42,\n",
       " ('fenc', 1.0): 1,\n",
       " ('eat', 1.0): 56,\n",
       " ('fish', 1.0): 2,\n",
       " ('might', 1.0): 35,\n",
       " ('win', 1.0): 25,\n",
       " ('go', 1.0): 86,\n",
       " ('anyway', 1.0): 3,\n",
       " ('forget', 1.0): 10,\n",
       " ('treat', 1.0): 27,\n",
       " (\"yo'self\", 1.0): 3,\n",
       " ('head', 1.0): 69,\n",
       " ('10', 1.0): 24,\n",
       " ('celebr', 1.0): 15,\n",
       " ('without', 1.0): 19,\n",
       " ('track', 1.0): 16,\n",
       " ('hello', 1.0): 15,\n",
       " ('nutriti', 1.0): 11,\n",
       " ('gorgeou', 1.0): 3,\n",
       " ('color', 1.0): 8,\n",
       " ('bowl', 1.0): 9,\n",
       " ('may', 1.0): 34,\n",
       " ('seem', 1.0): 10,\n",
       " ('piec', 1.0): 7,\n",
       " ('art', 1.0): 4,\n",
       " ('actual', 1.0): 13,\n",
       " ('picture-worthi', 1.0): 1,\n",
       " ('smoothi', 1.0): 2,\n",
       " ('‘', 1.0): 12,\n",
       " ('af', 1.0): 25,\n",
       " ('fuel', 1.0): 8,\n",
       " ('soul', 1.0): 1,\n",
       " ('diet', 1.0): 19,\n",
       " ('go-to', 1.0): 7,\n",
       " ('groceri', 1.0): 7,\n",
       " ('item', 1.0): 16,\n",
       " ('never', 1.0): 28,\n",
       " ('shop', 1.0): 13,\n",
       " ('upper-bodi', 1.0): 1,\n",
       " ('lat', 1.0): 4,\n",
       " ('pulldown', 1.0): 6,\n",
       " ('machin', 1.0): 17,\n",
       " (\"christian'\", 1.0): 2,\n",
       " ('411', 1.0): 3,\n",
       " ('rock', 1.0): 9,\n",
       " ('rear', 1.0): 1,\n",
       " ('delt', 1.0): 2,\n",
       " ('bicep', 1.0): 4,\n",
       " ('tricep', 1.0): 7,\n",
       " ('urg', 1.0): 10,\n",
       " ('submit', 1.0): 27,\n",
       " ('ticket', 1.0): 26,\n",
       " ('💜', 1.0): 41,\n",
       " ('better-for-y', 1.0): 5,\n",
       " ('tradit', 1.0): 7,\n",
       " ('egg', 1.0): 5,\n",
       " ('roll', 1.0): 19,\n",
       " ('healthier', 1.0): 15,\n",
       " ('deconstruct', 1.0): 2,\n",
       " ('less', 1.0): 25,\n",
       " ('serv', 1.0): 11,\n",
       " ('tasti', 1.0): 8,\n",
       " ('whole', 1.0): 21,\n",
       " ('prepar', 1.0): 7,\n",
       " ('game', 1.0): 26,\n",
       " ('🎳', 1.0): 1,\n",
       " ('battl', 1.0): 8,\n",
       " ('rope', 1.0): 10,\n",
       " ('addit', 1.0): 8,\n",
       " ('routin', 1.0): 50,\n",
       " ('face', 1.0): 15,\n",
       " ('icon', 1.0): 17,\n",
       " ('equip', 1.0): 11,\n",
       " ('scari', 1.0): 3,\n",
       " ('heat', 1.0): 17,\n",
       " ('buffalo-styl', 1.0): 3,\n",
       " ('turkey', 1.0): 3,\n",
       " ('burger', 1.0): 5,\n",
       " ('blue', 1.0): 4,\n",
       " ('chees', 1.0): 4,\n",
       " ('spici', 1.0): 4,\n",
       " ('buffalo', 1.0): 4,\n",
       " ('sauc', 1.0): 6,\n",
       " ('crisp', 1.0): 3,\n",
       " ('green', 1.0): 13,\n",
       " ('onion', 1.0): 3,\n",
       " ('…', 1.0): 41,\n",
       " ('miss', 1.0): 51,\n",
       " ('beef', 1.0): 3,\n",
       " ('believ', 1.0): 8,\n",
       " ('tell', 1.0): 24,\n",
       " ('trx', 1.0): 6,\n",
       " ('band', 1.0): 16,\n",
       " ('add', 1.0): 38,\n",
       " ('resist', 1.0): 7,\n",
       " ('train', 1.0): 87,\n",
       " ('6', 1.0): 20,\n",
       " ('variat', 1.0): 32,\n",
       " ('dip', 1.0): 6,\n",
       " ('mistak', 1.0): 11,\n",
       " ('form', 1.0): 54,\n",
       " ('fundament', 1.0): 2,\n",
       " ('anatomi', 1.0): 2,\n",
       " ('awesom', 1.0): 17,\n",
       " ('luxuri', 1.0): 1,\n",
       " ('indulg', 1.0): 3,\n",
       " ('amaz', 1.0): 16,\n",
       " ('fruit', 1.0): 4,\n",
       " ('year-round', 1.0): 2,\n",
       " ('fun', 1.0): 16,\n",
       " ('dessert', 1.0): 3,\n",
       " ('juici', 1.0): 2,\n",
       " ('mango', 1.0): 1,\n",
       " ('flavor-blast', 1.0): 1,\n",
       " ('🥭', 1.0): 1,\n",
       " ('melani', 1.0): 1,\n",
       " ('phillippin', 1.0): 1,\n",
       " ('fbc.ph@inspirebrandsasia.com', 1.0): 10,\n",
       " ('crunch', 1.0): 12,\n",
       " ('ye', 1.0): 46,\n",
       " ('target', 1.0): 8,\n",
       " ('move', 1.0): 100,\n",
       " ('investig', 1.0): 1,\n",
       " ('claim', 1.0): 4,\n",
       " ('immedi', 1.0): 32,\n",
       " ('club', 1.0): 404,\n",
       " ('hail', 1.0): 2,\n",
       " ('kale', 1.0): 2,\n",
       " ('super', 1.0): 16,\n",
       " ('leafi', 1.0): 2,\n",
       " ('made', 1.0): 25,\n",
       " ('snack', 1.0): 17,\n",
       " ('buy', 1.0): 8,\n",
       " ('pre-mad', 1.0): 1,\n",
       " ('kind', 1.0): 9,\n",
       " ('—', 1.0): 108,\n",
       " ('🥬', 1.0): 2,\n",
       " ('weekend', 1.0): 11,\n",
       " ('drink', 1.0): 6,\n",
       " ('fresh', 1.0): 9,\n",
       " ('sugar-fre', 1.0): 1,\n",
       " ('mojito', 1.0): 1,\n",
       " ('refresh', 1.0): 4,\n",
       " (\"cheers'\", 1.0): 1,\n",
       " ('laura', 1.0): 2,\n",
       " ('issu', 1.0): 21,\n",
       " ('uk', 1.0): 16,\n",
       " ('row', 1.0): 6,\n",
       " ('rememb', 1.0): 2,\n",
       " ('stuck', 1.0): 2,\n",
       " ('desk', 1.0): 4,\n",
       " ('9', 1.0): 20,\n",
       " ('stay', 1.0): 32,\n",
       " ('activ', 1.0): 11,\n",
       " ('throughout', 1.0): 6,\n",
       " ('workday', 1.0): 2,\n",
       " ('anyth', 1.0): 5,\n",
       " ('anamika', 1.0): 1,\n",
       " ('inform', 1.0): 38,\n",
       " ('spoiler', 1.0): 7,\n",
       " ('alert', 1.0): 6,\n",
       " ('import', 1.0): 20,\n",
       " ('warm', 1.0): 7,\n",
       " ('element', 1.0): 4,\n",
       " ('comment', 1.0): 6,\n",
       " ('skip', 1.0): 6,\n",
       " ('takeout', 1.0): 2,\n",
       " ('sacrif', 1.0): 2,\n",
       " ('fri', 1.0): 1,\n",
       " ('think', 1.0): 39,\n",
       " ('lot', 1.0): 24,\n",
       " ('banana', 1.0): 7,\n",
       " ('shake', 1.0): 8,\n",
       " ('fill', 1.0): 3,\n",
       " ('food', 1.0): 18,\n",
       " ('pre-workout', 1.0): 10,\n",
       " ('boost', 1.0): 7,\n",
       " ('everyon', 1.0): 15,\n",
       " (\"can't\", 1.0): 23,\n",
       " ('alway', 1.0): 38,\n",
       " ('avoid', 1.0): 12,\n",
       " ('control', 1.0): 4,\n",
       " ('choos', 1.0): 8,\n",
       " ('respond', 1.0): 3,\n",
       " ('zen', 1.0): 3,\n",
       " ('🧘\\u200d♀', 1.0): 1,\n",
       " ('timer', 1.0): 1,\n",
       " ('joke', 1.0): 3,\n",
       " ('teach', 1.0): 3,\n",
       " ('cut', 1.0): 9,\n",
       " ('bell', 1.0): 1,\n",
       " ('pepper', 1.0): 1,\n",
       " ('40', 1.0): 11,\n",
       " ('second', 1.0): 11,\n",
       " ('discov', 1.0): 6,\n",
       " ('chop', 1.0): 4,\n",
       " ('goe', 1.0): 5,\n",
       " ('well', 1.0): 118,\n",
       " ('🫑', 1.0): 1,\n",
       " ('weeknight', 1.0): 2,\n",
       " ('dinner', 1.0): 9,\n",
       " ('understand', 1.0): 33,\n",
       " ('instead', 1.0): 18,\n",
       " ('deliveri', 1.0): 2,\n",
       " ('app', 1.0): 7,\n",
       " ('delish', 1.0): 6,\n",
       " ('culinari', 1.0): 1,\n",
       " ('rut', 1.0): 1,\n",
       " ('tastebud', 1.0): 1,\n",
       " ('😉', 1.0): 29,\n",
       " ('thing', 1.0): 64,\n",
       " ('pancak', 1.0): 7,\n",
       " ('🍌', 1.0): 8,\n",
       " ('3', 1.0): 27,\n",
       " ('away', 1.0): 77,\n",
       " ('perhap', 1.0): 1,\n",
       " ('brunch', 1.0): 1,\n",
       " ('enjoy', 1.0): 11,\n",
       " ('purpl', 1.0): 10,\n",
       " ('turf', 1.0): 8,\n",
       " ('kettlebel', 1.0): 75,\n",
       " ('dynam', 1.0): 3,\n",
       " ('improv', 1.0): 24,\n",
       " ('power', 1.0): 16,\n",
       " ('balanc', 1.0): 7,\n",
       " ('seriou', 1.0): 13,\n",
       " ('😍', 1.0): 31,\n",
       " ('word', 1.0): 6,\n",
       " ('macro', 1.0): 5,\n",
       " ('thrown', 1.0): 2,\n",
       " ('mean', 1.0): 25,\n",
       " ('count', 1.0): 5,\n",
       " ('put', 1.0): 43,\n",
       " ('togeth', 1.0): 27,\n",
       " ('surround', 1.0): 1,\n",
       " ('brine', 1.0): 1,\n",
       " ('mark', 1.0): 9,\n",
       " ('least', 1.0): 11,\n",
       " ('keep', 1.0): 56,\n",
       " ('satisfi', 1.0): 5,\n",
       " ('🎂', 1.0): 1,\n",
       " ('creativ', 1.0): 4,\n",
       " (\"valentine'\", 1.0): 1,\n",
       " ('date', 1.0): 8,\n",
       " ('night', 1.0): 8,\n",
       " ('sweeti', 1.0): 1,\n",
       " ('reserv', 1.0): 2,\n",
       " ('two', 1.0): 38,\n",
       " ('💌', 1.0): 1,\n",
       " ('📬', 1.0): 1,\n",
       " ('trip', 1.0): 3,\n",
       " ('cheap', 1.0): 1,\n",
       " ('🚨', 1.0): 4,\n",
       " ('load', 1.0): 16,\n",
       " ('sheet-pan', 1.0): 1,\n",
       " ('zucchini', 1.0): 3,\n",
       " ('nacho', 1.0): 2,\n",
       " ('trust', 1.0): 14,\n",
       " ('must-mak', 1.0): 1,\n",
       " (\"sunday'\", 1.0): 1,\n",
       " ('🏈', 1.0): 1,\n",
       " ('elektra', 1.0): 1,\n",
       " ('messag', 1.0): 22,\n",
       " ('cue', 1.0): 3,\n",
       " ('eye', 1.0): 4,\n",
       " ('tiger', 1.0): 1,\n",
       " ('pump', 1.0): 4,\n",
       " ('boxing-inspir', 1.0): 1,\n",
       " ('glove', 1.0): 2,\n",
       " ('requir', 1.0): 10,\n",
       " ('🥊', 1.0): 1,\n",
       " ('live', 1.0): 54,\n",
       " ('room', 1.0): 6,\n",
       " ('pro', 1.0): 4,\n",
       " ('paleo', 1.0): 1,\n",
       " ('chef', 1.0): 3,\n",
       " ('tart', 1.0): 1,\n",
       " ('blogger', 1.0): 2,\n",
       " ('stephani', 1.0): 1,\n",
       " ('meyer', 1.0): 1,\n",
       " ('pesto', 1.0): 1,\n",
       " ('blender', 1.0): 1,\n",
       " ('handi', 1.0): 2,\n",
       " ('trick', 1.0): 3,\n",
       " ('cook', 1.0): 7,\n",
       " ('hiit', 1.0): 10,\n",
       " ('diy', 1.0): 2,\n",
       " ('creat', 1.0): 15,\n",
       " ('high-intens', 1.0): 3,\n",
       " ('interv', 1.0): 4,\n",
       " ('hard', 1.0): 34,\n",
       " ('💪🏼', 1.0): 11,\n",
       " ('thought', 1.0): 7,\n",
       " ('appl', 1.0): 8,\n",
       " ('cider', 1.0): 4,\n",
       " ('vinegar', 1.0): 4,\n",
       " ('kitchen', 1.0): 10,\n",
       " ('💆', 1.0): 1,\n",
       " ('hair', 1.0): 12,\n",
       " ('condit', 1.0): 8,\n",
       " ('treatment', 1.0): 3,\n",
       " ('🏠', 1.0): 1,\n",
       " ('household', 1.0): 2,\n",
       " ('cleaner', 1.0): 2,\n",
       " ('🥕', 1.0): 2,\n",
       " ('produc', 1.0): 1,\n",
       " ('wash', 1.0): 2,\n",
       " ('incorpor', 1.0): 25,\n",
       " ('everyday', 1.0): 5,\n",
       " ('life', 1.0): 60,\n",
       " ('⬇', 1.0): 4,\n",
       " ('visibl', 1.0): 3,\n",
       " ('pineappl', 1.0): 3,\n",
       " ('hate', 1.0): 5,\n",
       " ('tutori', 1.0): 1,\n",
       " ('antioxidant-load', 1.0): 1,\n",
       " ('🍍', 1.0): 1,\n",
       " ('one-size-fits-al', 1.0): 1,\n",
       " ('provid', 1.0): 15,\n",
       " ('hydrat', 1.0): 6,\n",
       " ('includ', 1.0): 14,\n",
       " (\"body'\", 1.0): 1,\n",
       " ('water', 1.0): 10,\n",
       " ('bottl', 1.0): 1,\n",
       " ('asap', 1.0): 4,\n",
       " ('settl', 1.0): 3,\n",
       " ('age-old', 1.0): 2,\n",
       " ('debat', 1.0): 2,\n",
       " ('treadmil', 1.0): 7,\n",
       " ('okay', 1.0): 14,\n",
       " ('mayb', 1.0): 7,\n",
       " ('question', 1.0): 62,\n",
       " ('🥇', 1.0): 1,\n",
       " ('malaysia', 1.0): 1,\n",
       " ('fbc.my@inspirebrandsasia.com', 1.0): 1,\n",
       " ('apolog', 1.0): 19,\n",
       " ('log', 1.0): 11,\n",
       " ('complaint', 1.0): 2,\n",
       " ('studio', 1.0): 75,\n",
       " ('yeah', 1.0): 16,\n",
       " ('said', 1.0): 17,\n",
       " ('doubl', 1.0): 10,\n",
       " ('chocol', 1.0): 3,\n",
       " ('🍫', 1.0): 1,\n",
       " ('plu', 1.0): 22,\n",
       " ('bunch', 1.0): 2,\n",
       " ('mealtim', 1.0): 2,\n",
       " ('dreadmil', 1.0): 2,\n",
       " ('late', 1.0): 7,\n",
       " ('total', 1.0): 18,\n",
       " (\"here'\", 1.0): 60,\n",
       " ('hiit-styl', 1.0): 1,\n",
       " ('honest', 1.0): 9,\n",
       " ('pr', 1.0): 4,\n",
       " ('liter', 1.0): 6,\n",
       " ('melt', 1.0): 29,\n",
       " ('🥺', 1.0): 1,\n",
       " ('fuzzi', 1.0): 1,\n",
       " ('mitch', 1.0): 1,\n",
       " ('moment', 1.0): 48,\n",
       " ('struggl', 1.0): 8,\n",
       " ('pain', 1.0): 14,\n",
       " ('alon', 1.0): 11,\n",
       " ('caus', 1.0): 8,\n",
       " ('instruct', 1.0): 3,\n",
       " ('three', 1.0): 17,\n",
       " ('sculpt', 1.0): 4,\n",
       " ('defin', 1.0): 3,\n",
       " ('glute', 1.0): 14,\n",
       " ('hint', 1.0): 5,\n",
       " ('squat', 1.0): 12,\n",
       " ('🍑', 1.0): 13,\n",
       " ('howev', 1.0): 4,\n",
       " ('single-person', 1.0): 2,\n",
       " ('restroom', 1.0): 2,\n",
       " ('locker', 1.0): 3,\n",
       " ('recov', 1.0): 4,\n",
       " ('restor', 1.0): 3,\n",
       " ('tough', 1.0): 9,\n",
       " ('😎', 1.0): 2,\n",
       " ('peac', 1.0): 4,\n",
       " ('”', 1.0): 58,\n",
       " ('incred', 1.0): 7,\n",
       " ('resili', 1.0): 1,\n",
       " ('determin', 1.0): 1,\n",
       " ('brought', 1.0): 3,\n",
       " ('jame', 1.0): 3,\n",
       " ('unstopp', 1.0): 1,\n",
       " ('inspir', 1.0): 6,\n",
       " ('affamili', 1.0): 18,\n",
       " ('grab', 1.0): 9,\n",
       " ('medicin', 1.0): 4,\n",
       " ('ball', 1.0): 4,\n",
       " ('yet', 1.0): 12,\n",
       " ('highli', 1.0): 4,\n",
       " (\"who'\", 1.0): 7,\n",
       " ('gain', 1.0): 24,\n",
       " ('bite-s', 1.0): 2,\n",
       " ('quich', 1.0): 2,\n",
       " ('morn', 1.0): 17,\n",
       " ('breez', 1.0): 3,\n",
       " ('sunday', 1.0): 1,\n",
       " ('protein-fil', 1.0): 1,\n",
       " ('long', 1.0): 15,\n",
       " ('old', 1.0): 8,\n",
       " ('australia', 1.0): 10,\n",
       " ('customerservice@anytimefitness.com.au', 1.0): 15,\n",
       " ('solut', 1.0): 74,\n",
       " ('call', 1.0): 118,\n",
       " ('collagen', 1.0): 6,\n",
       " ('supplement', 1.0): 15,\n",
       " ('later', 1.0): 13,\n",
       " ('must-tri', 1.0): 1,\n",
       " ('join', 1.0): 20,\n",
       " ('ivi', 1.0): 1,\n",
       " ('store', 1.0): 7,\n",
       " ('sweet-tooth-induc', 1.0): 2,\n",
       " ('gener', 1.0): 5,\n",
       " ('parent', 1.0): 4,\n",
       " ('kid', 1.0): 3,\n",
       " ('wait', 1.0): 16,\n",
       " ('30', 1.0): 27,\n",
       " ('pool', 1.0): 3,\n",
       " ('fear', 1.0): 2,\n",
       " ('indigest', 1.0): 1,\n",
       " ('stomach', 1.0): 3,\n",
       " ('cramp', 1.0): 1,\n",
       " ('appli', 1.0): 2,\n",
       " ('experienc', 1.0): 7,\n",
       " ('taken', 1.0): 14,\n",
       " ('bar', 1.0): 22,\n",
       " ('derail', 1.0): 2,\n",
       " ('goal', 1.0): 53,\n",
       " ('run', 1.0): 30,\n",
       " ('e', 1.0): 3,\n",
       " ('⛽', 1.0): 3,\n",
       " ('seat', 1.0): 3,\n",
       " ('wall', 1.0): 6,\n",
       " ('conveni', 1.0): 5,\n",
       " ('possibl', 1.0): 20,\n",
       " ('worldwid', 1.0): 7,\n",
       " ('focu', 1.0): 10,\n",
       " ('number', 1.0): 4,\n",
       " ('scale', 1.0): 7,\n",
       " ('arm', 1.0): 10,\n",
       " ('succeed', 1.0): 1,\n",
       " ('consid', 1.0): 6,\n",
       " ('journey', 1.0): 29,\n",
       " ('staf', 1.0): 1,\n",
       " ('hour', 1.0): 9,\n",
       " ('welcom', 1.0): 10,\n",
       " ('good', 1.0): 69,\n",
       " ('place', 1.0): 13,\n",
       " ('2022', 1.0): 38,\n",
       " ('year', 1.0): 60,\n",
       " ('gather', 1.0): 2,\n",
       " ('januari', 1.0): 2,\n",
       " ('🍾', 1.0): 1,\n",
       " ('edwin', 1.0): 1,\n",
       " ('awar', 1.0): 14,\n",
       " ('press', 1.0): 30,\n",
       " ('paus', 1.0): 3,\n",
       " ('lung', 1.0): 2,\n",
       " ('drop', 1.0): 20,\n",
       " ('knee', 1.0): 6,\n",
       " ('20', 1.0): 17,\n",
       " ('oh', 1.0): 14,\n",
       " ('comfort', 1.0): 10,\n",
       " (\"o'clock\", 1.0): 1,\n",
       " ('white', 1.0): 5,\n",
       " ('greek', 1.0): 3,\n",
       " ('yogurt', 1.0): 2,\n",
       " ('chilli', 1.0): 2,\n",
       " ('outsid', 1.0): 10,\n",
       " ('chili', 1.0): 2,\n",
       " ('insid', 1.0): 14,\n",
       " ('lack', 1.0): 5,\n",
       " ('thereof', 1.0): 1,\n",
       " ('long-term', 1.0): 2,\n",
       " ('success', 1.0): 16,\n",
       " ('solid', 1.0): 3,\n",
       " ('foundat', 1.0): 10,\n",
       " ('price', 1.0): 13,\n",
       " ('interest', 1.0): 11,\n",
       " ('touch', 1.0): 53,\n",
       " ('hunger', 1.0): 3,\n",
       " ('mani', 1.0): 17,\n",
       " ('rang', 1.0): 3,\n",
       " ('empti', 1.0): 2,\n",
       " ('jitter', 1.0): 1,\n",
       " ('wonder', 1.0): 16,\n",
       " ('dali', 1.0): 1,\n",
       " ('gerard', 1.0): 1,\n",
       " ('bias', 1.0): 2,\n",
       " ('free', 1.0): 29,\n",
       " ('websit', 1.0): 28,\n",
       " ('spent', 1.0): 6,\n",
       " ('finish', 1.0): 9,\n",
       " ('lockdown', 1.0): 3,\n",
       " ('protocol', 1.0): 4,\n",
       " ('advantag', 1.0): 2,\n",
       " ('cheat', 1.0): 8,\n",
       " ('sheet', 1.0): 2,\n",
       " ('idea', 1.0): 14,\n",
       " ('budget', 1.0): 3,\n",
       " ('🍎', 1.0): 4,\n",
       " ('🍞', 1.0): 3,\n",
       " ('🥩', 1.0): 3,\n",
       " ('swing', 1.0): 5,\n",
       " ('increas', 1.0): 25,\n",
       " ('mobil', 1.0): 13,\n",
       " ('score', 1.0): 1,\n",
       " ('captain', 1.0): 2,\n",
       " ('aboard', 1.0): 1,\n",
       " ('pizza', 1.0): 9,\n",
       " ('boat', 1.0): 3,\n",
       " ('usual', 1.0): 8,\n",
       " ('gameday', 1.0): 1,\n",
       " ('spice', 1.0): 8,\n",
       " ('home-on-the-rang', 1.0): 1,\n",
       " ('delicaci', 1.0): 1,\n",
       " ('sidekick', 1.0): 1,\n",
       " ('boot', 1.0): 4,\n",
       " ('giddi', 1.0): 1,\n",
       " ('🤠', 1.0): 2,\n",
       " ('well-round', 1.0): 1,\n",
       " ('rower', 1.0): 5,\n",
       " ('fall', 1.0): 12,\n",
       " ('ground', 1.0): 2,\n",
       " ('runnin', 1.0): 1,\n",
       " ('rowin', 1.0): 1,\n",
       " ('🚣\\u200d♀', 1.0): 1,\n",
       " ('veget', 1.0): 3,\n",
       " ('powerhous', 1.0): 3,\n",
       " ('nutrient', 1.0): 3,\n",
       " ('antioxid', 1.0): 3,\n",
       " ('aspara-guess', 1.0): 1,\n",
       " ('stapl', 1.0): 12,\n",
       " ('convinc', 1.0): 1,\n",
       " ('otherwis', 1.0): 2,\n",
       " ('rather', 1.0): 4,\n",
       " ('brew', 1.0): 3,\n",
       " ('cup', 1.0): 3,\n",
       " ('joe', 1.0): 5,\n",
       " ('shift', 1.0): 4,\n",
       " ('gear', 1.0): 5,\n",
       " ('pick-me-up', 1.0): 3,\n",
       " ('🤘', 1.0): 3,\n",
       " ('rooki', 1.0): 2,\n",
       " ('vet', 1.0): 3,\n",
       " ('25', 1.0): 7,\n",
       " ('spot', 1.0): 4,\n",
       " ('pair', 1.0): 9,\n",
       " ('dumbbel', 1.0): 10,\n",
       " ('️\\u200d♀', 1.0): 3,\n",
       " ('assur', 1.0): 1,\n",
       " ('cours', 1.0): 7,\n",
       " ('intend', 1.0): 2,\n",
       " ('logo', 1.0): 4,\n",
       " ('offens', 1.0): 1,\n",
       " ('symbol', 1.0): 1,\n",
       " ('resembl', 1.0): 1,\n",
       " ('stickman', 1.0): 1,\n",
       " ('athlet', 1.0): 30,\n",
       " ('commonli', 1.0): 2,\n",
       " ('competit', 1.0): 5,\n",
       " ('trainer', 1.0): 72,\n",
       " ('invest', 1.0): 10,\n",
       " ('center', 1.0): 9,\n",
       " ('commun', 1.0): 7,\n",
       " ('24/7', 1.0): 1,\n",
       " ('access', 1.0): 7,\n",
       " ('whenev', 1.0): 1,\n",
       " ('cancel', 1.0): 18,\n",
       " ('membership', 1.0): 28,\n",
       " ('5-10', 1.0): 1,\n",
       " ('offer', 1.0): 24,\n",
       " ('huge', 1.0): 9,\n",
       " ('varieti', 1.0): 2,\n",
       " ('physic', 1.0): 17,\n",
       " ('mental', 1.0): 19,\n",
       " ('sound', 1.0): 14,\n",
       " ('weather', 1.0): 3,\n",
       " ('colder', 1.0): 1,\n",
       " ('shorter', 1.0): 2,\n",
       " ('summer', 1.0): 9,\n",
       " ('eatin', 1.0): 1,\n",
       " ('brighten', 1.0): 2,\n",
       " ('mood', 1.0): 3,\n",
       " ('vibe', 1.0): 6,\n",
       " ('beat', 1.0): 4,\n",
       " ('winter', 1.0): 2,\n",
       " ('🤙', 1.0): 1,\n",
       " ('overwhelm', 1.0): 3,\n",
       " ('sheer', 1.0): 1,\n",
       " ('amount', 1.0): 2,\n",
       " ('oil', 1.0): 4,\n",
       " ('confus', 1.0): 1,\n",
       " ('clariti', 1.0): 1,\n",
       " ('amit', 1.0): 1,\n",
       " ('holiday', 1.0): 6,\n",
       " ('five', 1.0): 10,\n",
       " ('festiv', 1.0): 1,\n",
       " ('💕', 1.0): 1,\n",
       " ('resolut', 1.0): 3,\n",
       " ('mania', 1.0): 1,\n",
       " ('corner', 1.0): 2,\n",
       " ...}"
      ]
     },
     "execution_count": 62,
     "metadata": {},
     "output_type": "execute_result"
    }
   ],
   "source": [
    "freqs"
   ]
  },
  {
   "cell_type": "code",
   "execution_count": 63,
   "id": "a040fe77",
   "metadata": {
    "id": "a040fe77"
   },
   "outputs": [],
   "source": [
    "def lookup(freqs, word, label):\n",
    "    n = 0  # freqs.get((word, label), 0)\n",
    "\n",
    "    pair = (word, label)\n",
    "    if (pair in freqs):\n",
    "        n = freqs[pair]\n",
    "\n",
    "    return n"
   ]
  },
  {
   "cell_type": "code",
   "execution_count": 64,
   "id": "287912c1",
   "metadata": {
    "id": "287912c1"
   },
   "outputs": [],
   "source": [
    "def train_naive_bayes(freqs, train_x, train_y):\n",
    "    '''\n",
    "    Output:\n",
    "        logprior: the log prior. (equation 3 above)\n",
    "        loglikelihood: the log likelihood of you Naive bayes equation. (equation 6 above)\n",
    "    '''\n",
    "    loglikelihood = {}\n",
    "    logprior = 0\n",
    "\n",
    "    # calculate V, the number of unique words in the vocabulary\n",
    "    vocab = set([pair[0] for pair in freqs.keys()])\n",
    "    V = len(vocab)\n",
    "\n",
    "    # calculate N_pos and N_neg\n",
    "    N_pos = N_neg = 0\n",
    "    for pair in freqs.keys():\n",
    "        # if the label is positive (greater than zero)\n",
    "        if pair[1] > 0:\n",
    "\n",
    "            # Increment the number of positive words by the count for this (word, label) pair\n",
    "            N_pos += freqs[pair]\n",
    "\n",
    "        # else, the label is negative\n",
    "        else:\n",
    "\n",
    "            # increment the number of negative words by the count for this (word,label) pair\n",
    "            N_neg += freqs[pair]\n",
    "\n",
    "    # Calculate D, the number of documents\n",
    "    D = len(train_y)\n",
    "\n",
    "    # Calculate D_pos, the number of positive documents (*hint: use sum(<np_array>))\n",
    "    D_pos = (len(list(filter(lambda x: x > 0, train_y))))\n",
    "\n",
    "    # Calculate D_neg, the number of negative documents (*hint: compute using D and D_pos)\n",
    "    D_neg = (len(list(filter(lambda x: x <= 0, train_y))))\n",
    "\n",
    "    # Calculate logprior\n",
    "    logprior = np.log(D_pos) - np.log(D_neg)\n",
    "\n",
    "    # For each word in the vocabulary...\n",
    "    for word in vocab:\n",
    "        # get the positive and negative frequency of the word\n",
    "        freq_pos = lookup(freqs,word,1)\n",
    "        freq_neg = lookup(freqs,word,0)\n",
    "\n",
    "        # calculate the probability that each word is positive, and negative\n",
    "        p_w_pos = (freq_pos + 1) / (N_pos + V)\n",
    "        p_w_neg = (freq_neg + 1) / (N_neg + V)\n",
    "\n",
    "        # calculate the log likelihood of the word\n",
    "        loglikelihood[word] = np.log(p_w_pos/p_w_neg)\n",
    "\n",
    "    return logprior, loglikelihood"
   ]
  },
  {
   "cell_type": "code",
   "execution_count": 65,
   "id": "3883ad00",
   "metadata": {
    "id": "3883ad00"
   },
   "outputs": [],
   "source": [
    "logprior, loglikelihood = train_naive_bayes(freqs=freqs, train_x=train_x_arr, train_y=train_y.squeeze())"
   ]
  },
  {
   "cell_type": "code",
   "execution_count": 66,
   "id": "e8d11c24",
   "metadata": {
    "id": "e8d11c24"
   },
   "outputs": [
    {
     "data": {
      "text/plain": [
       "0.0"
      ]
     },
     "execution_count": 66,
     "metadata": {},
     "output_type": "execute_result"
    }
   ],
   "source": [
    "logprior"
   ]
  },
  {
   "cell_type": "code",
   "execution_count": 67,
   "id": "2db11455",
   "metadata": {
    "id": "2db11455",
    "scrolled": true
   },
   "outputs": [
    {
     "data": {
      "text/plain": [
       "{'athlet': 0.9867509089482912,\n",
       " 'carrol': -0.8377983831027547,\n",
       " '🗓': -0.4323332749945904,\n",
       " 'vladimirputon': -0.8377983831027547,\n",
       " 'three-tim': -0.8377983831027547,\n",
       " 'purest': -0.4323332749945904,\n",
       " 'extrem': -0.5501163106509739,\n",
       " 'precor': 1.6471082666852455,\n",
       " '33rd': -0.4323332749945904,\n",
       " 'puerto': -0.4323332749945904,\n",
       " 'caught': -0.2500117182006357,\n",
       " 'wildflow': -0.4323332749945904,\n",
       " 'notifi': -0.8377983831027547,\n",
       " 'cryptic': -1.3486240068687454,\n",
       " 'moor': 1.3594261942334647,\n",
       " 'chrome': -0.4323332749945904,\n",
       " \"yesterday'\": -0.4323332749945904,\n",
       " '7.9': -0.4323332749945904,\n",
       " 'partak': 0.9539610861253003,\n",
       " 'reno': 0.9539610861253003,\n",
       " 'closur': 1.17710463743951,\n",
       " 'loan': -1.2432634912109193,\n",
       " 'anyth': -0.8918656043730305,\n",
       " 'univers': 0.39434529818987757,\n",
       " 'appet': -0.14465120254280942,\n",
       " 'longest-run': 0.9539610861253003,\n",
       " 'daili': -0.9919490629300131,\n",
       " 'rant': -0.8377983831027547,\n",
       " 'children': -1.9904778930411402,\n",
       " 'book': 0.1655037257610302,\n",
       " 'lemongrass': -0.4323332749945904,\n",
       " '5-5': -0.8377983831027547,\n",
       " 'leon': -0.14465120254280942,\n",
       " 'greg': -0.4323332749945904,\n",
       " 'sequel': 0.26081390556535494,\n",
       " 'annasorokin': -1.3486240068687454,\n",
       " 'shell': -1.3486240068687454,\n",
       " 'began': -0.2500117182006357,\n",
       " '💪': 1.3701214833502127,\n",
       " 'corrupt': -0.4323332749945904,\n",
       " 'gerard': 0.9539610861253003,\n",
       " '15': 0.3298067770523064,\n",
       " 'cambridg': 1.8702518179994554,\n",
       " 'pompeii-grown': -0.4323332749945904,\n",
       " 'mim': -0.4323332749945904,\n",
       " 'scholarship': -0.4323332749945904,\n",
       " 'antioxidant-load': 0.9539610861253003,\n",
       " 'defiantli': 0.9539610861253003,\n",
       " 'sara': -0.4323332749945904,\n",
       " 'berman': -0.8377983831027547,\n",
       " 'fashion-forward': -0.8377983831027547,\n",
       " 'egyptian': 0.26081390556535494,\n",
       " 'rodeo': -0.4323332749945904,\n",
       " 'leav': -0.2246939102163459,\n",
       " 'esteem': 0.9539610861253003,\n",
       " 'somewhat': -0.8377983831027547,\n",
       " 'wast': -0.2500117182006357,\n",
       " 'windfal': -1.1254804555545357,\n",
       " 'off-again': -1.1254804555545357,\n",
       " 'gather': -0.4323332749945904,\n",
       " 'donoho': -0.8377983831027547,\n",
       " 'scottdisick': -2.2240927442226455,\n",
       " 'oz': -0.4323332749945904,\n",
       " 'marjori': -0.8377983831027547,\n",
       " 'airport': -0.4323332749945904,\n",
       " 'fungi': 0.9539610861253003,\n",
       " 'pose': 2.308506748930611,\n",
       " 'ethan': 0.9539610861253003,\n",
       " '🎒': -0.8377983831027547,\n",
       " 'detect': -0.4323332749945904,\n",
       " 'cinderella': -1.1254804555545357,\n",
       " 'liza': 0.9539610861253003,\n",
       " 'nilla': -0.4323332749945904,\n",
       " 'week': -0.5258593330054139,\n",
       " 'wfinalfour': -2.3782434240499035,\n",
       " '30th': -1.1254804555545357,\n",
       " 'flyer': -0.4323332749945904,\n",
       " \"wheeloffortune'\": -0.4323332749945904,\n",
       " '✂': -0.4323332749945904,\n",
       " 'real-lif': -0.8377983831027547,\n",
       " 'themaskedsing': -0.4323332749945904,\n",
       " 'teenag': -0.4323332749945904,\n",
       " '360': 0.6662790136735193,\n",
       " 'travisbark': -2.8302285477929607,\n",
       " 'bombshel': -1.6850962434899583,\n",
       " 'keyston': -0.4323332749945904,\n",
       " 'constraint': -0.4323332749945904,\n",
       " 'senat': -3.4886901703650164,\n",
       " 'restaur': -2.137081367233016,\n",
       " 'pepperoni': -0.4323332749945904,\n",
       " 'auston': -1.5309455636627,\n",
       " 'goali': -0.8377983831027547,\n",
       " 'south': -1.776068021695685,\n",
       " 'hottest': -0.14465120254280942,\n",
       " 'roll': 0.6915968216578092,\n",
       " 'cancer': 0.26081390556535494,\n",
       " 'dedic': 0.26081390556535494,\n",
       " 'doug': -1.3486240068687454,\n",
       " 'accomplic': 0.9539610861253003,\n",
       " 'sabotag': -1.1254804555545357,\n",
       " 'burger': -0.3453218980049606,\n",
       " 'choos': 1.3594261942334647,\n",
       " 'must-hav': 1.17710463743951,\n",
       " 'detent': -1.3486240068687454,\n",
       " 'meet': 0.37001319753034706,\n",
       " 'rebutt': -0.4323332749945904,\n",
       " 'aoc': -0.4323332749945904,\n",
       " 'run': -0.36564190049591805,\n",
       " 'quietli': -1.5309455636627,\n",
       " \"let'\": 2.8257632630268916,\n",
       " '86th': -0.4323332749945904,\n",
       " 'fool': 0.26081390556535494,\n",
       " 'courtneytailor': -0.4323332749945904,\n",
       " 'in-person': 0.7308175348110905,\n",
       " 'smith': 0.26081390556535494,\n",
       " 'dojacat': -0.8377983831027547,\n",
       " 'blogger': 0.6662790136735193,\n",
       " 'suggest': -0.750787006113125,\n",
       " 'vrana': -0.4323332749945904,\n",
       " 'nih': -0.4323332749945904,\n",
       " 'shelf': -0.14465120254280942,\n",
       " 'su': -0.8377983831027547,\n",
       " 'scone': -0.8377983831027547,\n",
       " 'logan': 0.9539610861253003,\n",
       " 'sunshin': -0.8377983831027547,\n",
       " 'polson': 0.9539610861253003,\n",
       " 'panetton': -0.4323332749945904,\n",
       " 'menendez': -0.4323332749945904,\n",
       " 'axi': -0.8377983831027547,\n",
       " 'jaromir': -0.8377983831027547,\n",
       " 're-open': 3.7265498083650814,\n",
       " 'global': -1.5583445378508145,\n",
       " 'lightn': -0.4323332749945904,\n",
       " 'stadium': -1.1254804555545357,\n",
       " 'politician': -1.1254804555545357,\n",
       " 'version': 0.00949947728444887,\n",
       " '1982': -0.4323332749945904,\n",
       " 'ottawaon9@anytimefitness.com': 0.9539610861253003,\n",
       " '6m': -0.4323332749945904,\n",
       " 'mouth-wat': 0.9539610861253003,\n",
       " 'prayer': -0.4323332749945904,\n",
       " 'empti': 1.3594261942334647,\n",
       " 'pinki': -0.4323332749945904,\n",
       " '🐸': -0.4323332749945904,\n",
       " '⚽': -0.4323332749945904,\n",
       " 'serrat': -0.4323332749945904,\n",
       " 'jam-pack': 1.3594261942334647,\n",
       " 'vestig': -0.8377983831027547,\n",
       " 'sexiest': 1.6471082666852455,\n",
       " 'lusia': -0.4323332749945904,\n",
       " 'kiya': -0.4323332749945904,\n",
       " 'highest-profil': -0.4323332749945904,\n",
       " 'optimum': 0.9539610861253003,\n",
       " 'reproduct': -1.3486240068687454,\n",
       " 'patio': 0.9539610861253003,\n",
       " 'bicker': -0.4323332749945904,\n",
       " 'aggrav': 0.9539610861253003,\n",
       " 'portion': 0.03767035425114512,\n",
       " 'hot': -0.5276434547989151,\n",
       " 'gotta': 1.560096889695616,\n",
       " 'jalen': -0.4323332749945904,\n",
       " 'yep': 1.2416431585770813,\n",
       " 'rachel': -0.14465120254280942,\n",
       " 'hal': -0.4323332749945904,\n",
       " 'pre-se': -0.4323332749945904,\n",
       " 'cloudera': -0.4323332749945904,\n",
       " 'android': -0.8377983831027547,\n",
       " \"nfl'\": -0.4323332749945904,\n",
       " '58': 0.9539610861253003,\n",
       " 'stoke': -0.8377983831027547,\n",
       " 'newgirl': -0.4323332749945904,\n",
       " 'carolina': -2.5723994384908613,\n",
       " 'privileg': -1.1254804555545357,\n",
       " 'adrian': 1.6471082666852455,\n",
       " 'doncic': -0.4323332749945904,\n",
       " 'nazi': -0.8377983831027547,\n",
       " 'percentag': -0.4323332749945904,\n",
       " 'fiber': 0.9539610861253003,\n",
       " 'articl': 3.7871744301815164,\n",
       " '1:30': 1.3594261942334647,\n",
       " 'kyli': -0.4323332749945904,\n",
       " \"nation'\": -1.818627636114481,\n",
       " 'pandemic-born': -0.4323332749945904,\n",
       " 'bound': -0.4323332749945904,\n",
       " 'off-duti': 0.9539610861253003,\n",
       " 'rooney': -0.4323332749945904,\n",
       " 'dream': -1.5309455636627,\n",
       " 'instyl': -0.4323332749945904,\n",
       " 'gf': -0.4323332749945904,\n",
       " 'goodby': -0.4323332749945904,\n",
       " 'pineappl': 0.9539610861253003,\n",
       " 'clubindustryexecutivesummit': 0.9539610861253003,\n",
       " 'bail': -0.4323332749945904,\n",
       " 'biograph': -0.4323332749945904,\n",
       " \"lover'\": -0.4323332749945904,\n",
       " \"leon'\": 0.9539610861253003,\n",
       " 'simonebil': 0.9539610861253003,\n",
       " 'infin': -0.8377983831027547,\n",
       " 'poland': -1.9364106717708645,\n",
       " '➤': -1.5309455636627,\n",
       " 'preach': -0.4323332749945904,\n",
       " 'poor': -0.8377983831027547,\n",
       " 'target': -0.10691087455996243,\n",
       " 'mercer': 0.9539610861253003,\n",
       " 'app': -0.4929578968110252,\n",
       " 'vitiligo': -0.8377983831027547,\n",
       " 'riley': 0.9539610861253003,\n",
       " 'tribe': -1.1254804555545357,\n",
       " '🥑': 1.3594261942334647,\n",
       " 'kellyripa': -0.8377983831027547,\n",
       " 'ipcc': -0.4323332749945904,\n",
       " '🥳': 1.6471082666852455,\n",
       " 'estelleharri': -0.4323332749945904,\n",
       " '450': 0.26081390556535494,\n",
       " 'mitch': -0.6554768263088002,\n",
       " 'disfigur': -0.4323332749945904,\n",
       " \"princeharry'\": -0.4323332749945904,\n",
       " 'ipad': -0.4323332749945904,\n",
       " 'everyday': 0.6662790136735193,\n",
       " 'dogecoin': -0.4323332749945904,\n",
       " 'sexual': -0.5658646676191129,\n",
       " 'prosthesi': 0.9539610861253003,\n",
       " 'pepe': -1.1254804555545357,\n",
       " '4️⃣the': -0.4323332749945904,\n",
       " 'disbar': -0.4323332749945904,\n",
       " 'cautiou': -0.4323332749945904,\n",
       " 'barbecu': -1.5309455636627,\n",
       " 'hop': -0.14465120254280942,\n",
       " 'coachella': -1.5309455636627,\n",
       " 'orangetheori': 0.9539610861253003,\n",
       " '🐐': -1.6850962434899583,\n",
       " 'offic': -0.12484857524662968,\n",
       " 'vanityfair': -0.8377983831027547,\n",
       " 'paymaya': -0.4323332749945904,\n",
       " \"i'v\": 0.26081390556535494,\n",
       " 'muscular': 0.9539610861253003,\n",
       " 'mesh': -0.4323332749945904,\n",
       " 'charg': -2.5723994384908613,\n",
       " 'crucial': 0.03767035425114512,\n",
       " 'blackhawk': -0.4323332749945904,\n",
       " 'looong-last': 0.9539610861253003,\n",
       " '🇦': -0.8377983831027547,\n",
       " 'dymat': 0.9539610861253003,\n",
       " 'mehmet': -0.4323332749945904,\n",
       " 'chrislopez': -1.1254804555545357,\n",
       " 'johnmil': -0.4323332749945904,\n",
       " \"watt'\": -0.4323332749945904,\n",
       " 'toilet': 0.9539610861253003,\n",
       " 'skile': 0.9539610861253003,\n",
       " 'retriev': -0.8377983831027547,\n",
       " 'cdnpoli': -0.4323332749945904,\n",
       " '🖼': -0.4323332749945904,\n",
       " 'scheffler': -1.5309455636627,\n",
       " 'capres': 0.9539610861253003,\n",
       " 'foodborn': -0.8377983831027547,\n",
       " 'about-fac': -0.8377983831027547,\n",
       " 'fundrais': -1.9364106717708645,\n",
       " 'nile': 0.9539610861253003,\n",
       " \"gilbertgottfried'\": -0.4323332749945904,\n",
       " 'hillari': -1.3486240068687454,\n",
       " 'crown': -0.8377983831027547,\n",
       " 'dwaynehaskin': -0.4323332749945904,\n",
       " '16-17': 1.3594261942334647,\n",
       " \"khloekardashian'\": -0.8377983831027547,\n",
       " 'cute': -0.4323332749945904,\n",
       " 'stare': 1.6471082666852455,\n",
       " 'medic': 0.14303086990897138,\n",
       " 'hardwar': -1.1254804555545357,\n",
       " 'endors': -0.9919490629300131,\n",
       " 'jam': -0.4323332749945904,\n",
       " 'hollywoodbeautyaward': -0.8377983831027547,\n",
       " 'pernil': -0.4323332749945904,\n",
       " 'one-on-on': -0.4323332749945904,\n",
       " 'duke': -1.818627636114481,\n",
       " 'oldest': 0.26081390556535494,\n",
       " 'sean': 0.03767035425114512,\n",
       " 'publicli': -1.6850962434899583,\n",
       " 'pc': 0.9539610861253003,\n",
       " '🥱': 1.3594261942334647,\n",
       " 'upsid': -0.14465120254280942,\n",
       " 'shamelessli': 1.3594261942334647,\n",
       " 'turoci': 0.9539610861253003,\n",
       " \"they'll\": 0.512128333846261,\n",
       " 'staf': 0.26081390556535494,\n",
       " 'homepag': 2.3402554472451906,\n",
       " 'birthday': -0.5276434547989151,\n",
       " 'hey': 3.4388677359133006,\n",
       " 'colonel': 0.9539610861253003,\n",
       " 'novel': -0.4323332749945904,\n",
       " 'gym-spir': 0.9539610861253003,\n",
       " 'spill': -0.9629615260567608,\n",
       " 'iheartradiomusicaward': -0.8377983831027547,\n",
       " 'mtv': -0.4323332749945904,\n",
       " \"peacock'\": -0.4323332749945904,\n",
       " 'tou': 0.9539610861253003,\n",
       " \"princephilip'\": -1.3486240068687454,\n",
       " 'output': 0.26081390556535494,\n",
       " 'whop': -0.8377983831027547,\n",
       " 'david': 0.03767035425114512,\n",
       " 'ree': -0.4323332749945904,\n",
       " 'williamson': 0.9539610861253003,\n",
       " 'pack': 0.9539610861253003,\n",
       " 'desktop': 0.9539610861253003,\n",
       " 'mockeri': -0.4323332749945904,\n",
       " 'creuset': 1.6471082666852455,\n",
       " 'curv': -0.4323332749945904,\n",
       " 'weaponri': -0.4323332749945904,\n",
       " 'fanbas': -0.4323332749945904,\n",
       " 'bread-xpert': -0.4323332749945904,\n",
       " 'over-deliv': -0.4323332749945904,\n",
       " 'shark': -1.3486240068687454,\n",
       " 'heavili': -0.4323332749945904,\n",
       " '400th': 1.3594261942334647,\n",
       " \"here'\": 0.7081261236090198,\n",
       " 'multibillion-dollar': -0.4323332749945904,\n",
       " 'open': -0.18101884671368437,\n",
       " 'hartman': -0.4323332749945904,\n",
       " 'burst': -0.026868166886426004,\n",
       " 'lot': 0.1474852202583518,\n",
       " 'tracker': -0.4323332749945904,\n",
       " 'sake': -0.8377983831027547,\n",
       " 'knive': -0.14465120254280942,\n",
       " 'restroom': 1.3594261942334647,\n",
       " '\\U000e007f': -0.4323332749945904,\n",
       " 'celtic': -1.6850962434899583,\n",
       " 'cleanwal': 0.9539610861253003,\n",
       " 'winter': 1.3594261942334647,\n",
       " 'stick': 1.0717441217816837,\n",
       " 'weaken': -0.4323332749945904,\n",
       " 'juggl': -0.4323332749945904,\n",
       " 'raquel': 0.9539610861253003,\n",
       " 'juri': -1.3486240068687454,\n",
       " 'jame': -0.2988018823700677,\n",
       " '🇨': -0.4323332749945904,\n",
       " 'invictusgam': -0.8377983831027547,\n",
       " 'yesterday': -0.8377983831027547,\n",
       " 'oust': -0.4323332749945904,\n",
       " 'milwauke': -0.4323332749945904,\n",
       " 'ball': -0.614654831788545,\n",
       " 'feder': -2.016453379444401,\n",
       " 'botan': -0.4323332749945904,\n",
       " 'ukra': -0.4323332749945904,\n",
       " 'overload': 0.26081390556535494,\n",
       " 'wholesom': -1.3486240068687454,\n",
       " 'thigh': -0.14465120254280942,\n",
       " 'suspend': -0.8377983831027547,\n",
       " '️rhyne': -0.4323332749945904,\n",
       " 'ant': -0.4323332749945904,\n",
       " 'scandal': -2.5723994384908613,\n",
       " 'destanni': -0.8377983831027547,\n",
       " 'everywher': 0.7716395293313457,\n",
       " \"indeed'\": -0.8377983831027547,\n",
       " 'devin': -1.6850962434899583,\n",
       " 'whoopigoldberg': -1.1254804555545357,\n",
       " 'remix': -0.4323332749945904,\n",
       " 'interv': 1.8702518179994554,\n",
       " 'fbc.my@inspirebrandsasia.com': 0.9539610861253003,\n",
       " 'butter': -0.750787006113125,\n",
       " 'exchang': -0.943158898760581,\n",
       " \"christian'\": 1.3594261942334647,\n",
       " 'loriloughlin': -0.4323332749945904,\n",
       " 'macaroni': 0.26081390556535494,\n",
       " 'torch': 0.9539610861253003,\n",
       " 'beer-and-cheddar': -0.4323332749945904,\n",
       " '🫑': 0.9539610861253003,\n",
       " 'sale': 1.1771046374395102,\n",
       " '️internationalwomensday': -0.4323332749945904,\n",
       " 'napa': -0.4323332749945904,\n",
       " 'rocker': 0.9539610861253003,\n",
       " 'tycoon': -0.4323332749945904,\n",
       " 'aemi': -0.4323332749945904,\n",
       " '96': 1.3594261942334647,\n",
       " 'goo': 0.9539610861253003,\n",
       " 'reinstat': -0.4323332749945904,\n",
       " 'internationalwomensday': -0.9919490629300131,\n",
       " 'viru': -1.1254804555545357,\n",
       " 'webbi': -0.8377983831027547,\n",
       " 'tgif': -0.8377983831027547,\n",
       " 'embed': -0.8377983831027547,\n",
       " 'could': -0.5415325669595823,\n",
       " 'barr': -0.4323332749945904,\n",
       " 'sidney': -1.1254804555545357,\n",
       " 'potato-and-broccoli': -0.4323332749945904,\n",
       " \"son'\": -1.1254804555545357,\n",
       " 'evapor': -0.4323332749945904,\n",
       " 'bridesmaid': -0.4323332749945904,\n",
       " 'foreign-policymak': -2.041771187428691,\n",
       " 'neobank': -0.8377983831027547,\n",
       " 'glitter': 1.3594261942334647,\n",
       " 'newfound': 0.9539610861253003,\n",
       " 'terrorism-rel': -0.4323332749945904,\n",
       " 'head-turn': -0.4323332749945904,\n",
       " 'schoenfield': -0.4323332749945904,\n",
       " 'cohen': 0.9539610861253003,\n",
       " 'levinson': -0.4323332749945904,\n",
       " 'manor': -0.4323332749945904,\n",
       " 'disclos': -0.8377983831027547,\n",
       " \"he'\": -0.6215752746331189,\n",
       " 'four-star': 1.3594261942334647,\n",
       " 'nullifi': -0.4323332749945904,\n",
       " 'inclus': -0.2500117182006357,\n",
       " 'monicagel': -0.8377983831027547,\n",
       " 'tart': -0.6554768263088002,\n",
       " 'sourdough': -1.1254804555545357,\n",
       " 'outcom': -1.1254804555545357,\n",
       " 'crispy-skin': -0.4323332749945904,\n",
       " 'vat': -0.4323332749945904,\n",
       " 'biden': -4.5349766400313865,\n",
       " 'spac': -1.5309455636627,\n",
       " '📷': -1.3486240068687454,\n",
       " 'eff': -0.4323332749945904,\n",
       " 'kandiburruss': -0.8377983831027547,\n",
       " 'brooklyn': -2.041771187428691,\n",
       " 'unfair': -1.1254804555545357,\n",
       " 'rug': 0.6662790136735193,\n",
       " 'ditch': 0.9539610861253003,\n",
       " 'fantasi': 0.9539610861253003,\n",
       " 'salari': -1.5309455636627,\n",
       " 'bryant': -0.4323332749945904,\n",
       " 'nicolapeltz': -1.1254804555545357,\n",
       " 'beret': 0.9539610861253003,\n",
       " 'sika': -0.4323332749945904,\n",
       " 'grandma': -0.8377983831027547,\n",
       " 'yolk': -0.4323332749945904,\n",
       " 'trash': -0.8377983831027547,\n",
       " 'bassitt': -0.4323332749945904,\n",
       " 'nutritionist': 0.9539610861253003,\n",
       " 'hopesolo': -0.4323332749945904,\n",
       " 'highest-rank': 0.9539610861253003,\n",
       " 'item': 2.4008800690616257,\n",
       " 'trainer': 4.551273346713746,\n",
       " 'keoghan': 0.9539610861253003,\n",
       " 'figur': 0.7308175348110905,\n",
       " 'vow': -1.1254804555545357,\n",
       " 'warn': -1.2652423979296943,\n",
       " '𝐨𝐮𝐭': -0.4323332749945904,\n",
       " '20lb': 1.3594261942334647,\n",
       " 'innoc': -0.4323332749945904,\n",
       " 'dismal': -0.4323332749945904,\n",
       " 'embarrass': 3.15118566346152,\n",
       " 'ill': -0.07565833105585802,\n",
       " '68': -0.4323332749945904,\n",
       " 'tightli': -0.4323332749945904,\n",
       " 'chandler': -0.4323332749945904,\n",
       " 'laundri': -0.4323332749945904,\n",
       " 'mama': -1.6109882713362365,\n",
       " 'gio': -0.4323332749945904,\n",
       " 'zack': -0.4323332749945904,\n",
       " 'sentiment': -0.4323332749945904,\n",
       " 'hussl': -0.4323332749945904,\n",
       " 'oasi': 1.3594261942334647,\n",
       " 'highway': -0.4323332749945904,\n",
       " 'owner': 1.8867811199506659,\n",
       " 'polic': -2.62955785233081,\n",
       " 'kid': -1.3974141710381776,\n",
       " 'biofuel': -0.4323332749945904,\n",
       " 'chop': 0.07849234877140036,\n",
       " 'nowaday': -0.4323332749945904,\n",
       " 'mayor': -2.304135451896182,\n",
       " 'microsoft': -0.4323332749945904,\n",
       " 'distribut': -1.3486240068687454,\n",
       " 'poli': 0.9539610861253003,\n",
       " 'instant': -1.1254804555545357,\n",
       " 'shaun': 0.9539610861253003,\n",
       " 'filipino': -0.4323332749945904,\n",
       " 'pathogen': -0.4323332749945904,\n",
       " 'kd-kyri': -0.4323332749945904,\n",
       " 'cocktail': -2.041771187428691,\n",
       " 'june': -2.137081367233016,\n",
       " 'scaled-back': -0.4323332749945904,\n",
       " 'congrat': 0.9539610861253003,\n",
       " 'shatter': -1.1254804555545357,\n",
       " 'motion': -1.1254804555545357,\n",
       " 'slit': 0.9539610861253003,\n",
       " \"jillduggar'\": -0.4323332749945904,\n",
       " 'warner': -0.4323332749945904,\n",
       " 'descript': -0.4323332749945904,\n",
       " 'finish': -0.326972759336764,\n",
       " \"state'\": -1.1254804555545357,\n",
       " 'full': 1.8220497161815776,\n",
       " 'draw': -1.3486240068687454,\n",
       " 'happen': 1.9114947765335044,\n",
       " \"glossier'\": -0.4323332749945904,\n",
       " 'like': -0.09023778081901532,\n",
       " 'neck': 0.26081390556535494,\n",
       " 'rep': -0.8377983831027547,\n",
       " 'kindergarten': -0.4323332749945904,\n",
       " 'central': -1.5309455636627,\n",
       " 'verita': -0.4323332749945904,\n",
       " 'bama': -0.4323332749945904,\n",
       " 'kany': 0.9539610861253003,\n",
       " 'aluminmum': -0.4323332749945904,\n",
       " 'reliv': -0.4323332749945904,\n",
       " '5-10': 0.9539610861253003,\n",
       " 'creativ': 1.17710463743951,\n",
       " 'lgbtq': -1.9364106717708645,\n",
       " 'knee': 0.5972861421865677,\n",
       " 'keynot': 0.26081390556535494,\n",
       " 'bird': -0.14465120254280942,\n",
       " '2000': 0.26081390556535494,\n",
       " '🤘': 1.6471082666852455,\n",
       " 'rhoni': -1.9364106717708645,\n",
       " '🥦': 1.6471082666852455,\n",
       " 'honeymoon': -0.4323332749945904,\n",
       " '😰': 0.9539610861253003,\n",
       " 'culmin': -0.4323332749945904,\n",
       " 'wheat': -0.8377983831027547,\n",
       " 'ukraine-rel': -0.4323332749945904,\n",
       " '⤵': -2.783708532158068,\n",
       " 'alll': 1.3594261942334647,\n",
       " 'to-do': -0.14465120254280942,\n",
       " 'heckl': -0.4323332749945904,\n",
       " 'pie-styl': -0.4323332749945904,\n",
       " 'sizzl': -1.1254804555545357,\n",
       " 'ariana': 2.3402554472451906,\n",
       " 'grown': -0.6554768263088002,\n",
       " 'kofman': -0.4323332749945904,\n",
       " 'reach': 2.8521674372234025,\n",
       " 'bale': -0.4323332749945904,\n",
       " 'garlic': -2.5117748166744263,\n",
       " 'attent': 2.8998712351806137,\n",
       " 'english': -0.4323332749945904,\n",
       " 'flaki': -1.3486240068687454,\n",
       " 'car': -0.2500117182006357,\n",
       " 'shorten': -0.4323332749945904,\n",
       " 'rey': -1.3486240068687454,\n",
       " 'ethnic': -0.8377983831027547,\n",
       " 'anita': -0.4323332749945904,\n",
       " 'im': -0.4323332749945904,\n",
       " 'timothé': 1.8702518179994554,\n",
       " 'panic': 0.26081390556535494,\n",
       " 'kill': -0.5501163106509739,\n",
       " 'street': -0.9919490629300131,\n",
       " 'sophist': -0.4323332749945904,\n",
       " 'finalist': -1.1254804555545357,\n",
       " 'curri': -1.3486240068687454,\n",
       " 'golden': -1.6109882713362365,\n",
       " 'tri-set': 0.9539610861253003,\n",
       " \"william'\": 0.9539610861253003,\n",
       " 'unexpect': -0.4323332749945904,\n",
       " 'jennifergarn': -2.2240927442226455,\n",
       " 'document': -1.5309455636627,\n",
       " 'elba': 1.3594261942334647,\n",
       " 'horoscop': -0.4323332749945904,\n",
       " \"india'\": -0.4323332749945904,\n",
       " 'lisavanderpump': -0.4323332749945904,\n",
       " 'chanel': 0.9539610861253003,\n",
       " 'move': 0.9441087896822885,\n",
       " \"night'\": -0.4323332749945904,\n",
       " 'away': 0.9039506655506389,\n",
       " 'makeup': -1.1254804555545357,\n",
       " 'danger': -1.3486240068687454,\n",
       " 'cameraman': -0.4323332749945904,\n",
       " \"justinbieber'\": -1.1254804555545357,\n",
       " 'adob': -0.4323332749945904,\n",
       " 'roy': -0.14465120254280942,\n",
       " 'depress': 0.6662790136735193,\n",
       " 'tummi': -0.4323332749945904,\n",
       " 'parent': -1.1254804555545357,\n",
       " 'gordon': -0.4323332749945904,\n",
       " 'profession': -0.5501163106509739,\n",
       " 'tool': -0.2246939102163459,\n",
       " 'gretzki': -0.4323332749945904,\n",
       " 'strategist': -0.8377983831027547,\n",
       " '🏒': -1.818627636114481,\n",
       " 'kimchi': -0.4323332749945904,\n",
       " 'vlad': -0.4323332749945904,\n",
       " 'aflov': 1.6471082666852455,\n",
       " 'fade': 0.9539610861253003,\n",
       " 'killin': 1.6471082666852455,\n",
       " \"zoëkravitz'\": -0.4323332749945904,\n",
       " 'spici': -1.0201199398967093,\n",
       " 'increasingli': -0.4323332749945904,\n",
       " 'destroy': 1.2416431585770813,\n",
       " 'kettl': 0.9539610861253003,\n",
       " 'entrepreneur': 0.26081390556535494,\n",
       " 'pulldown': 2.2067240546206683,\n",
       " 'choco': -0.4323332749945904,\n",
       " \"china'\": -1.1254804555545357,\n",
       " 'predic': -0.4323332749945904,\n",
       " 'brb': 0.26081390556535494,\n",
       " 'distant': -0.8377983831027547,\n",
       " 'wearabl': 1.6471082666852455,\n",
       " 'nuclear': -1.9364106717708645,\n",
       " 'jeer': -0.4323332749945904,\n",
       " 'arthur': 0.6662790136735193,\n",
       " 'blog': 1.8702518179994554,\n",
       " 'honor': -1.0384690785649058,\n",
       " 'blender': 0.26081390556535494,\n",
       " 'emot': -1.4439341866730702,\n",
       " 'ittt': 1.6471082666852455,\n",
       " 'sodium': -0.4323332749945904,\n",
       " 'stay': 0.3561240853696799,\n",
       " 'refuel': 1.3594261942334647,\n",
       " 'speaker': 0.26081390556535494,\n",
       " 'career': -0.7507870061131251,\n",
       " 'web-sling': 0.9539610861253003,\n",
       " 'carolebaskin': -0.8377983831027547,\n",
       " 'unauthor': -0.4323332749945904,\n",
       " 'homemad': -0.9919490629300131,\n",
       " 'courtneylov': -0.4323332749945904,\n",
       " 'longer': -0.19117121817770222,\n",
       " 'rectifi': 0.9539610861253003,\n",
       " 'psoriasi': 0.9539610861253003,\n",
       " 'herb': -1.6850962434899583,\n",
       " 'popul': -1.1254804555545357,\n",
       " 'brewer': -0.4323332749945904,\n",
       " 'hyperic': 1.3594261942334647,\n",
       " 'resign': -1.3486240068687454,\n",
       " 'vo': -0.4323332749945904,\n",
       " 'approv': -1.3486240068687452,\n",
       " 'jimmysavil': -0.8377983831027547,\n",
       " 'compris': 0.9539610861253003,\n",
       " '👀': -1.243263491210919,\n",
       " 'sharonosbourn': -1.3486240068687454,\n",
       " 'london': -0.4323332749945904,\n",
       " 'rewritten': -0.4323332749945904,\n",
       " 'spokesperson': -1.1254804555545357,\n",
       " '🍊': 0.9539610861253003,\n",
       " '4b': -0.4323332749945904,\n",
       " 'delecto': -0.4323332749945904,\n",
       " 'flatley': 0.9539610861253003,\n",
       " 'sick': 0.9539610861253003,\n",
       " 'txt': 2.8998712351806137,\n",
       " 'justinbieb': -2.2240927442226455,\n",
       " 'rye': -0.8377983831027547,\n",
       " 'staffer': -1.1254804555545357,\n",
       " 'daryl': -0.4323332749945904,\n",
       " 'scrotum': 0.9539610861253003,\n",
       " 'caddi': -0.4323332749945904,\n",
       " 'mcdavid': -0.4323332749945904,\n",
       " 'greensboro': -0.4323332749945904,\n",
       " 'fitspo': 0.9539610861253003,\n",
       " 'spi': -0.9919490629300131,\n",
       " 'overcount': -0.4323332749945904,\n",
       " 'long-tim': 1.3594261942334647,\n",
       " 'spike': -1.2432634912109193,\n",
       " 'stitch': -0.4323332749945904,\n",
       " 'chorizo': -0.4323332749945904,\n",
       " 'socialist': -0.4323332749945904,\n",
       " 'brian': -0.14465120254280942,\n",
       " 'tooth': 0.9539610861253003,\n",
       " \"boyfriend'\": -0.8377983831027547,\n",
       " 'questionnair': -0.4323332749945904,\n",
       " 'wendywilliam': -2.62955785233081,\n",
       " 'xi': -0.8377983831027547,\n",
       " 'stapl': 1.439468901907001,\n",
       " 'expir': -0.8377983831027547,\n",
       " 'pamelaanderson': -1.5309455636627,\n",
       " 'hintz': -0.4323332749945904,\n",
       " 'surfac': -1.1254804555545357,\n",
       " 'dignifi': -0.4323332749945904,\n",
       " 'sprinkl': 1.3594261942334647,\n",
       " 'louisvil': -0.8377983831027547,\n",
       " 'dagger': -0.4323332749945904,\n",
       " 'summit': 2.3608747344479264,\n",
       " 'ninth': -0.4323332749945904,\n",
       " \"sandrabullock'\": -0.8377983831027547,\n",
       " 'bisexu': 0.9539610861253003,\n",
       " 'six': -0.14465120254280942,\n",
       " 'duhhh': 0.9539610861253003,\n",
       " 'spotlight': -1.3486240068687454,\n",
       " 'turn-on': 0.9539610861253003,\n",
       " 'dre': 0.9539610861253003,\n",
       " 'metro': -0.4323332749945904,\n",
       " 'proper': 1.17710463743951,\n",
       " 'caffein': 0.9539610861253003,\n",
       " 'riot': -1.6850962434899583,\n",
       " 'coppin': -0.4323332749945904,\n",
       " 'video-shar': -0.4323332749945904,\n",
       " 'delici': 1.7771613949334435,\n",
       " 'dwayn': 0.48395745687956465,\n",
       " 'happili': 0.9539610861253003,\n",
       " '🦃': 1.3594261942334647,\n",
       " 'allevi': 0.9539610861253003,\n",
       " 'chronicl': -1.1254804555545357,\n",
       " 'blacchyna': -1.6850962434899583,\n",
       " 'energi': 0.38597704851936093,\n",
       " 'hotshot': -0.4323332749945904,\n",
       " 'repel': 0.9539610861253003,\n",
       " 'pill': -0.9919490629300131,\n",
       " 'raunch-com': 0.9539610861253003,\n",
       " 'poetri': -0.4323332749945904,\n",
       " '🔋': -0.4323332749945904,\n",
       " 'outsid': 0.2608139055653551,\n",
       " 'passport': -0.4323332749945904,\n",
       " 'swiss': -0.4323332749945904,\n",
       " 'groovi': 0.9539610861253003,\n",
       " 'dollar': -0.6554768263088002,\n",
       " 'volatil': -0.4323332749945904,\n",
       " '📸': -1.1254804555545357,\n",
       " 'frumpi': -0.4323332749945904,\n",
       " 'abruzzo': -0.8377983831027547,\n",
       " 'post': -0.9354368526666706,\n",
       " 'after-parti': -0.4323332749945904,\n",
       " 'midterm': -2.62955785233081,\n",
       " 'slate': -1.1254804555545357,\n",
       " 'creepin': 1.3594261942334647,\n",
       " 'blockbust': -1.1254804555545357,\n",
       " 'freddi': -0.4323332749945904,\n",
       " 'broccolini': -0.4323332749945904,\n",
       " ':)': 2.563398998559401,\n",
       " 'singular': -0.4323332749945904,\n",
       " 'okra': -0.4323332749945904,\n",
       " 'consecut': -0.4323332749945904,\n",
       " 'statefarm': -0.8377983831027547,\n",
       " 'larg': -1.3486240068687454,\n",
       " 'htt': -0.14465120254280942,\n",
       " 'locatoin': 0.9539610861253003,\n",
       " 'mar': 0.9539610861253003,\n",
       " 'acn': 0.9539610861253003,\n",
       " 'renov': 0.6662790136735193,\n",
       " 'scrambl': -2.041771187428691,\n",
       " 'sicilian': -0.4323332749945904,\n",
       " 'unstabl': -0.8377983831027547,\n",
       " 'taxpay': -0.4323332749945904,\n",
       " 'heat': 0.512128333846261,\n",
       " 'academ': 0.26081390556535494,\n",
       " 'heirloom': -0.4323332749945904,\n",
       " 'koko': -1.1254804555545357,\n",
       " 'yogurt': 0.6662790136735193,\n",
       " 'directli': 0.26081390556535494,\n",
       " '73': -0.4323332749945904,\n",
       " 'salti': -1.5309455636627,\n",
       " 'overprolifer': -0.4323332749945904,\n",
       " 'damper': -0.8377983831027547,\n",
       " 'pre-cook': 0.26081390556535494,\n",
       " 'slice': -0.8377983831027547,\n",
       " 'barker': 1.3594261942334647,\n",
       " \"newsom'\": -0.4323332749945904,\n",
       " 'moral': 0.6662790136735193,\n",
       " 'thegam': -0.4323332749945904,\n",
       " 'aggress': -1.1254804555545357,\n",
       " 'rulk': 0.9539610861253003,\n",
       " 'insur': -1.3486240068687454,\n",
       " 'passiv': -0.4323332749945904,\n",
       " 'austin': -0.026868166886426004,\n",
       " 'convent': -0.8377983831027547,\n",
       " 'chao': -1.818627636114481,\n",
       " 'pick': -1.0243843386831668,\n",
       " 'civilian': -1.6850962434899583,\n",
       " 'mh': 2.05257337479341,\n",
       " 'memori': -1.6850962434899583,\n",
       " 'cba': -1.1254804555545357,\n",
       " 'reb': -1.1254804555545357,\n",
       " 'develop': -0.3453218980049606,\n",
       " 'platinum': 0.9539610861253003,\n",
       " 'swoon': -0.4323332749945904,\n",
       " 'cannabi': -2.2240927442226455,\n",
       " 'half': -1.4619526921757486,\n",
       " 'black': -1.4568375915089782,\n",
       " 'americanexpress': -0.4323332749945904,\n",
       " 'adida': 1.3594261942334647,\n",
       " 'reinvent': -0.4323332749945904,\n",
       " 'silver': 1.6471082666852455,\n",
       " 'luck': 0.9539610861253003,\n",
       " 'safe': 0.17380252857572528,\n",
       " 'youth': -0.4323332749945904,\n",
       " 'broth': -1.818627636114481,\n",
       " 'boycot': 1.17710463743951,\n",
       " 'bacn': 0.9539610861253003,\n",
       " 'filter': 0.26081390556535494,\n",
       " \"teenmom'\": -0.4323332749945904,\n",
       " 'undeton': -0.8377983831027547,\n",
       " 'saget': 0.9539610861253003,\n",
       " 'unorthodox': 0.9539610861253003,\n",
       " 'chilaquil': -0.8377983831027547,\n",
       " 'vision': 0.26081390556535494,\n",
       " 'shrae': 0.9539610861253003,\n",
       " 'fatal': -1.3486240068687454,\n",
       " 'thyme': -0.8377983831027547,\n",
       " 'zone': 0.26081390556535494,\n",
       " 'bennif': -1.9364106717708645,\n",
       " 'info@anytimefitness.co.uk': 0.9539610861253003,\n",
       " 'elli': 1.3594261942334647,\n",
       " \"eddiecibrian'\": -0.4323332749945904,\n",
       " 'sit': 0.5709688338691946,\n",
       " 'peg': -0.4323332749945904,\n",
       " 'quinci': 0.9539610861253003,\n",
       " 'girlfriend': -2.2240927442226455,\n",
       " 'suck': -0.14465120254280942,\n",
       " 'apolog': 1.0593216017831266,\n",
       " 'regain': 1.17710463743951,\n",
       " 'creat': -0.057639825553179654,\n",
       " 'lentil': -0.8377983831027547,\n",
       " 'reallli': 0.9539610861253003,\n",
       " 'crack': -1.3486240068687454,\n",
       " 'theori': -0.4323332749945904,\n",
       " 'make-ahead': 0.9539610861253003,\n",
       " 'thrive': 1.2416431585770813,\n",
       " 'harsh': -1.3486240068687454,\n",
       " 'instinct': -0.4323332749945904,\n",
       " 'rang': 0.5484959780171359,\n",
       " '🥝': 0.9539610861253003,\n",
       " '😜': 0.9539610861253003,\n",
       " 'soon': 0.49720268362958536,\n",
       " '🤯': -0.8377983831027547,\n",
       " 'wean': -0.4323332749945904,\n",
       " 'cristianoronaldo': -0.4323332749945904,\n",
       " 'travel': -0.9919490629300131,\n",
       " \"father'\": 0.9539610861253003,\n",
       " 'set-it-and-forget-it': -0.4323332749945904,\n",
       " '🍗': 1.3594261942334647,\n",
       " 'argu': -1.9364106717708645,\n",
       " \"spring'\": 0.9539610861253003,\n",
       " 'mikeshouh': -0.8377983831027547,\n",
       " 'kellyrizzo': -0.4323332749945904,\n",
       " 'years-old': -0.4323332749945904,\n",
       " 'contin': 0.9539610861253003,\n",
       " 'dispatch': -1.1254804555545357,\n",
       " 'busi': 0.16237383275210251,\n",
       " \"valentine'\": 0.9539610861253003,\n",
       " \"abdul-jabbar'\": -0.4323332749945904,\n",
       " 'chatbot': -0.4323332749945904,\n",
       " '7': -0.14465120254280955,\n",
       " 'eltonjohn': -0.4323332749945904,\n",
       " 'democrat': -3.2356936559011253,\n",
       " \"festival'\": -0.8377983831027547,\n",
       " 'ashtonkutch': -1.1254804555545357,\n",
       " 'ja': -1.1254804555545357,\n",
       " 'protein-pack': 1.17710463743951,\n",
       " 'emba': -0.4323332749945904,\n",
       " 'mckew': -0.4323332749945904,\n",
       " \"minnesota'\": -0.4323332749945904,\n",
       " 'midst': 0.26081390556535494,\n",
       " 'kelvin': 1.8702518179994554,\n",
       " 'borrow': -1.1254804555545357,\n",
       " 'focus': 0.512128333846261,\n",
       " 'weightless': 0.9539610861253003,\n",
       " 'tragic': -2.137081367233016,\n",
       " 'hurrican': -0.4323332749945904,\n",
       " 'laico': 0.9539610861253003,\n",
       " 'laugh': -1.3486240068687454,\n",
       " 'phog': -0.4323332749945904,\n",
       " 'spam': -0.4323332749945904,\n",
       " 'ambassador': -1.1254804555545357,\n",
       " 'nola': -0.4323332749945904,\n",
       " 'shashaobama': -0.4323332749945904,\n",
       " 'plu': 0.757250791879246,\n",
       " 'reap': 1.3594261942334647,\n",
       " 'watson': -1.6850962434899583,\n",
       " 'breach': -1.3486240068687454,\n",
       " 'stomach': 0.5484959780171359,\n",
       " 'arkansa': -0.4323332749945904,\n",
       " 'sunday': -1.7540891149769098,\n",
       " 'dive': -0.2988018823700677,\n",
       " 'racket': -1.1254804555545357,\n",
       " \"taylorswift'\": -0.4323332749945904,\n",
       " 'redtabletalk': -0.8377983831027547,\n",
       " 'shown': 1.3594261942334647,\n",
       " 'shannonsperb': -0.4323332749945904,\n",
       " 'master': 0.9026677917377497,\n",
       " '🎃': 0.9539610861253003,\n",
       " 'least-favorit': -0.4323332749945904,\n",
       " 'decor': -0.4323332749945904,\n",
       " 'breakthrough': -0.4323332749945904,\n",
       " 'five-hol': -0.4323332749945904,\n",
       " 'carmel': -0.4323332749945904,\n",
       " 'danielhumm': -0.4323332749945904,\n",
       " 'bobsaget': -1.1254804555545357,\n",
       " 'protector': 1.3594261942334647,\n",
       " 'ail': -0.8377983831027547,\n",
       " 'bay': -1.9364106717708645,\n",
       " '🙄': 1.3594261942334647,\n",
       " 'hath': -0.4323332749945904,\n",
       " 'cowork': 2.05257337479341,\n",
       " '1-2': -0.4323332749945904,\n",
       " 'harrelson': -0.4323332749945904,\n",
       " 'slowli': 0.26081390556535494,\n",
       " 'then-teen': -0.4323332749945904,\n",
       " 'pizza': 0.3661744212231813,\n",
       " 'nato': -2.2240927442226455,\n",
       " 'famou': -2.5723994384908613,\n",
       " 'non-exist': 0.9539610861253003,\n",
       " 'untim': -0.4323332749945904,\n",
       " 'r-wyo': -0.4323332749945904,\n",
       " 'furi': -0.4323332749945904,\n",
       " 'fanci': -0.8377983831027547,\n",
       " 'halftim': -1.3486240068687454,\n",
       " 'chef': -1.2973307124811948,\n",
       " 'conven': -1.1254804555545357,\n",
       " 'interest': -0.026868166886426004,\n",
       " 'fitch': 0.9539610861253003,\n",
       " 'surpris': -0.07565833105585802,\n",
       " 'stood': -0.4323332749945904,\n",
       " 'most-ev': -0.4323332749945904,\n",
       " 'daughter': -1.5717675581829553,\n",
       " 'edward': -0.4323332749945904,\n",
       " 'occur': 0.26081390556535494,\n",
       " 'starchi': -0.8377983831027547,\n",
       " 'cp3': -0.4323332749945904,\n",
       " 'honey-lemon': 0.26081390556535494,\n",
       " 'shishito': -0.4323332749945904,\n",
       " 'cookbook': -0.4323332749945904,\n",
       " 'start-up': 0.9539610861253003,\n",
       " 'edert': -0.4323332749945904,\n",
       " \"sailpoint'\": -0.4323332749945904,\n",
       " 'huddl': -3.0350229604389742,\n",
       " 'without': -0.03929068688498317,\n",
       " 'sanduski': -0.4323332749945904,\n",
       " \"silvioscaglia'\": -0.8377983831027547,\n",
       " 'bradley': 1.3594261942334647,\n",
       " 'lax': -0.8377983831027547,\n",
       " 'bitter': -1.5309455636627,\n",
       " 'wheelchair': -0.14465120254280942,\n",
       " 'snap': -0.7377149245457723,\n",
       " 'predict': -0.14465120254280942,\n",
       " 'wnbadraft': -1.9364106717708645,\n",
       " 'unparallel': 1.6471082666852455,\n",
       " 'bruce': -0.8377983831027547,\n",
       " 'jacket': 0.26081390556535494,\n",
       " 'better-for-y': 2.05257337479341,\n",
       " 'immens': 0.9539610861253003,\n",
       " 'famer': 0.26081390556535494,\n",
       " 'armando': -0.8377983831027547,\n",
       " 'radic': -0.4323332749945904,\n",
       " 'sacramento': -0.4323332749945904,\n",
       " 'overwhelm': 0.9539610861253003,\n",
       " 'exo': 1.6471082666852455,\n",
       " 'addict': -0.4323332749945904,\n",
       " 'imdb': -0.4323332749945904,\n",
       " 'scallop': -0.4323332749945904,\n",
       " \"samasghari'\": -0.4323332749945904,\n",
       " 'taylorlautn': -0.4323332749945904,\n",
       " 'distract': 0.26081390556535494,\n",
       " 'hand-sign': -0.4323332749945904,\n",
       " 'yike': 0.7716395293313457,\n",
       " 'exhum': -0.4323332749945904,\n",
       " 'kingdom': 0.9539610861253003,\n",
       " 'iii': -0.8377983831027547,\n",
       " 'snarki': -0.4323332749945904,\n",
       " 'takeaway': -0.7200153474463713,\n",
       " 'hylton': -0.4323332749945904,\n",
       " 'undercut': -0.4323332749945904,\n",
       " 'keanu': 0.9539610861253003,\n",
       " 'jamielynnspear': -0.4323332749945904,\n",
       " 'flake': -0.4323332749945904,\n",
       " 'time-to-tim': 0.9539610861253003,\n",
       " 'wh': -0.4323332749945904,\n",
       " '🍂': 0.9539610861253003,\n",
       " 'devlop': 0.9539610861253003,\n",
       " 'lycra': 0.9539610861253003,\n",
       " 'meteor': 0.9539610861253003,\n",
       " 'ryan': -0.9919490629300131,\n",
       " 'elvi': -1.3486240068687454,\n",
       " 'two-tim': -0.8377983831027547,\n",
       " 'longest-tenur': -0.4323332749945904,\n",
       " 'lump': 0.26081390556535494,\n",
       " 'kept': -1.3486240068687454,\n",
       " 'benchmark': -0.4323332749945904,\n",
       " 'one-year': -1.5309455636627,\n",
       " 'bod': 0.26081390556535494,\n",
       " '🎳': 0.9539610861253003,\n",
       " 'corn': -0.4323332749945904,\n",
       " 'buildyourbodi': 2.7457205553533552,\n",
       " 'recus': -1.818627636114481,\n",
       " 'unstopp': -0.14465120254280942,\n",
       " 'mentor': -0.8377983831027547,\n",
       " 'courier': 0.9539610861253003,\n",
       " 'jenelleevan': -1.3486240068687454,\n",
       " 'vulner': -0.2500117182006357,\n",
       " \"panel'\": -0.4323332749945904,\n",
       " 'vanderbilt': -0.4323332749945904,\n",
       " 'quiz': 0.9539610861253003,\n",
       " 'loyd': -0.4323332749945904,\n",
       " 'expert': 0.1329805340554701,\n",
       " 'eatin': 0.9539610861253003,\n",
       " 'hater': -1.5309455636627,\n",
       " 'friction': -0.4323332749945904,\n",
       " 'senior': -1.818627636114481,\n",
       " 'nevada': -1.1254804555545357,\n",
       " 'applianc': 0.9539610861253003,\n",
       " 'highly-encourag': 0.9539610861253003,\n",
       " 'puttin': 0.9539610861253003,\n",
       " 'ham': -1.1254804555545357,\n",
       " 'billboard': -0.4323332749945904,\n",
       " 'ketanji': -3.671011727158971,\n",
       " \"gogoro'\": -0.4323332749945904,\n",
       " 'anti-money-laund': -0.4323332749945904,\n",
       " 'flirt': 1.3594261942334647,\n",
       " 'atlanta': -1.818627636114481,\n",
       " \"offender'\": -0.4323332749945904,\n",
       " 'haitian': -0.4323332749945904,\n",
       " 'patsajak': -1.1254804555545357,\n",
       " '80': 0.48395745687956465,\n",
       " 'consider': -0.4323332749945904,\n",
       " 'mp': -0.4323332749945904,\n",
       " 'cut': -0.5276434547989151,\n",
       " 'ruffl': -0.4323332749945904,\n",
       " 'schedul': 0.26081390556535494,\n",
       " 'pundit': -0.4323332749945904,\n",
       " 'drink': -0.6264892894355478,\n",
       " 'avatar': -0.4323332749945904,\n",
       " 'revamp': -0.8377983831027547,\n",
       " 'borough': -0.4323332749945904,\n",
       " 'peel': -0.8377983831027547,\n",
       " 'tubman': -0.4323332749945904,\n",
       " 'all-nba': -0.4323332749945904,\n",
       " 'mighti': 0.9539610861253003,\n",
       " 'declar': -1.9364106717708645,\n",
       " ...}"
      ]
     },
     "execution_count": 67,
     "metadata": {},
     "output_type": "execute_result"
    }
   ],
   "source": [
    "loglikelihood"
   ]
  },
  {
   "cell_type": "markdown",
   "id": "476c8efe",
   "metadata": {
    "id": "476c8efe"
   },
   "source": [
    "## p = logprior + sum_i(loglikelihood_i)"
   ]
  },
  {
   "cell_type": "code",
   "execution_count": 68,
   "id": "e98cf6c7",
   "metadata": {
    "id": "e98cf6c7"
   },
   "outputs": [],
   "source": [
    "def naive_bayes_predict(tweet, logprior, loglikelihood):\n",
    "    '''\n",
    "    Input:\n",
    "        tweet: a processed tweet\n",
    "        logprior: a number\n",
    "        loglikelihood: a dictionary of words mapping to numbers\n",
    "    Output:\n",
    "        p: the sum of all the logliklihoods of each word in the tweet (if found in the dictionary) + logprior (a number)\n",
    "\n",
    "    '''\n",
    "    p = 0\n",
    "    # add the logprior\n",
    "    p += logprior\n",
    "\n",
    "    for word in tweet:\n",
    "\n",
    "        # check if the word exists in the loglikelihood dictionary\n",
    "        if word in loglikelihood:\n",
    "            # add the log likelihood of that word to the probability\n",
    "            p += loglikelihood[word]\n",
    "\n",
    "    return p"
   ]
  },
  {
   "cell_type": "code",
   "execution_count": 69,
   "id": "9cb69479",
   "metadata": {
    "id": "9cb69479"
   },
   "outputs": [
    {
     "data": {
      "text/plain": [
       "27.766763210930755"
      ]
     },
     "execution_count": 69,
     "metadata": {},
     "output_type": "execute_result"
    }
   ],
   "source": [
    "tweet = train_x_arr[0]\n",
    "p = naive_bayes_predict(tweet, logprior, loglikelihood) \n",
    "p"
   ]
  },
  {
   "cell_type": "code",
   "execution_count": 70,
   "id": "344a2145",
   "metadata": {
    "id": "344a2145"
   },
   "outputs": [],
   "source": [
    "def test_naive_bayes(test_x, test_y, logprior, loglikelihood):\n",
    "    \"\"\"\n",
    "    Output:\n",
    "        accuracy: (# of tweets classified correctly)/(total # of tweets)\n",
    "    \"\"\"\n",
    "    accuracy = 0  \n",
    "\n",
    "    y_hats = []\n",
    "    for tweet in test_x:\n",
    "        # if the prediction is > 0\n",
    "        if naive_bayes_predict(tweet, logprior, loglikelihood) > 0:\n",
    "            # the predicted class is 1\n",
    "            y_hat_i = 1\n",
    "        else:\n",
    "            # otherwise the predicted class is 0\n",
    "            y_hat_i = 0\n",
    "\n",
    "        y_hats.append(y_hat_i)\n",
    "\n",
    "    error = np.mean(np.absolute(y_hats-test_y))\n",
    "    accuracy = 1-error\n",
    "    \n",
    "    return accuracy"
   ]
  },
  {
   "cell_type": "code",
   "execution_count": 71,
   "id": "8b430c0d",
   "metadata": {
    "id": "8b430c0d"
   },
   "outputs": [
    {
     "data": {
      "text/plain": [
       "0.7543543543543544"
      ]
     },
     "execution_count": 71,
     "metadata": {},
     "output_type": "execute_result"
    }
   ],
   "source": [
    "test_naive_bayes(test_x_arr, test_y.squeeze(), logprior, loglikelihood) "
   ]
  },
  {
   "cell_type": "code",
   "execution_count": 72,
   "id": "3c4fdc56",
   "metadata": {
    "id": "3c4fdc56"
   },
   "outputs": [
    {
     "data": {
      "text/plain": [
       "0.9295"
      ]
     },
     "execution_count": 72,
     "metadata": {},
     "output_type": "execute_result"
    }
   ],
   "source": [
    "test_naive_bayes(train_x_arr, np.squeeze(train_y), logprior, loglikelihood)"
   ]
  },
  {
   "cell_type": "code",
   "execution_count": 73,
   "id": "cb01825f",
   "metadata": {
    "id": "cb01825f"
   },
   "outputs": [],
   "source": [
    "y_hats =[naive_bayes_predict(item, logprior, loglikelihood) > 0 if 1 else 0 for item in test_x_arr]"
   ]
  },
  {
   "cell_type": "code",
   "execution_count": 74,
   "id": "d0dd6026",
   "metadata": {
    "id": "d0dd6026"
   },
   "outputs": [
    {
     "data": {
      "text/plain": [
       "0.7695774647887325"
      ]
     },
     "execution_count": 74,
     "metadata": {},
     "output_type": "execute_result"
    }
   ],
   "source": [
    "f1_score(np.squeeze(test_y), y_hats)"
   ]
  },
  {
   "cell_type": "code",
   "execution_count": 75,
   "id": "85ee2f70",
   "metadata": {
    "id": "85ee2f70"
   },
   "outputs": [
    {
     "data": {
      "text/plain": [
       "0.8463444857496902"
      ]
     },
     "execution_count": 75,
     "metadata": {},
     "output_type": "execute_result"
    }
   ],
   "source": [
    "precision_score(np.squeeze(test_y), y_hats)"
   ]
  },
  {
   "cell_type": "code",
   "execution_count": 76,
   "id": "3dca3a89",
   "metadata": {
    "id": "3dca3a89"
   },
   "outputs": [
    {
     "data": {
      "text/plain": [
       "0.7055785123966942"
      ]
     },
     "execution_count": 76,
     "metadata": {},
     "output_type": "execute_result"
    }
   ],
   "source": [
    "recall_score(np.squeeze(test_y), y_hats)"
   ]
  },
  {
   "cell_type": "code",
   "execution_count": 99,
   "id": "744a3066",
   "metadata": {
    "id": "744a3066"
   },
   "outputs": [
    {
     "data": {
      "text/html": [
       "<div>\n",
       "<style scoped>\n",
       "    .dataframe tbody tr th:only-of-type {\n",
       "        vertical-align: middle;\n",
       "    }\n",
       "\n",
       "    .dataframe tbody tr th {\n",
       "        vertical-align: top;\n",
       "    }\n",
       "\n",
       "    .dataframe thead th {\n",
       "        text-align: right;\n",
       "    }\n",
       "</style>\n",
       "<table border=\"1\" class=\"dataframe\">\n",
       "  <thead>\n",
       "    <tr style=\"text-align: right;\">\n",
       "      <th></th>\n",
       "      <th>Logistic Regression</th>\n",
       "      <th>Linear SVM</th>\n",
       "      <th>RBF SVM</th>\n",
       "      <th>Naive Bayes</th>\n",
       "    </tr>\n",
       "  </thead>\n",
       "  <tbody>\n",
       "    <tr>\n",
       "      <th>f1 score</th>\n",
       "      <td>0.758759</td>\n",
       "      <td>0.760708</td>\n",
       "      <td>0.741701</td>\n",
       "      <td>0.769577</td>\n",
       "    </tr>\n",
       "    <tr>\n",
       "      <th>precision</th>\n",
       "      <td>0.735922</td>\n",
       "      <td>0.844008</td>\n",
       "      <td>0.738636</td>\n",
       "      <td>0.846344</td>\n",
       "    </tr>\n",
       "    <tr>\n",
       "      <th>recall</th>\n",
       "      <td>0.783058</td>\n",
       "      <td>0.692373</td>\n",
       "      <td>0.744792</td>\n",
       "      <td>0.705579</td>\n",
       "    </tr>\n",
       "    <tr>\n",
       "      <th>test accuracy</th>\n",
       "      <td>0.710511</td>\n",
       "      <td>0.691291</td>\n",
       "      <td>0.700901</td>\n",
       "      <td>0.754354</td>\n",
       "    </tr>\n",
       "    <tr>\n",
       "      <th>validation accuracy</th>\n",
       "      <td>0.824750</td>\n",
       "      <td>0.806875</td>\n",
       "      <td>0.828625</td>\n",
       "      <td>0.929500</td>\n",
       "    </tr>\n",
       "  </tbody>\n",
       "</table>\n",
       "</div>"
      ],
      "text/plain": [
       "                     Logistic Regression  Linear SVM   RBF SVM  Naive Bayes\n",
       "f1 score                        0.758759    0.760708  0.741701     0.769577\n",
       "precision                       0.735922    0.844008  0.738636     0.846344\n",
       "recall                          0.783058    0.692373  0.744792     0.705579\n",
       "test accuracy                   0.710511    0.691291  0.700901     0.754354\n",
       "validation accuracy             0.824750    0.806875  0.828625     0.929500"
      ]
     },
     "execution_count": 99,
     "metadata": {},
     "output_type": "execute_result"
    }
   ],
   "source": [
    "result = {\n",
    "    'Logistic Regression': {\n",
    "        'f1 score' : 0.7587587587587589 ,\n",
    "        'precision':0.7359223300970874 , \n",
    "        'recall': 0.7830578512396694,\n",
    "        'test accuracy' : 0.7105105105105105,\n",
    "        'validation accuracy': 0.8247500000000001  \n",
    "    },\n",
    "    \n",
    "    'Linear SVM': {\n",
    "        'f1 score': 0.7607076350093109, \n",
    "        'precision':0.84400826446281, \n",
    "        'recall':0.6923728813559322 ,\n",
    "        'test accuracy':  0.6912912912912913 ,\n",
    "        'validation accuracy':  0.806875\n",
    "    },\n",
    "    \n",
    "    'RBF SVM' : {\n",
    "        'f1 score': 0.7417012448132779, \n",
    "        'precision':0.7386363636363636,\n",
    "        'recall': 0.7447916666666666,\n",
    "        'test accuracy': 0.7009009009009008,\n",
    "        'validation accuracy': 0.8286250000000001\n",
    "    },\n",
    "    \n",
    "    'Naive Bayes' : {\n",
    "        'f1 score': 0.7695774647887325, \n",
    "        'precision':0.8463444857496902, \n",
    "        'recall': 0.7055785123966942,\n",
    "        'test accuracy': 0.7543543543543544,\n",
    "        'validation accuracy': 0.9295\n",
    "    }\n",
    "}\n",
    "\n",
    "pd.DataFrame(result)"
   ]
  },
  {
   "cell_type": "markdown",
   "id": "4492cd38",
   "metadata": {
    "id": "4492cd38"
   },
   "source": [
    "# Implemenet Naive Bayes With Sklearn "
   ]
  },
  {
   "cell_type": "code",
   "execution_count": 78,
   "id": "4259d956",
   "metadata": {
    "id": "4259d956"
   },
   "outputs": [],
   "source": [
    "from sklearn.naive_bayes import MultinomialNB"
   ]
  },
  {
   "cell_type": "code",
   "execution_count": 79,
   "id": "9a9f40cc",
   "metadata": {
    "id": "9a9f40cc"
   },
   "outputs": [
    {
     "data": {
      "text/plain": [
       "['know effect exercis leg tricki design quick effect 15 min workout knock park next leg day one els back shoulder leg like us 💯',\n",
       " \"stress 😩 tire 😴 worn 😰 common they'r perfect reason come gym work us promis leav feel littl relax energ readi tackl what' ahead that' realaf\",\n",
       " 'time get rockin foam rollin last time show way use foam roller massag sore muscl use versatil tool stretch far beyond whether pre post-workout stretch time feel differ foam make',\n",
       " 'hi zach pleas dm us thank',\n",
       " 'hi thank reach account manag gym usa canada intern gym independ own oper manag master franchise recommend contact via email complaince@anytimefitness.in thank']"
      ]
     },
     "execution_count": 79,
     "metadata": {},
     "output_type": "execute_result"
    }
   ],
   "source": [
    "train_x_non_array = [' '.join(item) for item in train_x_arr] \n",
    "train_x_non_array[:5] "
   ]
  },
  {
   "cell_type": "code",
   "execution_count": 80,
   "id": "44d4ad4a",
   "metadata": {
    "id": "44d4ad4a"
   },
   "outputs": [],
   "source": [
    "from sklearn.feature_extraction.text import CountVectorizer"
   ]
  },
  {
   "cell_type": "code",
   "execution_count": 81,
   "id": "9bdcf36a",
   "metadata": {
    "id": "9bdcf36a"
   },
   "outputs": [],
   "source": [
    "vectorizer = CountVectorizer() "
   ]
  },
  {
   "cell_type": "code",
   "execution_count": 82,
   "id": "fd670799",
   "metadata": {
    "id": "fd670799"
   },
   "outputs": [
    {
     "data": {
      "text/plain": [
       "CountVectorizer()"
      ]
     },
     "execution_count": 82,
     "metadata": {},
     "output_type": "execute_result"
    }
   ],
   "source": [
    "vectorizer.fit(train_x_non_array)"
   ]
  },
  {
   "cell_type": "code",
   "execution_count": 83,
   "id": "f855cff9",
   "metadata": {
    "id": "f855cff9"
   },
   "outputs": [],
   "source": [
    "train_x_for_naivebayes = vectorizer.transform(train_x_non_array)"
   ]
  },
  {
   "cell_type": "code",
   "execution_count": 84,
   "id": "8be436bd",
   "metadata": {
    "id": "8be436bd"
   },
   "outputs": [
    {
     "data": {
      "text/plain": [
       "8000"
      ]
     },
     "execution_count": 84,
     "metadata": {},
     "output_type": "execute_result"
    }
   ],
   "source": [
    "len(train_x_arr)"
   ]
  },
  {
   "cell_type": "code",
   "execution_count": 85,
   "id": "ad175214",
   "metadata": {
    "id": "ad175214"
   },
   "outputs": [
    {
     "data": {
      "text/plain": [
       "9585"
      ]
     },
     "execution_count": 85,
     "metadata": {},
     "output_type": "execute_result"
    }
   ],
   "source": [
    "len(vectorizer.vocabulary_)"
   ]
  },
  {
   "cell_type": "code",
   "execution_count": 86,
   "id": "4e711f14",
   "metadata": {
    "id": "4e711f14"
   },
   "outputs": [],
   "source": [
    "classifier_nb = MultinomialNB()"
   ]
  },
  {
   "cell_type": "code",
   "execution_count": 87,
   "id": "1879f569",
   "metadata": {
    "id": "1879f569"
   },
   "outputs": [
    {
     "data": {
      "text/plain": [
       "MultinomialNB()"
      ]
     },
     "execution_count": 87,
     "metadata": {},
     "output_type": "execute_result"
    }
   ],
   "source": [
    "classifier_nb.fit(train_x_for_naivebayes.toarray(), np.squeeze(train_y))"
   ]
  },
  {
   "cell_type": "code",
   "execution_count": 88,
   "id": "f2ed684f",
   "metadata": {
    "id": "f2ed684f"
   },
   "outputs": [
    {
     "data": {
      "text/plain": [
       "0.922625"
      ]
     },
     "execution_count": 88,
     "metadata": {},
     "output_type": "execute_result"
    }
   ],
   "source": [
    "classifier_nb.score(train_x_for_naivebayes.toarray(), np.squeeze(train_y))"
   ]
  },
  {
   "cell_type": "code",
   "execution_count": 89,
   "id": "39ea6858",
   "metadata": {
    "id": "39ea6858"
   },
   "outputs": [
    {
     "data": {
      "text/plain": [
       "['openfit chief digit offic selina tobaccowala founder evit former presid survey monkey offer club …',\n",
       " 'openfit chief digit offic selina tobaccowala founder evit former presid survey monkey offer club industri execut summit keynot fit access health well fit gym studio',\n",
       " 'egym get million invest u product expans',\n",
       " 'peloton look hospit market expans',\n",
       " \"check 4 short video present sale market practic today' consum workshop execut summit nov 8-10 tip sale market practic\"]"
      ]
     },
     "execution_count": 89,
     "metadata": {},
     "output_type": "execute_result"
    }
   ],
   "source": [
    "test_x_non_array = [' '.join(item) for item in test_x_arr] \n",
    "test_x_non_array[:5]"
   ]
  },
  {
   "cell_type": "code",
   "execution_count": 90,
   "id": "81bb50a7",
   "metadata": {
    "id": "81bb50a7"
   },
   "outputs": [],
   "source": [
    "text_x_vectorized = vectorizer.transform(test_x_non_array)"
   ]
  },
  {
   "cell_type": "code",
   "execution_count": 91,
   "id": "008f5eba",
   "metadata": {
    "id": "008f5eba"
   },
   "outputs": [
    {
     "data": {
      "text/plain": [
       "0.7543543543543544"
      ]
     },
     "execution_count": 91,
     "metadata": {},
     "output_type": "execute_result"
    }
   ],
   "source": [
    "classifier_nb.score(text_x_vectorized, np.squeeze(test_y))"
   ]
  },
  {
   "cell_type": "code",
   "execution_count": 92,
   "id": "23ae0b6b",
   "metadata": {
    "id": "23ae0b6b"
   },
   "outputs": [],
   "source": [
    "model_nb = (logprior, loglikelihood)"
   ]
  },
  {
   "cell_type": "code",
   "execution_count": 95,
   "id": "iOSsTNIaLZ8f",
   "metadata": {
    "id": "iOSsTNIaLZ8f"
   },
   "outputs": [
    {
     "data": {
      "text/plain": [
       "0.0"
      ]
     },
     "execution_count": 95,
     "metadata": {},
     "output_type": "execute_result"
    }
   ],
   "source": [
    "logprior"
   ]
  },
  {
   "cell_type": "code",
   "execution_count": 94,
   "id": "PChcogQLLkTc",
   "metadata": {
    "id": "PChcogQLLkTc"
   },
   "outputs": [
    {
     "data": {
      "text/plain": [
       "{'athlet': 0.9867509089482912,\n",
       " 'carrol': -0.8377983831027547,\n",
       " '🗓': -0.4323332749945904,\n",
       " 'vladimirputon': -0.8377983831027547,\n",
       " 'three-tim': -0.8377983831027547,\n",
       " 'purest': -0.4323332749945904,\n",
       " 'extrem': -0.5501163106509739,\n",
       " 'precor': 1.6471082666852455,\n",
       " '33rd': -0.4323332749945904,\n",
       " 'puerto': -0.4323332749945904,\n",
       " 'caught': -0.2500117182006357,\n",
       " 'wildflow': -0.4323332749945904,\n",
       " 'notifi': -0.8377983831027547,\n",
       " 'cryptic': -1.3486240068687454,\n",
       " 'moor': 1.3594261942334647,\n",
       " 'chrome': -0.4323332749945904,\n",
       " \"yesterday'\": -0.4323332749945904,\n",
       " '7.9': -0.4323332749945904,\n",
       " 'partak': 0.9539610861253003,\n",
       " 'reno': 0.9539610861253003,\n",
       " 'closur': 1.17710463743951,\n",
       " 'loan': -1.2432634912109193,\n",
       " 'anyth': -0.8918656043730305,\n",
       " 'univers': 0.39434529818987757,\n",
       " 'appet': -0.14465120254280942,\n",
       " 'longest-run': 0.9539610861253003,\n",
       " 'daili': -0.9919490629300131,\n",
       " 'rant': -0.8377983831027547,\n",
       " 'children': -1.9904778930411402,\n",
       " 'book': 0.1655037257610302,\n",
       " 'lemongrass': -0.4323332749945904,\n",
       " '5-5': -0.8377983831027547,\n",
       " 'leon': -0.14465120254280942,\n",
       " 'greg': -0.4323332749945904,\n",
       " 'sequel': 0.26081390556535494,\n",
       " 'annasorokin': -1.3486240068687454,\n",
       " 'shell': -1.3486240068687454,\n",
       " 'began': -0.2500117182006357,\n",
       " '💪': 1.3701214833502127,\n",
       " 'corrupt': -0.4323332749945904,\n",
       " 'gerard': 0.9539610861253003,\n",
       " '15': 0.3298067770523064,\n",
       " 'cambridg': 1.8702518179994554,\n",
       " 'pompeii-grown': -0.4323332749945904,\n",
       " 'mim': -0.4323332749945904,\n",
       " 'scholarship': -0.4323332749945904,\n",
       " 'antioxidant-load': 0.9539610861253003,\n",
       " 'defiantli': 0.9539610861253003,\n",
       " 'sara': -0.4323332749945904,\n",
       " 'berman': -0.8377983831027547,\n",
       " 'fashion-forward': -0.8377983831027547,\n",
       " 'egyptian': 0.26081390556535494,\n",
       " 'rodeo': -0.4323332749945904,\n",
       " 'leav': -0.2246939102163459,\n",
       " 'esteem': 0.9539610861253003,\n",
       " 'somewhat': -0.8377983831027547,\n",
       " 'wast': -0.2500117182006357,\n",
       " 'windfal': -1.1254804555545357,\n",
       " 'off-again': -1.1254804555545357,\n",
       " 'gather': -0.4323332749945904,\n",
       " 'donoho': -0.8377983831027547,\n",
       " 'scottdisick': -2.2240927442226455,\n",
       " 'oz': -0.4323332749945904,\n",
       " 'marjori': -0.8377983831027547,\n",
       " 'airport': -0.4323332749945904,\n",
       " 'fungi': 0.9539610861253003,\n",
       " 'pose': 2.308506748930611,\n",
       " 'ethan': 0.9539610861253003,\n",
       " '🎒': -0.8377983831027547,\n",
       " 'detect': -0.4323332749945904,\n",
       " 'cinderella': -1.1254804555545357,\n",
       " 'liza': 0.9539610861253003,\n",
       " 'nilla': -0.4323332749945904,\n",
       " 'week': -0.5258593330054139,\n",
       " 'wfinalfour': -2.3782434240499035,\n",
       " '30th': -1.1254804555545357,\n",
       " 'flyer': -0.4323332749945904,\n",
       " \"wheeloffortune'\": -0.4323332749945904,\n",
       " '✂': -0.4323332749945904,\n",
       " 'real-lif': -0.8377983831027547,\n",
       " 'themaskedsing': -0.4323332749945904,\n",
       " 'teenag': -0.4323332749945904,\n",
       " '360': 0.6662790136735193,\n",
       " 'travisbark': -2.8302285477929607,\n",
       " 'bombshel': -1.6850962434899583,\n",
       " 'keyston': -0.4323332749945904,\n",
       " 'constraint': -0.4323332749945904,\n",
       " 'senat': -3.4886901703650164,\n",
       " 'restaur': -2.137081367233016,\n",
       " 'pepperoni': -0.4323332749945904,\n",
       " 'auston': -1.5309455636627,\n",
       " 'goali': -0.8377983831027547,\n",
       " 'south': -1.776068021695685,\n",
       " 'hottest': -0.14465120254280942,\n",
       " 'roll': 0.6915968216578092,\n",
       " 'cancer': 0.26081390556535494,\n",
       " 'dedic': 0.26081390556535494,\n",
       " 'doug': -1.3486240068687454,\n",
       " 'accomplic': 0.9539610861253003,\n",
       " 'sabotag': -1.1254804555545357,\n",
       " 'burger': -0.3453218980049606,\n",
       " 'choos': 1.3594261942334647,\n",
       " 'must-hav': 1.17710463743951,\n",
       " 'detent': -1.3486240068687454,\n",
       " 'meet': 0.37001319753034706,\n",
       " 'rebutt': -0.4323332749945904,\n",
       " 'aoc': -0.4323332749945904,\n",
       " 'run': -0.36564190049591805,\n",
       " 'quietli': -1.5309455636627,\n",
       " \"let'\": 2.8257632630268916,\n",
       " '86th': -0.4323332749945904,\n",
       " 'fool': 0.26081390556535494,\n",
       " 'courtneytailor': -0.4323332749945904,\n",
       " 'in-person': 0.7308175348110905,\n",
       " 'smith': 0.26081390556535494,\n",
       " 'dojacat': -0.8377983831027547,\n",
       " 'blogger': 0.6662790136735193,\n",
       " 'suggest': -0.750787006113125,\n",
       " 'vrana': -0.4323332749945904,\n",
       " 'nih': -0.4323332749945904,\n",
       " 'shelf': -0.14465120254280942,\n",
       " 'su': -0.8377983831027547,\n",
       " 'scone': -0.8377983831027547,\n",
       " 'logan': 0.9539610861253003,\n",
       " 'sunshin': -0.8377983831027547,\n",
       " 'polson': 0.9539610861253003,\n",
       " 'panetton': -0.4323332749945904,\n",
       " 'menendez': -0.4323332749945904,\n",
       " 'axi': -0.8377983831027547,\n",
       " 'jaromir': -0.8377983831027547,\n",
       " 're-open': 3.7265498083650814,\n",
       " 'global': -1.5583445378508145,\n",
       " 'lightn': -0.4323332749945904,\n",
       " 'stadium': -1.1254804555545357,\n",
       " 'politician': -1.1254804555545357,\n",
       " 'version': 0.00949947728444887,\n",
       " '1982': -0.4323332749945904,\n",
       " 'ottawaon9@anytimefitness.com': 0.9539610861253003,\n",
       " '6m': -0.4323332749945904,\n",
       " 'mouth-wat': 0.9539610861253003,\n",
       " 'prayer': -0.4323332749945904,\n",
       " 'empti': 1.3594261942334647,\n",
       " 'pinki': -0.4323332749945904,\n",
       " '🐸': -0.4323332749945904,\n",
       " '⚽': -0.4323332749945904,\n",
       " 'serrat': -0.4323332749945904,\n",
       " 'jam-pack': 1.3594261942334647,\n",
       " 'vestig': -0.8377983831027547,\n",
       " 'sexiest': 1.6471082666852455,\n",
       " 'lusia': -0.4323332749945904,\n",
       " 'kiya': -0.4323332749945904,\n",
       " 'highest-profil': -0.4323332749945904,\n",
       " 'optimum': 0.9539610861253003,\n",
       " 'reproduct': -1.3486240068687454,\n",
       " 'patio': 0.9539610861253003,\n",
       " 'bicker': -0.4323332749945904,\n",
       " 'aggrav': 0.9539610861253003,\n",
       " 'portion': 0.03767035425114512,\n",
       " 'hot': -0.5276434547989151,\n",
       " 'gotta': 1.560096889695616,\n",
       " 'jalen': -0.4323332749945904,\n",
       " 'yep': 1.2416431585770813,\n",
       " 'rachel': -0.14465120254280942,\n",
       " 'hal': -0.4323332749945904,\n",
       " 'pre-se': -0.4323332749945904,\n",
       " 'cloudera': -0.4323332749945904,\n",
       " 'android': -0.8377983831027547,\n",
       " \"nfl'\": -0.4323332749945904,\n",
       " '58': 0.9539610861253003,\n",
       " 'stoke': -0.8377983831027547,\n",
       " 'newgirl': -0.4323332749945904,\n",
       " 'carolina': -2.5723994384908613,\n",
       " 'privileg': -1.1254804555545357,\n",
       " 'adrian': 1.6471082666852455,\n",
       " 'doncic': -0.4323332749945904,\n",
       " 'nazi': -0.8377983831027547,\n",
       " 'percentag': -0.4323332749945904,\n",
       " 'fiber': 0.9539610861253003,\n",
       " 'articl': 3.7871744301815164,\n",
       " '1:30': 1.3594261942334647,\n",
       " 'kyli': -0.4323332749945904,\n",
       " \"nation'\": -1.818627636114481,\n",
       " 'pandemic-born': -0.4323332749945904,\n",
       " 'bound': -0.4323332749945904,\n",
       " 'off-duti': 0.9539610861253003,\n",
       " 'rooney': -0.4323332749945904,\n",
       " 'dream': -1.5309455636627,\n",
       " 'instyl': -0.4323332749945904,\n",
       " 'gf': -0.4323332749945904,\n",
       " 'goodby': -0.4323332749945904,\n",
       " 'pineappl': 0.9539610861253003,\n",
       " 'clubindustryexecutivesummit': 0.9539610861253003,\n",
       " 'bail': -0.4323332749945904,\n",
       " 'biograph': -0.4323332749945904,\n",
       " \"lover'\": -0.4323332749945904,\n",
       " \"leon'\": 0.9539610861253003,\n",
       " 'simonebil': 0.9539610861253003,\n",
       " 'infin': -0.8377983831027547,\n",
       " 'poland': -1.9364106717708645,\n",
       " '➤': -1.5309455636627,\n",
       " 'preach': -0.4323332749945904,\n",
       " 'poor': -0.8377983831027547,\n",
       " 'target': -0.10691087455996243,\n",
       " 'mercer': 0.9539610861253003,\n",
       " 'app': -0.4929578968110252,\n",
       " 'vitiligo': -0.8377983831027547,\n",
       " 'riley': 0.9539610861253003,\n",
       " 'tribe': -1.1254804555545357,\n",
       " '🥑': 1.3594261942334647,\n",
       " 'kellyripa': -0.8377983831027547,\n",
       " 'ipcc': -0.4323332749945904,\n",
       " '🥳': 1.6471082666852455,\n",
       " 'estelleharri': -0.4323332749945904,\n",
       " '450': 0.26081390556535494,\n",
       " 'mitch': -0.6554768263088002,\n",
       " 'disfigur': -0.4323332749945904,\n",
       " \"princeharry'\": -0.4323332749945904,\n",
       " 'ipad': -0.4323332749945904,\n",
       " 'everyday': 0.6662790136735193,\n",
       " 'dogecoin': -0.4323332749945904,\n",
       " 'sexual': -0.5658646676191129,\n",
       " 'prosthesi': 0.9539610861253003,\n",
       " 'pepe': -1.1254804555545357,\n",
       " '4️⃣the': -0.4323332749945904,\n",
       " 'disbar': -0.4323332749945904,\n",
       " 'cautiou': -0.4323332749945904,\n",
       " 'barbecu': -1.5309455636627,\n",
       " 'hop': -0.14465120254280942,\n",
       " 'coachella': -1.5309455636627,\n",
       " 'orangetheori': 0.9539610861253003,\n",
       " '🐐': -1.6850962434899583,\n",
       " 'offic': -0.12484857524662968,\n",
       " 'vanityfair': -0.8377983831027547,\n",
       " 'paymaya': -0.4323332749945904,\n",
       " \"i'v\": 0.26081390556535494,\n",
       " 'muscular': 0.9539610861253003,\n",
       " 'mesh': -0.4323332749945904,\n",
       " 'charg': -2.5723994384908613,\n",
       " 'crucial': 0.03767035425114512,\n",
       " 'blackhawk': -0.4323332749945904,\n",
       " 'looong-last': 0.9539610861253003,\n",
       " '🇦': -0.8377983831027547,\n",
       " 'dymat': 0.9539610861253003,\n",
       " 'mehmet': -0.4323332749945904,\n",
       " 'chrislopez': -1.1254804555545357,\n",
       " 'johnmil': -0.4323332749945904,\n",
       " \"watt'\": -0.4323332749945904,\n",
       " 'toilet': 0.9539610861253003,\n",
       " 'skile': 0.9539610861253003,\n",
       " 'retriev': -0.8377983831027547,\n",
       " 'cdnpoli': -0.4323332749945904,\n",
       " '🖼': -0.4323332749945904,\n",
       " 'scheffler': -1.5309455636627,\n",
       " 'capres': 0.9539610861253003,\n",
       " 'foodborn': -0.8377983831027547,\n",
       " 'about-fac': -0.8377983831027547,\n",
       " 'fundrais': -1.9364106717708645,\n",
       " 'nile': 0.9539610861253003,\n",
       " \"gilbertgottfried'\": -0.4323332749945904,\n",
       " 'hillari': -1.3486240068687454,\n",
       " 'crown': -0.8377983831027547,\n",
       " 'dwaynehaskin': -0.4323332749945904,\n",
       " '16-17': 1.3594261942334647,\n",
       " \"khloekardashian'\": -0.8377983831027547,\n",
       " 'cute': -0.4323332749945904,\n",
       " 'stare': 1.6471082666852455,\n",
       " 'medic': 0.14303086990897138,\n",
       " 'hardwar': -1.1254804555545357,\n",
       " 'endors': -0.9919490629300131,\n",
       " 'jam': -0.4323332749945904,\n",
       " 'hollywoodbeautyaward': -0.8377983831027547,\n",
       " 'pernil': -0.4323332749945904,\n",
       " 'one-on-on': -0.4323332749945904,\n",
       " 'duke': -1.818627636114481,\n",
       " 'oldest': 0.26081390556535494,\n",
       " 'sean': 0.03767035425114512,\n",
       " 'publicli': -1.6850962434899583,\n",
       " 'pc': 0.9539610861253003,\n",
       " '🥱': 1.3594261942334647,\n",
       " 'upsid': -0.14465120254280942,\n",
       " 'shamelessli': 1.3594261942334647,\n",
       " 'turoci': 0.9539610861253003,\n",
       " \"they'll\": 0.512128333846261,\n",
       " 'staf': 0.26081390556535494,\n",
       " 'homepag': 2.3402554472451906,\n",
       " 'birthday': -0.5276434547989151,\n",
       " 'hey': 3.4388677359133006,\n",
       " 'colonel': 0.9539610861253003,\n",
       " 'novel': -0.4323332749945904,\n",
       " 'gym-spir': 0.9539610861253003,\n",
       " 'spill': -0.9629615260567608,\n",
       " 'iheartradiomusicaward': -0.8377983831027547,\n",
       " 'mtv': -0.4323332749945904,\n",
       " \"peacock'\": -0.4323332749945904,\n",
       " 'tou': 0.9539610861253003,\n",
       " \"princephilip'\": -1.3486240068687454,\n",
       " 'output': 0.26081390556535494,\n",
       " 'whop': -0.8377983831027547,\n",
       " 'david': 0.03767035425114512,\n",
       " 'ree': -0.4323332749945904,\n",
       " 'williamson': 0.9539610861253003,\n",
       " 'pack': 0.9539610861253003,\n",
       " 'desktop': 0.9539610861253003,\n",
       " 'mockeri': -0.4323332749945904,\n",
       " 'creuset': 1.6471082666852455,\n",
       " 'curv': -0.4323332749945904,\n",
       " 'weaponri': -0.4323332749945904,\n",
       " 'fanbas': -0.4323332749945904,\n",
       " 'bread-xpert': -0.4323332749945904,\n",
       " 'over-deliv': -0.4323332749945904,\n",
       " 'shark': -1.3486240068687454,\n",
       " 'heavili': -0.4323332749945904,\n",
       " '400th': 1.3594261942334647,\n",
       " \"here'\": 0.7081261236090198,\n",
       " 'multibillion-dollar': -0.4323332749945904,\n",
       " 'open': -0.18101884671368437,\n",
       " 'hartman': -0.4323332749945904,\n",
       " 'burst': -0.026868166886426004,\n",
       " 'lot': 0.1474852202583518,\n",
       " 'tracker': -0.4323332749945904,\n",
       " 'sake': -0.8377983831027547,\n",
       " 'knive': -0.14465120254280942,\n",
       " 'restroom': 1.3594261942334647,\n",
       " '\\U000e007f': -0.4323332749945904,\n",
       " 'celtic': -1.6850962434899583,\n",
       " 'cleanwal': 0.9539610861253003,\n",
       " 'winter': 1.3594261942334647,\n",
       " 'stick': 1.0717441217816837,\n",
       " 'weaken': -0.4323332749945904,\n",
       " 'juggl': -0.4323332749945904,\n",
       " 'raquel': 0.9539610861253003,\n",
       " 'juri': -1.3486240068687454,\n",
       " 'jame': -0.2988018823700677,\n",
       " '🇨': -0.4323332749945904,\n",
       " 'invictusgam': -0.8377983831027547,\n",
       " 'yesterday': -0.8377983831027547,\n",
       " 'oust': -0.4323332749945904,\n",
       " 'milwauke': -0.4323332749945904,\n",
       " 'ball': -0.614654831788545,\n",
       " 'feder': -2.016453379444401,\n",
       " 'botan': -0.4323332749945904,\n",
       " 'ukra': -0.4323332749945904,\n",
       " 'overload': 0.26081390556535494,\n",
       " 'wholesom': -1.3486240068687454,\n",
       " 'thigh': -0.14465120254280942,\n",
       " 'suspend': -0.8377983831027547,\n",
       " '️rhyne': -0.4323332749945904,\n",
       " 'ant': -0.4323332749945904,\n",
       " 'scandal': -2.5723994384908613,\n",
       " 'destanni': -0.8377983831027547,\n",
       " 'everywher': 0.7716395293313457,\n",
       " \"indeed'\": -0.8377983831027547,\n",
       " 'devin': -1.6850962434899583,\n",
       " 'whoopigoldberg': -1.1254804555545357,\n",
       " 'remix': -0.4323332749945904,\n",
       " 'interv': 1.8702518179994554,\n",
       " 'fbc.my@inspirebrandsasia.com': 0.9539610861253003,\n",
       " 'butter': -0.750787006113125,\n",
       " 'exchang': -0.943158898760581,\n",
       " \"christian'\": 1.3594261942334647,\n",
       " 'loriloughlin': -0.4323332749945904,\n",
       " 'macaroni': 0.26081390556535494,\n",
       " 'torch': 0.9539610861253003,\n",
       " 'beer-and-cheddar': -0.4323332749945904,\n",
       " '🫑': 0.9539610861253003,\n",
       " 'sale': 1.1771046374395102,\n",
       " '️internationalwomensday': -0.4323332749945904,\n",
       " 'napa': -0.4323332749945904,\n",
       " 'rocker': 0.9539610861253003,\n",
       " 'tycoon': -0.4323332749945904,\n",
       " 'aemi': -0.4323332749945904,\n",
       " '96': 1.3594261942334647,\n",
       " 'goo': 0.9539610861253003,\n",
       " 'reinstat': -0.4323332749945904,\n",
       " 'internationalwomensday': -0.9919490629300131,\n",
       " 'viru': -1.1254804555545357,\n",
       " 'webbi': -0.8377983831027547,\n",
       " 'tgif': -0.8377983831027547,\n",
       " 'embed': -0.8377983831027547,\n",
       " 'could': -0.5415325669595823,\n",
       " 'barr': -0.4323332749945904,\n",
       " 'sidney': -1.1254804555545357,\n",
       " 'potato-and-broccoli': -0.4323332749945904,\n",
       " \"son'\": -1.1254804555545357,\n",
       " 'evapor': -0.4323332749945904,\n",
       " 'bridesmaid': -0.4323332749945904,\n",
       " 'foreign-policymak': -2.041771187428691,\n",
       " 'neobank': -0.8377983831027547,\n",
       " 'glitter': 1.3594261942334647,\n",
       " 'newfound': 0.9539610861253003,\n",
       " 'terrorism-rel': -0.4323332749945904,\n",
       " 'head-turn': -0.4323332749945904,\n",
       " 'schoenfield': -0.4323332749945904,\n",
       " 'cohen': 0.9539610861253003,\n",
       " 'levinson': -0.4323332749945904,\n",
       " 'manor': -0.4323332749945904,\n",
       " 'disclos': -0.8377983831027547,\n",
       " \"he'\": -0.6215752746331189,\n",
       " 'four-star': 1.3594261942334647,\n",
       " 'nullifi': -0.4323332749945904,\n",
       " 'inclus': -0.2500117182006357,\n",
       " 'monicagel': -0.8377983831027547,\n",
       " 'tart': -0.6554768263088002,\n",
       " 'sourdough': -1.1254804555545357,\n",
       " 'outcom': -1.1254804555545357,\n",
       " 'crispy-skin': -0.4323332749945904,\n",
       " 'vat': -0.4323332749945904,\n",
       " 'biden': -4.5349766400313865,\n",
       " 'spac': -1.5309455636627,\n",
       " '📷': -1.3486240068687454,\n",
       " 'eff': -0.4323332749945904,\n",
       " 'kandiburruss': -0.8377983831027547,\n",
       " 'brooklyn': -2.041771187428691,\n",
       " 'unfair': -1.1254804555545357,\n",
       " 'rug': 0.6662790136735193,\n",
       " 'ditch': 0.9539610861253003,\n",
       " 'fantasi': 0.9539610861253003,\n",
       " 'salari': -1.5309455636627,\n",
       " 'bryant': -0.4323332749945904,\n",
       " 'nicolapeltz': -1.1254804555545357,\n",
       " 'beret': 0.9539610861253003,\n",
       " 'sika': -0.4323332749945904,\n",
       " 'grandma': -0.8377983831027547,\n",
       " 'yolk': -0.4323332749945904,\n",
       " 'trash': -0.8377983831027547,\n",
       " 'bassitt': -0.4323332749945904,\n",
       " 'nutritionist': 0.9539610861253003,\n",
       " 'hopesolo': -0.4323332749945904,\n",
       " 'highest-rank': 0.9539610861253003,\n",
       " 'item': 2.4008800690616257,\n",
       " 'trainer': 4.551273346713746,\n",
       " 'keoghan': 0.9539610861253003,\n",
       " 'figur': 0.7308175348110905,\n",
       " 'vow': -1.1254804555545357,\n",
       " 'warn': -1.2652423979296943,\n",
       " '𝐨𝐮𝐭': -0.4323332749945904,\n",
       " '20lb': 1.3594261942334647,\n",
       " 'innoc': -0.4323332749945904,\n",
       " 'dismal': -0.4323332749945904,\n",
       " 'embarrass': 3.15118566346152,\n",
       " 'ill': -0.07565833105585802,\n",
       " '68': -0.4323332749945904,\n",
       " 'tightli': -0.4323332749945904,\n",
       " 'chandler': -0.4323332749945904,\n",
       " 'laundri': -0.4323332749945904,\n",
       " 'mama': -1.6109882713362365,\n",
       " 'gio': -0.4323332749945904,\n",
       " 'zack': -0.4323332749945904,\n",
       " 'sentiment': -0.4323332749945904,\n",
       " 'hussl': -0.4323332749945904,\n",
       " 'oasi': 1.3594261942334647,\n",
       " 'highway': -0.4323332749945904,\n",
       " 'owner': 1.8867811199506659,\n",
       " 'polic': -2.62955785233081,\n",
       " 'kid': -1.3974141710381776,\n",
       " 'biofuel': -0.4323332749945904,\n",
       " 'chop': 0.07849234877140036,\n",
       " 'nowaday': -0.4323332749945904,\n",
       " 'mayor': -2.304135451896182,\n",
       " 'microsoft': -0.4323332749945904,\n",
       " 'distribut': -1.3486240068687454,\n",
       " 'poli': 0.9539610861253003,\n",
       " 'instant': -1.1254804555545357,\n",
       " 'shaun': 0.9539610861253003,\n",
       " 'filipino': -0.4323332749945904,\n",
       " 'pathogen': -0.4323332749945904,\n",
       " 'kd-kyri': -0.4323332749945904,\n",
       " 'cocktail': -2.041771187428691,\n",
       " 'june': -2.137081367233016,\n",
       " 'scaled-back': -0.4323332749945904,\n",
       " 'congrat': 0.9539610861253003,\n",
       " 'shatter': -1.1254804555545357,\n",
       " 'motion': -1.1254804555545357,\n",
       " 'slit': 0.9539610861253003,\n",
       " \"jillduggar'\": -0.4323332749945904,\n",
       " 'warner': -0.4323332749945904,\n",
       " 'descript': -0.4323332749945904,\n",
       " 'finish': -0.326972759336764,\n",
       " \"state'\": -1.1254804555545357,\n",
       " 'full': 1.8220497161815776,\n",
       " 'draw': -1.3486240068687454,\n",
       " 'happen': 1.9114947765335044,\n",
       " \"glossier'\": -0.4323332749945904,\n",
       " 'like': -0.09023778081901532,\n",
       " 'neck': 0.26081390556535494,\n",
       " 'rep': -0.8377983831027547,\n",
       " 'kindergarten': -0.4323332749945904,\n",
       " 'central': -1.5309455636627,\n",
       " 'verita': -0.4323332749945904,\n",
       " 'bama': -0.4323332749945904,\n",
       " 'kany': 0.9539610861253003,\n",
       " 'aluminmum': -0.4323332749945904,\n",
       " 'reliv': -0.4323332749945904,\n",
       " '5-10': 0.9539610861253003,\n",
       " 'creativ': 1.17710463743951,\n",
       " 'lgbtq': -1.9364106717708645,\n",
       " 'knee': 0.5972861421865677,\n",
       " 'keynot': 0.26081390556535494,\n",
       " 'bird': -0.14465120254280942,\n",
       " '2000': 0.26081390556535494,\n",
       " '🤘': 1.6471082666852455,\n",
       " 'rhoni': -1.9364106717708645,\n",
       " '🥦': 1.6471082666852455,\n",
       " 'honeymoon': -0.4323332749945904,\n",
       " '😰': 0.9539610861253003,\n",
       " 'culmin': -0.4323332749945904,\n",
       " 'wheat': -0.8377983831027547,\n",
       " 'ukraine-rel': -0.4323332749945904,\n",
       " '⤵': -2.783708532158068,\n",
       " 'alll': 1.3594261942334647,\n",
       " 'to-do': -0.14465120254280942,\n",
       " 'heckl': -0.4323332749945904,\n",
       " 'pie-styl': -0.4323332749945904,\n",
       " 'sizzl': -1.1254804555545357,\n",
       " 'ariana': 2.3402554472451906,\n",
       " 'grown': -0.6554768263088002,\n",
       " 'kofman': -0.4323332749945904,\n",
       " 'reach': 2.8521674372234025,\n",
       " 'bale': -0.4323332749945904,\n",
       " 'garlic': -2.5117748166744263,\n",
       " 'attent': 2.8998712351806137,\n",
       " 'english': -0.4323332749945904,\n",
       " 'flaki': -1.3486240068687454,\n",
       " 'car': -0.2500117182006357,\n",
       " 'shorten': -0.4323332749945904,\n",
       " 'rey': -1.3486240068687454,\n",
       " 'ethnic': -0.8377983831027547,\n",
       " 'anita': -0.4323332749945904,\n",
       " 'im': -0.4323332749945904,\n",
       " 'timothé': 1.8702518179994554,\n",
       " 'panic': 0.26081390556535494,\n",
       " 'kill': -0.5501163106509739,\n",
       " 'street': -0.9919490629300131,\n",
       " 'sophist': -0.4323332749945904,\n",
       " 'finalist': -1.1254804555545357,\n",
       " 'curri': -1.3486240068687454,\n",
       " 'golden': -1.6109882713362365,\n",
       " 'tri-set': 0.9539610861253003,\n",
       " \"william'\": 0.9539610861253003,\n",
       " 'unexpect': -0.4323332749945904,\n",
       " 'jennifergarn': -2.2240927442226455,\n",
       " 'document': -1.5309455636627,\n",
       " 'elba': 1.3594261942334647,\n",
       " 'horoscop': -0.4323332749945904,\n",
       " \"india'\": -0.4323332749945904,\n",
       " 'lisavanderpump': -0.4323332749945904,\n",
       " 'chanel': 0.9539610861253003,\n",
       " 'move': 0.9441087896822885,\n",
       " \"night'\": -0.4323332749945904,\n",
       " 'away': 0.9039506655506389,\n",
       " 'makeup': -1.1254804555545357,\n",
       " 'danger': -1.3486240068687454,\n",
       " 'cameraman': -0.4323332749945904,\n",
       " \"justinbieber'\": -1.1254804555545357,\n",
       " 'adob': -0.4323332749945904,\n",
       " 'roy': -0.14465120254280942,\n",
       " 'depress': 0.6662790136735193,\n",
       " 'tummi': -0.4323332749945904,\n",
       " 'parent': -1.1254804555545357,\n",
       " 'gordon': -0.4323332749945904,\n",
       " 'profession': -0.5501163106509739,\n",
       " 'tool': -0.2246939102163459,\n",
       " 'gretzki': -0.4323332749945904,\n",
       " 'strategist': -0.8377983831027547,\n",
       " '🏒': -1.818627636114481,\n",
       " 'kimchi': -0.4323332749945904,\n",
       " 'vlad': -0.4323332749945904,\n",
       " 'aflov': 1.6471082666852455,\n",
       " 'fade': 0.9539610861253003,\n",
       " 'killin': 1.6471082666852455,\n",
       " \"zoëkravitz'\": -0.4323332749945904,\n",
       " 'spici': -1.0201199398967093,\n",
       " 'increasingli': -0.4323332749945904,\n",
       " 'destroy': 1.2416431585770813,\n",
       " 'kettl': 0.9539610861253003,\n",
       " 'entrepreneur': 0.26081390556535494,\n",
       " 'pulldown': 2.2067240546206683,\n",
       " 'choco': -0.4323332749945904,\n",
       " \"china'\": -1.1254804555545357,\n",
       " 'predic': -0.4323332749945904,\n",
       " 'brb': 0.26081390556535494,\n",
       " 'distant': -0.8377983831027547,\n",
       " 'wearabl': 1.6471082666852455,\n",
       " 'nuclear': -1.9364106717708645,\n",
       " 'jeer': -0.4323332749945904,\n",
       " 'arthur': 0.6662790136735193,\n",
       " 'blog': 1.8702518179994554,\n",
       " 'honor': -1.0384690785649058,\n",
       " 'blender': 0.26081390556535494,\n",
       " 'emot': -1.4439341866730702,\n",
       " 'ittt': 1.6471082666852455,\n",
       " 'sodium': -0.4323332749945904,\n",
       " 'stay': 0.3561240853696799,\n",
       " 'refuel': 1.3594261942334647,\n",
       " 'speaker': 0.26081390556535494,\n",
       " 'career': -0.7507870061131251,\n",
       " 'web-sling': 0.9539610861253003,\n",
       " 'carolebaskin': -0.8377983831027547,\n",
       " 'unauthor': -0.4323332749945904,\n",
       " 'homemad': -0.9919490629300131,\n",
       " 'courtneylov': -0.4323332749945904,\n",
       " 'longer': -0.19117121817770222,\n",
       " 'rectifi': 0.9539610861253003,\n",
       " 'psoriasi': 0.9539610861253003,\n",
       " 'herb': -1.6850962434899583,\n",
       " 'popul': -1.1254804555545357,\n",
       " 'brewer': -0.4323332749945904,\n",
       " 'hyperic': 1.3594261942334647,\n",
       " 'resign': -1.3486240068687454,\n",
       " 'vo': -0.4323332749945904,\n",
       " 'approv': -1.3486240068687452,\n",
       " 'jimmysavil': -0.8377983831027547,\n",
       " 'compris': 0.9539610861253003,\n",
       " '👀': -1.243263491210919,\n",
       " 'sharonosbourn': -1.3486240068687454,\n",
       " 'london': -0.4323332749945904,\n",
       " 'rewritten': -0.4323332749945904,\n",
       " 'spokesperson': -1.1254804555545357,\n",
       " '🍊': 0.9539610861253003,\n",
       " '4b': -0.4323332749945904,\n",
       " 'delecto': -0.4323332749945904,\n",
       " 'flatley': 0.9539610861253003,\n",
       " 'sick': 0.9539610861253003,\n",
       " 'txt': 2.8998712351806137,\n",
       " 'justinbieb': -2.2240927442226455,\n",
       " 'rye': -0.8377983831027547,\n",
       " 'staffer': -1.1254804555545357,\n",
       " 'daryl': -0.4323332749945904,\n",
       " 'scrotum': 0.9539610861253003,\n",
       " 'caddi': -0.4323332749945904,\n",
       " 'mcdavid': -0.4323332749945904,\n",
       " 'greensboro': -0.4323332749945904,\n",
       " 'fitspo': 0.9539610861253003,\n",
       " 'spi': -0.9919490629300131,\n",
       " 'overcount': -0.4323332749945904,\n",
       " 'long-tim': 1.3594261942334647,\n",
       " 'spike': -1.2432634912109193,\n",
       " 'stitch': -0.4323332749945904,\n",
       " 'chorizo': -0.4323332749945904,\n",
       " 'socialist': -0.4323332749945904,\n",
       " 'brian': -0.14465120254280942,\n",
       " 'tooth': 0.9539610861253003,\n",
       " \"boyfriend'\": -0.8377983831027547,\n",
       " 'questionnair': -0.4323332749945904,\n",
       " 'wendywilliam': -2.62955785233081,\n",
       " 'xi': -0.8377983831027547,\n",
       " 'stapl': 1.439468901907001,\n",
       " 'expir': -0.8377983831027547,\n",
       " 'pamelaanderson': -1.5309455636627,\n",
       " 'hintz': -0.4323332749945904,\n",
       " 'surfac': -1.1254804555545357,\n",
       " 'dignifi': -0.4323332749945904,\n",
       " 'sprinkl': 1.3594261942334647,\n",
       " 'louisvil': -0.8377983831027547,\n",
       " 'dagger': -0.4323332749945904,\n",
       " 'summit': 2.3608747344479264,\n",
       " 'ninth': -0.4323332749945904,\n",
       " \"sandrabullock'\": -0.8377983831027547,\n",
       " 'bisexu': 0.9539610861253003,\n",
       " 'six': -0.14465120254280942,\n",
       " 'duhhh': 0.9539610861253003,\n",
       " 'spotlight': -1.3486240068687454,\n",
       " 'turn-on': 0.9539610861253003,\n",
       " 'dre': 0.9539610861253003,\n",
       " 'metro': -0.4323332749945904,\n",
       " 'proper': 1.17710463743951,\n",
       " 'caffein': 0.9539610861253003,\n",
       " 'riot': -1.6850962434899583,\n",
       " 'coppin': -0.4323332749945904,\n",
       " 'video-shar': -0.4323332749945904,\n",
       " 'delici': 1.7771613949334435,\n",
       " 'dwayn': 0.48395745687956465,\n",
       " 'happili': 0.9539610861253003,\n",
       " '🦃': 1.3594261942334647,\n",
       " 'allevi': 0.9539610861253003,\n",
       " 'chronicl': -1.1254804555545357,\n",
       " 'blacchyna': -1.6850962434899583,\n",
       " 'energi': 0.38597704851936093,\n",
       " 'hotshot': -0.4323332749945904,\n",
       " 'repel': 0.9539610861253003,\n",
       " 'pill': -0.9919490629300131,\n",
       " 'raunch-com': 0.9539610861253003,\n",
       " 'poetri': -0.4323332749945904,\n",
       " '🔋': -0.4323332749945904,\n",
       " 'outsid': 0.2608139055653551,\n",
       " 'passport': -0.4323332749945904,\n",
       " 'swiss': -0.4323332749945904,\n",
       " 'groovi': 0.9539610861253003,\n",
       " 'dollar': -0.6554768263088002,\n",
       " 'volatil': -0.4323332749945904,\n",
       " '📸': -1.1254804555545357,\n",
       " 'frumpi': -0.4323332749945904,\n",
       " 'abruzzo': -0.8377983831027547,\n",
       " 'post': -0.9354368526666706,\n",
       " 'after-parti': -0.4323332749945904,\n",
       " 'midterm': -2.62955785233081,\n",
       " 'slate': -1.1254804555545357,\n",
       " 'creepin': 1.3594261942334647,\n",
       " 'blockbust': -1.1254804555545357,\n",
       " 'freddi': -0.4323332749945904,\n",
       " 'broccolini': -0.4323332749945904,\n",
       " ':)': 2.563398998559401,\n",
       " 'singular': -0.4323332749945904,\n",
       " 'okra': -0.4323332749945904,\n",
       " 'consecut': -0.4323332749945904,\n",
       " 'statefarm': -0.8377983831027547,\n",
       " 'larg': -1.3486240068687454,\n",
       " 'htt': -0.14465120254280942,\n",
       " 'locatoin': 0.9539610861253003,\n",
       " 'mar': 0.9539610861253003,\n",
       " 'acn': 0.9539610861253003,\n",
       " 'renov': 0.6662790136735193,\n",
       " 'scrambl': -2.041771187428691,\n",
       " 'sicilian': -0.4323332749945904,\n",
       " 'unstabl': -0.8377983831027547,\n",
       " 'taxpay': -0.4323332749945904,\n",
       " 'heat': 0.512128333846261,\n",
       " 'academ': 0.26081390556535494,\n",
       " 'heirloom': -0.4323332749945904,\n",
       " 'koko': -1.1254804555545357,\n",
       " 'yogurt': 0.6662790136735193,\n",
       " 'directli': 0.26081390556535494,\n",
       " '73': -0.4323332749945904,\n",
       " 'salti': -1.5309455636627,\n",
       " 'overprolifer': -0.4323332749945904,\n",
       " 'damper': -0.8377983831027547,\n",
       " 'pre-cook': 0.26081390556535494,\n",
       " 'slice': -0.8377983831027547,\n",
       " 'barker': 1.3594261942334647,\n",
       " \"newsom'\": -0.4323332749945904,\n",
       " 'moral': 0.6662790136735193,\n",
       " 'thegam': -0.4323332749945904,\n",
       " 'aggress': -1.1254804555545357,\n",
       " 'rulk': 0.9539610861253003,\n",
       " 'insur': -1.3486240068687454,\n",
       " 'passiv': -0.4323332749945904,\n",
       " 'austin': -0.026868166886426004,\n",
       " 'convent': -0.8377983831027547,\n",
       " 'chao': -1.818627636114481,\n",
       " 'pick': -1.0243843386831668,\n",
       " 'civilian': -1.6850962434899583,\n",
       " 'mh': 2.05257337479341,\n",
       " 'memori': -1.6850962434899583,\n",
       " 'cba': -1.1254804555545357,\n",
       " 'reb': -1.1254804555545357,\n",
       " 'develop': -0.3453218980049606,\n",
       " 'platinum': 0.9539610861253003,\n",
       " 'swoon': -0.4323332749945904,\n",
       " 'cannabi': -2.2240927442226455,\n",
       " 'half': -1.4619526921757486,\n",
       " 'black': -1.4568375915089782,\n",
       " 'americanexpress': -0.4323332749945904,\n",
       " 'adida': 1.3594261942334647,\n",
       " 'reinvent': -0.4323332749945904,\n",
       " 'silver': 1.6471082666852455,\n",
       " 'luck': 0.9539610861253003,\n",
       " 'safe': 0.17380252857572528,\n",
       " 'youth': -0.4323332749945904,\n",
       " 'broth': -1.818627636114481,\n",
       " 'boycot': 1.17710463743951,\n",
       " 'bacn': 0.9539610861253003,\n",
       " 'filter': 0.26081390556535494,\n",
       " \"teenmom'\": -0.4323332749945904,\n",
       " 'undeton': -0.8377983831027547,\n",
       " 'saget': 0.9539610861253003,\n",
       " 'unorthodox': 0.9539610861253003,\n",
       " 'chilaquil': -0.8377983831027547,\n",
       " 'vision': 0.26081390556535494,\n",
       " 'shrae': 0.9539610861253003,\n",
       " 'fatal': -1.3486240068687454,\n",
       " 'thyme': -0.8377983831027547,\n",
       " 'zone': 0.26081390556535494,\n",
       " 'bennif': -1.9364106717708645,\n",
       " 'info@anytimefitness.co.uk': 0.9539610861253003,\n",
       " 'elli': 1.3594261942334647,\n",
       " \"eddiecibrian'\": -0.4323332749945904,\n",
       " 'sit': 0.5709688338691946,\n",
       " 'peg': -0.4323332749945904,\n",
       " 'quinci': 0.9539610861253003,\n",
       " 'girlfriend': -2.2240927442226455,\n",
       " 'suck': -0.14465120254280942,\n",
       " 'apolog': 1.0593216017831266,\n",
       " 'regain': 1.17710463743951,\n",
       " 'creat': -0.057639825553179654,\n",
       " 'lentil': -0.8377983831027547,\n",
       " 'reallli': 0.9539610861253003,\n",
       " 'crack': -1.3486240068687454,\n",
       " 'theori': -0.4323332749945904,\n",
       " 'make-ahead': 0.9539610861253003,\n",
       " 'thrive': 1.2416431585770813,\n",
       " 'harsh': -1.3486240068687454,\n",
       " 'instinct': -0.4323332749945904,\n",
       " 'rang': 0.5484959780171359,\n",
       " '🥝': 0.9539610861253003,\n",
       " '😜': 0.9539610861253003,\n",
       " 'soon': 0.49720268362958536,\n",
       " '🤯': -0.8377983831027547,\n",
       " 'wean': -0.4323332749945904,\n",
       " 'cristianoronaldo': -0.4323332749945904,\n",
       " 'travel': -0.9919490629300131,\n",
       " \"father'\": 0.9539610861253003,\n",
       " 'set-it-and-forget-it': -0.4323332749945904,\n",
       " '🍗': 1.3594261942334647,\n",
       " 'argu': -1.9364106717708645,\n",
       " \"spring'\": 0.9539610861253003,\n",
       " 'mikeshouh': -0.8377983831027547,\n",
       " 'kellyrizzo': -0.4323332749945904,\n",
       " 'years-old': -0.4323332749945904,\n",
       " 'contin': 0.9539610861253003,\n",
       " 'dispatch': -1.1254804555545357,\n",
       " 'busi': 0.16237383275210251,\n",
       " \"valentine'\": 0.9539610861253003,\n",
       " \"abdul-jabbar'\": -0.4323332749945904,\n",
       " 'chatbot': -0.4323332749945904,\n",
       " '7': -0.14465120254280955,\n",
       " 'eltonjohn': -0.4323332749945904,\n",
       " 'democrat': -3.2356936559011253,\n",
       " \"festival'\": -0.8377983831027547,\n",
       " 'ashtonkutch': -1.1254804555545357,\n",
       " 'ja': -1.1254804555545357,\n",
       " 'protein-pack': 1.17710463743951,\n",
       " 'emba': -0.4323332749945904,\n",
       " 'mckew': -0.4323332749945904,\n",
       " \"minnesota'\": -0.4323332749945904,\n",
       " 'midst': 0.26081390556535494,\n",
       " 'kelvin': 1.8702518179994554,\n",
       " 'borrow': -1.1254804555545357,\n",
       " 'focus': 0.512128333846261,\n",
       " 'weightless': 0.9539610861253003,\n",
       " 'tragic': -2.137081367233016,\n",
       " 'hurrican': -0.4323332749945904,\n",
       " 'laico': 0.9539610861253003,\n",
       " 'laugh': -1.3486240068687454,\n",
       " 'phog': -0.4323332749945904,\n",
       " 'spam': -0.4323332749945904,\n",
       " 'ambassador': -1.1254804555545357,\n",
       " 'nola': -0.4323332749945904,\n",
       " 'shashaobama': -0.4323332749945904,\n",
       " 'plu': 0.757250791879246,\n",
       " 'reap': 1.3594261942334647,\n",
       " 'watson': -1.6850962434899583,\n",
       " 'breach': -1.3486240068687454,\n",
       " 'stomach': 0.5484959780171359,\n",
       " 'arkansa': -0.4323332749945904,\n",
       " 'sunday': -1.7540891149769098,\n",
       " 'dive': -0.2988018823700677,\n",
       " 'racket': -1.1254804555545357,\n",
       " \"taylorswift'\": -0.4323332749945904,\n",
       " 'redtabletalk': -0.8377983831027547,\n",
       " 'shown': 1.3594261942334647,\n",
       " 'shannonsperb': -0.4323332749945904,\n",
       " 'master': 0.9026677917377497,\n",
       " '🎃': 0.9539610861253003,\n",
       " 'least-favorit': -0.4323332749945904,\n",
       " 'decor': -0.4323332749945904,\n",
       " 'breakthrough': -0.4323332749945904,\n",
       " 'five-hol': -0.4323332749945904,\n",
       " 'carmel': -0.4323332749945904,\n",
       " 'danielhumm': -0.4323332749945904,\n",
       " 'bobsaget': -1.1254804555545357,\n",
       " 'protector': 1.3594261942334647,\n",
       " 'ail': -0.8377983831027547,\n",
       " 'bay': -1.9364106717708645,\n",
       " '🙄': 1.3594261942334647,\n",
       " 'hath': -0.4323332749945904,\n",
       " 'cowork': 2.05257337479341,\n",
       " '1-2': -0.4323332749945904,\n",
       " 'harrelson': -0.4323332749945904,\n",
       " 'slowli': 0.26081390556535494,\n",
       " 'then-teen': -0.4323332749945904,\n",
       " 'pizza': 0.3661744212231813,\n",
       " 'nato': -2.2240927442226455,\n",
       " 'famou': -2.5723994384908613,\n",
       " 'non-exist': 0.9539610861253003,\n",
       " 'untim': -0.4323332749945904,\n",
       " 'r-wyo': -0.4323332749945904,\n",
       " 'furi': -0.4323332749945904,\n",
       " 'fanci': -0.8377983831027547,\n",
       " 'halftim': -1.3486240068687454,\n",
       " 'chef': -1.2973307124811948,\n",
       " 'conven': -1.1254804555545357,\n",
       " 'interest': -0.026868166886426004,\n",
       " 'fitch': 0.9539610861253003,\n",
       " 'surpris': -0.07565833105585802,\n",
       " 'stood': -0.4323332749945904,\n",
       " 'most-ev': -0.4323332749945904,\n",
       " 'daughter': -1.5717675581829553,\n",
       " 'edward': -0.4323332749945904,\n",
       " 'occur': 0.26081390556535494,\n",
       " 'starchi': -0.8377983831027547,\n",
       " 'cp3': -0.4323332749945904,\n",
       " 'honey-lemon': 0.26081390556535494,\n",
       " 'shishito': -0.4323332749945904,\n",
       " 'cookbook': -0.4323332749945904,\n",
       " 'start-up': 0.9539610861253003,\n",
       " 'edert': -0.4323332749945904,\n",
       " \"sailpoint'\": -0.4323332749945904,\n",
       " 'huddl': -3.0350229604389742,\n",
       " 'without': -0.03929068688498317,\n",
       " 'sanduski': -0.4323332749945904,\n",
       " \"silvioscaglia'\": -0.8377983831027547,\n",
       " 'bradley': 1.3594261942334647,\n",
       " 'lax': -0.8377983831027547,\n",
       " 'bitter': -1.5309455636627,\n",
       " 'wheelchair': -0.14465120254280942,\n",
       " 'snap': -0.7377149245457723,\n",
       " 'predict': -0.14465120254280942,\n",
       " 'wnbadraft': -1.9364106717708645,\n",
       " 'unparallel': 1.6471082666852455,\n",
       " 'bruce': -0.8377983831027547,\n",
       " 'jacket': 0.26081390556535494,\n",
       " 'better-for-y': 2.05257337479341,\n",
       " 'immens': 0.9539610861253003,\n",
       " 'famer': 0.26081390556535494,\n",
       " 'armando': -0.8377983831027547,\n",
       " 'radic': -0.4323332749945904,\n",
       " 'sacramento': -0.4323332749945904,\n",
       " 'overwhelm': 0.9539610861253003,\n",
       " 'exo': 1.6471082666852455,\n",
       " 'addict': -0.4323332749945904,\n",
       " 'imdb': -0.4323332749945904,\n",
       " 'scallop': -0.4323332749945904,\n",
       " \"samasghari'\": -0.4323332749945904,\n",
       " 'taylorlautn': -0.4323332749945904,\n",
       " 'distract': 0.26081390556535494,\n",
       " 'hand-sign': -0.4323332749945904,\n",
       " 'yike': 0.7716395293313457,\n",
       " 'exhum': -0.4323332749945904,\n",
       " 'kingdom': 0.9539610861253003,\n",
       " 'iii': -0.8377983831027547,\n",
       " 'snarki': -0.4323332749945904,\n",
       " 'takeaway': -0.7200153474463713,\n",
       " 'hylton': -0.4323332749945904,\n",
       " 'undercut': -0.4323332749945904,\n",
       " 'keanu': 0.9539610861253003,\n",
       " 'jamielynnspear': -0.4323332749945904,\n",
       " 'flake': -0.4323332749945904,\n",
       " 'time-to-tim': 0.9539610861253003,\n",
       " 'wh': -0.4323332749945904,\n",
       " '🍂': 0.9539610861253003,\n",
       " 'devlop': 0.9539610861253003,\n",
       " 'lycra': 0.9539610861253003,\n",
       " 'meteor': 0.9539610861253003,\n",
       " 'ryan': -0.9919490629300131,\n",
       " 'elvi': -1.3486240068687454,\n",
       " 'two-tim': -0.8377983831027547,\n",
       " 'longest-tenur': -0.4323332749945904,\n",
       " 'lump': 0.26081390556535494,\n",
       " 'kept': -1.3486240068687454,\n",
       " 'benchmark': -0.4323332749945904,\n",
       " 'one-year': -1.5309455636627,\n",
       " 'bod': 0.26081390556535494,\n",
       " '🎳': 0.9539610861253003,\n",
       " 'corn': -0.4323332749945904,\n",
       " 'buildyourbodi': 2.7457205553533552,\n",
       " 'recus': -1.818627636114481,\n",
       " 'unstopp': -0.14465120254280942,\n",
       " 'mentor': -0.8377983831027547,\n",
       " 'courier': 0.9539610861253003,\n",
       " 'jenelleevan': -1.3486240068687454,\n",
       " 'vulner': -0.2500117182006357,\n",
       " \"panel'\": -0.4323332749945904,\n",
       " 'vanderbilt': -0.4323332749945904,\n",
       " 'quiz': 0.9539610861253003,\n",
       " 'loyd': -0.4323332749945904,\n",
       " 'expert': 0.1329805340554701,\n",
       " 'eatin': 0.9539610861253003,\n",
       " 'hater': -1.5309455636627,\n",
       " 'friction': -0.4323332749945904,\n",
       " 'senior': -1.818627636114481,\n",
       " 'nevada': -1.1254804555545357,\n",
       " 'applianc': 0.9539610861253003,\n",
       " 'highly-encourag': 0.9539610861253003,\n",
       " 'puttin': 0.9539610861253003,\n",
       " 'ham': -1.1254804555545357,\n",
       " 'billboard': -0.4323332749945904,\n",
       " 'ketanji': -3.671011727158971,\n",
       " \"gogoro'\": -0.4323332749945904,\n",
       " 'anti-money-laund': -0.4323332749945904,\n",
       " 'flirt': 1.3594261942334647,\n",
       " 'atlanta': -1.818627636114481,\n",
       " \"offender'\": -0.4323332749945904,\n",
       " 'haitian': -0.4323332749945904,\n",
       " 'patsajak': -1.1254804555545357,\n",
       " '80': 0.48395745687956465,\n",
       " 'consider': -0.4323332749945904,\n",
       " 'mp': -0.4323332749945904,\n",
       " 'cut': -0.5276434547989151,\n",
       " 'ruffl': -0.4323332749945904,\n",
       " 'schedul': 0.26081390556535494,\n",
       " 'pundit': -0.4323332749945904,\n",
       " 'drink': -0.6264892894355478,\n",
       " 'avatar': -0.4323332749945904,\n",
       " 'revamp': -0.8377983831027547,\n",
       " 'borough': -0.4323332749945904,\n",
       " 'peel': -0.8377983831027547,\n",
       " 'tubman': -0.4323332749945904,\n",
       " 'all-nba': -0.4323332749945904,\n",
       " 'mighti': 0.9539610861253003,\n",
       " 'declar': -1.9364106717708645,\n",
       " ...}"
      ]
     },
     "execution_count": 94,
     "metadata": {},
     "output_type": "execute_result"
    }
   ],
   "source": [
    "loglikelihood"
   ]
  },
  {
   "cell_type": "markdown",
   "id": "3b5787e0",
   "metadata": {
    "id": "3b5787e0"
   },
   "source": [
    "# Save The Best Model \n",
    "\n",
    "## Pickle \n",
    "\n",
    "It allows you to serialize your python object into a file."
   ]
  },
  {
   "cell_type": "code",
   "execution_count": 103,
   "id": "0e753783",
   "metadata": {
    "id": "0e753783"
   },
   "outputs": [],
   "source": [
    "with open('fitness_logisticreg.', 'wb') as f: \n",
    "    pickle.dump(search.best_estimator_, f)"
   ]
  },
  {
   "cell_type": "code",
   "execution_count": 104,
   "id": "fe83abb5",
   "metadata": {
    "id": "fe83abb5"
   },
   "outputs": [],
   "source": [
    "with open('fitness_logisticreg.', 'rb') as f: \n",
    "    model_pickle = pickle.load(f)"
   ]
  },
  {
   "cell_type": "code",
   "execution_count": 105,
   "id": "01b15c20",
   "metadata": {
    "id": "01b15c20"
   },
   "outputs": [
    {
     "data": {
      "text/plain": [
       "sklearn.linear_model._logistic.LogisticRegression"
      ]
     },
     "execution_count": 105,
     "metadata": {},
     "output_type": "execute_result"
    }
   ],
   "source": [
    "type(model_pickle)"
   ]
  },
  {
   "cell_type": "code",
   "execution_count": 106,
   "id": "09c0ac0e",
   "metadata": {
    "id": "09c0ac0e"
   },
   "outputs": [
    {
     "data": {
      "text/plain": [
       "array([1., 1., 0., ..., 0., 0., 1.])"
      ]
     },
     "execution_count": 106,
     "metadata": {},
     "output_type": "execute_result"
    }
   ],
   "source": [
    "model_pickle.predict(X_test)"
   ]
  },
  {
   "cell_type": "code",
   "execution_count": null,
   "id": "9677d8cc",
   "metadata": {},
   "outputs": [],
   "source": []
  }
 ],
 "metadata": {
  "colab": {
   "collapsed_sections": [
    "773106a3"
   ],
   "name": "04 Train Fitness Classifier",
   "provenance": []
  },
  "kernelspec": {
   "display_name": "Python 3 (ipykernel)",
   "language": "python",
   "name": "python3"
  },
  "language_info": {
   "codemirror_mode": {
    "name": "ipython",
    "version": 3
   },
   "file_extension": ".py",
   "mimetype": "text/x-python",
   "name": "python",
   "nbconvert_exporter": "python",
   "pygments_lexer": "ipython3",
   "version": "3.9.12"
  }
 },
 "nbformat": 4,
 "nbformat_minor": 5
}
