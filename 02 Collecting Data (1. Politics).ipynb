{
 "cells": [
  {
   "cell_type": "code",
   "execution_count": 1,
   "id": "58242dfc",
   "metadata": {},
   "outputs": [],
   "source": [
    "import pandas as pd \n",
    "import numpy as np \n",
    "import tweepy as tw "
   ]
  },
  {
   "cell_type": "code",
   "execution_count": 2,
   "id": "6cb6cc59",
   "metadata": {},
   "outputs": [],
   "source": [
    "API_KEY = 'B7Y17gCCAfTe515xuZwGhuVlH' \n",
    "API_KEY_SECRET = '1lGo5GPcilwKzNy4SVGbgleI285oTK0zF2TAAKbb69vj6PFu3n' \n",
    "BEARER_TOKEN = 'AAAAAAAAAAAAAAAAAAAAAKALawEAAAAAEv7yYYtpXWXx6fv24Q9I4DnzqMg%3DEtLytFqguYLOAE8aSrFVmkK28FWlTGlKJ9PutxDf0QgGsGg8sX'\n",
    "BEARER_TOKEN2 = 'AAAAAAAAAAAAAAAAAAAAAKALawEAAAAAswdCYqqlZc1l%2BY1nOh7zYn2GaW4%3DA6vVrRYXf8JtlKVkbdok2Ej5m174CQskMQi2MOL8fUaTdby5uL'\n",
    "ACCESS_TOKEN = '1440392138697547777-ZbNqj8Vz27k9mk4s009V76REekQpoY' \n",
    "ACCESS_TOKEN_SECRET = 'ik2qalQeHpdw5cbU6QNtqZl2HYnmDVRQ1cRPbv9WPpywu'"
   ]
  },
  {
   "cell_type": "code",
   "execution_count": null,
   "id": "9371e591",
   "metadata": {},
   "outputs": [],
   "source": []
  }
 ],
 "metadata": {
  "kernelspec": {
   "display_name": "Python 3 (ipykernel)",
   "language": "python",
   "name": "python3"
  },
  "language_info": {
   "codemirror_mode": {
    "name": "ipython",
    "version": 3
   },
   "file_extension": ".py",
   "mimetype": "text/x-python",
   "name": "python",
   "nbconvert_exporter": "python",
   "pygments_lexer": "ipython3",
   "version": "3.9.7"
  }
 },
 "nbformat": 4,
 "nbformat_minor": 5
}
