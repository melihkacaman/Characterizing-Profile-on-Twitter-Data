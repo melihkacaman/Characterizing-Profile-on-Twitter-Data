{
 "cells": [
  {
   "cell_type": "code",
   "execution_count": 1,
   "id": "bb217872",
   "metadata": {},
   "outputs": [],
   "source": [
    "import pandas as pd \n",
    "import numpy as np \n",
    "import tweepy as tw "
   ]
  },
  {
   "cell_type": "code",
   "execution_count": 2,
   "id": "dcb1cb0a",
   "metadata": {},
   "outputs": [],
   "source": [
    "API_KEY = 'B7Y17gCCAfTe515xuZwGhuVlH' \n",
    "API_KEY_SECRET = '1lGo5GPcilwKzNy4SVGbgleI285oTK0zF2TAAKbb69vj6PFu3n' \n",
    "BEARER_TOKEN = 'AAAAAAAAAAAAAAAAAAAAAKALawEAAAAAEv7yYYtpXWXx6fv24Q9I4DnzqMg%3DEtLytFqguYLOAE8aSrFVmkK28FWlTGlKJ9PutxDf0QgGsGg8sX'\n",
    "BEARER_TOKEN2 = 'AAAAAAAAAAAAAAAAAAAAAKALawEAAAAAswdCYqqlZc1l%2BY1nOh7zYn2GaW4%3DA6vVrRYXf8JtlKVkbdok2Ej5m174CQskMQi2MOL8fUaTdby5uL'\n",
    "ACCESS_TOKEN = '1440392138697547777-ZbNqj8Vz27k9mk4s009V76REekQpoY' \n",
    "ACCESS_TOKEN_SECRET = 'ik2qalQeHpdw5cbU6QNtqZl2HYnmDVRQ1cRPbv9WPpywu'"
   ]
  },
  {
   "cell_type": "code",
   "execution_count": 6,
   "id": "f637fcd0",
   "metadata": {},
   "outputs": [],
   "source": [
    "client = tw.Client(bearer_token=BEARER_TOKEN2) "
   ]
  },
  {
   "cell_type": "markdown",
   "id": "06af13f0",
   "metadata": {},
   "source": [
    "# Specified Accounts for Politcs \n",
    "USA \n",
    "* @politico: 4.6M, politico.com\n",
    "* @thehill: 4.3M, thehill.com\n",
    "* @foxnewspolitics: 1.8M \n",
    "* @ReutersPolitics: 283K, uk köklü \n",
    "* @CNNPolitics: 4.3M "
   ]
  },
  {
   "cell_type": "code",
   "execution_count": 4,
   "id": "9423797a",
   "metadata": {},
   "outputs": [
    {
     "data": {
      "text/plain": [
       "['politico', 'thehill', 'foxnewspolitics', 'ReutersPolitics', 'CNNPolitics']"
      ]
     },
     "execution_count": 4,
     "metadata": {},
     "output_type": "execute_result"
    }
   ],
   "source": [
    "user_names = ['politico', 'thehill', 'foxnewspolitics', 'ReutersPolitics', 'CNNPolitics'] \n",
    "user_names"
   ]
  },
  {
   "cell_type": "code",
   "execution_count": 7,
   "id": "d6992364",
   "metadata": {},
   "outputs": [
    {
     "data": {
      "text/plain": [
       "Response(data=[<User id=9300262 name=POLITICO username=politico>, <User id=1917731 name=The Hill username=thehill>, <User id=16032925 name=Fox News Politics username=foxnewspolitics>, <User id=25562002 name=Reuters Politics username=ReutersPolitics>, <User id=13850422 name=CNN Politics username=CNNPolitics>], includes={}, errors=[], meta={})"
      ]
     },
     "execution_count": 7,
     "metadata": {},
     "output_type": "execute_result"
    }
   ],
   "source": [
    "users = client.get_users(usernames=user_names)\n",
    "users"
   ]
  },
  {
   "cell_type": "code",
   "execution_count": 9,
   "id": "59886c9b",
   "metadata": {},
   "outputs": [
    {
     "data": {
      "text/plain": [
       "9300262"
      ]
     },
     "execution_count": 9,
     "metadata": {},
     "output_type": "execute_result"
    }
   ],
   "source": [
    "users.data[0].id"
   ]
  },
  {
   "cell_type": "code",
   "execution_count": 18,
   "id": "5d6cb74a",
   "metadata": {},
   "outputs": [],
   "source": [
    "tweet_group_list = []\n",
    "for user in users.data: \n",
    "    tweet_list = [] \n",
    "    for tweet in tw.Paginator(client.get_users_tweets, id=user.id, max_results=100, tweet_fields=['lang']).flatten(limit=1000): \n",
    "        if tweet.lang == 'en' or tweet.lang == 'EN': \n",
    "            tweet_list.append(tweet)\n",
    "    \n",
    "    tweet_group_list.append(tweet_list)        "
   ]
  },
  {
   "cell_type": "code",
   "execution_count": 20,
   "id": "93c719f7",
   "metadata": {},
   "outputs": [
    {
     "data": {
      "text/plain": [
       "5"
      ]
     },
     "execution_count": 20,
     "metadata": {},
     "output_type": "execute_result"
    }
   ],
   "source": [
    "len(tweet_group_list)"
   ]
  },
  {
   "cell_type": "code",
   "execution_count": 22,
   "id": "3cf1a4e2",
   "metadata": {},
   "outputs": [
    {
     "data": {
      "text/plain": [
       "[994, 1000, 995, 985, 997]"
      ]
     },
     "execution_count": 22,
     "metadata": {},
     "output_type": "execute_result"
    }
   ],
   "source": [
    "[len(item) for item in tweet_group_list]"
   ]
  },
  {
   "cell_type": "code",
   "execution_count": 23,
   "id": "0e4758b0",
   "metadata": {},
   "outputs": [
    {
     "data": {
      "text/plain": [
       "4971"
      ]
     },
     "execution_count": 23,
     "metadata": {},
     "output_type": "execute_result"
    }
   ],
   "source": [
    "sum([len(item) for item in tweet_group_list])"
   ]
  },
  {
   "cell_type": "code",
   "execution_count": 24,
   "id": "6d0cdaaa",
   "metadata": {},
   "outputs": [
    {
     "data": {
      "text/plain": [
       "<Tweet id=1514227406093049861 text='If 2020 was the year the left reordered the traditional politics of crime and policing, 2022 looks like the year centrists regained their footing and nullified those gains\\nhttps://t.co/i48kojBZiP'>"
      ]
     },
     "execution_count": 24,
     "metadata": {},
     "output_type": "execute_result"
    }
   ],
   "source": [
    "tweet_group_list[0][1]"
   ]
  },
  {
   "cell_type": "markdown",
   "id": "0470cd9d",
   "metadata": {},
   "source": [
    "# Save it as a CSV File "
   ]
  },
  {
   "cell_type": "code",
   "execution_count": 28,
   "id": "d1fcf446",
   "metadata": {},
   "outputs": [
    {
     "data": {
      "text/plain": [
       "4971"
      ]
     },
     "execution_count": 28,
     "metadata": {},
     "output_type": "execute_result"
    }
   ],
   "source": [
    "# id, tweet_text, source\n",
    "data_list = [] \n",
    "i = 0 \n",
    "for tweet_group in tweet_group_list: \n",
    "    for tweet in tweet_group: \n",
    "        item = {} \n",
    "        item['tweet_id'] = tweet.id\n",
    "        item['text'] = tweet.text\n",
    "        item['source'] = user_names[i] \n",
    "        \n",
    "        data_list.append(item)\n",
    "    i = i + 1     \n",
    "    \n",
    "len(data_list)   "
   ]
  },
  {
   "cell_type": "code",
   "execution_count": 33,
   "id": "bec23b9d",
   "metadata": {},
   "outputs": [
    {
     "data": {
      "text/html": [
       "<div>\n",
       "<style scoped>\n",
       "    .dataframe tbody tr th:only-of-type {\n",
       "        vertical-align: middle;\n",
       "    }\n",
       "\n",
       "    .dataframe tbody tr th {\n",
       "        vertical-align: top;\n",
       "    }\n",
       "\n",
       "    .dataframe thead th {\n",
       "        text-align: right;\n",
       "    }\n",
       "</style>\n",
       "<table border=\"1\" class=\"dataframe\">\n",
       "  <thead>\n",
       "    <tr style=\"text-align: right;\">\n",
       "      <th></th>\n",
       "      <th>tweet_id</th>\n",
       "      <th>text</th>\n",
       "      <th>source</th>\n",
       "    </tr>\n",
       "  </thead>\n",
       "  <tbody>\n",
       "    <tr>\n",
       "      <th>0</th>\n",
       "      <td>1514244535739686918</td>\n",
       "      <td>Get exclusive coverage of the #MIGlobal with a...</td>\n",
       "      <td>politico</td>\n",
       "    </tr>\n",
       "    <tr>\n",
       "      <th>1</th>\n",
       "      <td>1514227406093049861</td>\n",
       "      <td>If 2020 was the year the left reordered the tr...</td>\n",
       "      <td>politico</td>\n",
       "    </tr>\n",
       "    <tr>\n",
       "      <th>2</th>\n",
       "      <td>1514212234960027652</td>\n",
       "      <td>The American Principles Project wants to break...</td>\n",
       "      <td>politico</td>\n",
       "    </tr>\n",
       "    <tr>\n",
       "      <th>3</th>\n",
       "      <td>1514196989185077252</td>\n",
       "      <td>The former president's withholding of aid from...</td>\n",
       "      <td>politico</td>\n",
       "    </tr>\n",
       "    <tr>\n",
       "      <th>4</th>\n",
       "      <td>1514181885659856903</td>\n",
       "      <td>Investigators believe the atrocities committed...</td>\n",
       "      <td>politico</td>\n",
       "    </tr>\n",
       "  </tbody>\n",
       "</table>\n",
       "</div>"
      ],
      "text/plain": [
       "              tweet_id                                               text  \\\n",
       "0  1514244535739686918  Get exclusive coverage of the #MIGlobal with a...   \n",
       "1  1514227406093049861  If 2020 was the year the left reordered the tr...   \n",
       "2  1514212234960027652  The American Principles Project wants to break...   \n",
       "3  1514196989185077252  The former president's withholding of aid from...   \n",
       "4  1514181885659856903  Investigators believe the atrocities committed...   \n",
       "\n",
       "     source  \n",
       "0  politico  \n",
       "1  politico  \n",
       "2  politico  \n",
       "3  politico  \n",
       "4  politico  "
      ]
     },
     "execution_count": 33,
     "metadata": {},
     "output_type": "execute_result"
    }
   ],
   "source": [
    "data = pd.DataFrame(data=data_list)\n",
    "data.head()"
   ]
  },
  {
   "cell_type": "code",
   "execution_count": 34,
   "id": "44707497",
   "metadata": {},
   "outputs": [],
   "source": [
    "data.to_csv('politics_usa.csv')"
   ]
  },
  {
   "cell_type": "code",
   "execution_count": null,
   "id": "f4eeefce",
   "metadata": {},
   "outputs": [],
   "source": []
  }
 ],
 "metadata": {
  "kernelspec": {
   "display_name": "Python 3 (ipykernel)",
   "language": "python",
   "name": "python3"
  },
  "language_info": {
   "codemirror_mode": {
    "name": "ipython",
    "version": 3
   },
   "file_extension": ".py",
   "mimetype": "text/x-python",
   "name": "python",
   "nbconvert_exporter": "python",
   "pygments_lexer": "ipython3",
   "version": "3.9.7"
  }
 },
 "nbformat": 4,
 "nbformat_minor": 5
}
