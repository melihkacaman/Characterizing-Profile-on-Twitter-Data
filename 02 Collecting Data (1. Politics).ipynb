{
 "cells": [
  {
   "cell_type": "code",
   "execution_count": 1,
   "id": "c407b0f0",
   "metadata": {},
   "outputs": [],
   "source": [
    "import pandas as pd \n",
    "import numpy as np \n",
    "import tweepy as tw "
   ]
  },
  {
   "cell_type": "code",
   "execution_count": 2,
   "id": "a73f40f2",
   "metadata": {},
   "outputs": [],
   "source": [
    "API_KEY = 'B7Y17gCCAfTe515xuZwGhuVlH' \n",
    "API_KEY_SECRET = '1lGo5GPcilwKzNy4SVGbgleI285oTK0zF2TAAKbb69vj6PFu3n' \n",
    "BEARER_TOKEN = 'AAAAAAAAAAAAAAAAAAAAAKALawEAAAAAEv7yYYtpXWXx6fv24Q9I4DnzqMg%3DEtLytFqguYLOAE8aSrFVmkK28FWlTGlKJ9PutxDf0QgGsGg8sX'\n",
    "BEARER_TOKEN2 = 'AAAAAAAAAAAAAAAAAAAAAKALawEAAAAAswdCYqqlZc1l%2BY1nOh7zYn2GaW4%3DA6vVrRYXf8JtlKVkbdok2Ej5m174CQskMQi2MOL8fUaTdby5uL'\n",
    "ACCESS_TOKEN = '1440392138697547777-ZbNqj8Vz27k9mk4s009V76REekQpoY' \n",
    "ACCESS_TOKEN_SECRET = 'ik2qalQeHpdw5cbU6QNtqZl2HYnmDVRQ1cRPbv9WPpywu'"
   ]
  },
  {
   "cell_type": "code",
   "execution_count": 6,
   "id": "5236bb9c",
   "metadata": {},
   "outputs": [],
   "source": [
    "client = tw.Client(bearer_token=BEARER_TOKEN2) "
   ]
  },
  {
   "cell_type": "markdown",
   "id": "0a07a403",
   "metadata": {},
   "source": [
    "# Specified Accounts for Politcs \n",
    "USA \n",
    "* @politico: 4.6M, politico.com\n",
    "* @thehill: 4.3M, thehill.com\n",
    "* @foxnewspolitics: 1.8M \n",
    "* @ReutersPolitics: 283K, uk köklü \n",
    "* @CNNPolitics: 4.3M "
   ]
  },
  {
   "cell_type": "code",
   "execution_count": 4,
   "id": "676c2545",
   "metadata": {},
   "outputs": [
    {
     "data": {
      "text/plain": [
       "['politico', 'thehill', 'foxnewspolitics', 'ReutersPolitics', 'CNNPolitics']"
      ]
     },
     "execution_count": 4,
     "metadata": {},
     "output_type": "execute_result"
    }
   ],
   "source": [
    "user_names = ['politico', 'thehill', 'foxnewspolitics', 'ReutersPolitics', 'CNNPolitics'] \n",
    "user_names"
   ]
  },
  {
   "cell_type": "code",
   "execution_count": 7,
   "id": "7dabc631",
   "metadata": {},
   "outputs": [
    {
     "data": {
      "text/plain": [
       "Response(data=[<User id=9300262 name=POLITICO username=politico>, <User id=1917731 name=The Hill username=thehill>, <User id=16032925 name=Fox News Politics username=foxnewspolitics>, <User id=25562002 name=Reuters Politics username=ReutersPolitics>, <User id=13850422 name=CNN Politics username=CNNPolitics>], includes={}, errors=[], meta={})"
      ]
     },
     "execution_count": 7,
     "metadata": {},
     "output_type": "execute_result"
    }
   ],
   "source": [
    "users = client.get_users(usernames=user_names)\n",
    "users"
   ]
  },
  {
   "cell_type": "code",
   "execution_count": 9,
   "id": "65864f58",
   "metadata": {},
   "outputs": [
    {
     "data": {
      "text/plain": [
       "9300262"
      ]
     },
     "execution_count": 9,
     "metadata": {},
     "output_type": "execute_result"
    }
   ],
   "source": [
    "users.data[0].id"
   ]
  },
  {
   "cell_type": "code",
   "execution_count": 18,
   "id": "2f450c01",
   "metadata": {},
   "outputs": [],
   "source": [
    "tweet_group_list = []\n",
    "for user in users.data: \n",
    "    tweet_list = [] \n",
    "    for tweet in tw.Paginator(client.get_users_tweets, id=user.id, max_results=100, tweet_fields=['lang']).flatten(limit=1000): \n",
    "        if tweet.lang == 'en' or tweet.lang == 'EN': \n",
    "            tweet_list.append(tweet)\n",
    "    \n",
    "    tweet_group_list.append(tweet_list)        "
   ]
  },
  {
   "cell_type": "code",
   "execution_count": 20,
   "id": "a4346ab7",
   "metadata": {},
   "outputs": [
    {
     "data": {
      "text/plain": [
       "5"
      ]
     },
     "execution_count": 20,
     "metadata": {},
     "output_type": "execute_result"
    }
   ],
   "source": [
    "len(tweet_group_list)"
   ]
  },
  {
   "cell_type": "code",
   "execution_count": 22,
   "id": "cbb9aca5",
   "metadata": {},
   "outputs": [
    {
     "data": {
      "text/plain": [
       "[994, 1000, 995, 985, 997]"
      ]
     },
     "execution_count": 22,
     "metadata": {},
     "output_type": "execute_result"
    }
   ],
   "source": [
    "[len(item) for item in tweet_group_list]"
   ]
  },
  {
   "cell_type": "code",
   "execution_count": 23,
   "id": "f9e891a6",
   "metadata": {},
   "outputs": [
    {
     "data": {
      "text/plain": [
       "4971"
      ]
     },
     "execution_count": 23,
     "metadata": {},
     "output_type": "execute_result"
    }
   ],
   "source": [
    "sum([len(item) for item in tweet_group_list])"
   ]
  },
  {
   "cell_type": "code",
   "execution_count": null,
   "id": "d0425789",
   "metadata": {},
   "outputs": [],
   "source": []
  }
 ],
 "metadata": {
  "kernelspec": {
   "display_name": "Python 3 (ipykernel)",
   "language": "python",
   "name": "python3"
  },
  "language_info": {
   "codemirror_mode": {
    "name": "ipython",
    "version": 3
   },
   "file_extension": ".py",
   "mimetype": "text/x-python",
   "name": "python",
   "nbconvert_exporter": "python",
   "pygments_lexer": "ipython3",
   "version": "3.9.7"
  }
 },
 "nbformat": 4,
 "nbformat_minor": 5
}
