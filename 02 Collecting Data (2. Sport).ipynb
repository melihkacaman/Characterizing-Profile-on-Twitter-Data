{
 "cells": [
  {
   "cell_type": "code",
   "execution_count": 1,
   "id": "dc97ad7e",
   "metadata": {},
   "outputs": [],
   "source": [
    "import pandas as pd \n",
    "import numpy as np \n",
    "import tweepy as tw "
   ]
  },
  {
   "cell_type": "code",
   "execution_count": 2,
   "id": "aca8e554",
   "metadata": {},
   "outputs": [],
   "source": [
    "API_KEY = 'B7Y17gCCAfTe515xuZwGhuVlH' \n",
    "API_KEY_SECRET = '1lGo5GPcilwKzNy4SVGbgleI285oTK0zF2TAAKbb69vj6PFu3n' \n",
    "BEARER_TOKEN = 'AAAAAAAAAAAAAAAAAAAAAKALawEAAAAAEv7yYYtpXWXx6fv24Q9I4DnzqMg%3DEtLytFqguYLOAE8aSrFVmkK28FWlTGlKJ9PutxDf0QgGsGg8sX'\n",
    "BEARER_TOKEN2 = 'AAAAAAAAAAAAAAAAAAAAAKALawEAAAAAswdCYqqlZc1l%2BY1nOh7zYn2GaW4%3DA6vVrRYXf8JtlKVkbdok2Ej5m174CQskMQi2MOL8fUaTdby5uL'\n",
    "ACCESS_TOKEN = '1440392138697547777-ZbNqj8Vz27k9mk4s009V76REekQpoY' \n",
    "ACCESS_TOKEN_SECRET = 'ik2qalQeHpdw5cbU6QNtqZl2HYnmDVRQ1cRPbv9WPpywu'"
   ]
  },
  {
   "cell_type": "code",
   "execution_count": 3,
   "id": "ec3ea09c",
   "metadata": {},
   "outputs": [],
   "source": [
    "client = tw.Client(bearer_token=BEARER_TOKEN2) "
   ]
  },
  {
   "cell_type": "markdown",
   "id": "74461b37",
   "metadata": {},
   "source": [
    "# Specified Accounts For Sport "
   ]
  },
  {
   "cell_type": "markdown",
   "id": "cd939a05",
   "metadata": {},
   "source": [
    "* @espn: Serving sports fans. Anytime. Anywhere. , 39.9M Followers \n",
    "* @SInow: Sports Illustrated, Subscribe to the SI Weekly podcast: http://link.chtbl.com/siweekly, 1.8M Followers\n",
    "* @MLBONFOX: Home of FOX Saturday Baseball, MLB All-Star Game, World Series, and all things baseball, 1M Followers, "
   ]
  },
  {
   "cell_type": "code",
   "execution_count": 4,
   "id": "df2d18e8",
   "metadata": {},
   "outputs": [
    {
     "data": {
      "text/plain": [
       "['espn', 'SInow', 'MLBONFOX']"
      ]
     },
     "execution_count": 4,
     "metadata": {},
     "output_type": "execute_result"
    }
   ],
   "source": [
    "user_names = ['espn', 'SInow', 'MLBONFOX'] \n",
    "user_names"
   ]
  },
  {
   "cell_type": "code",
   "execution_count": 5,
   "id": "a0869c21",
   "metadata": {},
   "outputs": [
    {
     "data": {
      "text/plain": [
       "Response(data=[<User id=2557521 name=ESPN username=espn>, <User id=28370738 name=Sports Illustrated username=SInow>, <User id=22819823 name=FOX Sports: MLB username=MLBONFOX>], includes={}, errors=[], meta={})"
      ]
     },
     "execution_count": 5,
     "metadata": {},
     "output_type": "execute_result"
    }
   ],
   "source": [
    "users = client.get_users(usernames=user_names)\n",
    "users"
   ]
  },
  {
   "cell_type": "code",
   "execution_count": 6,
   "id": "aecdcaf3",
   "metadata": {},
   "outputs": [
    {
     "data": {
      "text/plain": [
       "2557521"
      ]
     },
     "execution_count": 6,
     "metadata": {},
     "output_type": "execute_result"
    }
   ],
   "source": [
    "users.data[0].id"
   ]
  },
  {
   "cell_type": "code",
   "execution_count": 13,
   "id": "15126513",
   "metadata": {},
   "outputs": [],
   "source": [
    "tweet_group_list = []\n",
    "limit = 3000 \n",
    "for user in users.data: \n",
    "    tweet_list = [] \n",
    "    for tweet in tw.Paginator(client.get_users_tweets, id=user.id, max_results=100, tweet_fields=['lang']).flatten(limit=limit): \n",
    "        if tweet.lang == 'en' or tweet.lang == 'EN': \n",
    "            tweet_list.append(tweet)\n",
    "    \n",
    "    tweet_group_list.append(tweet_list)    \n",
    "    limit = 1000 "
   ]
  },
  {
   "cell_type": "code",
   "execution_count": 14,
   "id": "9bb2801f",
   "metadata": {},
   "outputs": [
    {
     "data": {
      "text/plain": [
       "3"
      ]
     },
     "execution_count": 14,
     "metadata": {},
     "output_type": "execute_result"
    }
   ],
   "source": [
    " len(tweet_group_list)"
   ]
  },
  {
   "cell_type": "code",
   "execution_count": 15,
   "id": "771ffe65",
   "metadata": {},
   "outputs": [
    {
     "data": {
      "text/plain": [
       "[2903, 989, 937]"
      ]
     },
     "execution_count": 15,
     "metadata": {},
     "output_type": "execute_result"
    }
   ],
   "source": [
    "[len(item) for item in tweet_group_list]"
   ]
  },
  {
   "cell_type": "code",
   "execution_count": 16,
   "id": "e260db32",
   "metadata": {},
   "outputs": [
    {
     "data": {
      "text/plain": [
       "4829"
      ]
     },
     "execution_count": 16,
     "metadata": {},
     "output_type": "execute_result"
    }
   ],
   "source": [
    "sum([len(item) for item in tweet_group_list])"
   ]
  },
  {
   "cell_type": "code",
   "execution_count": 17,
   "id": "5d71172c",
   "metadata": {},
   "outputs": [
    {
     "data": {
      "text/plain": [
       "<Tweet id=1515008964932603907 text='Jackie Robinson Way 🙌 #jackie42\\n\\n(via @MLB) \\nhttps://t.co/BRwXxMSrI0'>"
      ]
     },
     "execution_count": 17,
     "metadata": {},
     "output_type": "execute_result"
    }
   ],
   "source": [
    "tweet_group_list[0][1]"
   ]
  },
  {
   "cell_type": "markdown",
   "id": "84185829",
   "metadata": {},
   "source": [
    "# Save it as a CSV File "
   ]
  },
  {
   "cell_type": "code",
   "execution_count": 18,
   "id": "5c959d53",
   "metadata": {},
   "outputs": [
    {
     "data": {
      "text/plain": [
       "4829"
      ]
     },
     "execution_count": 18,
     "metadata": {},
     "output_type": "execute_result"
    }
   ],
   "source": [
    "# id, tweet_text, source\n",
    "data_list = [] \n",
    "i = 0 \n",
    "for tweet_group in tweet_group_list: \n",
    "    for tweet in tweet_group: \n",
    "        item = {} \n",
    "        item['tweet_id'] = tweet.id\n",
    "        item['text'] = tweet.text\n",
    "        item['source'] = user_names[i] \n",
    "        \n",
    "        data_list.append(item)\n",
    "    i = i + 1     \n",
    "    \n",
    "len(data_list)   "
   ]
  },
  {
   "cell_type": "code",
   "execution_count": 19,
   "id": "8512b6d4",
   "metadata": {},
   "outputs": [
    {
     "data": {
      "text/html": [
       "<div>\n",
       "<style scoped>\n",
       "    .dataframe tbody tr th:only-of-type {\n",
       "        vertical-align: middle;\n",
       "    }\n",
       "\n",
       "    .dataframe tbody tr th {\n",
       "        vertical-align: top;\n",
       "    }\n",
       "\n",
       "    .dataframe thead th {\n",
       "        text-align: right;\n",
       "    }\n",
       "</style>\n",
       "<table border=\"1\" class=\"dataframe\">\n",
       "  <thead>\n",
       "    <tr style=\"text-align: right;\">\n",
       "      <th></th>\n",
       "      <th>tweet_id</th>\n",
       "      <th>text</th>\n",
       "      <th>source</th>\n",
       "    </tr>\n",
       "  </thead>\n",
       "  <tbody>\n",
       "    <tr>\n",
       "      <th>0</th>\n",
       "      <td>1515019416299315201</td>\n",
       "      <td>Mike Bossy, one of hockey's most prolific goal...</td>\n",
       "      <td>espn</td>\n",
       "    </tr>\n",
       "    <tr>\n",
       "      <th>1</th>\n",
       "      <td>1515008964932603907</td>\n",
       "      <td>Jackie Robinson Way 🙌 #jackie42\\n\\n(via @MLB) ...</td>\n",
       "      <td>espn</td>\n",
       "    </tr>\n",
       "    <tr>\n",
       "      <th>2</th>\n",
       "      <td>1515005714560860163</td>\n",
       "      <td>Will James Harden show up this postseason?\\n\\n...</td>\n",
       "      <td>espn</td>\n",
       "    </tr>\n",
       "    <tr>\n",
       "      <th>3</th>\n",
       "      <td>1515003597133598722</td>\n",
       "      <td>Clippers star Paul George has entered the leag...</td>\n",
       "      <td>espn</td>\n",
       "    </tr>\n",
       "    <tr>\n",
       "      <th>4</th>\n",
       "      <td>1514988865202925572</td>\n",
       "      <td>RT @DickieV: It was RING THE BELL TIME ! Yes i...</td>\n",
       "      <td>espn</td>\n",
       "    </tr>\n",
       "  </tbody>\n",
       "</table>\n",
       "</div>"
      ],
      "text/plain": [
       "              tweet_id                                               text  \\\n",
       "0  1515019416299315201  Mike Bossy, one of hockey's most prolific goal...   \n",
       "1  1515008964932603907  Jackie Robinson Way 🙌 #jackie42\\n\\n(via @MLB) ...   \n",
       "2  1515005714560860163  Will James Harden show up this postseason?\\n\\n...   \n",
       "3  1515003597133598722  Clippers star Paul George has entered the leag...   \n",
       "4  1514988865202925572  RT @DickieV: It was RING THE BELL TIME ! Yes i...   \n",
       "\n",
       "  source  \n",
       "0   espn  \n",
       "1   espn  \n",
       "2   espn  \n",
       "3   espn  \n",
       "4   espn  "
      ]
     },
     "execution_count": 19,
     "metadata": {},
     "output_type": "execute_result"
    }
   ],
   "source": [
    "data = pd.DataFrame(data=data_list)\n",
    "data.head()"
   ]
  },
  {
   "cell_type": "code",
   "execution_count": 21,
   "id": "d6c0fd76",
   "metadata": {},
   "outputs": [],
   "source": [
    "data.to_csv('sport_usa.csv')"
   ]
  },
  {
   "cell_type": "code",
   "execution_count": null,
   "id": "0f4b7af4",
   "metadata": {},
   "outputs": [],
   "source": []
  }
 ],
 "metadata": {
  "kernelspec": {
   "display_name": "Python 3 (ipykernel)",
   "language": "python",
   "name": "python3"
  },
  "language_info": {
   "codemirror_mode": {
    "name": "ipython",
    "version": 3
   },
   "file_extension": ".py",
   "mimetype": "text/x-python",
   "name": "python",
   "nbconvert_exporter": "python",
   "pygments_lexer": "ipython3",
   "version": "3.9.7"
  }
 },
 "nbformat": 4,
 "nbformat_minor": 5
}
